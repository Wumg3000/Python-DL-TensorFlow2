{
 "cells": [
  {
   "cell_type": "markdown",
   "metadata": {
    "collapsed": true
   },
   "source": [
    "## 第10章 Pandas基础\n",
    "Python有了NumPy的Pandas，用Python处理数据就像使用Exel或SQL一样简单方便。\n",
    "Pandas是基于NumPy的Python 库，它被广泛用于快速分析数据，以及数据清洗和准备等工作。可以把 Pandas 看作是 Python版的Excel或Table。Pandas 有两种数据结构：\n",
    "Series和DataFrame，Pandas经过几个版本的更新，目前已经成为数据清洗、处理和分析的不二选择。\n"
   ]
  },
  {
   "cell_type": "markdown",
   "metadata": {},
   "source": [
    "### 10.2 Pandas数据结构\n",
    "Pandas中两个最常用的对象是Series和DataFrame。使用pandas前，需导入以下内容："
   ]
  },
  {
   "cell_type": "code",
   "execution_count": 1,
   "metadata": {},
   "outputs": [],
   "source": [
    "import numpy as np\n",
    "from pandas import Series,DataFrame\n",
    "import pandas as pd"
   ]
  },
  {
   "cell_type": "markdown",
   "metadata": {},
   "source": [
    "Pandas主要采用Series和DataFrame两种数据结构。Series是一种类似一维数据的数据结构，由数据(values)及索引(indexs)组成，而DataFrame是一个表格型的数据结构，它有一组序列，每列的数据可以为不同类型（NumPy数据组中数据要求为相同类型）,它既有行索引，也有列索引。"
   ]
  },
  {
   "cell_type": "code",
   "execution_count": 2,
   "metadata": {},
   "outputs": [
    {
     "data": {
      "text/html": [
       "<div>\n",
       "<style scoped>\n",
       "    .dataframe tbody tr th:only-of-type {\n",
       "        vertical-align: middle;\n",
       "    }\n",
       "\n",
       "    .dataframe tbody tr th {\n",
       "        vertical-align: top;\n",
       "    }\n",
       "\n",
       "    .dataframe thead th {\n",
       "        text-align: right;\n",
       "    }\n",
       "</style>\n",
       "<table border=\"1\" class=\"dataframe\">\n",
       "  <thead>\n",
       "    <tr style=\"text-align: right;\">\n",
       "      <th></th>\n",
       "      <th>a</th>\n",
       "      <th>b</th>\n",
       "      <th>c</th>\n",
       "    </tr>\n",
       "  </thead>\n",
       "  <tbody>\n",
       "    <tr>\n",
       "      <td>0</td>\n",
       "      <td>1</td>\n",
       "      <td>5</td>\n",
       "      <td>a</td>\n",
       "    </tr>\n",
       "    <tr>\n",
       "      <td>1</td>\n",
       "      <td>2</td>\n",
       "      <td>6</td>\n",
       "      <td>b</td>\n",
       "    </tr>\n",
       "    <tr>\n",
       "      <td>2</td>\n",
       "      <td>3</td>\n",
       "      <td>7</td>\n",
       "      <td>c</td>\n",
       "    </tr>\n",
       "    <tr>\n",
       "      <td>3</td>\n",
       "      <td>4</td>\n",
       "      <td>8</td>\n",
       "      <td>d</td>\n",
       "    </tr>\n",
       "  </tbody>\n",
       "</table>\n",
       "</div>"
      ],
      "text/plain": [
       "   a  b  c\n",
       "0  1  5  a\n",
       "1  2  6  b\n",
       "2  3  7  c\n",
       "3  4  8  d"
      ]
     },
     "execution_count": 2,
     "metadata": {},
     "output_type": "execute_result"
    }
   ],
   "source": [
    "a1=np.array([1,2,3,4])\n",
    "a2=np.array([5,6,7,8])\n",
    "a3=np.array(['a','b','c','d'])\n",
    "#为给大家一个直观理解，先生成一个DataFrame\n",
    "df=pd.DataFrame({'a':a1,'b':a2,'c':a3})\n",
    "df\n"
   ]
  },
  {
   "attachments": {
    "image.png": {
     "image/png": "[encoded data removed]"
    }
   },
   "cell_type": "markdown",
   "metadata": {},
   "source": [
    "上面这个DataFrame的结构及相关概念，请参考下图：\n",
    "![image.png](attachment:image.png)"
   ]
  },
  {
   "cell_type": "markdown",
   "metadata": {},
   "source": [
    "### 10.3 Series\n",
    "<mark style=background-color:yellow>\n",
    "Series的标签索引（如a，b，c，它的位置索引（或成为自然索引）仍然保留，\n",
    "</mark> \n",
    "利用标签索引就方便多了，且定位也更精确，不会产生歧义。以下通过实例来说明。"
   ]
  },
  {
   "cell_type": "markdown",
   "metadata": {},
   "source": [
    "（1）使用Series"
   ]
  },
  {
   "cell_type": "code",
   "execution_count": 4,
   "metadata": {},
   "outputs": [
    {
     "data": {
      "text/plain": [
       "0    1\n",
       "1    3\n",
       "2    6\n",
       "3   -1\n",
       "4    2\n",
       "5    8\n",
       "dtype: int64"
      ]
     },
     "execution_count": 4,
     "metadata": {},
     "output_type": "execute_result"
    }
   ],
   "source": [
    "import numpy as np\n",
    "from pandas import Series,DataFrame\n",
    "import pandas as pd\n",
    "\n",
    "s1=Series([1,3,6,-1,2,8])\n",
    "s1"
   ]
  },
  {
   "cell_type": "markdown",
   "metadata": {},
   "source": [
    "（2）使用Series的索引"
   ]
  },
  {
   "cell_type": "code",
   "execution_count": 5,
   "metadata": {},
   "outputs": [
    {
     "data": {
      "text/plain": [
       "a    1\n",
       "c    3\n",
       "d    6\n",
       "e   -1\n",
       "b    2\n",
       "g    8\n",
       "dtype: int64"
      ]
     },
     "execution_count": 5,
     "metadata": {},
     "output_type": "execute_result"
    }
   ],
   "source": [
    "s1.values       #显示s1的所有值\n",
    "s1.index        #显示s1的索引（位置索引或标签索引）\n",
    "s2=Series([1,3,6,-1,2,8],index=['a','c','d','e','b','g'])  #定义标签索引\n",
    "s2"
   ]
  },
  {
   "cell_type": "markdown",
   "metadata": {},
   "source": [
    "（3）根据索引找对应值"
   ]
  },
  {
   "cell_type": "code",
   "execution_count": 6,
   "metadata": {},
   "outputs": [
    {
     "data": {
      "text/plain": [
       "a    10\n",
       "c    30\n",
       "d    60\n",
       "e   -10\n",
       "b    20\n",
       "g    80\n",
       "dtype: int64"
      ]
     },
     "execution_count": 6,
     "metadata": {},
     "output_type": "execute_result"
    }
   ],
   "source": [
    "s2[['a','e']]\t###根据标签索引找对应值\n",
    "#当然，Series除了标签索引外，还有其它很多优点，如运算的简洁：\n",
    "s2[s2>1]\n",
    "s2*10"
   ]
  },
  {
   "cell_type": "markdown",
   "metadata": {},
   "source": [
    "### 10.4 DataFrame\n",
    "DataFrame除了索引有位置索引也有标签索引，而且其数据组织方式与MySQL的表极为相似，除了形式相似，很多操作也类似，这就给操作DataFrame带来极大方便。这些是DataFrame特色的一小部分，它还有比数据库表更强大的功能，如强大统计、可视化等等。\n",
    "\tDataFrame有几个要素：index、columns、values等，columns就像数据库表中的列（每列都是一个series），index是索引，values就是值。\n"
   ]
  },
  {
   "cell_type": "code",
   "execution_count": 7,
   "metadata": {},
   "outputs": [
    {
     "data": {
      "text/html": [
       "<div>\n",
       "<style scoped>\n",
       "    .dataframe tbody tr th:only-of-type {\n",
       "        vertical-align: middle;\n",
       "    }\n",
       "\n",
       "    .dataframe tbody tr th {\n",
       "        vertical-align: top;\n",
       "    }\n",
       "\n",
       "    .dataframe thead th {\n",
       "        text-align: right;\n",
       "    }\n",
       "</style>\n",
       "<table border=\"1\" class=\"dataframe\">\n",
       "  <thead>\n",
       "    <tr style=\"text-align: right;\">\n",
       "      <th></th>\n",
       "      <th>a1</th>\n",
       "      <th>a2</th>\n",
       "      <th>a3</th>\n",
       "      <th>a4</th>\n",
       "    </tr>\n",
       "  </thead>\n",
       "  <tbody>\n",
       "    <tr>\n",
       "      <td>a</td>\n",
       "      <td>0</td>\n",
       "      <td>1</td>\n",
       "      <td>2</td>\n",
       "      <td>3</td>\n",
       "    </tr>\n",
       "    <tr>\n",
       "      <td>b</td>\n",
       "      <td>4</td>\n",
       "      <td>5</td>\n",
       "      <td>6</td>\n",
       "      <td>7</td>\n",
       "    </tr>\n",
       "    <tr>\n",
       "      <td>c</td>\n",
       "      <td>8</td>\n",
       "      <td>9</td>\n",
       "      <td>10</td>\n",
       "      <td>11</td>\n",
       "    </tr>\n",
       "  </tbody>\n",
       "</table>\n",
       "</div>"
      ],
      "text/plain": [
       "   a1  a2  a3  a4\n",
       "a   0   1   2   3\n",
       "b   4   5   6   7\n",
       "c   8   9  10  11"
      ]
     },
     "execution_count": 7,
     "metadata": {},
     "output_type": "execute_result"
    }
   ],
   "source": [
    "####自动生成一个3行4列的DataFrame，并定义其索引（如果不指定，缺省为整数索引）####及列名\n",
    "d1=DataFrame(np.arange(12).reshape((3,4)),columns=['a1','a2','a3','a4'], index=['a','b','c'])\n",
    "d1"
   ]
  },
  {
   "cell_type": "code",
   "execution_count": 11,
   "metadata": {},
   "outputs": [
    {
     "name": "stdout",
     "output_type": "stream",
     "text": [
      "d1的索引： Index(['a', 'b', 'c'], dtype='object')\n",
      "d1的列名 Index(['a1', 'a2', 'a3', 'a4'], dtype='object')\n",
      "d1的所有值:\n",
      " [[ 0  1  2  3]\n",
      " [ 4  5  6  7]\n",
      " [ 8  9 10 11]]\n"
     ]
    }
   ],
   "source": [
    "print(\"d1的索引：\",d1.index )    #显示索引(有标签索引则显示标签索引，否则显示位置索引)\n",
    "print(\"d1的列名\",d1.columns)   ##显示列名\n",
    "print(\"d1的所有值:\\n\",d1.values )   ##显示值\n"
   ]
  },
  {
   "cell_type": "markdown",
   "metadata": {},
   "source": [
    "#### 10.4.1 生成DataFrame\n",
    "生成DataFrame有很多，比较常用的有导入等长列表、字典、numpy数组、数据文件等。"
   ]
  },
  {
   "cell_type": "code",
   "execution_count": 12,
   "metadata": {},
   "outputs": [
    {
     "data": {
      "text/html": [
       "<div>\n",
       "<style scoped>\n",
       "    .dataframe tbody tr th:only-of-type {\n",
       "        vertical-align: middle;\n",
       "    }\n",
       "\n",
       "    .dataframe tbody tr th {\n",
       "        vertical-align: top;\n",
       "    }\n",
       "\n",
       "    .dataframe thead th {\n",
       "        text-align: right;\n",
       "    }\n",
       "</style>\n",
       "<table border=\"1\" class=\"dataframe\">\n",
       "  <thead>\n",
       "    <tr style=\"text-align: right;\">\n",
       "      <th></th>\n",
       "      <th>name</th>\n",
       "      <th>age</th>\n",
       "      <th>addr</th>\n",
       "    </tr>\n",
       "  </thead>\n",
       "  <tbody>\n",
       "    <tr>\n",
       "      <td>a</td>\n",
       "      <td>zhanghua</td>\n",
       "      <td>40</td>\n",
       "      <td>jianxi</td>\n",
       "    </tr>\n",
       "    <tr>\n",
       "      <td>b</td>\n",
       "      <td>liuting</td>\n",
       "      <td>45</td>\n",
       "      <td>pudong</td>\n",
       "    </tr>\n",
       "    <tr>\n",
       "      <td>c</td>\n",
       "      <td>gaofei</td>\n",
       "      <td>50</td>\n",
       "      <td>beijing</td>\n",
       "    </tr>\n",
       "    <tr>\n",
       "      <td>d</td>\n",
       "      <td>hedong</td>\n",
       "      <td>46</td>\n",
       "      <td>xian</td>\n",
       "    </tr>\n",
       "  </tbody>\n",
       "</table>\n",
       "</div>"
      ],
      "text/plain": [
       "       name  age     addr\n",
       "a  zhanghua   40   jianxi\n",
       "b   liuting   45   pudong\n",
       "c    gaofei   50  beijing\n",
       "d    hedong   46     xian"
      ]
     },
     "execution_count": 12,
     "metadata": {},
     "output_type": "execute_result"
    }
   ],
   "source": [
    "data={'name':['zhanghua','liuting','gaofei','hedong'],'age':[40,45,50,46],'addr':['jianxi','pudong','beijing','xian']}\n",
    "\n",
    "d2=DataFrame(data)\n",
    "#改变列的次序\n",
    "d3=DataFrame(data,columns=['name','age','addr'],index=['a','b','c','d'])\n",
    "d3"
   ]
  },
  {
   "cell_type": "markdown",
   "metadata": {},
   "source": [
    "#### 10.4.2 获取数据\n",
    "获取DataFrame结构中数据可以采用obj[]操作、obj.iloc[]、obj.loc[]等命令。  \n",
    "（1）使用obj[]来获取列或行"
   ]
  },
  {
   "cell_type": "code",
   "execution_count": 16,
   "metadata": {},
   "outputs": [
    {
     "name": "stdout",
     "output_type": "stream",
     "text": [
      "d3的name列:\n",
      "        name\n",
      "a  zhanghua\n",
      "b   liuting\n",
      "c    gaofei\n",
      "d    hedong\n",
      "d3的name,age列:\n",
      "        name  age\n",
      "a  zhanghua   40\n",
      "b   liuting   45\n",
      "c    gaofei   50\n",
      "d    hedong   46\n",
      "d3的a至c行:\n",
      "        name  age     addr\n",
      "a  zhanghua   40   jianxi\n",
      "b   liuting   45   pudong\n",
      "c    gaofei   50  beijing\n",
      "d3的第2和第3行:\n",
      "       name  age     addr\n",
      "b  liuting   45   pudong\n",
      "c   gaofei   50  beijing\n",
      "age大于40个数据:\n",
      "       name  age     addr\n",
      "b  liuting   45   pudong\n",
      "c   gaofei   50  beijing\n",
      "d   hedong   46     xian\n"
     ]
    }
   ],
   "source": [
    "print(\"d3的name列:\\n\",d3[['name']])             #选取某一列\n",
    "print(\"d3的name,age列:\\n\",d3[['name','age']])   ##选择多列\n",
    "print(\"d3的a至c行:\\n\",d3['a':'c'])\t             ##选择行\n",
    "print(\"d3的第2和第3行:\\n\",d3[1:3] )              ##选择行（利用位置索引）\n",
    "print(\"age大于40个数据:\\n\",d3[d3['age']>40])    ###使用过滤条件"
   ]
  },
  {
   "cell_type": "markdown",
   "metadata": {},
   "source": [
    "（2）使用obj.loc[] 或obj.iloc[]获取行或列数据。  \n",
    "- loc通过行标签获取行数据，iloc通过行号获取行数据。  \n",
    "- loc 在index的标签上进行索引,范围包括start和end.   \n",
    "- iloc 在index的位置上进行索引,不包括end.   \n",
    "这两者的主要区别可参考如下示例："
   ]
  },
  {
   "cell_type": "code",
   "execution_count": 17,
   "metadata": {},
   "outputs": [
    {
     "data": {
      "text/html": [
       "<div>\n",
       "<style scoped>\n",
       "    .dataframe tbody tr th:only-of-type {\n",
       "        vertical-align: middle;\n",
       "    }\n",
       "\n",
       "    .dataframe tbody tr th {\n",
       "        vertical-align: top;\n",
       "    }\n",
       "\n",
       "    .dataframe thead th {\n",
       "        text-align: right;\n",
       "    }\n",
       "</style>\n",
       "<table border=\"1\" class=\"dataframe\">\n",
       "  <thead>\n",
       "    <tr style=\"text-align: right;\">\n",
       "      <th></th>\n",
       "      <th>c2</th>\n",
       "      <th>c3</th>\n",
       "    </tr>\n",
       "  </thead>\n",
       "  <tbody>\n",
       "    <tr>\n",
       "      <td>b</td>\n",
       "      <td>5</td>\n",
       "      <td>6</td>\n",
       "    </tr>\n",
       "    <tr>\n",
       "      <td>c</td>\n",
       "      <td>8</td>\n",
       "      <td>9</td>\n",
       "    </tr>\n",
       "  </tbody>\n",
       "</table>\n",
       "</div>"
      ],
      "text/plain": [
       "   c2  c3\n",
       "b   5   6\n",
       "c   8   9"
      ]
     },
     "execution_count": 17,
     "metadata": {},
     "output_type": "execute_result"
    }
   ],
   "source": [
    "import pandas as pd    \n",
    "data = [[1,2,3],[4,5,6],[7,8,9]]   \n",
    "index = ['a','b','c']    \n",
    "columns=['c1','c2','c3']    \n",
    "df = pd.DataFrame(data=data, index=index, columns=columns)\n",
    "###########loc的使用############\n",
    "df.loc[['a','b']]              #通过行标签获取行数据\n",
    "df.loc[['a'],['c1','c3']]      #通过行标签、列名称获取行列数据\n",
    "df.loc[['a','b'],['c1','c3']]  #通过行标签、列名称获取行列数据\n",
    "\n",
    "#########iloc的使用###############\n",
    "df.iloc[1]                     #通过行号获取行数据\n",
    "df.iloc[0:2]                   #通过行号获取行数据，不包括索引2的值\n",
    "df.iloc[1:,1]                  ##通过行号、列行获取行、列数据\n",
    "df.iloc[1:,[1,2]]              ##通过行号、列行获取行、列数据\n",
    "df.iloc[1:,1:3]                ##通过行号、列行获取行、列数据"
   ]
  },
  {
   "cell_type": "markdown",
   "metadata": {},
   "source": [
    "#### 10.4.3 修改数据\n",
    "我们可以像操作数据库表一样操作DataFrame，删除数据、插入数据、修改字段名、索引名、修改数据等，以下通过一些实例来说明。"
   ]
  },
  {
   "cell_type": "code",
   "execution_count": 18,
   "metadata": {},
   "outputs": [
    {
     "data": {
      "text/html": [
       "<div>\n",
       "<style scoped>\n",
       "    .dataframe tbody tr th:only-of-type {\n",
       "        vertical-align: middle;\n",
       "    }\n",
       "\n",
       "    .dataframe tbody tr th {\n",
       "        vertical-align: top;\n",
       "    }\n",
       "\n",
       "    .dataframe thead th {\n",
       "        text-align: right;\n",
       "    }\n",
       "</style>\n",
       "<table border=\"1\" class=\"dataframe\">\n",
       "  <thead>\n",
       "    <tr style=\"text-align: right;\">\n",
       "      <th></th>\n",
       "      <th>name</th>\n",
       "      <th>age</th>\n",
       "      <th>addr</th>\n",
       "    </tr>\n",
       "  </thead>\n",
       "  <tbody>\n",
       "    <tr>\n",
       "      <td>a</td>\n",
       "      <td>zhanghua</td>\n",
       "      <td>40</td>\n",
       "      <td>jianxi</td>\n",
       "    </tr>\n",
       "    <tr>\n",
       "      <td>b</td>\n",
       "      <td>liuting</td>\n",
       "      <td>45</td>\n",
       "      <td>pudong</td>\n",
       "    </tr>\n",
       "    <tr>\n",
       "      <td>c</td>\n",
       "      <td>gaofei</td>\n",
       "      <td>50</td>\n",
       "      <td>beijing</td>\n",
       "    </tr>\n",
       "    <tr>\n",
       "      <td>d</td>\n",
       "      <td>hedong</td>\n",
       "      <td>46</td>\n",
       "      <td>xian</td>\n",
       "    </tr>\n",
       "  </tbody>\n",
       "</table>\n",
       "</div>"
      ],
      "text/plain": [
       "       name  age     addr\n",
       "a  zhanghua   40   jianxi\n",
       "b   liuting   45   pudong\n",
       "c    gaofei   50  beijing\n",
       "d    hedong   46     xian"
      ]
     },
     "execution_count": 18,
     "metadata": {},
     "output_type": "execute_result"
    }
   ],
   "source": [
    "data={'name':['zhanghua','liuting','gaofei','hedong'],'age':[40,45,50,46],'addr':['jianxi','pudong','beijing','xian']}\n",
    "d3=DataFrame(data,columns=['name','age','addr'],index=['a','b','c','d'])\n",
    "d3"
   ]
  },
  {
   "cell_type": "code",
   "execution_count": 21,
   "metadata": {},
   "outputs": [
    {
     "name": "stdout",
     "output_type": "stream",
     "text": [
      "处理后d3的值\n",
      "        name  age     addr\n",
      "a  zhanghua   40   jianxi\n",
      "b   liuting   45   pudong\n",
      "c    gaofei   50  beijing\n",
      "d    hedong   46     xian\n",
      "处理后d4的值\n",
      "        name  age     addr\n",
      "a  zhanghua   40   jianxi\n",
      "b   liuting   45   pudong\n",
      "c    gaofei   50  beijing\n",
      "d    hedong   46     xian\n",
      "e  wangkuan   39    henan\n"
     ]
    }
   ],
   "source": [
    "d3.drop('d',axis=0)\t###删除行，如果欲删除列，使axis=1即可\n",
    "d3  ###从副本中删除，原数据没有被删除\n",
    "d3.drop('addr',axis=1)   ###删除第addr列\n",
    "\n",
    "###添加一行，注意需要ignore_index=True，否则会报错\n",
    "d3.append({'name':'wangkuan','age':38,'addr':'henan'},ignore_index=True)\n",
    "print(\"处理后d3的值\\n\",d3)  ###原数据未变\n",
    "\n",
    "###添加一行，并创建一个新DataFrame\n",
    "d4=d3.append({'name':'wangkuan','age':38,'addr':'henan'},ignore_index=True)\n",
    "d4.index=['a','b','c','d','e']\t###修改d4的索引\n",
    "d4.loc['e','age']=39  ###修改索引为e列名为age的值\n",
    "print(\"处理后d4的值\\n\",d4)\n"
   ]
  },
  {
   "cell_type": "markdown",
   "metadata": {},
   "source": [
    "#### 10.4.4 汇总统计"
   ]
  },
  {
   "cell_type": "markdown",
   "metadata": {},
   "source": [
    "（1）把csv数据导入pandas"
   ]
  },
  {
   "cell_type": "code",
   "execution_count": 22,
   "metadata": {},
   "outputs": [
    {
     "data": {
      "text/html": [
       "<div>\n",
       "<style scoped>\n",
       "    .dataframe tbody tr th:only-of-type {\n",
       "        vertical-align: middle;\n",
       "    }\n",
       "\n",
       "    .dataframe tbody tr th {\n",
       "        vertical-align: top;\n",
       "    }\n",
       "\n",
       "    .dataframe thead th {\n",
       "        text-align: right;\n",
       "    }\n",
       "</style>\n",
       "<table border=\"1\" class=\"dataframe\">\n",
       "  <thead>\n",
       "    <tr style=\"text-align: right;\">\n",
       "      <th></th>\n",
       "      <th>stud_code</th>\n",
       "      <th>sub_code</th>\n",
       "      <th>sub_name</th>\n",
       "      <th>sub_tech</th>\n",
       "      <th>sub_score</th>\n",
       "      <th>stat_date</th>\n",
       "    </tr>\n",
       "  </thead>\n",
       "  <tbody>\n",
       "    <tr>\n",
       "      <td>0</td>\n",
       "      <td>2015101000</td>\n",
       "      <td>10101</td>\n",
       "      <td>数学分析</td>\n",
       "      <td>NaN</td>\n",
       "      <td>90</td>\n",
       "      <td>NaN</td>\n",
       "    </tr>\n",
       "    <tr>\n",
       "      <td>1</td>\n",
       "      <td>2015101000</td>\n",
       "      <td>10102</td>\n",
       "      <td>高等代数</td>\n",
       "      <td>NaN</td>\n",
       "      <td>88</td>\n",
       "      <td>NaN</td>\n",
       "    </tr>\n",
       "    <tr>\n",
       "      <td>2</td>\n",
       "      <td>2015101000</td>\n",
       "      <td>10103</td>\n",
       "      <td>大学物理</td>\n",
       "      <td>NaN</td>\n",
       "      <td>67</td>\n",
       "      <td>NaN</td>\n",
       "    </tr>\n",
       "  </tbody>\n",
       "</table>\n",
       "</div>"
      ],
      "text/plain": [
       "    stud_code  sub_code sub_name  sub_tech  sub_score  stat_date\n",
       "0  2015101000     10101     数学分析       NaN         90        NaN\n",
       "1  2015101000     10102     高等代数       NaN         88        NaN\n",
       "2  2015101000     10103     大学物理       NaN         67        NaN"
      ]
     },
     "execution_count": 22,
     "metadata": {},
     "output_type": "execute_result"
    }
   ],
   "source": [
    "from pandas import DataFrame                  \n",
    "import numpy as np                            \n",
    "import pandas as pd                           \n",
    "inputfile = r'.\\data\\stud_score.csv'\n",
    "data = pd.read_csv(inputfile,encoding='gbk') \n",
    "#其他参数，\n",
    "###header=None 表示无标题,此时缺省列名为整数；如果设为0，表示第0行为标题\n",
    "###names，encoding，skiprows等\n",
    "#读取excel文件，可用 read_excel\n",
    "df=DataFrame(data)\n",
    "df.head(3) ###显示前3行\n"
   ]
  },
  {
   "cell_type": "markdown",
   "metadata": {},
   "source": [
    "（2）查看df的统计信息"
   ]
  },
  {
   "cell_type": "code",
   "execution_count": 24,
   "metadata": {},
   "outputs": [
    {
     "name": "stdout",
     "output_type": "stream",
     "text": [
      "df中非NaN的行数:\n",
      " stud_code    121\n",
      "sub_code     121\n",
      "sub_name     121\n",
      "sub_tech       0\n",
      "sub_score    121\n",
      "stat_date      0\n",
      "dtype: int64\n",
      "df中学生成绩的统计信息:\n",
      " count    121.000000\n",
      "mean      78.561983\n",
      "std       12.338215\n",
      "min       48.000000\n",
      "25%       69.000000\n",
      "50%       80.000000\n",
      "75%       89.000000\n",
      "max       98.000000\n",
      "Name: sub_score, dtype: float64\n",
      "df中学生成绩的标准差:\n",
      " 12.338214729032906\n",
      "df中学生成绩的方差:\n",
      " 152.23154269972454\n"
     ]
    }
   ],
   "source": [
    "print(\"df各列非NaN的行数:\\n\",df.count())  #统计非NaN行数\n",
    "print(\"df中学生成绩的统计信息:\\n\",df['sub_score'].describe())\t##汇总学生各科成绩\n",
    "print(\"df中学生成绩的标准差:\\n\",df['sub_score'].std())\t##求学生成绩的标准差\n",
    "print(\"df中学生成绩的方差:\\n\",df['sub_score'].var())     ##求学生成绩的方差\n"
   ]
  },
  {
   "cell_type": "markdown",
   "metadata": {},
   "source": [
    "#### 10.4.5选择部分列"
   ]
  },
  {
   "cell_type": "code",
   "execution_count": 26,
   "metadata": {},
   "outputs": [],
   "source": [
    "#根据列的索引来选择\n",
    "df.iloc[:,[0,1,2,4,5]]    \n",
    "#或根据列名称来选择\n",
    "df1=df.loc[:,['stud_code','sub_code','sub_name','sub_score','stat_date']]\n"
   ]
  },
  {
   "cell_type": "markdown",
   "metadata": {},
   "source": [
    "#### 10.4.6删除重复数据\n",
    "这里选择学生代码、课程代码、课程名称、程程成绩，注册日期等字段"
   ]
  },
  {
   "cell_type": "code",
   "execution_count": 27,
   "metadata": {},
   "outputs": [
    {
     "data": {
      "text/html": [
       "<div>\n",
       "<style scoped>\n",
       "    .dataframe tbody tr th:only-of-type {\n",
       "        vertical-align: middle;\n",
       "    }\n",
       "\n",
       "    .dataframe tbody tr th {\n",
       "        vertical-align: top;\n",
       "    }\n",
       "\n",
       "    .dataframe thead th {\n",
       "        text-align: right;\n",
       "    }\n",
       "</style>\n",
       "<table border=\"1\" class=\"dataframe\">\n",
       "  <thead>\n",
       "    <tr style=\"text-align: right;\">\n",
       "      <th></th>\n",
       "      <th>stud_code</th>\n",
       "      <th>sub_code</th>\n",
       "      <th>sub_name</th>\n",
       "      <th>sub_score</th>\n",
       "      <th>stat_date</th>\n",
       "    </tr>\n",
       "  </thead>\n",
       "  <tbody>\n",
       "    <tr>\n",
       "      <td>0</td>\n",
       "      <td>2015101000</td>\n",
       "      <td>10101</td>\n",
       "      <td>数学分析</td>\n",
       "      <td>90</td>\n",
       "      <td>NaN</td>\n",
       "    </tr>\n",
       "    <tr>\n",
       "      <td>1</td>\n",
       "      <td>2015101000</td>\n",
       "      <td>10102</td>\n",
       "      <td>高等代数</td>\n",
       "      <td>88</td>\n",
       "      <td>NaN</td>\n",
       "    </tr>\n",
       "    <tr>\n",
       "      <td>2</td>\n",
       "      <td>2015101000</td>\n",
       "      <td>10103</td>\n",
       "      <td>大学物理</td>\n",
       "      <td>67</td>\n",
       "      <td>NaN</td>\n",
       "    </tr>\n",
       "    <tr>\n",
       "      <td>3</td>\n",
       "      <td>2015101000</td>\n",
       "      <td>10104</td>\n",
       "      <td>计算机原理</td>\n",
       "      <td>78</td>\n",
       "      <td>NaN</td>\n",
       "    </tr>\n",
       "    <tr>\n",
       "      <td>4</td>\n",
       "      <td>2015101000</td>\n",
       "      <td>10105</td>\n",
       "      <td>电磁学</td>\n",
       "      <td>89</td>\n",
       "      <td>NaN</td>\n",
       "    </tr>\n",
       "    <tr>\n",
       "      <td>...</td>\n",
       "      <td>...</td>\n",
       "      <td>...</td>\n",
       "      <td>...</td>\n",
       "      <td>...</td>\n",
       "      <td>...</td>\n",
       "    </tr>\n",
       "    <tr>\n",
       "      <td>116</td>\n",
       "      <td>2015201010</td>\n",
       "      <td>20102</td>\n",
       "      <td>计算机系统结构</td>\n",
       "      <td>95</td>\n",
       "      <td>NaN</td>\n",
       "    </tr>\n",
       "    <tr>\n",
       "      <td>117</td>\n",
       "      <td>2015201010</td>\n",
       "      <td>20103</td>\n",
       "      <td>操作系统</td>\n",
       "      <td>92</td>\n",
       "      <td>NaN</td>\n",
       "    </tr>\n",
       "    <tr>\n",
       "      <td>118</td>\n",
       "      <td>2015201010</td>\n",
       "      <td>20104</td>\n",
       "      <td>概率统计</td>\n",
       "      <td>96</td>\n",
       "      <td>NaN</td>\n",
       "    </tr>\n",
       "    <tr>\n",
       "      <td>119</td>\n",
       "      <td>2015201010</td>\n",
       "      <td>20105</td>\n",
       "      <td>汇编语言</td>\n",
       "      <td>91</td>\n",
       "      <td>NaN</td>\n",
       "    </tr>\n",
       "    <tr>\n",
       "      <td>120</td>\n",
       "      <td>2015201010</td>\n",
       "      <td>20106</td>\n",
       "      <td>数据结构</td>\n",
       "      <td>87</td>\n",
       "      <td>NaN</td>\n",
       "    </tr>\n",
       "  </tbody>\n",
       "</table>\n",
       "<p>121 rows × 5 columns</p>\n",
       "</div>"
      ],
      "text/plain": [
       "      stud_code  sub_code sub_name  sub_score  stat_date\n",
       "0    2015101000     10101     数学分析         90        NaN\n",
       "1    2015101000     10102     高等代数         88        NaN\n",
       "2    2015101000     10103     大学物理         67        NaN\n",
       "3    2015101000     10104    计算机原理         78        NaN\n",
       "4    2015101000     10105      电磁学         89        NaN\n",
       "..          ...       ...      ...        ...        ...\n",
       "116  2015201010     20102  计算机系统结构         95        NaN\n",
       "117  2015201010     20103     操作系统         92        NaN\n",
       "118  2015201010     20104     概率统计         96        NaN\n",
       "119  2015201010     20105     汇编语言         91        NaN\n",
       "120  2015201010     20106     数据结构         87        NaN\n",
       "\n",
       "[121 rows x 5 columns]"
      ]
     },
     "execution_count": 27,
     "metadata": {},
     "output_type": "execute_result"
    }
   ],
   "source": [
    "df1.drop_duplicates(keep='last')"
   ]
  },
  {
   "cell_type": "markdown",
   "metadata": {},
   "source": [
    "#### 10.4.7补充缺省值"
   ]
  },
  {
   "cell_type": "markdown",
   "metadata": {},
   "source": [
    "（1）用指定值补充NaN值"
   ]
  },
  {
   "cell_type": "code",
   "execution_count": 28,
   "metadata": {},
   "outputs": [
    {
     "data": {
      "text/html": [
       "<div>\n",
       "<style scoped>\n",
       "    .dataframe tbody tr th:only-of-type {\n",
       "        vertical-align: middle;\n",
       "    }\n",
       "\n",
       "    .dataframe tbody tr th {\n",
       "        vertical-align: top;\n",
       "    }\n",
       "\n",
       "    .dataframe thead th {\n",
       "        text-align: right;\n",
       "    }\n",
       "</style>\n",
       "<table border=\"1\" class=\"dataframe\">\n",
       "  <thead>\n",
       "    <tr style=\"text-align: right;\">\n",
       "      <th></th>\n",
       "      <th>stud_code</th>\n",
       "      <th>sub_code</th>\n",
       "      <th>sub_name</th>\n",
       "      <th>sub_score</th>\n",
       "      <th>stat_date</th>\n",
       "    </tr>\n",
       "  </thead>\n",
       "  <tbody>\n",
       "    <tr>\n",
       "      <td>0</td>\n",
       "      <td>2015101000</td>\n",
       "      <td>10101</td>\n",
       "      <td>数学分析</td>\n",
       "      <td>90</td>\n",
       "      <td>2018-11-05</td>\n",
       "    </tr>\n",
       "    <tr>\n",
       "      <td>1</td>\n",
       "      <td>2015101000</td>\n",
       "      <td>10102</td>\n",
       "      <td>高等代数</td>\n",
       "      <td>88</td>\n",
       "      <td>2018-11-05</td>\n",
       "    </tr>\n",
       "    <tr>\n",
       "      <td>2</td>\n",
       "      <td>2015101000</td>\n",
       "      <td>10103</td>\n",
       "      <td>大学物理</td>\n",
       "      <td>67</td>\n",
       "      <td>2018-11-05</td>\n",
       "    </tr>\n",
       "  </tbody>\n",
       "</table>\n",
       "</div>"
      ],
      "text/plain": [
       "    stud_code  sub_code sub_name  sub_score   stat_date\n",
       "0  2015101000     10101     数学分析         90  2018-11-05\n",
       "1  2015101000     10102     高等代数         88  2018-11-05\n",
       "2  2015101000     10103     大学物理         67  2018-11-05"
      ]
     },
     "execution_count": 28,
     "metadata": {},
     "output_type": "execute_result"
    }
   ],
   "source": [
    "df2=df1.fillna({'stat_date':'2018-11-05'})\n",
    "df2.head(3)\n"
   ]
  },
  {
   "cell_type": "markdown",
   "metadata": {},
   "source": [
    "（2）可视化，并在图形上标准数据"
   ]
  },
  {
   "cell_type": "code",
   "execution_count": 29,
   "metadata": {},
   "outputs": [
    {
     "data": {
      "text/html": [
       "<div>\n",
       "<style scoped>\n",
       "    .dataframe tbody tr th:only-of-type {\n",
       "        vertical-align: middle;\n",
       "    }\n",
       "\n",
       "    .dataframe tbody tr th {\n",
       "        vertical-align: top;\n",
       "    }\n",
       "\n",
       "    .dataframe thead th {\n",
       "        text-align: right;\n",
       "    }\n",
       "</style>\n",
       "<table border=\"1\" class=\"dataframe\">\n",
       "  <thead>\n",
       "    <tr style=\"text-align: right;\">\n",
       "      <th></th>\n",
       "      <th>sub_score</th>\n",
       "    </tr>\n",
       "    <tr>\n",
       "      <th>sub_name</th>\n",
       "      <th></th>\n",
       "    </tr>\n",
       "  </thead>\n",
       "  <tbody>\n",
       "    <tr>\n",
       "      <td>大学物理</td>\n",
       "      <td>67</td>\n",
       "    </tr>\n",
       "    <tr>\n",
       "      <td>数学分析</td>\n",
       "      <td>90</td>\n",
       "    </tr>\n",
       "    <tr>\n",
       "      <td>电磁学</td>\n",
       "      <td>89</td>\n",
       "    </tr>\n",
       "    <tr>\n",
       "      <td>计算机原理</td>\n",
       "      <td>78</td>\n",
       "    </tr>\n",
       "    <tr>\n",
       "      <td>高等代数</td>\n",
       "      <td>88</td>\n",
       "    </tr>\n",
       "  </tbody>\n",
       "</table>\n",
       "</div>"
      ],
      "text/plain": [
       "          sub_score\n",
       "sub_name           \n",
       "大学物理             67\n",
       "数学分析             90\n",
       "电磁学              89\n",
       "计算机原理            78\n",
       "高等代数             88"
      ]
     },
     "execution_count": 29,
     "metadata": {},
     "output_type": "execute_result"
    }
   ],
   "source": [
    "df21=df2.loc[:,['sub_name','sub_score']].head(5)\n",
    "df22=pd.pivot_table(df21, index='sub_name', values='sub_score')\n",
    "df22\n"
   ]
  },
  {
   "cell_type": "markdown",
   "metadata": {},
   "source": [
    "（3）导入一些库及支持中文的库"
   ]
  },
  {
   "cell_type": "code",
   "execution_count": 30,
   "metadata": {},
   "outputs": [],
   "source": [
    "import pandas as pd\n",
    "from pandas import DataFrame\n",
    "import matplotlib.pyplot as plt \n",
    "import matplotlib\n",
    "#以下两句为在坐标轴上正常显示中文\n",
    "from matplotlib.font_manager import FontProperties \n",
    "font = FontProperties(fname=r\"c:\\windows\\fonts\\simkai.ttf\", size=14) \n",
    "#这句保证在Jupyter notebook上显示图形\n",
    "%matplotlib inline"
   ]
  },
  {
   "cell_type": "markdown",
   "metadata": {},
   "source": [
    "（4）画图"
   ]
  },
  {
   "cell_type": "code",
   "execution_count": 31,
   "metadata": {},
   "outputs": [
    {
     "data": {
      "image/png": "[encoded data removed]",
      "text/plain": [
       "<Figure size 720x432 with 1 Axes>"
      ]
     },
     "metadata": {
      "needs_background": "light"
     },
     "output_type": "display_data"
    }
   ],
   "source": [
    "plt.figure(figsize=(10,6))\n",
    "#设置x轴柱子的个数\n",
    "x=np.arange(5)+1\n",
    "#设置y轴的数值，需将numbers列的数据先转化为数列，再转化为矩阵格式\n",
    "y=np.array(list(df22['sub_score']))\n",
    "xticks1=list(df22.index) #构造不同课程类目的数列\n",
    "#画出柱状图\n",
    "plt.bar(x,y,width = 0.35,align='center',color = 'b',alpha=0.8)\n",
    "#设置x轴的刻度，将构建的xticks代入，同时由于课程类目文字较多，在一块会比较拥挤和重叠，因此设置字体和对齐方式\n",
    "plt.xticks(x,xticks1,size='small',fontproperties=font)\n",
    "#x、y轴标签与图形标题\n",
    "plt.xlabel('课程主题类别',fontproperties=font)\n",
    "plt.ylabel('sub_score')\n",
    "plt.title('不同课程的成绩',fontproperties=font)\n",
    "#设置数字标签\n",
    "for a,b in zip(x,y):\n",
    "    plt.text(a, b+0.05, '%.0f' % b, ha='center', va= 'bottom',fontsize=14)\n",
    "#设置y轴的范围\n",
    "plt.ylim(0,100)\n",
    "plt.show()"
   ]
  },
  {
   "cell_type": "markdown",
   "metadata": {},
   "source": [
    "#### 10.4.8从MySQL中获取数据\n",
    "（1）从MySQL数据库中获取学生基本信息表"
   ]
  },
  {
   "cell_type": "code",
   "execution_count": 41,
   "metadata": {},
   "outputs": [],
   "source": [
    "import numpy as np\n",
    "import pandas as pd\n",
    "from pandas import DataFrame\n",
    "import pymysql\n",
    "\n",
    "conn = pymysql.connect(host='localhost', port=3306, user='root', passwd='mysql2020', db='feigudb', charset='gbk')\n",
    "#学生代码直接从数据库读取为字符型，而df2中学生代码为整数型，故需要进行类型转换\n",
    "df_info= pd.read_sql('select cast(stud_code as signed) as stud_code,stud_name,stud_sex, birthday, log_date,orig_addr, lev_date, college_code, college_name, state from stud_info', conn)\n",
    "#df_info= pd.read_sql('select * from stud_info', conn)\n"
   ]
  },
  {
   "cell_type": "markdown",
   "metadata": {},
   "source": [
    "<mark style=background-color:yellow>\n",
    "【说明】pymysql是第三方模块，需要通过pip install pymysql安装。\n",
    "    该模块在Python与MySQL之间搭建一个桥梁\n",
    "</mark>  "
   ]
  },
  {
   "cell_type": "markdown",
   "metadata": {},
   "source": [
    "（2）查看df_info前3行数据"
   ]
  },
  {
   "cell_type": "code",
   "execution_count": 42,
   "metadata": {},
   "outputs": [
    {
     "data": {
      "text/html": [
       "<div>\n",
       "<style scoped>\n",
       "    .dataframe tbody tr th:only-of-type {\n",
       "        vertical-align: middle;\n",
       "    }\n",
       "\n",
       "    .dataframe tbody tr th {\n",
       "        vertical-align: top;\n",
       "    }\n",
       "\n",
       "    .dataframe thead th {\n",
       "        text-align: right;\n",
       "    }\n",
       "</style>\n",
       "<table border=\"1\" class=\"dataframe\">\n",
       "  <thead>\n",
       "    <tr style=\"text-align: right;\">\n",
       "      <th></th>\n",
       "      <th>stud_code</th>\n",
       "      <th>stud_name</th>\n",
       "      <th>stud_sex</th>\n",
       "      <th>birthday</th>\n",
       "      <th>log_date</th>\n",
       "      <th>orig_addr</th>\n",
       "      <th>lev_date</th>\n",
       "      <th>college_code</th>\n",
       "      <th>college_name</th>\n",
       "      <th>state</th>\n",
       "    </tr>\n",
       "  </thead>\n",
       "  <tbody>\n",
       "    <tr>\n",
       "      <td>0</td>\n",
       "      <td>2015101000</td>\n",
       "      <td>王进</td>\n",
       "      <td>M</td>\n",
       "      <td>1997-08-01</td>\n",
       "      <td>2014-09-01</td>\n",
       "      <td>苏州</td>\n",
       "      <td>None</td>\n",
       "      <td>10</td>\n",
       "      <td>理学院</td>\n",
       "      <td>1</td>\n",
       "    </tr>\n",
       "    <tr>\n",
       "      <td>1</td>\n",
       "      <td>2015101001</td>\n",
       "      <td>刘海</td>\n",
       "      <td>M</td>\n",
       "      <td>1997-09-29</td>\n",
       "      <td>2014-09-01</td>\n",
       "      <td>上海</td>\n",
       "      <td>None</td>\n",
       "      <td>10</td>\n",
       "      <td>理学院</td>\n",
       "      <td>1</td>\n",
       "    </tr>\n",
       "    <tr>\n",
       "      <td>2</td>\n",
       "      <td>2015101002</td>\n",
       "      <td>张飞</td>\n",
       "      <td>M</td>\n",
       "      <td>1996-10-21</td>\n",
       "      <td>2014-09-02</td>\n",
       "      <td>济南</td>\n",
       "      <td>None</td>\n",
       "      <td>10</td>\n",
       "      <td>理学院</td>\n",
       "      <td>1</td>\n",
       "    </tr>\n",
       "  </tbody>\n",
       "</table>\n",
       "</div>"
      ],
      "text/plain": [
       "    stud_code stud_name stud_sex    birthday    log_date orig_addr lev_date  \\\n",
       "0  2015101000        王进        M  1997-08-01  2014-09-01        苏州     None   \n",
       "1  2015101001        刘海        M  1997-09-29  2014-09-01        上海     None   \n",
       "2  2015101002        张飞        M  1996-10-21  2014-09-02        济南     None   \n",
       "\n",
       "  college_code college_name state  \n",
       "0           10          理学院     1  \n",
       "1           10          理学院     1  \n",
       "2           10          理学院     1  "
      ]
     },
     "execution_count": 42,
     "metadata": {},
     "output_type": "execute_result"
    }
   ],
   "source": [
    "df_info.head(3)"
   ]
  },
  {
   "cell_type": "markdown",
   "metadata": {},
   "source": [
    "（3）选择前两个字段"
   ]
  },
  {
   "cell_type": "code",
   "execution_count": 43,
   "metadata": {},
   "outputs": [],
   "source": [
    "df_info1=df_info.iloc[:,[0,1]]"
   ]
  },
  {
   "cell_type": "markdown",
   "metadata": {},
   "source": [
    "（4）df2 与df_info1 根据字段stud_code 进行内关联"
   ]
  },
  {
   "cell_type": "code",
   "execution_count": 44,
   "metadata": {},
   "outputs": [
    {
     "data": {
      "text/html": [
       "<div>\n",
       "<style scoped>\n",
       "    .dataframe tbody tr th:only-of-type {\n",
       "        vertical-align: middle;\n",
       "    }\n",
       "\n",
       "    .dataframe tbody tr th {\n",
       "        vertical-align: top;\n",
       "    }\n",
       "\n",
       "    .dataframe thead th {\n",
       "        text-align: right;\n",
       "    }\n",
       "</style>\n",
       "<table border=\"1\" class=\"dataframe\">\n",
       "  <thead>\n",
       "    <tr style=\"text-align: right;\">\n",
       "      <th></th>\n",
       "      <th>stud_code</th>\n",
       "      <th>stud_name</th>\n",
       "      <th>sub_code</th>\n",
       "      <th>sub_name</th>\n",
       "      <th>sub_score</th>\n",
       "      <th>stat_date</th>\n",
       "    </tr>\n",
       "  </thead>\n",
       "  <tbody>\n",
       "    <tr>\n",
       "      <td>0</td>\n",
       "      <td>2015101000</td>\n",
       "      <td>王进</td>\n",
       "      <td>10101</td>\n",
       "      <td>数学分析</td>\n",
       "      <td>90</td>\n",
       "      <td>2018-11-05</td>\n",
       "    </tr>\n",
       "    <tr>\n",
       "      <td>1</td>\n",
       "      <td>2015101000</td>\n",
       "      <td>王进</td>\n",
       "      <td>10102</td>\n",
       "      <td>高等代数</td>\n",
       "      <td>88</td>\n",
       "      <td>2018-11-05</td>\n",
       "    </tr>\n",
       "    <tr>\n",
       "      <td>2</td>\n",
       "      <td>2015101000</td>\n",
       "      <td>王进</td>\n",
       "      <td>10103</td>\n",
       "      <td>大学物理</td>\n",
       "      <td>67</td>\n",
       "      <td>2018-11-05</td>\n",
       "    </tr>\n",
       "  </tbody>\n",
       "</table>\n",
       "</div>"
      ],
      "text/plain": [
       "    stud_code stud_name  sub_code sub_name  sub_score   stat_date\n",
       "0  2015101000        王进     10101     数学分析         90  2018-11-05\n",
       "1  2015101000        王进     10102     高等代数         88  2018-11-05\n",
       "2  2015101000        王进     10103     大学物理         67  2018-11-05"
      ]
     },
     "execution_count": 44,
     "metadata": {},
     "output_type": "execute_result"
    }
   ],
   "source": [
    "df3=pd.merge(df_info1,df2,on='stud_code',how='inner')\n",
    "df3.head(3)\n"
   ]
  },
  {
   "cell_type": "markdown",
   "metadata": {},
   "source": [
    "（5）对df3 根据字段stud_code,sub_code进行分组，并求平均每个同学各科的平均成绩。"
   ]
  },
  {
   "cell_type": "code",
   "execution_count": 45,
   "metadata": {},
   "outputs": [
    {
     "data": {
      "text/html": [
       "<div>\n",
       "<style scoped>\n",
       "    .dataframe tbody tr th:only-of-type {\n",
       "        vertical-align: middle;\n",
       "    }\n",
       "\n",
       "    .dataframe tbody tr th {\n",
       "        vertical-align: top;\n",
       "    }\n",
       "\n",
       "    .dataframe thead th {\n",
       "        text-align: right;\n",
       "    }\n",
       "</style>\n",
       "<table border=\"1\" class=\"dataframe\">\n",
       "  <thead>\n",
       "    <tr style=\"text-align: right;\">\n",
       "      <th></th>\n",
       "      <th>stud_name</th>\n",
       "      <th>sub_name</th>\n",
       "      <th>stud_code</th>\n",
       "      <th>sub_code</th>\n",
       "      <th>sub_score</th>\n",
       "    </tr>\n",
       "  </thead>\n",
       "  <tbody>\n",
       "    <tr>\n",
       "      <td>0</td>\n",
       "      <td>刘婷</td>\n",
       "      <td>大学物理</td>\n",
       "      <td>2015101003</td>\n",
       "      <td>10103</td>\n",
       "      <td>65</td>\n",
       "    </tr>\n",
       "    <tr>\n",
       "      <td>1</td>\n",
       "      <td>刘婷</td>\n",
       "      <td>数学分析</td>\n",
       "      <td>2015101003</td>\n",
       "      <td>10101</td>\n",
       "      <td>70</td>\n",
       "    </tr>\n",
       "    <tr>\n",
       "      <td>2</td>\n",
       "      <td>刘婷</td>\n",
       "      <td>电磁学</td>\n",
       "      <td>2015101003</td>\n",
       "      <td>10105</td>\n",
       "      <td>76</td>\n",
       "    </tr>\n",
       "  </tbody>\n",
       "</table>\n",
       "</div>"
      ],
      "text/plain": [
       "  stud_name sub_name   stud_code  sub_code  sub_score\n",
       "0        刘婷     大学物理  2015101003     10103         65\n",
       "1        刘婷     数学分析  2015101003     10101         70\n",
       "2        刘婷      电磁学  2015101003     10105         76"
      ]
     },
     "execution_count": 45,
     "metadata": {},
     "output_type": "execute_result"
    }
   ],
   "source": [
    "df4=df3.groupby(['stud_name','sub_name'],as_index=False).mean()\n",
    "df4.head(3)"
   ]
  },
  {
   "cell_type": "markdown",
   "metadata": {
    "collapsed": true
   },
   "source": [
    "【备注】\n",
    "如果需要合计各同学的成绩，可用如下语句。"
   ]
  },
  {
   "cell_type": "code",
   "execution_count": 46,
   "metadata": {},
   "outputs": [
    {
     "data": {
      "text/html": [
       "<div>\n",
       "<style scoped>\n",
       "    .dataframe tbody tr th:only-of-type {\n",
       "        vertical-align: middle;\n",
       "    }\n",
       "\n",
       "    .dataframe tbody tr th {\n",
       "        vertical-align: top;\n",
       "    }\n",
       "\n",
       "    .dataframe thead th {\n",
       "        text-align: right;\n",
       "    }\n",
       "</style>\n",
       "<table border=\"1\" class=\"dataframe\">\n",
       "  <thead>\n",
       "    <tr style=\"text-align: right;\">\n",
       "      <th></th>\n",
       "      <th>stud_name</th>\n",
       "      <th>stud_code</th>\n",
       "      <th>sub_code</th>\n",
       "      <th>sub_score</th>\n",
       "    </tr>\n",
       "  </thead>\n",
       "  <tbody>\n",
       "    <tr>\n",
       "      <td>0</td>\n",
       "      <td>刘婷</td>\n",
       "      <td>10075505015</td>\n",
       "      <td>50515</td>\n",
       "      <td>396</td>\n",
       "    </tr>\n",
       "    <tr>\n",
       "      <td>1</td>\n",
       "      <td>刘海</td>\n",
       "      <td>10075505005</td>\n",
       "      <td>50515</td>\n",
       "      <td>430</td>\n",
       "    </tr>\n",
       "    <tr>\n",
       "      <td>2</td>\n",
       "      <td>刘芳菲</td>\n",
       "      <td>10075505035</td>\n",
       "      <td>50515</td>\n",
       "      <td>410</td>\n",
       "    </tr>\n",
       "  </tbody>\n",
       "</table>\n",
       "</div>"
      ],
      "text/plain": [
       "  stud_name    stud_code  sub_code  sub_score\n",
       "0        刘婷  10075505015     50515        396\n",
       "1        刘海  10075505005     50515        430\n",
       "2       刘芳菲  10075505035     50515        410"
      ]
     },
     "execution_count": 46,
     "metadata": {},
     "output_type": "execute_result"
    }
   ],
   "source": [
    "df3.groupby(['stud_name'],as_index=False).sum().head(3)"
   ]
  },
  {
   "cell_type": "markdown",
   "metadata": {},
   "source": [
    "（6）选择数学分析课程，并根据成绩进行降序。"
   ]
  },
  {
   "cell_type": "code",
   "execution_count": 47,
   "metadata": {},
   "outputs": [
    {
     "data": {
      "text/html": [
       "<div>\n",
       "<style scoped>\n",
       "    .dataframe tbody tr th:only-of-type {\n",
       "        vertical-align: middle;\n",
       "    }\n",
       "\n",
       "    .dataframe tbody tr th {\n",
       "        vertical-align: top;\n",
       "    }\n",
       "\n",
       "    .dataframe thead th {\n",
       "        text-align: right;\n",
       "    }\n",
       "</style>\n",
       "<table border=\"1\" class=\"dataframe\">\n",
       "  <thead>\n",
       "    <tr style=\"text-align: right;\">\n",
       "      <th></th>\n",
       "      <th>stud_name</th>\n",
       "      <th>sub_name</th>\n",
       "      <th>stud_code</th>\n",
       "      <th>sub_code</th>\n",
       "      <th>sub_score</th>\n",
       "    </tr>\n",
       "  </thead>\n",
       "  <tbody>\n",
       "    <tr>\n",
       "      <td>49</td>\n",
       "      <td>张飞</td>\n",
       "      <td>数学分析</td>\n",
       "      <td>2015101002</td>\n",
       "      <td>10101</td>\n",
       "      <td>98</td>\n",
       "    </tr>\n",
       "    <tr>\n",
       "      <td>82</td>\n",
       "      <td>貂蝉</td>\n",
       "      <td>数学分析</td>\n",
       "      <td>2015101008</td>\n",
       "      <td>10101</td>\n",
       "      <td>96</td>\n",
       "    </tr>\n",
       "    <tr>\n",
       "      <td>66</td>\n",
       "      <td>王进</td>\n",
       "      <td>数学分析</td>\n",
       "      <td>2015101000</td>\n",
       "      <td>10101</td>\n",
       "      <td>90</td>\n",
       "    </tr>\n",
       "    <tr>\n",
       "      <td>6</td>\n",
       "      <td>刘海</td>\n",
       "      <td>数学分析</td>\n",
       "      <td>2015101001</td>\n",
       "      <td>10101</td>\n",
       "      <td>87</td>\n",
       "    </tr>\n",
       "    <tr>\n",
       "      <td>93</td>\n",
       "      <td>韩林</td>\n",
       "      <td>数学分析</td>\n",
       "      <td>2015101005</td>\n",
       "      <td>10101</td>\n",
       "      <td>82</td>\n",
       "    </tr>\n",
       "    <tr>\n",
       "      <td>77</td>\n",
       "      <td>西施</td>\n",
       "      <td>数学分析</td>\n",
       "      <td>2015101009</td>\n",
       "      <td>10101</td>\n",
       "      <td>81</td>\n",
       "    </tr>\n",
       "    <tr>\n",
       "      <td>11</td>\n",
       "      <td>刘芳菲</td>\n",
       "      <td>数学分析</td>\n",
       "      <td>2015101007</td>\n",
       "      <td>10101</td>\n",
       "      <td>73</td>\n",
       "    </tr>\n",
       "    <tr>\n",
       "      <td>1</td>\n",
       "      <td>刘婷</td>\n",
       "      <td>数学分析</td>\n",
       "      <td>2015101003</td>\n",
       "      <td>10101</td>\n",
       "      <td>70</td>\n",
       "    </tr>\n",
       "    <tr>\n",
       "      <td>22</td>\n",
       "      <td>卢家</td>\n",
       "      <td>数学分析</td>\n",
       "      <td>2015101004</td>\n",
       "      <td>10101</td>\n",
       "      <td>65</td>\n",
       "    </tr>\n",
       "    <tr>\n",
       "      <td>39</td>\n",
       "      <td>吴霞</td>\n",
       "      <td>数学分析</td>\n",
       "      <td>2015101010</td>\n",
       "      <td>10101</td>\n",
       "      <td>61</td>\n",
       "    </tr>\n",
       "    <tr>\n",
       "      <td>44</td>\n",
       "      <td>张景和</td>\n",
       "      <td>数学分析</td>\n",
       "      <td>2015101006</td>\n",
       "      <td>10101</td>\n",
       "      <td>60</td>\n",
       "    </tr>\n",
       "  </tbody>\n",
       "</table>\n",
       "</div>"
      ],
      "text/plain": [
       "   stud_name sub_name   stud_code  sub_code  sub_score\n",
       "49        张飞     数学分析  2015101002     10101         98\n",
       "82        貂蝉     数学分析  2015101008     10101         96\n",
       "66        王进     数学分析  2015101000     10101         90\n",
       "6         刘海     数学分析  2015101001     10101         87\n",
       "93        韩林     数学分析  2015101005     10101         82\n",
       "77        西施     数学分析  2015101009     10101         81\n",
       "11       刘芳菲     数学分析  2015101007     10101         73\n",
       "1         刘婷     数学分析  2015101003     10101         70\n",
       "22        卢家     数学分析  2015101004     10101         65\n",
       "39        吴霞     数学分析  2015101010     10101         61\n",
       "44       张景和     数学分析  2015101006     10101         60"
      ]
     },
     "execution_count": 47,
     "metadata": {},
     "output_type": "execute_result"
    }
   ],
   "source": [
    "df4[df4['sub_code'].isin(['10101'])].sort_values(by='sub_score', ascending=False)"
   ]
  },
  {
   "cell_type": "markdown",
   "metadata": {},
   "source": [
    "（7）取前5名"
   ]
  },
  {
   "cell_type": "code",
   "execution_count": 50,
   "metadata": {},
   "outputs": [
    {
     "data": {
      "text/html": [
       "<div>\n",
       "<style scoped>\n",
       "    .dataframe tbody tr th:only-of-type {\n",
       "        vertical-align: middle;\n",
       "    }\n",
       "\n",
       "    .dataframe tbody tr th {\n",
       "        vertical-align: top;\n",
       "    }\n",
       "\n",
       "    .dataframe thead th {\n",
       "        text-align: right;\n",
       "    }\n",
       "</style>\n",
       "<table border=\"1\" class=\"dataframe\">\n",
       "  <thead>\n",
       "    <tr style=\"text-align: right;\">\n",
       "      <th></th>\n",
       "      <th>stud_name</th>\n",
       "      <th>sub_name</th>\n",
       "      <th>stud_code</th>\n",
       "      <th>sub_code</th>\n",
       "      <th>sub_score</th>\n",
       "    </tr>\n",
       "  </thead>\n",
       "  <tbody>\n",
       "    <tr>\n",
       "      <td>49</td>\n",
       "      <td>张飞</td>\n",
       "      <td>数学分析</td>\n",
       "      <td>2015101002</td>\n",
       "      <td>10101</td>\n",
       "      <td>98</td>\n",
       "    </tr>\n",
       "    <tr>\n",
       "      <td>82</td>\n",
       "      <td>貂蝉</td>\n",
       "      <td>数学分析</td>\n",
       "      <td>2015101008</td>\n",
       "      <td>10101</td>\n",
       "      <td>96</td>\n",
       "    </tr>\n",
       "    <tr>\n",
       "      <td>66</td>\n",
       "      <td>王进</td>\n",
       "      <td>数学分析</td>\n",
       "      <td>2015101000</td>\n",
       "      <td>10101</td>\n",
       "      <td>90</td>\n",
       "    </tr>\n",
       "    <tr>\n",
       "      <td>6</td>\n",
       "      <td>刘海</td>\n",
       "      <td>数学分析</td>\n",
       "      <td>2015101001</td>\n",
       "      <td>10101</td>\n",
       "      <td>87</td>\n",
       "    </tr>\n",
       "    <tr>\n",
       "      <td>93</td>\n",
       "      <td>韩林</td>\n",
       "      <td>数学分析</td>\n",
       "      <td>2015101005</td>\n",
       "      <td>10101</td>\n",
       "      <td>82</td>\n",
       "    </tr>\n",
       "  </tbody>\n",
       "</table>\n",
       "</div>"
      ],
      "text/plain": [
       "   stud_name sub_name   stud_code  sub_code  sub_score\n",
       "49        张飞     数学分析  2015101002     10101         98\n",
       "82        貂蝉     数学分析  2015101008     10101         96\n",
       "66        王进     数学分析  2015101000     10101         90\n",
       "6         刘海     数学分析  2015101001     10101         87\n",
       "93        韩林     数学分析  2015101005     10101         82"
      ]
     },
     "execution_count": 50,
     "metadata": {},
     "output_type": "execute_result"
    }
   ],
   "source": [
    "df_top5=df4[df4['sub_code'].isin(['10101'])].sort_values(by='sub_score', ascending=False).head(5)\n",
    "df_top5"
   ]
  },
  {
   "cell_type": "markdown",
   "metadata": {},
   "source": [
    "#### 10.4.9把pandas数据写入excel\n",
    "把pandas数据写入excel中的sheet中"
   ]
  },
  {
   "cell_type": "code",
   "execution_count": 52,
   "metadata": {},
   "outputs": [],
   "source": [
    "with pd.ExcelWriter(r'.\\test1107.xlsx') as writer:\n",
    "    df2.to_excel(writer,sheet_name='df2',index=False)   #不保存序列号\n",
    "    df1.to_excel(writer,sheet_name='学生成绩')          #同时保存序列号\n",
    "    writer.save()\n",
    "df2.to_csv(\"test1107.csv\",index=False,sep=',')  #把Pandas数据写人csv文件\n"
   ]
  },
  {
   "cell_type": "markdown",
   "metadata": {},
   "source": [
    "#### 10.4.10 应用函数及映射\n",
    "我们知道数据库中有很多函数可用作用于表中元素，DataFrame也可将函数（内置或自定义）应用到各列或行上，而且非常方便和简洁，具体可用通过DataFrame的apply，使或applymap或map，也可以作用到元素级。以下通过实例说明具体使用。"
   ]
  },
  {
   "cell_type": "code",
   "execution_count": 53,
   "metadata": {},
   "outputs": [
    {
     "data": {
      "text/html": [
       "<div>\n",
       "<style scoped>\n",
       "    .dataframe tbody tr th:only-of-type {\n",
       "        vertical-align: middle;\n",
       "    }\n",
       "\n",
       "    .dataframe tbody tr th {\n",
       "        vertical-align: top;\n",
       "    }\n",
       "\n",
       "    .dataframe thead th {\n",
       "        text-align: right;\n",
       "    }\n",
       "</style>\n",
       "<table border=\"1\" class=\"dataframe\">\n",
       "  <thead>\n",
       "    <tr style=\"text-align: right;\">\n",
       "      <th></th>\n",
       "      <th>a1</th>\n",
       "      <th>a2</th>\n",
       "      <th>a3</th>\n",
       "      <th>a4</th>\n",
       "    </tr>\n",
       "  </thead>\n",
       "  <tbody>\n",
       "    <tr>\n",
       "      <td>a</td>\n",
       "      <td>0</td>\n",
       "      <td>1</td>\n",
       "      <td>2</td>\n",
       "      <td>3</td>\n",
       "    </tr>\n",
       "    <tr>\n",
       "      <td>b</td>\n",
       "      <td>4</td>\n",
       "      <td>5</td>\n",
       "      <td>6</td>\n",
       "      <td>7</td>\n",
       "    </tr>\n",
       "    <tr>\n",
       "      <td>c</td>\n",
       "      <td>8</td>\n",
       "      <td>9</td>\n",
       "      <td>10</td>\n",
       "      <td>11</td>\n",
       "    </tr>\n",
       "  </tbody>\n",
       "</table>\n",
       "</div>"
      ],
      "text/plain": [
       "   a1  a2  a3  a4\n",
       "a   0   1   2   3\n",
       "b   4   5   6   7\n",
       "c   8   9  10  11"
      ]
     },
     "execution_count": 53,
     "metadata": {},
     "output_type": "execute_result"
    }
   ],
   "source": [
    "d1=DataFrame(np.arange(12).reshape((3,4)),index=['a','b','c'],columns=['a1','a2','a3','a4'])\n",
    "d1\n"
   ]
  },
  {
   "cell_type": "code",
   "execution_count": 54,
   "metadata": {},
   "outputs": [
    {
     "data": {
      "text/plain": [
       "a1     8\n",
       "a2    10\n",
       "a3    12\n",
       "a4    14\n",
       "Name: b, dtype: int64"
      ]
     },
     "execution_count": 54,
     "metadata": {},
     "output_type": "execute_result"
    }
   ],
   "source": [
    "d1.apply(lambda x:x.max()-x.min(),axis=0) ###列级处理\n",
    "d1.applymap(lambda x:x*2)   ###处理每个元素\n",
    "d1.iloc[1].map(lambda x:x*2)   ###处理每行数据"
   ]
  },
  {
   "cell_type": "markdown",
   "metadata": {},
   "source": [
    "#### 10.4.11 时间序列\n",
    "pandas最基本的时间序列类型就是以时间戳（时间点）（通常以python字符串或datetime对象表示）为索引的Series："
   ]
  },
  {
   "cell_type": "code",
   "execution_count": 55,
   "metadata": {},
   "outputs": [
    {
     "data": {
      "text/plain": [
       "2017-06-20    0.174791\n",
       "2017-06-21   -0.151387\n",
       "2017-06-22   -0.745483\n",
       "2017-06-23   -0.074607\n",
       "2017-06-24   -0.874642\n",
       "dtype: float64"
      ]
     },
     "execution_count": 55,
     "metadata": {},
     "output_type": "execute_result"
    }
   ],
   "source": [
    "dates = ['2017-06-20','2017-06-21','2017-06-22','2017-06-23','2017-06-24']\n",
    "ts = pd.Series(np.random.randn(5),index = pd.to_datetime(dates))\n",
    "ts"
   ]
  },
  {
   "cell_type": "markdown",
   "metadata": {},
   "source": [
    "索引为日期的DataFrame数据的索引、选取以及子集构造"
   ]
  },
  {
   "cell_type": "code",
   "execution_count": 56,
   "metadata": {},
   "outputs": [
    {
     "data": {
      "text/plain": [
       "2017-06-20    0.174791\n",
       "2017-06-21   -0.151387\n",
       "2017-06-22   -0.745483\n",
       "dtype: float64"
      ]
     },
     "execution_count": 56,
     "metadata": {},
     "output_type": "execute_result"
    }
   ],
   "source": [
    "ts.index\n",
    "#传入可以被解析成日期的字符串\n",
    "ts['2017-06-21']\n",
    "#传入年或年月\n",
    "ts['2017-06']\n",
    "#时间范围进行切片\n",
    "ts['2017-06-20':'2017-06-22']"
   ]
  },
  {
   "cell_type": "markdown",
   "metadata": {},
   "source": [
    "#### 10.4.12 数据离散化\n",
    "pandas有现成方法，如cut或qcut等，不需要编写代码，至于如何使用还是通过实例来说明。\t"
   ]
  },
  {
   "cell_type": "code",
   "execution_count": 57,
   "metadata": {},
   "outputs": [
    {
     "data": {
      "text/html": [
       "<div>\n",
       "<style scoped>\n",
       "    .dataframe tbody tr th:only-of-type {\n",
       "        vertical-align: middle;\n",
       "    }\n",
       "\n",
       "    .dataframe tbody tr th {\n",
       "        vertical-align: top;\n",
       "    }\n",
       "\n",
       "    .dataframe thead th {\n",
       "        text-align: right;\n",
       "    }\n",
       "</style>\n",
       "<table border=\"1\" class=\"dataframe\">\n",
       "  <thead>\n",
       "    <tr style=\"text-align: right;\">\n",
       "      <th></th>\n",
       "      <th>age</th>\n",
       "      <th>type</th>\n",
       "    </tr>\n",
       "  </thead>\n",
       "  <tbody>\n",
       "    <tr>\n",
       "      <td>0</td>\n",
       "      <td>21</td>\n",
       "      <td>1</td>\n",
       "    </tr>\n",
       "    <tr>\n",
       "      <td>1</td>\n",
       "      <td>25</td>\n",
       "      <td>2</td>\n",
       "    </tr>\n",
       "    <tr>\n",
       "      <td>2</td>\n",
       "      <td>30</td>\n",
       "      <td>1</td>\n",
       "    </tr>\n",
       "    <tr>\n",
       "      <td>3</td>\n",
       "      <td>32</td>\n",
       "      <td>2</td>\n",
       "    </tr>\n",
       "    <tr>\n",
       "      <td>4</td>\n",
       "      <td>36</td>\n",
       "      <td>1</td>\n",
       "    </tr>\n",
       "    <tr>\n",
       "      <td>5</td>\n",
       "      <td>40</td>\n",
       "      <td>1</td>\n",
       "    </tr>\n",
       "    <tr>\n",
       "      <td>6</td>\n",
       "      <td>45</td>\n",
       "      <td>2</td>\n",
       "    </tr>\n",
       "    <tr>\n",
       "      <td>7</td>\n",
       "      <td>50</td>\n",
       "      <td>2</td>\n",
       "    </tr>\n",
       "  </tbody>\n",
       "</table>\n",
       "</div>"
      ],
      "text/plain": [
       "   age type\n",
       "0   21    1\n",
       "1   25    2\n",
       "2   30    1\n",
       "3   32    2\n",
       "4   36    1\n",
       "5   40    1\n",
       "6   45    2\n",
       "7   50    2"
      ]
     },
     "execution_count": 57,
     "metadata": {},
     "output_type": "execute_result"
    }
   ],
   "source": [
    "import numpy as np\n",
    "import pandas as pd\n",
    "from pandas import DataFrame\n",
    "df9=DataFrame({'age':[21,25,30,32,36,40,45,50],'type':['1','2','1','2','1','1','2','2']},columns=['age','type'])\n",
    "df9"
   ]
  },
  {
   "cell_type": "markdown",
   "metadata": {},
   "source": [
    "现在需要对age字段进行离散化, 划分为(20,30],(30,40],(40,50]."
   ]
  },
  {
   "cell_type": "code",
   "execution_count": 58,
   "metadata": {},
   "outputs": [
    {
     "data": {
      "text/html": [
       "<div>\n",
       "<style scoped>\n",
       "    .dataframe tbody tr th:only-of-type {\n",
       "        vertical-align: middle;\n",
       "    }\n",
       "\n",
       "    .dataframe tbody tr th {\n",
       "        vertical-align: top;\n",
       "    }\n",
       "\n",
       "    .dataframe thead th {\n",
       "        text-align: right;\n",
       "    }\n",
       "</style>\n",
       "<table border=\"1\" class=\"dataframe\">\n",
       "  <thead>\n",
       "    <tr style=\"text-align: right;\">\n",
       "      <th></th>\n",
       "      <th>age</th>\n",
       "      <th>age_t</th>\n",
       "      <th>type</th>\n",
       "    </tr>\n",
       "  </thead>\n",
       "  <tbody>\n",
       "    <tr>\n",
       "      <td>0</td>\n",
       "      <td>21</td>\n",
       "      <td>A</td>\n",
       "      <td>1</td>\n",
       "    </tr>\n",
       "    <tr>\n",
       "      <td>1</td>\n",
       "      <td>25</td>\n",
       "      <td>A</td>\n",
       "      <td>2</td>\n",
       "    </tr>\n",
       "    <tr>\n",
       "      <td>2</td>\n",
       "      <td>30</td>\n",
       "      <td>A</td>\n",
       "      <td>1</td>\n",
       "    </tr>\n",
       "    <tr>\n",
       "      <td>3</td>\n",
       "      <td>32</td>\n",
       "      <td>B</td>\n",
       "      <td>2</td>\n",
       "    </tr>\n",
       "    <tr>\n",
       "      <td>4</td>\n",
       "      <td>36</td>\n",
       "      <td>B</td>\n",
       "      <td>1</td>\n",
       "    </tr>\n",
       "    <tr>\n",
       "      <td>5</td>\n",
       "      <td>40</td>\n",
       "      <td>B</td>\n",
       "      <td>1</td>\n",
       "    </tr>\n",
       "    <tr>\n",
       "      <td>6</td>\n",
       "      <td>45</td>\n",
       "      <td>C</td>\n",
       "      <td>2</td>\n",
       "    </tr>\n",
       "    <tr>\n",
       "      <td>7</td>\n",
       "      <td>50</td>\n",
       "      <td>C</td>\n",
       "      <td>2</td>\n",
       "    </tr>\n",
       "  </tbody>\n",
       "</table>\n",
       "</div>"
      ],
      "text/plain": [
       "   age age_t type\n",
       "0   21     A    1\n",
       "1   25     A    2\n",
       "2   30     A    1\n",
       "3   32     B    2\n",
       "4   36     B    1\n",
       "5   40     B    1\n",
       "6   45     C    2\n",
       "7   50     C    2"
      ]
     },
     "execution_count": 58,
     "metadata": {},
     "output_type": "execute_result"
    }
   ],
   "source": [
    "level=[20,30,40,50]\t##划分为(20,30],(30,40],(40,50]\n",
    "groups=['A','B','C']\t##对应标签为A,B,C\n",
    "df9['age_t']=pd.cut(df9['age'],level,labels=groups)  ##新增字段为age_t\n",
    "df10=df9[['age','age_t','type']]\n",
    "df10"
   ]
  },
  {
   "cell_type": "markdown",
   "metadata": {},
   "source": [
    "#### 10.4.13 交叉表\n",
    "交叉表的说明请参考书中对应章节"
   ]
  },
  {
   "cell_type": "code",
   "execution_count": 59,
   "metadata": {},
   "outputs": [
    {
     "data": {
      "text/html": [
       "<div>\n",
       "<style scoped>\n",
       "    .dataframe tbody tr th:only-of-type {\n",
       "        vertical-align: middle;\n",
       "    }\n",
       "\n",
       "    .dataframe tbody tr th {\n",
       "        vertical-align: top;\n",
       "    }\n",
       "\n",
       "    .dataframe thead th {\n",
       "        text-align: right;\n",
       "    }\n",
       "</style>\n",
       "<table border=\"1\" class=\"dataframe\">\n",
       "  <thead>\n",
       "    <tr style=\"text-align: right;\">\n",
       "      <th></th>\n",
       "      <th>书代码</th>\n",
       "      <th>客户类型</th>\n",
       "      <th>购买量</th>\n",
       "    </tr>\n",
       "  </thead>\n",
       "  <tbody>\n",
       "    <tr>\n",
       "      <td>0</td>\n",
       "      <td>p211</td>\n",
       "      <td>A</td>\n",
       "      <td>1</td>\n",
       "    </tr>\n",
       "    <tr>\n",
       "      <td>1</td>\n",
       "      <td>p211</td>\n",
       "      <td>B</td>\n",
       "      <td>2</td>\n",
       "    </tr>\n",
       "    <tr>\n",
       "      <td>2</td>\n",
       "      <td>sp2</td>\n",
       "      <td>A</td>\n",
       "      <td>3</td>\n",
       "    </tr>\n",
       "    <tr>\n",
       "      <td>3</td>\n",
       "      <td>sp2</td>\n",
       "      <td>B</td>\n",
       "      <td>2</td>\n",
       "    </tr>\n",
       "    <tr>\n",
       "      <td>4</td>\n",
       "      <td>hd28</td>\n",
       "      <td>A</td>\n",
       "      <td>10</td>\n",
       "    </tr>\n",
       "    <tr>\n",
       "      <td>5</td>\n",
       "      <td>hd28</td>\n",
       "      <td>C</td>\n",
       "      <td>1</td>\n",
       "    </tr>\n",
       "  </tbody>\n",
       "</table>\n",
       "</div>"
      ],
      "text/plain": [
       "    书代码 客户类型  购买量\n",
       "0  p211    A    1\n",
       "1  p211    B    2\n",
       "2   sp2    A    3\n",
       "3   sp2    B    2\n",
       "4  hd28    A   10\n",
       "5  hd28    C    1"
      ]
     },
     "execution_count": 59,
     "metadata": {},
     "output_type": "execute_result"
    }
   ],
   "source": [
    "import numpy as np\n",
    "import pandas as pd\n",
    "from pandas import DataFrame\n",
    "df=DataFrame({'书代码':['p211','p211','sp2','sp2','hd28','hd28'],'客户类型':['A','B','A','B','A','C'],'购买量':[1,2,3,2,10,1]},columns=['书代码','客户类型','购买量'])\n",
    "df"
   ]
  },
  {
   "cell_type": "markdown",
   "metadata": {},
   "source": [
    "实现行列互换，把书代码列转换为行或索引"
   ]
  },
  {
   "cell_type": "code",
   "execution_count": 60,
   "metadata": {},
   "outputs": [
    {
     "data": {
      "text/html": [
       "<div>\n",
       "<style scoped>\n",
       "    .dataframe tbody tr th:only-of-type {\n",
       "        vertical-align: middle;\n",
       "    }\n",
       "\n",
       "    .dataframe tbody tr th {\n",
       "        vertical-align: top;\n",
       "    }\n",
       "\n",
       "    .dataframe thead th {\n",
       "        text-align: right;\n",
       "    }\n",
       "</style>\n",
       "<table border=\"1\" class=\"dataframe\">\n",
       "  <thead>\n",
       "    <tr style=\"text-align: right;\">\n",
       "      <th>书代码</th>\n",
       "      <th>hd28</th>\n",
       "      <th>p211</th>\n",
       "      <th>sp2</th>\n",
       "    </tr>\n",
       "    <tr>\n",
       "      <th>客户类型</th>\n",
       "      <th></th>\n",
       "      <th></th>\n",
       "      <th></th>\n",
       "    </tr>\n",
       "  </thead>\n",
       "  <tbody>\n",
       "    <tr>\n",
       "      <td>A</td>\n",
       "      <td>10.0</td>\n",
       "      <td>1.0</td>\n",
       "      <td>3.0</td>\n",
       "    </tr>\n",
       "    <tr>\n",
       "      <td>B</td>\n",
       "      <td>NaN</td>\n",
       "      <td>2.0</td>\n",
       "      <td>2.0</td>\n",
       "    </tr>\n",
       "    <tr>\n",
       "      <td>C</td>\n",
       "      <td>1.0</td>\n",
       "      <td>NaN</td>\n",
       "      <td>NaN</td>\n",
       "    </tr>\n",
       "  </tbody>\n",
       "</table>\n",
       "</div>"
      ],
      "text/plain": [
       "书代码   hd28  p211  sp2\n",
       "客户类型                 \n",
       "A     10.0   1.0  3.0\n",
       "B      NaN   2.0  2.0\n",
       "C      1.0   NaN  NaN"
      ]
     },
     "execution_count": 60,
     "metadata": {},
     "output_type": "execute_result"
    }
   ],
   "source": [
    "pd.pivot_table(df,values='购买量',index='客户类型',columns='书代码')"
   ]
  },
  {
   "cell_type": "code",
   "execution_count": 61,
   "metadata": {},
   "outputs": [
    {
     "data": {
      "text/html": [
       "<div>\n",
       "<style scoped>\n",
       "    .dataframe tbody tr th:only-of-type {\n",
       "        vertical-align: middle;\n",
       "    }\n",
       "\n",
       "    .dataframe tbody tr th {\n",
       "        vertical-align: top;\n",
       "    }\n",
       "\n",
       "    .dataframe thead th {\n",
       "        text-align: right;\n",
       "    }\n",
       "</style>\n",
       "<table border=\"1\" class=\"dataframe\">\n",
       "  <thead>\n",
       "    <tr style=\"text-align: right;\">\n",
       "      <th>书代码</th>\n",
       "      <th>hd28</th>\n",
       "      <th>p211</th>\n",
       "      <th>sp2</th>\n",
       "    </tr>\n",
       "    <tr>\n",
       "      <th>客户类型</th>\n",
       "      <th></th>\n",
       "      <th></th>\n",
       "      <th></th>\n",
       "    </tr>\n",
       "  </thead>\n",
       "  <tbody>\n",
       "    <tr>\n",
       "      <td>A</td>\n",
       "      <td>10</td>\n",
       "      <td>1</td>\n",
       "      <td>3</td>\n",
       "    </tr>\n",
       "    <tr>\n",
       "      <td>B</td>\n",
       "      <td>0</td>\n",
       "      <td>2</td>\n",
       "      <td>2</td>\n",
       "    </tr>\n",
       "    <tr>\n",
       "      <td>C</td>\n",
       "      <td>1</td>\n",
       "      <td>0</td>\n",
       "      <td>0</td>\n",
       "    </tr>\n",
       "  </tbody>\n",
       "</table>\n",
       "</div>"
      ],
      "text/plain": [
       "书代码   hd28  p211  sp2\n",
       "客户类型                 \n",
       "A       10     1    3\n",
       "B        0     2    2\n",
       "C        1     0    0"
      ]
     },
     "execution_count": 61,
     "metadata": {},
     "output_type": "execute_result"
    }
   ],
   "source": [
    "####转换后，出现一些NaN值或空值，我们可以把NaN修改为0\n",
    "pd.pivot_table(df,values='购买量',index='客户类型',columns='书代码',fill_value=0)\n"
   ]
  },
  {
   "cell_type": "code",
   "execution_count": null,
   "metadata": {},
   "outputs": [],
   "source": []
  }
 ],
 "metadata": {
  "kernelspec": {
   "display_name": "Python 3",
   "language": "python",
   "name": "python3"
  },
  "language_info": {
   "codemirror_mode": {
    "name": "ipython",
    "version": 3
   },
   "file_extension": ".py",
   "mimetype": "text/x-python",
   "name": "python",
   "nbconvert_exporter": "python",
   "pygments_lexer": "ipython3",
   "version": "3.7.4"
  }
 },
 "nbformat": 4,
 "nbformat_minor": 2
}
