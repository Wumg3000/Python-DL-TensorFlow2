{
 "cells": [
  {
   "attachments": {
    "image.png": {
     "image/png": "[encoded data removed]"
    }
   },
   "cell_type": "markdown",
   "metadata": {},
   "source": [
    "您可以通过访问[飞谷云人工智能网](http://www.feiguyunai.com)下载代码和数据，\n",
    "也欢迎扫以下二维码（QQ号为：717194942），加入本书《Python入门到人工智能》在线答疑交流群:\n",
    "![image.png](attachment:image.png)"
   ]
  },
  {
   "cell_type": "markdown",
   "metadata": {},
   "source": [
    "## 第5章  字典和集合\n",
    "   上一章介绍了两种序列，序列是通过索引来定位的，但现实生活中，有很多情况希望通过有意义的字段来定位，如通过中文查找对应的英文，或通过拼音查找对应的汉字等等。为了解决这类问题，人们研究出字典的数据结构。本章将介绍字典、集合两种数据结构，它们不是序列，即每一个元素没有对应索引。\n"
   ]
  },
  {
   "cell_type": "markdown",
   "metadata": {},
   "source": [
    "### 5.3 创建和维护字典\n",
    "字典是另一种可变容器模型，且可存储任意类型对象。\n",
    "字典的每个键值(key=>value)对用冒号(:)分割，每个对之间用逗号(,)分割，整个字典包括在花括号({})中 ,格式如下所示："
   ]
  },
  {
   "cell_type": "code",
   "execution_count": 1,
   "metadata": {},
   "outputs": [
    {
     "data": {
      "text/plain": [
       "'\\nd = {key1 : value1, key2 : value2 }\\n'"
      ]
     },
     "execution_count": 1,
     "metadata": {},
     "output_type": "execute_result"
    }
   ],
   "source": [
    "\"\"\"\n",
    "d = {key1 : value1, key2 : value2 }\n",
    "\"\"\""
   ]
  },
  {
   "cell_type": "markdown",
   "metadata": {},
   "source": [
    "键必须是唯一的，但值则不必。值可以取任何数据类型，但键必须是不可变的，如字符串，数字或元组。\n",
    "一个简单的字典实例："
   ]
  },
  {
   "cell_type": "code",
   "execution_count": 4,
   "metadata": {},
   "outputs": [
    {
     "name": "stdout",
     "output_type": "stream",
     "text": [
      "dict51类型: <class 'dict'>\n"
     ]
    }
   ],
   "source": [
    "dict51={'小猫':1,'小狗':2,'黄牛':3,'水牛':3 ,'羊':4}\n",
    "print(\"dict51类型:\",type(dict51))"
   ]
  },
  {
   "cell_type": "markdown",
   "metadata": {},
   "source": [
    "#### 5.3.1 创建字典"
   ]
  },
  {
   "cell_type": "markdown",
   "metadata": {},
   "source": [
    "（1）直接创建含键-值对的字典"
   ]
  },
  {
   "cell_type": "code",
   "execution_count": 5,
   "metadata": {},
   "outputs": [
    {
     "name": "stdout",
     "output_type": "stream",
     "text": [
      "<class 'dict'>\n"
     ]
    }
   ],
   "source": [
    "dict52={1:'one',2:'two',3:'three',4:'four',5:'five'}\n",
    "print(type(dict52))"
   ]
  },
  {
   "cell_type": "markdown",
   "metadata": {},
   "source": [
    "（2）创建一个空字典"
   ]
  },
  {
   "cell_type": "code",
   "execution_count": 6,
   "metadata": {},
   "outputs": [
    {
     "name": "stdout",
     "output_type": "stream",
     "text": [
      "<class 'dict'>\n",
      "<class 'dict'>\n"
     ]
    }
   ],
   "source": [
    "dict53={}\n",
    "print(type(dict53))\n",
    "dict54=dict()\n",
    "print(type(dict54))"
   ]
  },
  {
   "cell_type": "markdown",
   "metadata": {},
   "source": [
    "#### 5.3.2 添加键-值对"
   ]
  },
  {
   "cell_type": "code",
   "execution_count": 8,
   "metadata": {},
   "outputs": [
    {
     "name": "stdout",
     "output_type": "stream",
     "text": [
      "{'red': 1, 'black': 2, 'blue': 3, 'other': [5, 6, 7]}\n"
     ]
    }
   ],
   "source": [
    "#往字典dict52添加键-值对\n",
    "dict52[6]='six'\n",
    "#往空字典添加键-值对\n",
    "dict53['red']=1\n",
    "dict53['black']=2\n",
    "dict53['blue']=3\n",
    "dict53['other']=[5,6,7]\n",
    "print(dict53) #{'red': 1, 'blue': 3, 'black': 2, 'other': [5, 6, 7]}"
   ]
  },
  {
   "cell_type": "markdown",
   "metadata": {},
   "source": [
    "#### 5.3.3 修改字典中值"
   ]
  },
  {
   "cell_type": "code",
   "execution_count": 9,
   "metadata": {},
   "outputs": [
    {
     "data": {
      "text/plain": [
       "{'red': 1, 'black': 2, 'blue': 3, 'other': [5, 6, 7]}"
      ]
     },
     "execution_count": 9,
     "metadata": {},
     "output_type": "execute_result"
    }
   ],
   "source": [
    "dict53"
   ]
  },
  {
   "cell_type": "code",
   "execution_count": 10,
   "metadata": {},
   "outputs": [
    {
     "name": "stdout",
     "output_type": "stream",
     "text": [
      "red\n",
      "black\n",
      "blue\n",
      "other\n"
     ]
    }
   ],
   "source": [
    "for k in dict53:\n",
    "    print(k)"
   ]
  },
  {
   "cell_type": "code",
   "execution_count": 65,
   "metadata": {},
   "outputs": [
    {
     "name": "stdout",
     "output_type": "stream",
     "text": [
      "{'red': 1, 'black': 4, 'blue': 3, 'other': [5, 6, 7]}\n"
     ]
    }
   ],
   "source": [
    "dict53['black']=4\n",
    "print(dict53)  #{'red': 1, 'blue': 3, 'black': 4, 'other': [5, 6, 7]}"
   ]
  },
  {
   "cell_type": "markdown",
   "metadata": {},
   "source": [
    "#### 5.3.4 删除字典中的键-值对"
   ]
  },
  {
   "cell_type": "markdown",
   "metadata": {},
   "source": [
    "（1）删除一个键-值对"
   ]
  },
  {
   "cell_type": "code",
   "execution_count": 11,
   "metadata": {},
   "outputs": [
    {
     "name": "stdout",
     "output_type": "stream",
     "text": [
      "{'red': 1, 'blue': 3, 'other': [5, 6, 7]}\n"
     ]
    },
    {
     "data": {
      "text/plain": [
       "3"
      ]
     },
     "execution_count": 11,
     "metadata": {},
     "output_type": "execute_result"
    }
   ],
   "source": [
    "del dict53['black']\n",
    "print(dict53)  #{'red': 1, 'blue': 3, 'other': [5, 6, 7]}\n",
    "len(dict53)"
   ]
  },
  {
   "cell_type": "markdown",
   "metadata": {},
   "source": [
    "（2）删除所有键-值对"
   ]
  },
  {
   "cell_type": "code",
   "execution_count": 68,
   "metadata": {},
   "outputs": [
    {
     "name": "stdout",
     "output_type": "stream",
     "text": [
      "{}\n"
     ]
    }
   ],
   "source": [
    "dict53.clear()\n",
    "print(dict53)"
   ]
  },
  {
   "cell_type": "markdown",
   "metadata": {},
   "source": [
    "### 5.4 遍历字典\n",
    "我们可以用for循环遍历列表、元组，同样，也可以遍历字典。不过遍历字典有点特别，因字典的元素是键-值对，遍历字典可以遍历所有的键-值对、键或值。"
   ]
  },
  {
   "cell_type": "markdown",
   "metadata": {},
   "source": [
    "#### 5.4.1 遍历字典所有的键-值对"
   ]
  },
  {
   "cell_type": "code",
   "execution_count": 12,
   "metadata": {},
   "outputs": [
    {
     "name": "stdout",
     "output_type": "stream",
     "text": [
      "字典值 :dict_items([('Google', 'www.google.com'), ('baidu', 'www.baidu.com'), ('taobao', 'www.taobao.com')]) \n",
      "Google www.google.com\n",
      "baidu www.baidu.com\n",
      "taobao www.taobao.com\n"
     ]
    }
   ],
   "source": [
    "#创建一个字典\n",
    "dict55 = {'Google': 'www.google.com', 'baidu': 'www.baidu.com', 'taobao': 'www.taobao.com'}\n",
    "#打印字典的键-值对\n",
    "print(\"字典值 :%s \"%dict55.items())\n",
    "#字典值 :dict_items([('Google', 'www.google.com'), ('baidu', 'www.baidu.com'), ('taobao', 'www.taobao.com')]) \n",
    "#遍历字典的所有键-值对\n",
    "for key,value in dict55.items():\n",
    "    print(key,value)    "
   ]
  },
  {
   "cell_type": "markdown",
   "metadata": {},
   "source": [
    "#### 5.4.2 遍历字典中所有的键"
   ]
  },
  {
   "cell_type": "code",
   "execution_count": 13,
   "metadata": {},
   "outputs": [
    {
     "name": "stdout",
     "output_type": "stream",
     "text": [
      "w1\n",
      "w2\n",
      "w3\n",
      "w1\n",
      "w2\n",
      "w3\n"
     ]
    }
   ],
   "source": [
    "# 生成一个字典\n",
    "dict56={'w1':[1,2,3,4],'w2':[5,6,7,8],'w3':[9,10,11,12]}\n",
    "#直接遍历字典名\n",
    "for key in dict56:\n",
    "    print(key)\n",
    "#遍历字典函数keys()的值,其结果与直接遍历字典名相同\n",
    "for key in dict56.keys():\n",
    "    print(key)"
   ]
  },
  {
   "cell_type": "markdown",
   "metadata": {
    "collapsed": true
   },
   "source": [
    "#### 5.4.3 遍历字典中所有的值"
   ]
  },
  {
   "cell_type": "code",
   "execution_count": 98,
   "metadata": {},
   "outputs": [
    {
     "name": "stdout",
     "output_type": "stream",
     "text": [
      "[1, 2, 3, 4]\n",
      "[5, 6, 7, 8]\n",
      "[9, 10, 11, 12]\n"
     ]
    }
   ],
   "source": [
    "#遍历字典的所有值\n",
    "for v in dict56.values():\n",
    "    print(v)"
   ]
  },
  {
   "attachments": {
    "image.png": {
     "image/png": "[encoded data removed]"
    }
   },
   "cell_type": "markdown",
   "metadata": {},
   "source": [
    "<mark style=background-color:red>延伸一下</mark>   \n",
    "字典常用的内置函数\n",
    "![image.png](attachment:image.png)"
   ]
  },
  {
   "cell_type": "markdown",
   "metadata": {},
   "source": [
    "copy() 方法返回一个字典的拷贝，也即返回一个具有相同键值对的新字典，例如："
   ]
  },
  {
   "cell_type": "code",
   "execution_count": 64,
   "metadata": {},
   "outputs": [
    {
     "name": "stdout",
     "output_type": "stream",
     "text": [
      "{'one': 1, 'two': 2, 'three': [1, 2, 3]}\n"
     ]
    }
   ],
   "source": [
    "a = {'one': 1, 'two': 2, 'three': [1,2,3]}\n",
    "b = a.copy()\n",
    "print(b)"
   ]
  },
  {
   "cell_type": "markdown",
   "metadata": {},
   "source": [
    "注意，copy() 方法所遵循的拷贝原理，既有深拷贝，也有浅拷贝。拿拷贝字典 a 为例，copy() 方法只会对最表层的键值对进行深拷贝，也就是说，它会再申请一块内存用来存放 {'one': 1, 'two': 2, 'three': []}；而对于某些列表类型的值来说，此方法对其做的是浅拷贝，也就是说，b 中的 [1,2,3] 的值不是自己独有，而是和 a 共有。"
   ]
  },
  {
   "cell_type": "code",
   "execution_count": 65,
   "metadata": {},
   "outputs": [
    {
     "name": "stdout",
     "output_type": "stream",
     "text": [
      "{'one': 1, 'two': 2, 'three': [1, 2, 3], 'four': 100}\n",
      "{'one': 1, 'two': 2, 'three': [1, 2, 3]}\n",
      "{'one': 1, 'two': 2, 'three': [2, 3], 'four': 100}\n",
      "{'one': 1, 'two': 2, 'three': [2, 3]}\n"
     ]
    }
   ],
   "source": [
    "a = {'one': 1, 'two': 2, 'three': [1,2,3]}\n",
    "b = a.copy()\n",
    "#向 a 中添加新键值对，由于b已经提前将 a 所有键值对都深拷贝过来，因此 a 添加新键值对，不会影响 b。\n",
    "a['four']=100\n",
    "print(a)\n",
    "print(b)\n",
    "#由于 b 和 a 共享[1,2,3]（浅拷贝），因此移除 a 中列表中的元素，也会影响 b。\n",
    "a['three'].remove(1)\n",
    "print(a)\n",
    "print(b)"
   ]
  },
  {
   "cell_type": "markdown",
   "metadata": {},
   "source": [
    "### 5.5 集合\n",
    "在Python中，集合是一系列不重复的元素。集合类似于字典，也是用花括号\"{}\"表示，但只包含键，没有相关联的值"
   ]
  },
  {
   "cell_type": "markdown",
   "metadata": {},
   "source": [
    "#### 5.5.1 创建集合"
   ]
  },
  {
   "cell_type": "markdown",
   "metadata": {},
   "source": [
    "（1）直接用{}创建集合"
   ]
  },
  {
   "cell_type": "code",
   "execution_count": 66,
   "metadata": {},
   "outputs": [
    {
     "name": "stdout",
     "output_type": "stream",
     "text": [
      "<class 'dict'>\n"
     ]
    }
   ],
   "source": [
    "set51={1,2,3,4,5,6}\n",
    "#不能用这种方法创建空集合，以下创建的是空字典\n",
    "set52={}\n",
    "print(type(set52))"
   ]
  },
  {
   "cell_type": "markdown",
   "metadata": {},
   "source": [
    "（2）使用set()函数，把列表转换为集合"
   ]
  },
  {
   "cell_type": "code",
   "execution_count": 67,
   "metadata": {},
   "outputs": [
    {
     "name": "stdout",
     "output_type": "stream",
     "text": [
      "{1, 2, 3, 4, 5, 6, 7, 8, 9}\n",
      "set()\n"
     ]
    }
   ],
   "source": [
    "lst51=[1,2,3,4,5,5,6,6,7,8,9]\n",
    "#使用set()函数创建集合\n",
    "set53=set(lst51)\n",
    "print(set53) #{1, 2, 3, 4, 5, 6, 7, 8, 9}\n",
    "#创建空集合\n",
    "set54=set()\n",
    "print(set54)  # set()"
   ]
  },
  {
   "cell_type": "markdown",
   "metadata": {},
   "source": [
    "#### 5.5.2 集合的添加和删除\n",
    "集合是可变的，所以可以添加元素、删除元素。添加使用集合函数add()、删除使用集合函数remove()或pop()或clear()等。"
   ]
  },
  {
   "cell_type": "markdown",
   "metadata": {},
   "source": [
    "（1）添加元素"
   ]
  },
  {
   "cell_type": "code",
   "execution_count": 68,
   "metadata": {},
   "outputs": [
    {
     "name": "stdout",
     "output_type": "stream",
     "text": [
      "{0, 1, 2, 3, 4}\n",
      "{1, 2, 3}\n"
     ]
    }
   ],
   "source": [
    "#创建一个空集合\n",
    "set54=set()\n",
    "#往集合中添加元素\n",
    "for i in range(5):\n",
    "    set54.add(i)\n",
    "print(set54)\n",
    "\n",
    "#定义动物和标签构成的字典\n",
    "dict57={'白猫':1,'黑猫':1,'狼狗':2,'哈巴狗':2,'小麻雀':3,'打麻雀':3}\n",
    "#把标签放在一个集合中，实现自动去重\n",
    "set55=set()\n",
    "for value in dict57.values():\n",
    "    set55.add(value)\n",
    "print(set55)   #{1, 2, 3}"
   ]
  },
  {
   "cell_type": "markdown",
   "metadata": {},
   "source": [
    "（2）删除元素"
   ]
  },
  {
   "cell_type": "code",
   "execution_count": 69,
   "metadata": {},
   "outputs": [
    {
     "name": "stdout",
     "output_type": "stream",
     "text": [
      "{0, 1, 2, 3, 4}\n",
      "set()\n"
     ]
    }
   ],
   "source": [
    "#remove删除不存在的元素，将报错，所以先判断，然后再删除\n",
    "i=10\n",
    "if i in set54:\n",
    "    set54.remove(i)\n",
    "print(set54)\n",
    "#使用discard，功能和remove一样，好处是没有的话，不会报错\n",
    "set54.discard(10)\n",
    "\n",
    "#用pop删除，在list里默认删除最后一个，在set里随机删除一个\n",
    "set54.pop()\n",
    "#清除所有元素\n",
    "set54.clear()\n",
    "print(set54)"
   ]
  },
  {
   "cell_type": "markdown",
   "metadata": {
    "collapsed": true
   },
   "source": [
    "### 5.6 列表、元组、字典和集合的异同\n",
    "请参考书中对应章节"
   ]
  },
  {
   "cell_type": "markdown",
   "metadata": {
    "collapsed": true
   },
   "source": [
    "### 5.7迭代器和生成器\n",
    "迭代器与生成器、可迭代对象之间的关系，请参考书中对应章节"
   ]
  },
  {
   "cell_type": "markdown",
   "metadata": {},
   "source": [
    "#### 5.7.1 迭代器\n",
    "用函数iter()可以把列表、元组、字典集合等对象转换为迭代器。迭代器是Python最强大的功能之一，是访问集合元素的一种方式。迭代器是一个可以记住遍历的位置的对象，迭代器对象使用next()函数，从集合的第一个元素开始访问，直到所有的元素被访问完结束。迭代器只能往前不会后退"
   ]
  },
  {
   "cell_type": "markdown",
   "metadata": {},
   "source": [
    "（1）定义一个列表"
   ]
  },
  {
   "cell_type": "code",
   "execution_count": 70,
   "metadata": {},
   "outputs": [
    {
     "name": "stdout",
     "output_type": "stream",
     "text": [
      "40 10 50 20 30 "
     ]
    }
   ],
   "source": [
    "lst51={10,20,30,40,50}\n",
    "for i in lst51:\n",
    "    print(i,end=\" \")"
   ]
  },
  {
   "cell_type": "markdown",
   "metadata": {},
   "source": [
    "（2）生成迭代器  \n",
    "对列表、元组、字典和集合，使用函数iter()，即可把转换为迭代器。"
   ]
  },
  {
   "cell_type": "code",
   "execution_count": 71,
   "metadata": {},
   "outputs": [
    {
     "name": "stdout",
     "output_type": "stream",
     "text": [
      "<class 'set_iterator'>\n"
     ]
    }
   ],
   "source": [
    "iter51=iter(lst51)\n",
    "print(type(iter51)) #set_iterator"
   ]
  },
  {
   "cell_type": "markdown",
   "metadata": {},
   "source": [
    "（3）从迭代器中取元素"
   ]
  },
  {
   "cell_type": "code",
   "execution_count": 72,
   "metadata": {},
   "outputs": [
    {
     "name": "stdout",
     "output_type": "stream",
     "text": [
      "40 10 50 20 30 "
     ]
    }
   ],
   "source": [
    "while True:\n",
    "    try:\n",
    "        print (next(iter51),end=\" \")\n",
    "    except StopIteration:\n",
    "       break"
   ]
  },
  {
   "cell_type": "markdown",
   "metadata": {},
   "source": [
    "#### 5.7.2 生成器\n",
    "从图5-1可知，生成器可分为生成器函数、生成器表达式。生成器函数第6章将介绍，这里主要介绍生成器表达式。生成器表达式是列表推倒式的生成器版本，看起来像列表推导式，但是它返回的是一个生成器对象而不是列表对象。\n",
    "\t生成器表示式与列表推导式相似，列表推导式是在中括号[]里，把中括号改为小括号()变成生成器。"
   ]
  },
  {
   "cell_type": "code",
   "execution_count": 79,
   "metadata": {},
   "outputs": [
    {
     "name": "stdout",
     "output_type": "stream",
     "text": [
      "<class 'generator'>\n",
      "1 3 5 7 9 11 13 15 17 19 "
     ]
    }
   ],
   "source": [
    "#创建一个生成器\n",
    "gen51 = (2*x+1 for x in range(10))\n",
    "print(type(gen51)) #class 'generator'\n",
    "#用for循环从生成器取数据\n",
    "for i in gen51:\n",
    "    print(i,end=\" \")"
   ]
  },
  {
   "cell_type": "markdown",
   "metadata": {},
   "source": [
    "或用next()函数，从生成器next()逐一取数据，与for循环取数效果一样"
   ]
  },
  {
   "cell_type": "code",
   "execution_count": 80,
   "metadata": {},
   "outputs": [
    {
     "name": "stdout",
     "output_type": "stream",
     "text": [
      "1 3 5 7 9 11 13 15 17 19 "
     ]
    }
   ],
   "source": [
    "#创建一个生成器\n",
    "gen51 = (2*x+1 for x in range(10))\n",
    "#从生成器中，用next()逐一取数据\n",
    "while True:\n",
    "    try:\n",
    "        print (next(gen51),end=\" \")\n",
    "    except StopIteration:\n",
    "       break"
   ]
  }
 ],
 "metadata": {
  "kernelspec": {
   "display_name": "Python 3",
   "language": "python",
   "name": "python3"
  },
  "language_info": {
   "codemirror_mode": {
    "name": "ipython",
    "version": 3
   },
   "file_extension": ".py",
   "mimetype": "text/x-python",
   "name": "python",
   "nbconvert_exporter": "python",
   "pygments_lexer": "ipython3",
   "version": "3.7.4"
  }
 },
 "nbformat": 4,
 "nbformat_minor": 2
}
