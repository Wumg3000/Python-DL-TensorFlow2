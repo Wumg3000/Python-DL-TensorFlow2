{
 "cells": [
  {
   "cell_type": "markdown",
   "metadata": {},
   "source": [
    "## 第19 章 Keras实现迁移学习\n",
    "<mark style=background-color:yellow>何为迁移学习？可用一个比喻来直观理解：迁移学习就像站在巨人的肩膀上！这个巨人肩膀就预训练模型！</mark>  \n",
    "18章我们借助一个预训练模型，对一个新图片进行分类或预测，这实际上就是一种迁移学习。\n",
    "利用迁移学习可以提高效率，增强模型的鲁棒性，在深度学习中往往能起到“四两拨千斤”的作用。本章将进一步介绍迁移学习有关概念、方法等。  \n",
    "作为特征提取器或微调预训练模型是常用2种迁移学习方法，具体介绍请参考书中对应章节。"
   ]
  },
  {
   "cell_type": "markdown",
   "metadata": {},
   "source": [
    "### 19.4实例：用keras实现迁移学习\n",
    "本例中，我们解决一个很常见的问题，即深度神经网络如何把一张图片识别为猫还是狗的。本例中使用的这个数据集可以[在Kaggle的网站](https://www.kaggle.com/tongpython/cat-and-dog)下载。\n",
    "我们以一个更小但性能还很不错的VGG16预训练模型。首先要加载预训练的VGG16，这里使用include_top=False,即不包含顶部的连接层。不用最后几个全连接层，参数就少多了。"
   ]
  },
  {
   "cell_type": "markdown",
   "metadata": {},
   "source": [
    "#### 19.4.1 下载数据"
   ]
  },
  {
   "cell_type": "code",
   "execution_count": 2,
   "metadata": {},
   "outputs": [
    {
     "name": "stdout",
     "output_type": "stream",
     "text": [
      "Model: \"vgg16\"\n",
      "_________________________________________________________________\n",
      "Layer (type)                 Output Shape              Param #   \n",
      "=================================================================\n",
      "input_1 (InputLayer)         [(None, 150, 150, 3)]     0         \n",
      "_________________________________________________________________\n",
      "block1_conv1 (Conv2D)        (None, 150, 150, 64)      1792      \n",
      "_________________________________________________________________\n",
      "block1_conv2 (Conv2D)        (None, 150, 150, 64)      36928     \n",
      "_________________________________________________________________\n",
      "block1_pool (MaxPooling2D)   (None, 75, 75, 64)        0         \n",
      "_________________________________________________________________\n",
      "block2_conv1 (Conv2D)        (None, 75, 75, 128)       73856     \n",
      "_________________________________________________________________\n",
      "block2_conv2 (Conv2D)        (None, 75, 75, 128)       147584    \n",
      "_________________________________________________________________\n",
      "block2_pool (MaxPooling2D)   (None, 37, 37, 128)       0         \n",
      "_________________________________________________________________\n",
      "block3_conv1 (Conv2D)        (None, 37, 37, 256)       295168    \n",
      "_________________________________________________________________\n",
      "block3_conv2 (Conv2D)        (None, 37, 37, 256)       590080    \n",
      "_________________________________________________________________\n",
      "block3_conv3 (Conv2D)        (None, 37, 37, 256)       590080    \n",
      "_________________________________________________________________\n",
      "block3_pool (MaxPooling2D)   (None, 18, 18, 256)       0         \n",
      "_________________________________________________________________\n",
      "block4_conv1 (Conv2D)        (None, 18, 18, 512)       1180160   \n",
      "_________________________________________________________________\n",
      "block4_conv2 (Conv2D)        (None, 18, 18, 512)       2359808   \n",
      "_________________________________________________________________\n",
      "block4_conv3 (Conv2D)        (None, 18, 18, 512)       2359808   \n",
      "_________________________________________________________________\n",
      "block4_pool (MaxPooling2D)   (None, 9, 9, 512)         0         \n",
      "_________________________________________________________________\n",
      "block5_conv1 (Conv2D)        (None, 9, 9, 512)         2359808   \n",
      "_________________________________________________________________\n",
      "block5_conv2 (Conv2D)        (None, 9, 9, 512)         2359808   \n",
      "_________________________________________________________________\n",
      "block5_conv3 (Conv2D)        (None, 9, 9, 512)         2359808   \n",
      "_________________________________________________________________\n",
      "block5_pool (MaxPooling2D)   (None, 4, 4, 512)         0         \n",
      "=================================================================\n",
      "Total params: 14,714,688\n",
      "Trainable params: 14,714,688\n",
      "Non-trainable params: 0\n",
      "_________________________________________________________________\n"
     ]
    }
   ],
   "source": [
    "#导入applications模块，这个模块中vgg包含了根据ImageNet预训练权重模型\n",
    "from tensorflow.keras import applications\n",
    "#使用include_top=False，仅加载具有分类作用的卷积部分，不包含主要承担分类作用的全连接层\n",
    "img_width, img_height = 150, 150\n",
    "model = applications.VGG16(weights = \"imagenet\", include_top=False, input_shape = (img_width, img_height, 3))\n",
    "\n",
    "#查看模型结构\n",
    "model.summary()\n",
    "\n"
   ]
  },
  {
   "cell_type": "markdown",
   "metadata": {},
   "source": [
    "#### 19.4.2 冻结不更新的层"
   ]
  },
  {
   "cell_type": "code",
   "execution_count": 3,
   "metadata": {},
   "outputs": [],
   "source": [
    "# 固定住不准备进一步训练的神经层. 这里我们先固定前100层。\n",
    "for layer in model.layers[:11]:\n",
    "    layer.trainable = False\n"
   ]
  },
  {
   "cell_type": "markdown",
   "metadata": {},
   "source": [
    "接下来，我们就可以构造模型中所需要的全连接层了，新构造的连接层在新的任务（例如本例中的分类任务）中将主要承担分类作用。"
   ]
  },
  {
   "cell_type": "markdown",
   "metadata": {},
   "source": [
    "#### 19.4.3 导入需要的模块"
   ]
  },
  {
   "cell_type": "code",
   "execution_count": 4,
   "metadata": {},
   "outputs": [],
   "source": [
    "#导入需要的各个函数和模块\n",
    "from tensorflow.keras.models import Sequential, Model \n",
    "from tensorflow.keras.layers import Dropout, Flatten, Dense, GlobalAveragePooling2D,BatchNormalization,Activation"
   ]
  },
  {
   "cell_type": "markdown",
   "metadata": {},
   "source": [
    "#### 19.4.4 添加一些层"
   ]
  },
  {
   "cell_type": "code",
   "execution_count": 5,
   "metadata": {},
   "outputs": [],
   "source": [
    "#添加全连接层，构建新的分类器\n",
    "#注意到VGG16的第11层，即block3_pool，是一个具有256个通道的特征层，我们这里对其中的神经元重新排列，以便后面添加全连接层。\n",
    "x = model.output\n",
    "x = Flatten()(x)\n",
    "\n",
    "#添加两个全连接隐藏层\n",
    "x = Dense(4096, activation=\"relu\")(x)\n",
    "x = Dense(1024, activation=\"relu\")(x)\n",
    "\n",
    "#输出层，使用softmax\n",
    "predictions = Dense(1, activation=\"sigmoid\")(x)\n",
    "\n",
    "#完成整个网络模型\n",
    "model_final = Model(inputs = model.input, outputs = predictions)"
   ]
  },
  {
   "cell_type": "code",
   "execution_count": 6,
   "metadata": {},
   "outputs": [
    {
     "name": "stdout",
     "output_type": "stream",
     "text": [
      "Model: \"model\"\n",
      "_________________________________________________________________\n",
      "Layer (type)                 Output Shape              Param #   \n",
      "=================================================================\n",
      "input_1 (InputLayer)         [(None, 150, 150, 3)]     0         \n",
      "_________________________________________________________________\n",
      "block1_conv1 (Conv2D)        (None, 150, 150, 64)      1792      \n",
      "_________________________________________________________________\n",
      "block1_conv2 (Conv2D)        (None, 150, 150, 64)      36928     \n",
      "_________________________________________________________________\n",
      "block1_pool (MaxPooling2D)   (None, 75, 75, 64)        0         \n",
      "_________________________________________________________________\n",
      "block2_conv1 (Conv2D)        (None, 75, 75, 128)       73856     \n",
      "_________________________________________________________________\n",
      "block2_conv2 (Conv2D)        (None, 75, 75, 128)       147584    \n",
      "_________________________________________________________________\n",
      "block2_pool (MaxPooling2D)   (None, 37, 37, 128)       0         \n",
      "_________________________________________________________________\n",
      "block3_conv1 (Conv2D)        (None, 37, 37, 256)       295168    \n",
      "_________________________________________________________________\n",
      "block3_conv2 (Conv2D)        (None, 37, 37, 256)       590080    \n",
      "_________________________________________________________________\n",
      "block3_conv3 (Conv2D)        (None, 37, 37, 256)       590080    \n",
      "_________________________________________________________________\n",
      "block3_pool (MaxPooling2D)   (None, 18, 18, 256)       0         \n",
      "_________________________________________________________________\n",
      "block4_conv1 (Conv2D)        (None, 18, 18, 512)       1180160   \n",
      "_________________________________________________________________\n",
      "block4_conv2 (Conv2D)        (None, 18, 18, 512)       2359808   \n",
      "_________________________________________________________________\n",
      "block4_conv3 (Conv2D)        (None, 18, 18, 512)       2359808   \n",
      "_________________________________________________________________\n",
      "block4_pool (MaxPooling2D)   (None, 9, 9, 512)         0         \n",
      "_________________________________________________________________\n",
      "block5_conv1 (Conv2D)        (None, 9, 9, 512)         2359808   \n",
      "_________________________________________________________________\n",
      "block5_conv2 (Conv2D)        (None, 9, 9, 512)         2359808   \n",
      "_________________________________________________________________\n",
      "block5_conv3 (Conv2D)        (None, 9, 9, 512)         2359808   \n",
      "_________________________________________________________________\n",
      "block5_pool (MaxPooling2D)   (None, 4, 4, 512)         0         \n",
      "_________________________________________________________________\n",
      "flatten (Flatten)            (None, 8192)              0         \n",
      "_________________________________________________________________\n",
      "dense (Dense)                (None, 4096)              33558528  \n",
      "_________________________________________________________________\n",
      "dense_1 (Dense)              (None, 1024)              4195328   \n",
      "_________________________________________________________________\n",
      "dense_2 (Dense)              (None, 1)                 1025      \n",
      "=================================================================\n",
      "Total params: 52,469,569\n",
      "Trainable params: 50,734,081\n",
      "Non-trainable params: 1,735,488\n",
      "_________________________________________________________________\n"
     ]
    }
   ],
   "source": [
    "#完成整个网络模型\n",
    "model_final.summary()"
   ]
  },
  {
   "cell_type": "markdown",
   "metadata": {},
   "source": [
    "#### 19.4.5 编译损失函数"
   ]
  },
  {
   "cell_type": "code",
   "execution_count": 7,
   "metadata": {},
   "outputs": [],
   "source": [
    "# 编译模型，因是2分类，故可简化为binary，对应的损失函数可选择binary_crossentropy\n",
    "from tensorflow.keras import optimizers\n",
    "model_final.compile(loss = \"binary_crossentropy\", optimizer = optimizers.SGD(lr=0.0001, momentum=0.9), metrics=[\"accuracy\"])"
   ]
  },
  {
   "cell_type": "markdown",
   "metadata": {},
   "source": [
    "#### 19.4.6 图像增强\n",
    "（1）定义图像增强方法"
   ]
  },
  {
   "cell_type": "code",
   "execution_count": 8,
   "metadata": {},
   "outputs": [],
   "source": [
    "# 初始化训练集和测试集，并使用图像增强方法\n",
    "from tensorflow.keras.preprocessing.image import ImageDataGenerator\n",
    "train_datagen = ImageDataGenerator(\n",
    "rescale = 1./255,\n",
    "horizontal_flip = True,\n",
    "fill_mode = \"nearest\",\n",
    "zoom_range = 0.3,\n",
    "width_shift_range = 0.3,\n",
    "height_shift_range=0.3,\n",
    "rotation_range=30)\n",
    "\n",
    "test_datagen = ImageDataGenerator(rescale = 1./255)  "
   ]
  },
  {
   "cell_type": "markdown",
   "metadata": {},
   "source": [
    "<mark style=background-color:yellow>Keras的ImageDataGenerator对象，用于图像的数据增强，随机平移，旋转，调整大小等。\n",
    "执行数据增强是正则化的一种形式，使我们的模型能够更好的被泛化。更多信息可[查看keras官网](https://keras.io/zh/preprocessing/image/)</mark>  "
   ]
  },
  {
   "cell_type": "markdown",
   "metadata": {},
   "source": [
    "（2）导入数据"
   ]
  },
  {
   "cell_type": "code",
   "execution_count": 9,
   "metadata": {},
   "outputs": [
    {
     "name": "stdout",
     "output_type": "stream",
     "text": [
      "Found 2000 images belonging to 2 classes.\n",
      "Found 1000 images belonging to 2 classes.\n"
     ]
    }
   ],
   "source": [
    "#指定数据文件位置等\n",
    "train_data_dir = '../data/cats_and_dogs_small/train'\n",
    "validation_data_dir = '../data/cats_and_dogs_small/validation'\n",
    "test_data_dir = '../data/cats_and_dogs_small/test'\n",
    "batch_size = 20\n",
    "epochs = 50\n",
    "\n",
    "#使用flow_from_directory方法产生数据\n",
    "train_generator = train_datagen.flow_from_directory(\n",
    "train_data_dir,\n",
    "target_size = (img_height, img_width),\n",
    "batch_size = batch_size, \n",
    "class_mode = \"binary\")\n",
    "#使用flow_from_directory方法产生数据\n",
    "validation_generator = test_datagen.flow_from_directory(\n",
    "validation_data_dir,\n",
    "target_size = (img_height, img_width),\n",
    "class_mode = \"binary\"  #因只有两类，故可设置为binary\n",
    ")\n"
   ]
  },
  {
   "cell_type": "markdown",
   "metadata": {},
   "source": [
    "#### 19.4.7 训练模型\n",
    "根据预设条件，读取数据并开始训练模型，可以把训练过程保存在变量中以便于后期查看训练历史等。"
   ]
  },
  {
   "cell_type": "code",
   "execution_count": 9,
   "metadata": {},
   "outputs": [
    {
     "name": "stdout",
     "output_type": "stream",
     "text": [
      "Epoch 1/30\n",
      "100/100 [==============================] - 49s 492ms/step - loss: 0.6660 - accuracy: 0.5995 - val_loss: 0.6048 - val_accuracy: 0.7843\n",
      "Epoch 2/30\n",
      "100/100 [==============================] - 41s 409ms/step - loss: 0.5316 - accuracy: 0.7525 - val_loss: 0.3821 - val_accuracy: 0.7996\n",
      "Epoch 3/30\n",
      "100/100 [==============================] - 41s 414ms/step - loss: 0.4182 - accuracy: 0.8125 - val_loss: 0.3372 - val_accuracy: 0.8915\n",
      "Epoch 4/30\n",
      "100/100 [==============================] - 42s 417ms/step - loss: 0.3766 - accuracy: 0.8300 - val_loss: 0.4188 - val_accuracy: 0.9001\n",
      "Epoch 5/30\n",
      "100/100 [==============================] - 42s 418ms/step - loss: 0.3235 - accuracy: 0.8650 - val_loss: 0.0511 - val_accuracy: 0.9169\n",
      "Epoch 6/30\n",
      "100/100 [==============================] - 42s 416ms/step - loss: 0.2838 - accuracy: 0.8735 - val_loss: 0.1546 - val_accuracy: 0.9207\n",
      "Epoch 7/30\n",
      "100/100 [==============================] - 42s 417ms/step - loss: 0.2658 - accuracy: 0.8845 - val_loss: 0.1550 - val_accuracy: 0.9334\n",
      "Epoch 8/30\n",
      "100/100 [==============================] - 42s 417ms/step - loss: 0.2578 - accuracy: 0.8955 - val_loss: 0.0899 - val_accuracy: 0.9046\n",
      "Epoch 9/30\n",
      "100/100 [==============================] - 42s 418ms/step - loss: 0.2412 - accuracy: 0.9025 - val_loss: 0.0943 - val_accuracy: 0.9311\n",
      "Epoch 10/30\n",
      "100/100 [==============================] - 42s 419ms/step - loss: 0.2331 - accuracy: 0.9055 - val_loss: 0.3191 - val_accuracy: 0.9302\n",
      "Epoch 11/30\n",
      "100/100 [==============================] - 42s 418ms/step - loss: 0.2414 - accuracy: 0.9045 - val_loss: 0.3371 - val_accuracy: 0.9336\n",
      "Epoch 12/30\n",
      "100/100 [==============================] - 42s 418ms/step - loss: 0.2135 - accuracy: 0.9175 - val_loss: 0.1964 - val_accuracy: 0.9162\n",
      "Epoch 13/30\n",
      "100/100 [==============================] - 42s 420ms/step - loss: 0.2049 - accuracy: 0.9160 - val_loss: 0.2259 - val_accuracy: 0.9439\n",
      "Epoch 14/30\n",
      "100/100 [==============================] - 42s 419ms/step - loss: 0.2105 - accuracy: 0.9170 - val_loss: 0.3202 - val_accuracy: 0.9511\n",
      "Epoch 15/30\n",
      "100/100 [==============================] - 42s 418ms/step - loss: 0.1927 - accuracy: 0.9255 - val_loss: 0.3065 - val_accuracy: 0.9485\n",
      "Epoch 16/30\n",
      "100/100 [==============================] - 42s 419ms/step - loss: 0.1900 - accuracy: 0.9265 - val_loss: 0.0797 - val_accuracy: 0.9091\n",
      "Epoch 17/30\n",
      "100/100 [==============================] - 42s 420ms/step - loss: 0.1875 - accuracy: 0.9185 - val_loss: 0.1602 - val_accuracy: 0.9518\n",
      "Epoch 18/30\n",
      "100/100 [==============================] - 42s 421ms/step - loss: 0.1653 - accuracy: 0.9280 - val_loss: 0.0849 - val_accuracy: 0.9446\n",
      "Epoch 19/30\n",
      "100/100 [==============================] - 42s 421ms/step - loss: 0.1487 - accuracy: 0.9405 - val_loss: 0.0525 - val_accuracy: 0.9511\n",
      "Epoch 20/30\n",
      "100/100 [==============================] - 42s 418ms/step - loss: 0.1575 - accuracy: 0.9385 - val_loss: 0.0432 - val_accuracy: 0.9485\n",
      "Epoch 21/30\n",
      "100/100 [==============================] - 42s 419ms/step - loss: 0.1505 - accuracy: 0.9440 - val_loss: 0.1287 - val_accuracy: 0.9353\n",
      "Epoch 22/30\n",
      "100/100 [==============================] - 42s 420ms/step - loss: 0.1569 - accuracy: 0.9365 - val_loss: 0.2784 - val_accuracy: 0.9491\n",
      "Epoch 23/30\n",
      "100/100 [==============================] - 42s 419ms/step - loss: 0.1480 - accuracy: 0.9350 - val_loss: 0.2479 - val_accuracy: 0.9492\n",
      "Epoch 24/30\n",
      "100/100 [==============================] - 42s 418ms/step - loss: 0.1469 - accuracy: 0.9420 - val_loss: 0.0676 - val_accuracy: 0.9543\n",
      "Epoch 25/30\n",
      "100/100 [==============================] - 42s 418ms/step - loss: 0.1419 - accuracy: 0.9450 - val_loss: 0.0522 - val_accuracy: 0.9575\n",
      "Epoch 26/30\n",
      "100/100 [==============================] - 42s 419ms/step - loss: 0.1196 - accuracy: 0.9495 - val_loss: 0.0591 - val_accuracy: 0.9569\n",
      "Epoch 27/30\n",
      "100/100 [==============================] - 42s 419ms/step - loss: 0.1421 - accuracy: 0.9355 - val_loss: 0.1266 - val_accuracy: 0.9536\n",
      "Epoch 28/30\n",
      "100/100 [==============================] - 42s 419ms/step - loss: 0.1247 - accuracy: 0.9455 - val_loss: 0.0490 - val_accuracy: 0.9518\n",
      "Epoch 29/30\n",
      "100/100 [==============================] - 42s 418ms/step - loss: 0.1287 - accuracy: 0.9485 - val_loss: 0.0834 - val_accuracy: 0.9465\n",
      "Epoch 30/30\n",
      "100/100 [==============================] - 42s 419ms/step - loss: 0.1071 - accuracy: 0.9575 - val_loss: 0.2747 - val_accuracy: 0.9340\n"
     ]
    }
   ],
   "source": [
    "# 训练模型\n",
    "fit_history = model_final.fit_generator(\n",
    "train_generator,\n",
    "steps_per_epoch = 100,\n",
    "epochs = 30,\n",
    "validation_data = validation_generator,\n",
    "validation_steps = 50)\n",
    "#callbacks = [checkpoint, early])"
   ]
  },
  {
   "cell_type": "code",
   "execution_count": 10,
   "metadata": {},
   "outputs": [
    {
     "data": {
      "image/png": "[encoded data removed]",
      "text/plain": [
       "<Figure size 1080x576 with 2 Axes>"
      ]
     },
     "metadata": {
      "needs_background": "light"
     },
     "output_type": "display_data"
    }
   ],
   "source": [
    "#可视化训练过程\n",
    "import matplotlib.pyplot as plt\n",
    "%matplotlib inline\n",
    "\n",
    "plt.figure(1, figsize = (15,8)) \n",
    "\n",
    "plt.subplot(221)  \n",
    "plt.plot(fit_history.history['accuracy'])  \n",
    "plt.plot(fit_history.history['val_accuracy'])  \n",
    "plt.title('model accuracy')  \n",
    "plt.ylabel('accuracy')  \n",
    "plt.xlabel('epoch')  \n",
    "plt.legend(['train', 'valid']) \n",
    "\n",
    "plt.subplot(222)  \n",
    "plt.plot(fit_history.history['loss'])  \n",
    "plt.plot(fit_history.history['val_loss'])  \n",
    "plt.title('model loss')  \n",
    "plt.ylabel('loss')  \n",
    "plt.xlabel('epoch')  \n",
    "plt.legend(['train', 'valid']) \n",
    "\n",
    "plt.show()"
   ]
  },
  {
   "cell_type": "markdown",
   "metadata": {},
   "source": [
    "测试结果"
   ]
  },
  {
   "cell_type": "code",
   "execution_count": 14,
   "metadata": {},
   "outputs": [
    {
     "name": "stdout",
     "output_type": "stream",
     "text": [
      "Found 1000 images belonging to 2 classes.\n",
      "test acc: 0.9380000233650208\n"
     ]
    }
   ],
   "source": [
    "test_generator = test_datagen.flow_from_directory(\n",
    "        test_data_dir,\n",
    "        target_size=(150, 150),\n",
    "        batch_size=20,\n",
    "        class_mode='binary')\n",
    "\n",
    "test_loss, test_acc = model_final.evaluate_generator(test_generator, steps=50)\n",
    "print('test acc:', test_acc)\n"
   ]
  },
  {
   "cell_type": "markdown",
   "metadata": {},
   "source": [
    "我们得到一个94%左右的精度，还不错，但还有提升空间，这里只迭代30次（即epochs=30），大家可用通过增加迭代次数（epochs）等方法提升模型性能。"
   ]
  },
  {
   "cell_type": "markdown",
   "metadata": {},
   "source": [
    "<mark style=background-color:red>延伸一下</mark>    \n",
    "fit和fit_generator的区别  \n",
    "（1）Keras中的fit()函数传入的x_train和y_train是被完整的加载进内存的,当然用起来很方便，但是如果我们数据量很大，那么是不可能将所有数据载入内存的，必将导致内存泄漏，这时候我们可以用fit_generator函数来进行训练。\n",
    "fit的一般格式为："
   ]
  },
  {
   "cell_type": "markdown",
   "metadata": {},
   "source": [
    "history = model.fit(x_train, y_train, epochs=10,batch_size=32, \n",
    "                    validation_split=0.2)"
   ]
  },
  {
   "cell_type": "markdown",
   "metadata": {},
   "source": [
    "（2）fit_generator函数必须传入一个生成器，我们的训练数据也是通过生成器产生的，下面给出一个简单的生成器函数，其一般格式为："
   ]
  },
  {
   "cell_type": "raw",
   "metadata": {},
   "source": [
    "history = model.fit_generator(generator(),epochs=epochs,steps_per_epoch=len(x_train)//(batch_size*epochs))"
   ]
  },
  {
   "cell_type": "markdown",
   "metadata": {},
   "source": [
    "（3）在调用.fit_generator时提供steps_per_epoch参数（.fit方法没有这样的参数）。该值作为划分一个epoch的依据，该值一般设置为训练数据的总数除以批量大小与epochs的乘积。"
   ]
  },
  {
   "cell_type": "code",
   "execution_count": null,
   "metadata": {},
   "outputs": [],
   "source": []
  }
 ],
 "metadata": {
  "kernelspec": {
   "display_name": "Python 3",
   "language": "python",
   "name": "python3"
  },
  "language_info": {
   "codemirror_mode": {
    "name": "ipython",
    "version": 3
   },
   "file_extension": ".py",
   "mimetype": "text/x-python",
   "name": "python",
   "nbconvert_exporter": "python",
   "pygments_lexer": "ipython3",
   "version": "3.7.4"
  }
 },
 "nbformat": 4,
 "nbformat_minor": 2
}
