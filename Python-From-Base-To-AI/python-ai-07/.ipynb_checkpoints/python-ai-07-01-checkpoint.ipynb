{
 "cells": [
  {
   "cell_type": "markdown",
   "metadata": {},
   "source": [
    "## 第7章  面向对象编程\n",
    "### 7.2 类与实例\n",
    "\t在面向对象编程中，首先编写类，然后，基于类创建实例对象，并根据需要给每个对象一些其它特性。\n",
    "#### 7.2.1 创建类\n",
    "    创建类的格式如下："
   ]
  },
  {
   "cell_type": "raw",
   "metadata": {},
   "source": [
    "class class_name：\n",
    "    '''类的帮助信息'''  #类文档字符串\n",
    "    statement           #类体\n"
   ]
  },
  {
   "cell_type": "markdown",
   "metadata": {},
   "source": [
    "定义类无需def关键字，类名后也无需小括号(),如果要继承其它类，要添加小括号，类的继承后面将介绍。下面以创建表示人的类，它保存人的基本信息及使用这些信息的方法。为增加类名的可读性，一般采用驼峰方法（如Person、FirstName、LastName）。"
   ]
  },
  {
   "cell_type": "code",
   "execution_count": 35,
   "metadata": {
    "collapsed": true
   },
   "outputs": [],
   "source": [
    "#创建一个表示人的类\n",
    "class  Person:\n",
    "    '''表示人的基本信息'''\n",
    "    #定义类的构造函数，初始化类的基本信息\n",
    "    def __init__(self,name,age):\n",
    "        self.name= name\n",
    "        self.age=age\n",
    "    def display(self):\n",
    "        print(\"person(姓名:{},年龄:{})\".format(self.name,self.age))"
   ]
  },
  {
   "cell_type": "markdown",
   "metadata": {},
   "source": [
    "#### 7.2.2 创建类的实例"
   ]
  },
  {
   "cell_type": "code",
   "execution_count": 36,
   "metadata": {
    "collapsed": true
   },
   "outputs": [],
   "source": [
    "p1=Person(\"李白\",28)"
   ]
  },
  {
   "cell_type": "markdown",
   "metadata": {},
   "source": [
    "根据类Person创建实例p1，使用实参\"李白\",28调用方法__init__()。访问实例中的方法或属性，使用实例名加句点的方法即可，比如方法name属性及display()方法。"
   ]
  },
  {
   "cell_type": "code",
   "execution_count": 38,
   "metadata": {},
   "outputs": [
    {
     "data": {
      "text/plain": [
       "'李白'"
      ]
     },
     "execution_count": 38,
     "metadata": {},
     "output_type": "execute_result"
    }
   ],
   "source": [
    "p1.name #'李白'"
   ]
  },
  {
   "cell_type": "code",
   "execution_count": 39,
   "metadata": {},
   "outputs": [
    {
     "name": "stdout",
     "output_type": "stream",
     "text": [
      "person(姓名:李白,年龄:28)\n"
     ]
    }
   ],
   "source": [
    "p1.display()  #person(姓名:李白,年龄:28)"
   ]
  },
  {
   "cell_type": "markdown",
   "metadata": {},
   "source": [
    "根据实参可以创建不同的实例"
   ]
  },
  {
   "cell_type": "code",
   "execution_count": 42,
   "metadata": {},
   "outputs": [
    {
     "name": "stdout",
     "output_type": "stream",
     "text": [
      "欧阳修\n",
      "30\n",
      "person(姓名:欧阳修,年龄:30)\n"
     ]
    }
   ],
   "source": [
    "p2=Person(\"欧阳修\",30)\n",
    "print(p2.name)\n",
    "print(p2.age)\n",
    "p2.display()"
   ]
  },
  {
   "cell_type": "markdown",
   "metadata": {},
   "source": [
    "#### 7.2.3 访问属性   \n",
    "（1）创建类  \n",
    "在类Person定义一个类属性pernum，如下列代码"
   ]
  },
  {
   "cell_type": "code",
   "execution_count": 1,
   "metadata": {},
   "outputs": [],
   "source": [
    "#创建一个表示人的类\n",
    "class  Person:\n",
    "    '''表示人的基本信息'''\n",
    "    pernum=0   #类属性\n",
    "    #定义类的构造函数，初始化类的基本信息\n",
    "    def __init__(self,name,age):\n",
    "        self.name= name\n",
    "        self.age=age\n",
    "        Person.pernum+=1\n",
    "    def display(self):\n",
    "        print(\"person(姓名:{},年龄:{})\".format(self.name,self.age))\n",
    "    def display_pernum(self):\n",
    "        print(Person.pernum)"
   ]
  },
  {
   "cell_type": "markdown",
   "metadata": {},
   "source": [
    "（2）实例化并访问类属性和实例属性"
   ]
  },
  {
   "cell_type": "code",
   "execution_count": 4,
   "metadata": {},
   "outputs": [
    {
     "name": "stdout",
     "output_type": "stream",
     "text": [
      "1\n",
      "1\n",
      "2\n",
      "2\n",
      "2\n"
     ]
    }
   ],
   "source": [
    "p3=Person(\"杜甫\",32)\n",
    "print(p3.pernum)\n",
    "p3.display_pernum()\n",
    "p4=Person(\"王安石\",42)\n",
    "print(Person.pernum)\n",
    "print(p4.pernum)\n",
    "p4.display_pernum()"
   ]
  },
  {
   "cell_type": "markdown",
   "metadata": {},
   "source": [
    "#### 7.2.4 访问限制"
   ]
  },
  {
   "cell_type": "markdown",
   "metadata": {},
   "source": [
    "类Person中pernum是类的属性，因各实例都可访问,又称为类的公有属性，公有属性各实例可以访问，也可以修改。如下例"
   ]
  },
  {
   "cell_type": "code",
   "execution_count": 5,
   "metadata": {},
   "outputs": [
    {
     "name": "stdout",
     "output_type": "stream",
     "text": [
      "10\n"
     ]
    }
   ],
   "source": [
    "p4.pernum=10\n",
    "print(p4.pernum)  #10\n"
   ]
  },
  {
   "cell_type": "markdown",
   "metadata": {},
   "source": [
    "这样对一些属性就不安全了，为了提高一些类属性或实例属性的安全级别，可以设置私有属性，只要命名时，加上两个下划线为前缀即可，<mark style=background-color:yellow>如:__percount。</mark>  私有属性只能在类内部访问，实例不能访问。"
   ]
  },
  {
   "cell_type": "code",
   "execution_count": 6,
   "metadata": {},
   "outputs": [],
   "source": [
    "#创建一个表示人的类\n",
    "class  Person:\n",
    "    '''表示人的基本信息'''\n",
    "    pernum=0   #类属性\n",
    "    __percount=1000  #定义类的私有属性\n",
    "    \n",
    "    #定义类的构造函数，初始化类的基本信息\n",
    "    def __init__(self,name,age):\n",
    "        self.name= name\n",
    "        self.age=age\n",
    "        Person.pernum+=1\n",
    "        self.__pwd=123456   ##实例私有属性\n",
    "    def display(self):\n",
    "        print(\"person(姓名:{},年龄:{})\".format(self.name,self.age))\n",
    "    def display_pernum(self):\n",
    "        print(Person.pernum)    "
   ]
  },
  {
   "cell_type": "code",
   "execution_count": 7,
   "metadata": {},
   "outputs": [],
   "source": [
    "p5=Person(\"韩愈\",36)"
   ]
  },
  {
   "attachments": {
    "image.png": {
     "image/png": "[encoded data removed]"
    }
   },
   "cell_type": "markdown",
   "metadata": {},
   "source": [
    "通过实p5能看到的对象，类的私有属性__percount、实例的私有属性__pwd只能在类的内部使用，实例及类的外部不能访问或看到，请看下图：\n",
    "![image.png](attachment:image.png)\n",
    "\n",
    "。"
   ]
  },
  {
   "attachments": {
    "image.png": {
     "image/png": "[encoded data removed]"
    }
   },
   "cell_type": "markdown",
   "metadata": {},
   "source": [
    "<mark style=background-color:red>延伸一下</mark>  \n",
    "类的初始化函数\\__init__,非常重要，是Python魔法方法之一（还有、\\__len__,\\__getitem__,\\__str__等等），Python解释器在相应场景下自动执行魔法方法，这里以\\__init__为例，用下图说明一下其工作机制。\n",
    "![image.png](attachment:image.png)"
   ]
  },
  {
   "cell_type": "markdown",
   "metadata": {
    "collapsed": true
   },
   "source": [
    "#### 7.2.5 内置装饰器 @property\n",
    "利用Python内置的装饰器@property，可以使方法变为属性，调用方法时，可不带小括号了。加上装饰器@property还可以把私有属性变为只读。如下例代码"
   ]
  },
  {
   "cell_type": "code",
   "execution_count": 9,
   "metadata": {},
   "outputs": [],
   "source": [
    "class  Person:\n",
    "    '''表示人的基本信息'''\n",
    "    pernum=0   #类属性\n",
    "    __percount=1000  #定义类的私有属性\n",
    "    \n",
    "    #定义类的构造函数，初始化类的基本信息\n",
    "    def __init__(self,name,age):\n",
    "        self.name= name\n",
    "        self.age=age\n",
    "        Person.pernum+=1\n",
    "        self.__pwd=123456   ##实例私有属性\n",
    "    def display(self):\n",
    "        print(\"person(姓名:{},年龄:{})\".format(self.name,self.age))\n",
    "    #通过添加装饰器，把方法变为属性    \n",
    "    @property    \n",
    "    def display_pernum(self):\n",
    "        print(Person.pernum) \n",
    "    #通过添加装饰器，把私有属性变为只读属性\n",
    "    @property\n",
    "    def display_percount(self):\n",
    "        return Person.__percount"
   ]
  },
  {
   "cell_type": "code",
   "execution_count": 12,
   "metadata": {},
   "outputs": [
    {
     "name": "stdout",
     "output_type": "stream",
     "text": [
      "2\n"
     ]
    },
    {
     "data": {
      "text/plain": [
       "1000"
      ]
     },
     "execution_count": 12,
     "metadata": {},
     "output_type": "execute_result"
    }
   ],
   "source": [
    "p6=Person(\"苏轼\",43)\n",
    "#调用方法，转换为调用属性一样\n",
    "p6.display_pernum  #1\n",
    "#访问私有属性，但不能修改\n",
    "p6.display_percount  #1000\n"
   ]
  },
  {
   "cell_type": "markdown",
   "metadata": {},
   "source": [
    "有关Python的内置属性（@property）的更多学习，大家可参考：\n",
    "[廖雪峰的使用@property](https://www.kancloud.cn/smilesb101/python3_x/297933)"
   ]
  },
  {
   "cell_type": "markdown",
   "metadata": {},
   "source": [
    "### 7.3 继承\n",
    "创建类时，如果其中部分属性和方法与其它已有类相同，可使用继承。一个继承另一个类时，它将自动继承另一个类的所有属性和方法（除私有属性和方法）。原有的类称为父类，而新类称为子类，子类继承父类的所有属性和方法，也可以有自己的属性和方法，也可修改原来类中的方法。"
   ]
  },
  {
   "cell_type": "markdown",
   "metadata": {
    "collapsed": true
   },
   "source": [
    "#### 7.3.1 使用super方法\n",
    "这里我们新建一个类Student，它继承Person类。子类继承父类属性和方法，但如果重写父类方法，父类方法不会执行，\n",
    "如果要让执行父类方法，可以采用super（）.父类方法（或父类.方法，这种方法不建议使用）  \n",
    "对于父类的魔法方法\\__init__同样如此，为了调用父类的初始化方法\\__init__,使用super(subclass,sefl).\\__init__()或super().\\__init__()即可。"
   ]
  },
  {
   "cell_type": "code",
   "execution_count": null,
   "metadata": {},
   "outputs": [],
   "source": [
    "class  Student(Person):\n",
    "    '''表示学生的基本信息，继承Person类'''\n",
    "      \n",
    "    #定义类的构造函数，初始化类的基本信息\n",
    "    def __init__(self,name,age,university):\n",
    "        super(Student,self).__init__(name,age)\n",
    "        self.university=university        \n",
    "    def display(self):\n",
    "        print(\"Student(姓名:{},年龄:{},所在大学:{})\".format(self.name,self.age,self.university))\n"
   ]
  },
  {
   "cell_type": "markdown",
   "metadata": {},
   "source": [
    "定义子类Student时，必须在括号里指明父类。子类继承父类的所有属性和方法，当然也包括父类的构造方法:__init__()。为继承父类中构造方法，这里使用了特殊函数super()，该函数将父类和子类关联起来。子类的构造方法中需包括父类的对应参数：name、age，另外子类新增一个形参：university。  \n",
    "\t实例化子类，并调用display方法。\n"
   ]
  },
  {
   "cell_type": "code",
   "execution_count": 19,
   "metadata": {},
   "outputs": [
    {
     "name": "stdout",
     "output_type": "stream",
     "text": [
      "Student(姓名:江东,年龄:23,所在大学:北京大学)\n"
     ]
    }
   ],
   "source": [
    "#实例化子类\n",
    "s1=Student(\"江东\",23,\"北京大学\")\n",
    "#显示实例属性\n",
    "s1.university   #'北京大学'\n",
    "#调用方法\n",
    "s1.display() #Student(姓名:江东,年龄:23,所在大学:北京大学)"
   ]
  },
  {
   "cell_type": "markdown",
   "metadata": {},
   "source": [
    "#### 7.3.2 重写父类方法  \n",
    "子类继承父类所有方法，根据实际需要，子类也可修改父类方法，方法名不变，可修改形参及方法内容等。如Student子类中，重写父类中的display()方法。"
   ]
  },
  {
   "cell_type": "code",
   "execution_count": 22,
   "metadata": {},
   "outputs": [],
   "source": [
    "def display(self):\n",
    "        print(\"Student(姓名:{},年龄:{},所在大学:{})\".format(self.name,self.age,self.university))\n"
   ]
  },
  {
   "cell_type": "markdown",
   "metadata": {},
   "source": [
    "<mark style=background-color:red>延伸一下</mark>  \n",
    "super()表示父类（更严格来说表示执行MRO顺序中的下一个类），在子类继承问题，尤其继承父类构造函数时，经常使用。为了帮助大家进一步了解super(),这里我们进一步拓展一下。  \n",
    "super()有以下特点：  \n",
    "（1）更优雅地表示父类(或执行MRO顺序中的下一个类，执行顺序可通过类名.mro()查看)；  \n",
    "（2）可避免重复调用  \n",
    "以下通过实例进行说明"
   ]
  },
  {
   "cell_type": "markdown",
   "metadata": {},
   "source": [
    "（1）父类不会自动调用\\__init__方法"
   ]
  },
  {
   "cell_type": "code",
   "execution_count": 23,
   "metadata": {},
   "outputs": [
    {
     "name": "stdout",
     "output_type": "stream",
     "text": [
      "init B\n"
     ]
    }
   ],
   "source": [
    "class A:\n",
    "    def __init__(self,a):\n",
    "        A = 'A'\n",
    "        self.a = a\n",
    "        print('init A')\n",
    "        \n",
    "class B(A):\n",
    "    def __init__(self,b):\n",
    "        self.b = b\n",
    "        print('init B')\n",
    "\n",
    "b = B('python')"
   ]
  },
  {
   "cell_type": "markdown",
   "metadata": {},
   "source": [
    "由上面的运行结果可知，因子类重写了父类方法（\\__init__()），所以父类构造函数没有执行，只是执行了子类构造。如何使子类实例化时，同时执行父类的构造函数？在子类中使用super()即可，具体实现代码如下："
   ]
  },
  {
   "cell_type": "markdown",
   "metadata": {},
   "source": [
    "（2）使用super()表示父类"
   ]
  },
  {
   "cell_type": "code",
   "execution_count": 24,
   "metadata": {},
   "outputs": [
    {
     "name": "stdout",
     "output_type": "stream",
     "text": [
      "init B\n",
      "init A\n"
     ]
    }
   ],
   "source": [
    "class B(A):\n",
    "    def __init__(self,a,b):\n",
    "        super().__init__(a) #或super(B,self).__init__(a)        \n",
    "        self.b = b\n",
    "    print('init B')\n",
    "\n",
    "b = B('Python',\"keras\")"
   ]
  },
  {
   "cell_type": "markdown",
   "metadata": {},
   "source": [
    "由此可知，实例化类B时，先执行B的构造函数，然后执行基类的构造函数。"
   ]
  },
  {
   "cell_type": "markdown",
   "metadata": {},
   "source": [
    "（3）使用类名\\.__init__()可能导致重复执行"
   ]
  },
  {
   "cell_type": "code",
   "execution_count": 25,
   "metadata": {},
   "outputs": [
    {
     "name": "stdout",
     "output_type": "stream",
     "text": [
      "C.__init__\n",
      "A.__init__\n",
      "B.__init__\n",
      "A.__init__\n"
     ]
    }
   ],
   "source": [
    "class A(object):\n",
    "    def __init__(self):\n",
    "        print(\"A.__init__\")\n",
    "\n",
    "class B(A):\n",
    "    def __init__(self):\n",
    "        print(\"B.__init__\")\n",
    "        A.__init__(self)\n",
    "\n",
    "class C(B,A):\n",
    "    def __init__(self):\n",
    "        print(\"C.__init__\")\n",
    "        A.__init__(self)\n",
    "        B.__init__(self)\n",
    "\n",
    "c = C()"
   ]
  },
  {
   "cell_type": "code",
   "execution_count": null,
   "metadata": {},
   "outputs": [],
   "source": [
    "（4）使用super()可避免重复执行"
   ]
  },
  {
   "cell_type": "code",
   "execution_count": 26,
   "metadata": {},
   "outputs": [
    {
     "name": "stdout",
     "output_type": "stream",
     "text": [
      "C.__init__\n",
      "B.__init__\n",
      "A.__init__\n"
     ]
    }
   ],
   "source": [
    "class A:\n",
    "    def __init__(self):\n",
    "        print(\"A.__init__\")\n",
    "\n",
    "class B(A):\n",
    "    def __init__(self):\n",
    "        print(\"B.__init__\")\n",
    "        super(B, self).__init__()\n",
    "\n",
    "class C(B,A):\n",
    "    def __init__(self):\n",
    "        print(\"C.__init__\")\n",
    "        super(C, self).__init__()\n",
    "\n",
    "c = C()\n"
   ]
  },
  {
   "cell_type": "code",
   "execution_count": 27,
   "metadata": {},
   "outputs": [
    {
     "name": "stdout",
     "output_type": "stream",
     "text": [
      "[<class '__main__.C'>, <class '__main__.B'>, <class '__main__.A'>, <class 'object'>]\n"
     ]
    }
   ],
   "source": [
    "#这个运行结果与C.mro()的顺序一致\n",
    "print(C.mro())"
   ]
  },
  {
   "cell_type": "markdown",
   "metadata": {},
   "source": [
    "### 7.4 把类放在模块中   \n",
    "为了永久保存函数，需要把函数存放在模块中。同样，要保存类，也需要把定义类的脚本保存到模块中，使用时，根据需要导入相关内容。"
   ]
  },
  {
   "cell_type": "markdown",
   "metadata": {},
   "source": [
    "#### 7.4.1 导入类\n",
    "把定义类Person及Student的代码，保存在当前目录的文件名为class_person的py文件中。通过import语句可以导入我们需要的类或方法或属性等"
   ]
  },
  {
   "cell_type": "code",
   "execution_count": 1,
   "metadata": {},
   "outputs": [
    {
     "name": "stdout",
     "output_type": "stream",
     "text": [
      "Student(姓名:江东,年龄:23,所在大学:清华大学)\n"
     ]
    }
   ],
   "source": [
    "#导入模块中Student类\n",
    "from class_person import Student as st\n",
    "#实例化类\n",
    "s2=st(\"江东\",23,\"清华大学\")\n",
    "#调用s2中实例方法\n",
    "s2.display()   #Student(姓名:江东,年龄:23,所在大学:清华大学)"
   ]
  },
  {
   "cell_type": "markdown",
   "metadata": {},
   "source": [
    "#### 7.4.2 在一模块中导入另一个模块  \n",
    "创建名为train_class.py的主程序，存放在当前目录下，在主程序中导入模块class_person中的Student类，具体代码如下："
   ]
  },
  {
   "cell_type": "code",
   "execution_count": 2,
   "metadata": {},
   "outputs": [
    {
     "name": "stdout",
     "output_type": "stream",
     "text": [
      "输入一所大学名称: 清华大学\n",
      "Student(姓名:张华,年龄:21,所在大学:清华大学)\n"
     ]
    }
   ],
   "source": [
    "run train_class.py"
   ]
  },
  {
   "cell_type": "markdown",
   "metadata": {},
   "source": [
    "### 7.5 标准库  \n",
    "Python有很多标准库，这些库都是一些模块，要使用这些库我们只要用import或from格式把需要的库导入，这些库中有很多类或函数等，导入后，我们就可以使用这些函数或类"
   ]
  },
  {
   "cell_type": "markdown",
   "metadata": {},
   "source": [
    "#### 7.5.1 datetime  \n",
    "相关函数及功能说明请参考书中对应章节，这里只展示部分函数的使用实例。"
   ]
  },
  {
   "cell_type": "code",
   "execution_count": 3,
   "metadata": {},
   "outputs": [
    {
     "name": "stdout",
     "output_type": "stream",
     "text": [
      "2020-03-11 09:25:25.327254\n",
      "当前日期 2020-03-11\n",
      "当前时间 09:25:25.327254\n",
      "当前时间戳 1583889925.327254\n",
      "一小时前 2020-03-11 08:25:25.327254\n",
      "2017-11-20 15:23:20\n",
      "20/03/11 09:25:25\n",
      "2015-05-01 11:30:10\n"
     ]
    }
   ],
   "source": [
    "from datetime import datetime, date, time\n",
    "\n",
    "sysdate = datetime.now()\n",
    "print(sysdate)\n",
    "\n",
    "print(\"当前日期 %s\" % datetime.date(sysdate))\n",
    "print(\"当前时间 %s\" % datetime.time(sysdate))\n",
    "tmstmp = datetime.timestamp(sysdate)\n",
    "print(\"当前时间戳 %s\" % tmstmp)\n",
    "\n",
    "print(\"一小时前 %s\" % datetime.fromtimestamp(tmstmp - 3600))\n",
    "print(datetime.strptime(\"20/11/2017 15:23:20\",\"%d/%m/%Y %H:%M:%S\"))\n",
    "print(sysdate.strftime(\"%y/%m/%d %H:%M:%S\"))\n",
    "\n",
    "date1 = date(2015,5,1)\n",
    "time1 = time(11,30,10)\n",
    "print(datetime.combine(date1,time1))\n"
   ]
  },
  {
   "cell_type": "markdown",
   "metadata": {},
   "source": [
    "#### 7.5.2 math  \n",
    "相关函数及功能说明请参考书中对应章节，这里只展示部分函数的使用实例。"
   ]
  },
  {
   "cell_type": "code",
   "execution_count": 4,
   "metadata": {},
   "outputs": [
    {
     "name": "stdout",
     "output_type": "stream",
     "text": [
      "3\n",
      "-15\n",
      "4\n",
      "-4\n",
      "23.0\n",
      "9.0\n"
     ]
    }
   ],
   "source": [
    "import math\n",
    "print(math.trunc(3.9))      #结果为3\n",
    "print(math.trunc(-15.1))    #结果为-15\n",
    "\n",
    "print(math.ceil(3.14))       #结果为4\n",
    "print(math.ceil(-4.9))       #结果为-4\n",
    "\n",
    "print(math.fsum([1,2,4,16])) #结果为23.0\n",
    "print(math.fabs(-9))         #结果为9.0"
   ]
  },
  {
   "cell_type": "markdown",
   "metadata": {},
   "source": [
    "#### 7.5.3 random  \n",
    "相关函数及功能说明请参考书中对应章节，这里只展示部分函数的使用实例。"
   ]
  },
  {
   "cell_type": "code",
   "execution_count": 5,
   "metadata": {},
   "outputs": [
    {
     "name": "stdout",
     "output_type": "stream",
     "text": [
      "0.7060079957053891\n",
      "-17.889021401567188\n",
      "62\n",
      "C\n",
      "['PHP', 'C#', 'C', 'Go']\n"
     ]
    }
   ],
   "source": [
    "import random\n",
    "print(random.random()) \n",
    "print(random.uniform(-10,-20))\n",
    "print(random.randrange(100)) \n",
    "\n",
    "t = ('C','C++','Python','Go','Java','PHP','C#')\n",
    "print(random.choice(t)) \n",
    "print(random.sample(t,4))\n"
   ]
  },
  {
   "cell_type": "markdown",
   "metadata": {},
   "source": [
    "#### 7.5.4 os  \n",
    "相关函数及功能说明请参考书中对应章节，这里只展示部分函数的使用实例。  \n",
    "<mark style=background-color:yellow>下个代码为windows环境 </mark> "
   ]
  },
  {
   "cell_type": "raw",
   "metadata": {},
   "source": [
    "\"\"\"\n",
    "#windows环境\n",
    "import os\n",
    "print(os.environ) #显示当前的环境变量\n",
    "print(os.getcwd()) #显示当前路径\n",
    "os.chdir(r'c:\\')  #路径切换,切换到C盘 \n",
    "print(os.system('dir /w'))  #执行一个命令\n",
    "print(os.listdir(r'd:\\python-script'))  #显示目录信息\n",
    "\"\"\""
   ]
  },
  {
   "cell_type": "markdown",
   "metadata": {},
   "source": [
    "<mark style=background-color:yellow>下个代码为Linux环境 </mark> "
   ]
  },
  {
   "cell_type": "raw",
   "metadata": {},
   "source": [
    "\"\"\"\n",
    "#Linux环境\n",
    "import os\n",
    "#print(os.environ) #显示当前的环境变量\n",
    "print(os.getcwd()) #显示当前路径\n",
    "os.chdir('/home/wumg/data')  #路径切换\n",
    "os.chdir('/home/wumg/')  #路径切换\n",
    "print(os.system('ls '))  #执行一个shell命令\n",
    "print(os.listdir('data'))  #显示目录信息\n",
    "\"\"\""
   ]
  },
  {
   "cell_type": "markdown",
   "metadata": {},
   "source": [
    "#### 7.5.5 sys  \n",
    "相关函数及功能说明请参考书中对应章节，这里只展示部分函数的使用实例。"
   ]
  },
  {
   "cell_type": "raw",
   "metadata": {},
   "source": [
    "\"\"\"\n",
    "import sys\n",
    "print(sys.argv)#获取命令行参数，返回值是列表，第一个元素是文件名本身\n",
    "print(sys.version)  #打印当前Python版本\n",
    "print(sys.path)     #打印Python解释器的模块查找路径\n",
    "print(sys.platform) #打印操作系统类型\n",
    "sys.exit(0)         #退出程序，返回给调用方0值\n",
    "\"\"\"  "
   ]
  },
  {
   "cell_type": "markdown",
   "metadata": {},
   "source": [
    "#### 7.5.6 time  \n",
    "相关函数及功能说明请参考书中对应章节，这里只展示部分函数的使用实例。"
   ]
  },
  {
   "cell_type": "raw",
   "metadata": {},
   "source": [
    "\"\"\"\n",
    "import time\n",
    "time.sleep(5)      #线程休眠5秒\n",
    "print(time.strftime(\"%H:%M:%S\"))  #返回当前时间的格式化字符串\n",
    "print(time.time())  #返回自1970/1/1零时开始的秒数\n",
    "\"\"\""
   ]
  },
  {
   "attachments": {
    "image.png": {
     "image/png": "[encoded data removed]"
    }
   },
   "cell_type": "markdown",
   "metadata": {},
   "source": [
    "### 7.6 包  \n",
    "代码多了，使用函数进行封装；函数多了，使用类来封装；类多了，使用模块来封装；如果模块多了呢？我们可以用包来封装。\n",
    "\t包可以理解为就是文件夹，只不过在该文件下，处理模块之外，必须有一个__init__.py的文件, 其作用就是把整个文件夹当作一个包来管理，该文件一般为空。包、模块、类函数之间的关系可用图7-2表示；\n",
    "![image.png](attachment:image.png)\n",
    "\n",
    "<mark style=background-color:yellow>\n",
    "创建、使用包请参考书中对应章节\n",
    "</mark>  "
   ]
  },
  {
   "cell_type": "markdown",
   "metadata": {},
   "source": [
    "### 7.7 实例1:使用类和包\n",
    "### 7.8 实例2：银行ATM机系统\n",
    "<mark style=background-color:yellow>\n",
    "这2节是命令行下执行，具体操作可参考书中对应章节，代码及数据已提供。\n",
    "</mark>  "
   ]
  }
 ],
 "metadata": {
  "kernelspec": {
   "display_name": "Python 3",
   "language": "python",
   "name": "python3"
  },
  "language_info": {
   "codemirror_mode": {
    "name": "ipython",
    "version": 3
   },
   "file_extension": ".py",
   "mimetype": "text/x-python",
   "name": "python",
   "nbconvert_exporter": "python",
   "pygments_lexer": "ipython3",
   "version": "3.7.4"
  }
 },
 "nbformat": 4,
 "nbformat_minor": 2
}
