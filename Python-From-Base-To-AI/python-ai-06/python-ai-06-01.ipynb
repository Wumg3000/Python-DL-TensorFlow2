{
 "cells": [
  {
   "cell_type": "markdown",
   "metadata": {},
   "source": [
    "## 第6章  函数(1)"
   ]
  },
  {
   "cell_type": "markdown",
   "metadata": {},
   "source": [
    "### 6.2 创建和调用函数"
   ]
  },
  {
   "cell_type": "markdown",
   "metadata": {},
   "source": [
    "（1）创建函数  \n",
    "定义函数，要主要以下几点：  \n",
    "①定义函数的关键是def  \n",
    "②def 空格后 是函数名称，函数的命名规则与变量的规则一样。  \n",
    "③函数名后紧跟着是一对小括号(),这个不能少，小括号后面是冒号:  \n",
    "④冒号下面的语句将统一缩进4格  \n",
    "⑤最后用return语句 返回这个函数的执行结果，return一般是这个函数最后执行的语句，一般放在最后。当然，还有特殊情况，后续将介绍。\n"
   ]
  },
  {
   "cell_type": "code",
   "execution_count": 1,
   "metadata": {},
   "outputs": [],
   "source": [
    "#定义一个函数\n",
    "def sum_1n():\n",
    "    #定义一个存放累加数的变量\n",
    "    j=0\n",
    "    #用range(1,11)生成1到10连续10个自然数,不包括11这个数。\n",
    "    for i in range(1,11):\n",
    "       j+=i\n",
    "    #把累加结果作为返回值\n",
    "    return j"
   ]
  },
  {
   "cell_type": "markdown",
   "metadata": {},
   "source": [
    "（2）调用这个函数，就可得到结果\n",
    "调用函数就是函数加括号(),如下例："
   ]
  },
  {
   "cell_type": "code",
   "execution_count": 4,
   "metadata": {},
   "outputs": [
    {
     "name": "stdout",
     "output_type": "stream",
     "text": [
      "函数的返回值为:55\n"
     ]
    }
   ],
   "source": [
    "#调用函数\n",
    "sum_1n()\n",
    "#把函数返回值赋给一个变量\n",
    "rest1=sum_1n()\n",
    "print(\"函数的返回值为:{}\".format(rest1))"
   ]
  },
  {
   "cell_type": "markdown",
   "metadata": {},
   "source": [
    "（3）修改这个函数\n",
    "为使这个函数更通用，给函数添加一个输入参数。"
   ]
  },
  {
   "cell_type": "code",
   "execution_count": 9,
   "metadata": {},
   "outputs": [],
   "source": [
    "#定义一个函数，累加截止自然数为n，作为参数传给这个函数\n",
    "def sum_1n(n):\n",
    "    #定义一个存放累加数的变量\n",
    "    j=0\n",
    "    #用range(1,n+1)生成1到n连续n个自然数\n",
    "    for i in range(1,n+1):\n",
    "       j+=i\n",
    "    #把累加结果作为返回值\n",
    "    return j\n"
   ]
  },
  {
   "cell_type": "code",
   "execution_count": 10,
   "metadata": {},
   "outputs": [
    {
     "name": "stdout",
     "output_type": "stream",
     "text": [
      "输入10、100、1000函数对应的返回值为55,5050,500500\n"
     ]
    }
   ],
   "source": [
    "#使用不同的输入参数，调用函数\n",
    "sum_1n(10)  #55\n",
    "sum_1n(100) #5050\n",
    "sum_1n(1000) #500500\n",
    "#或print打印返回结果\n",
    "print(\"输入10、100、1000函数对应的返回值为{},{},{}\".format(sum_1n(10),sum_1n(100),sum_1n(1000)))"
   ]
  },
  {
   "cell_type": "markdown",
   "metadata": {},
   "source": [
    "（4）加上函数的帮助信息  \n",
    "在介绍引号时，介绍了利用三引号，可以给Python对象（如函数、类、模块等）添加\n",
    "帮助信息（或功能简介），使用对象.__doc__ 可以在客户端查看其帮助信息，非常方便！"
   ]
  },
  {
   "cell_type": "code",
   "execution_count": 11,
   "metadata": {},
   "outputs": [],
   "source": [
    "#定义一个函数，累加截止自然数为n，作为参数传给这个函数\n",
    "def sum_1n(n):\n",
    "    \"\"\"该函数的参数为自然数n，其功能为累加从1到n的n个连续自然数\"\"\"\n",
    "    #定义一个存放累加数的变量\n",
    "    j=0\n",
    "    #用range(1,n+1)生成1到n连续n个自然数\n",
    "    for i in range(1,n+1):\n",
    "       j+=i\n",
    "    #把累加结果作为返回值\n",
    "    return j"
   ]
  },
  {
   "cell_type": "code",
   "execution_count": 12,
   "metadata": {},
   "outputs": [
    {
     "data": {
      "text/plain": [
       "'该函数的参数为自然数n，其功能为累加从1到n的n个连续自然数'"
      ]
     },
     "execution_count": 12,
     "metadata": {},
     "output_type": "execute_result"
    }
   ],
   "source": [
    "sum_1n.__doc__  #'该函数的参数为自然数n，其功能为累加从1到n的n个连续自然数'"
   ]
  },
  {
   "cell_type": "markdown",
   "metadata": {},
   "source": [
    "（5）优化函数  \n",
    "可以通过使用Python内置函数来优化函数，后续还将介绍其它方法来优化。"
   ]
  },
  {
   "cell_type": "code",
   "execution_count": 13,
   "metadata": {},
   "outputs": [],
   "source": [
    "#定义一个函数，累加截止自然数为n，作为参数传给这个函数\n",
    "def sum_1n(n):\n",
    "    \"\"\"该函数的参数为自然数n，其功能为累加从1到n的n个连续自然数\"\"\"\n",
    "    return sum(range(1,n+1))"
   ]
  },
  {
   "cell_type": "code",
   "execution_count": 14,
   "metadata": {},
   "outputs": [
    {
     "data": {
      "text/plain": [
       "500500"
      ]
     },
     "execution_count": 14,
     "metadata": {},
     "output_type": "execute_result"
    }
   ],
   "source": [
    "sum_1n(1000) #500500"
   ]
  },
  {
   "cell_type": "markdown",
   "metadata": {},
   "source": [
    "### 6.3 传递参数\n",
    "#### 6.3.2 位置参数\n",
    "位置参数顾名思义就是跟函数定义时参数位置有关的参数，位置参数必须按定义函数时形参的顺序保持一致。\n",
    "\t位置参数是必备参数，调用函数时根据函数定义的形参位置来传递实参。为了更好说明这个原理，还是以函数sum_1n为例。\n",
    "\t假设现在修改一下要求，把从1开始累积，改为任何小于n的一个数(如m<n)累积，那么，m也需要作为参数。为此，修改一些函数sum_1n\n"
   ]
  },
  {
   "cell_type": "code",
   "execution_count": 16,
   "metadata": {},
   "outputs": [],
   "source": [
    "#定义一个函数，累加m至自然数n之间的所有自然数\n",
    "def sum_1n(m,n):\n",
    "    \"\"\"该函数的参数为自然数m、n，其功能为累加从m到n的所有自然数\"\"\"\n",
    "    return sum(range(m,n+1))"
   ]
  },
  {
   "cell_type": "markdown",
   "metadata": {},
   "source": [
    "定义函数sum_1n时，指明了两个参数:m和n（如果多个参数，需要用逗号分隔），在调用函数sum_1n时，实参需要输入两个，而且这两个实参的位置及顺序必须与形参保持一致，如："
   ]
  },
  {
   "cell_type": "code",
   "execution_count": 17,
   "metadata": {},
   "outputs": [
    {
     "data": {
      "text/plain": [
       "165"
      ]
     },
     "execution_count": 17,
     "metadata": {},
     "output_type": "execute_result"
    }
   ],
   "source": [
    "#累加1到10的所有自然数\n",
    "sum_1n(1,10)   #55\n",
    "#累加10到20的所有自然数\n",
    "sum_1n(10,20) #165"
   ]
  },
  {
   "cell_type": "markdown",
   "metadata": {},
   "source": [
    "其中1,10或10,20就是位置实参。位置实参的顺序很重要，如果顺序不正确，可能报错或出现异常情况。如下例："
   ]
  },
  {
   "cell_type": "code",
   "execution_count": 19,
   "metadata": {},
   "outputs": [
    {
     "data": {
      "text/plain": [
       "0"
      ]
     },
     "execution_count": 19,
     "metadata": {},
     "output_type": "execute_result"
    }
   ],
   "source": [
    "sum_1n(20,10)"
   ]
  },
  {
   "cell_type": "markdown",
   "metadata": {},
   "source": [
    "#### 6.3.3 关键字参数\n",
    "位置参数多了，记住各参数的位置和顺序将非常麻烦，而且还很容易出错。为改进这种纯粹依据位置来传递参数的方式，人们想到了定义函数时，用一些代表一定含义的单词（或关键字）来命名参数，然后，给这些关键字赋给对应值即可，无需考虑这些参数的位置或顺序，这样就方便多了，如下例:"
   ]
  },
  {
   "cell_type": "code",
   "execution_count": 20,
   "metadata": {},
   "outputs": [],
   "source": [
    "#定义一个函数，累加start至自然数end之间的所有自然数\n",
    "def sum_1n(start,end):\n",
    "    \"\"\"该函数的参数为自然数start、end，其功能为累加从start到end的所有自然数\"\"\"\n",
    "    return sum(range(start,end+1))"
   ]
  },
  {
   "cell_type": "code",
   "execution_count": 21,
   "metadata": {},
   "outputs": [
    {
     "data": {
      "text/plain": [
       "55"
      ]
     },
     "execution_count": 21,
     "metadata": {},
     "output_type": "execute_result"
    }
   ],
   "source": [
    "sum_1n(start=1,end=10)"
   ]
  },
  {
   "cell_type": "code",
   "execution_count": 22,
   "metadata": {},
   "outputs": [
    {
     "data": {
      "text/plain": [
       "165"
      ]
     },
     "execution_count": 22,
     "metadata": {},
     "output_type": "execute_result"
    }
   ],
   "source": [
    "sum_1n(end=20,start=10)"
   ]
  },
  {
   "cell_type": "markdown",
   "metadata": {},
   "source": [
    "#### 6.3.4 默认值\n",
    "位置参数带来很大方便，不过如果这样的参数很多，而且有效参数的值基本不变  \n",
    "（如一些表示初始值的参数或其它一些比较固定的参数等），调用函数时，如果每个参数都要输入值也不是很方便。为解决类似问题，人们想到默认值，即在函数定义时给定值，调用函数时，如果这些参数值不变，就可不输入这些参数；如果要修改这些参数值，也可以修改，这样就带来很多方便。"
   ]
  },
  {
   "cell_type": "code",
   "execution_count": 23,
   "metadata": {},
   "outputs": [],
   "source": [
    "#定义一个函数，累加start至自然数end之间的所有自然数\n",
    "def sum_1n(end,start=1):\n",
    "    \"\"\"该函数的参数为自然数start、end，其功能为累加从start到end的所有自然数\"\"\"\n",
    "    return sum(range(start,end+1))"
   ]
  },
  {
   "cell_type": "code",
   "execution_count": 26,
   "metadata": {},
   "outputs": [
    {
     "data": {
      "text/plain": [
       "5050"
      ]
     },
     "execution_count": 26,
     "metadata": {},
     "output_type": "execute_result"
    }
   ],
   "source": [
    "#重新指定start的值\n",
    "sum_1n(start=10,end=100)\n",
    "#不指定start的值，则start将使用默认值\n",
    "sum_1n(end=100)"
   ]
  },
  {
   "cell_type": "markdown",
   "metadata": {},
   "source": [
    "### 6.4 返回值\n",
    "在Python中，在函数体内用return语句为函数指定返回值，返回值可以是一个或多个，类型可以是任何类型。如果没有return语句，则返回None值，即返回空值。不管return语句在函数体的什么位置，执行完return语句后，就会立即结束函数的执行。下面介绍函数返回值的情况。"
   ]
  },
  {
   "cell_type": "markdown",
   "metadata": {},
   "source": [
    "（1）返回一个值"
   ]
  },
  {
   "cell_type": "code",
   "execution_count": 27,
   "metadata": {},
   "outputs": [
    {
     "name": "stdout",
     "output_type": "stream",
     "text": [
      "5005\n"
     ]
    }
   ],
   "source": [
    "rst=sum_1n(start=10,end=100)  \n",
    "print(rst)"
   ]
  },
  {
   "cell_type": "markdown",
   "metadata": {},
   "source": [
    "（2）返回多个值  \n",
    "把函数sum_1n的返回值改一下，同时返回所有数的累加、偶数累加。"
   ]
  },
  {
   "cell_type": "code",
   "execution_count": 28,
   "metadata": {},
   "outputs": [],
   "source": [
    "def sum_1n(start,end):\n",
    "    \"\"\"该函数的参数为自然数start、end，其功能为累加从start到end的所有自然数及偶数之和\"\"\"\n",
    "    return sum(range(start,end+1)),sum([i for i in range(start,end+1) if i%2==0])"
   ]
  },
  {
   "cell_type": "code",
   "execution_count": 29,
   "metadata": {},
   "outputs": [
    {
     "name": "stdout",
     "output_type": "stream",
     "text": [
      "返回所有数之和:5005,偶数之和:2530\n"
     ]
    }
   ],
   "source": [
    "sum_1n(start=10,end=100)  #返回(5005, 2530)\n",
    "#把返回值，分别赋给两个变量\n",
    "a,b=sum_1n(start=10,end=100) \n",
    "print(\"返回所有数之和:{},偶数之和:{}\".format(a,b))\n",
    "#返回所有数之和:5005,偶数之和:2530"
   ]
  },
  {
   "cell_type": "markdown",
   "metadata": {},
   "source": [
    "（3）返回空值  \n",
    "在函数体中不使用return语句，不过可以用print语句把结果在客户端显示出来（不过这方式不能赋值给变量）"
   ]
  },
  {
   "cell_type": "code",
   "execution_count": 30,
   "metadata": {},
   "outputs": [],
   "source": [
    "#定义一个函数，累加start至自然数end之间的所有自然数\n",
    "def sum_1n(end,start=1):\n",
    "    \"\"\"该函数的参数为自然数start、end，其功能为累加从start到end的所有自然数\"\"\"\n",
    "    print(\"累加结果:\",sum(range(start,end+1)))"
   ]
  },
  {
   "cell_type": "code",
   "execution_count": 31,
   "metadata": {},
   "outputs": [
    {
     "name": "stdout",
     "output_type": "stream",
     "text": [
      "累加结果: 55\n"
     ]
    },
    {
     "data": {
      "text/plain": [
       "NoneType"
      ]
     },
     "execution_count": 31,
     "metadata": {},
     "output_type": "execute_result"
    }
   ],
   "source": [
    "a=sum_1n(10)  #打印：累加结果: 55\n",
    "type(a)  # NoneType"
   ]
  },
  {
   "cell_type": "markdown",
   "metadata": {},
   "source": [
    "### 6.5 传递任意数量的参数  \n",
    "前面我们介绍了Python支持的几种参数类型，如位置参数、关键字参数和默认值参数，适当使用这些参数，可大大提高Python函数的灵活性。此外，Python还支持列表或元组参数，即用列表或元组作为实参传入函数。例如：\n"
   ]
  },
  {
   "cell_type": "code",
   "execution_count": 32,
   "metadata": {},
   "outputs": [
    {
     "data": {
      "text/plain": [
       "30"
      ]
     },
     "execution_count": 32,
     "metadata": {},
     "output_type": "execute_result"
    }
   ],
   "source": [
    "#定义一个函数\n",
    "def calc_sum(lst):\n",
    "    sum=0\n",
    "    for i in lst:\n",
    "        sum+=i\n",
    "    return sum\n",
    "#实参以列表格式传入\n",
    "calc_sum([1,4,5])      #10\n",
    "calc_sum([-1,1,10,20]) #30\n",
    "#实参以元组格式传入\n",
    "calc_sum((-1,1,10,20)) #30"
   ]
  },
  {
   "cell_type": "markdown",
   "metadata": {},
   "source": [
    "#### 6.5.1 传递任意数量的实参   \n",
    "要实现输入任意数量的实参，只要在形参前加一个*号即可，比如函数calc_sum(lst)改为calc_sum(*lst)。形参加上*号后，在函数内部，参数*lst接收到的是一个元组，因此，函数代码完全不变。但是，调用该函数时，可以传入任意个参数，包括0个参数，示例如下："
   ]
  },
  {
   "cell_type": "code",
   "execution_count": 35,
   "metadata": {},
   "outputs": [
    {
     "data": {
      "text/plain": [
       "0"
      ]
     },
     "execution_count": 35,
     "metadata": {},
     "output_type": "execute_result"
    }
   ],
   "source": [
    "#定义一个函数，接受任意数量的参数\n",
    "def calc_sum(*lst):\n",
    "    sum=0\n",
    "    for i in lst:\n",
    "        sum+=i\n",
    "    return sum\n",
    "\n",
    "#调用函数\n",
    "calc_sum(-1,1,0,20,30)  #50\n",
    "calc_sum(-10,0,10,-20,20,-30,30,100)  #100\n",
    "calc_sum() #0\n"
   ]
  },
  {
   "cell_type": "markdown",
   "metadata": {},
   "source": [
    "<mark style=background-color:yellow>提示一下，前面我们介绍元祖时，提到装包功能，这里实际上就把这些实参装包成一个元祖。为此我们打印lst的结果，就更清楚了，示例如下：</mark>  "
   ]
  },
  {
   "cell_type": "code",
   "execution_count": 36,
   "metadata": {},
   "outputs": [
    {
     "name": "stdout",
     "output_type": "stream",
     "text": [
      "装包后的结果:(-1, 1, 0, 20, 30)\n"
     ]
    },
    {
     "data": {
      "text/plain": [
       "50"
      ]
     },
     "execution_count": 36,
     "metadata": {},
     "output_type": "execute_result"
    }
   ],
   "source": [
    "def calc_sum(*lst):\n",
    "    print(\"装包后的结果:{}\".format(lst))\n",
    "    sum=0\n",
    "    for i in lst:\n",
    "        sum+=i\n",
    "    return sum\n",
    "\n",
    "#调用函数\n",
    "calc_sum(-1,1,0,20,30)  #50"
   ]
  },
  {
   "cell_type": "markdown",
   "metadata": {},
   "source": [
    "#### 6.5.2 传递位置参数及任意数量的实参  \n",
    "位置参数可以和支持任意数量的实参一起使用，不过，如果遇到不同类型的实参时，必须在函数定义中，将接纳任意数量的实参的形参放在最后。Python先匹配位置实参和关键字实参，然后再将剩下的实参归为最后的实参里。例如："
   ]
  },
  {
   "cell_type": "code",
   "execution_count": 37,
   "metadata": {},
   "outputs": [
    {
     "name": "stdout",
     "output_type": "stream",
     "text": [
      "----输出结果为:10\n"
     ]
    }
   ],
   "source": [
    "#定义一个函数，size为位置参数、numb任意数量参数\n",
    "#打印任意参数的和，在结果前放置size个'-'符号\n",
    "def calc_add(size,*numb):\n",
    "    sum=0\n",
    "    for i in numb:\n",
    "        sum+=i\n",
    "    print('-'*size+\"输出结果为:\"+str(sum))\n",
    "\n",
    "#调用函数\n",
    "calc_add(4,1,2,3,4)  #----输出结果为:10"
   ]
  },
  {
   "cell_type": "markdown",
   "metadata": {},
   "source": [
    "#### 6.5.3 传递任务数量的关键字实参   \n",
    "Python支持采用关键字实参，而且也可以是任意数量，只要在定义函数时在对应的形参前加上两个*号即可。对应的形参在函数内部将以字典的方式存储，调用函数需要采用 arg1=value1,arg2=value2 的形式。例如："
   ]
  },
  {
   "cell_type": "code",
   "execution_count": 38,
   "metadata": {},
   "outputs": [
    {
     "name": "stdout",
     "output_type": "stream",
     "text": [
      "height is 180\n",
      "weight is 70\n",
      "age is 30\n"
     ]
    }
   ],
   "source": [
    "def  customer(**user_info):\n",
    "    for key,value in user_info.items():\n",
    "        print(\"{} is {}\".format(key,value))\n",
    "customer(height=180,weight=70,age=30)"
   ]
  },
  {
   "cell_type": "markdown",
   "metadata": {},
   "source": [
    "如果出现多种类型参数的情况，如既有位置形参，又有表示任意数量参数和任意数量的关键字形参的函数。如格式为customer(fargs, *args, **kwargs) 的函数。其中*args与**kwargs的都是python中的可变参数。 *args表示可传入任何多个无名实参， **kwargs表示可传入任意多个关键字实参，它本质上是一个dict。示例如下："
   ]
  },
  {
   "cell_type": "code",
   "execution_count": 39,
   "metadata": {},
   "outputs": [
    {
     "name": "stdout",
     "output_type": "stream",
     "text": [
      "高峰,各科成绩(100, 90, 80),身份信息:{'height': 180, 'weight': 70, 'age': 30},"
     ]
    }
   ],
   "source": [
    "def  customer(name,*subj_score,**user_info):\n",
    "        print(\"{}\".format(name),end=\",\")\n",
    "        print(\"各科成绩{}\".format(subj_score),end=\",\")\n",
    "        print(\"身份信息:{}\".format(user_info),end=\",\")\n",
    "customer(\"高峰\",100,90,80,height=180,weight=70,age=30)"
   ]
  },
  {
   "cell_type": "markdown",
   "metadata": {
    "collapsed": true
   },
   "source": [
    "<mark style=background-color:yellow>这里**user_info实际也是存在一个装包的功能，通过打印user_info的结果就更清楚了。具体请看下例\n",
    "</mark>  "
   ]
  },
  {
   "cell_type": "code",
   "execution_count": 43,
   "metadata": {},
   "outputs": [
    {
     "name": "stdout",
     "output_type": "stream",
     "text": [
      "打印user_info的结果:{'height': 180, 'weight': 70, 'age': 30}\n",
      "高峰,各科成绩(100, 90, 80),身份信息:{'height': 180, 'weight': 70, 'age': 30},"
     ]
    }
   ],
   "source": [
    "def  customer(name,*subj_score,**user_info):\n",
    "    print(\"打印user_info的结果:{}\".format(user_info))\n",
    "    print(\"{}\".format(name),end=\",\")\n",
    "    print(\"各科成绩{}\".format(subj_score),end=\",\")\n",
    "    print(\"身份信息:{}\".format(user_info),end=\",\")\n",
    "customer(\"高峰\",100,90,80,height=180,weight=70,age=30)"
   ]
  },
  {
   "cell_type": "markdown",
   "metadata": {
    "collapsed": true
   },
   "source": [
    "### 6.6 lambda函数  \n",
    "lambda函数又称为匿名函数，使用lambda函数可以返回一个运算结果，其格式如下："
   ]
  },
  {
   "cell_type": "code",
   "execution_count": 44,
   "metadata": {},
   "outputs": [
    {
     "data": {
      "text/plain": [
       "'\\nresult=lambda[arg1,[arg2,...,]]:express\\n'"
      ]
     },
     "execution_count": 44,
     "metadata": {},
     "output_type": "execute_result"
    }
   ],
   "source": [
    "\"\"\"\n",
    "result=lambda[arg1,[arg2,...,]]:express\n",
    "\"\"\""
   ]
  },
  {
   "cell_type": "markdown",
   "metadata": {},
   "source": [
    "参数说明  \n",
    "①result就是表示式express的结果。  \n",
    "②关键字lambda是必须的  \n",
    "③参数可以一个，也可多个，多个参数以逗号分隔  \n",
    "④lambda也是函数，是一行函数，参数后需要一个冒号:  \n",
    "⑤express只能有一个表达式，无需return语句，表达式本身的结果就是返回值。  \n",
    "\tlambda函数非常简洁，它通常作为参数传递给函数，以下是些应用实例。\n"
   ]
  },
  {
   "cell_type": "code",
   "execution_count": 45,
   "metadata": {},
   "outputs": [
    {
     "name": "stdout",
     "output_type": "stream",
     "text": [
      "6\n",
      "6\n"
     ]
    }
   ],
   "source": [
    "#定义一个Python普通函数\n",
    "def fun_add(a,b,c):\n",
    "    return a+b+c\n",
    "\n",
    "#执行函数\n",
    "print(fun_add(1,2,3))\n",
    "\n",
    "#用lambda函数实现fun_add功能\n",
    "result=lambda a,b,c:a+b+c\n",
    "#执行lambda函数\n",
    "print(result(1,2,3))"
   ]
  },
  {
   "cell_type": "markdown",
   "metadata": {},
   "source": [
    "可以把lambda函数作为参数传递给其它函数，例如："
   ]
  },
  {
   "cell_type": "code",
   "execution_count": 46,
   "metadata": {},
   "outputs": [
    {
     "data": {
      "text/plain": [
       "['Keras', 'TensorFlow', 'Python', 'Pytorch']"
      ]
     },
     "execution_count": 46,
     "metadata": {},
     "output_type": "execute_result"
    }
   ],
   "source": [
    "lst61=[\"Python\",\"Pytorch\",\"Keras\",\"TensorFlow\"]\n",
    "#对列表lst61中的元素，根据元素长度排序\n",
    "sorted(lst61,key=lambda x:len(x)) #['Keras', 'Python', 'Pytorch', 'TensorFlow']\n",
    "#对列表lst61中的元素，根据元素中的第一个字符排序\n",
    "sorted(lst61,key=lambda x:x[1])  #['Keras', 'TensorFlow', 'Python', 'Pytorch']"
   ]
  },
  {
   "cell_type": "markdown",
   "metadata": {
    "collapsed": true
   },
   "source": [
    "<mark style=background-color:red>延伸一下</mark>  \n",
    "lambda既小，又非常灵活，它和其它函数结合在一起，更能显示其神奇之处！下面结合Python的几个\n",
    "高阶函数（如map、reduce、filter等），再拓展一下lambda的功能。"
   ]
  },
  {
   "cell_type": "markdown",
   "metadata": {},
   "source": [
    "（1）map函数  \n",
    "python中的map()函数是一个内置的高阶函数，一般用法是map(function, iterable)。需要传入一个函数，这个函数可以是内置的，也可以是自己定义，也可以是匿名函数即lambda。第二个参数是一个可迭代对象，如列表、字典字符串等。map函数返回的是一个map对象，也是一个可迭代对象，可以利用for循环迭代查看元素，也可以尝试list()将其转为列表对象操作，map形式：\n",
    "map(function, iterable, ...)"
   ]
  },
  {
   "cell_type": "code",
   "execution_count": 48,
   "metadata": {},
   "outputs": [
    {
     "name": "stdout",
     "output_type": "stream",
     "text": [
      "[1, 4, 9, 16]\n"
     ]
    }
   ],
   "source": [
    "L1 = [1, 2, 3, 4]\n",
    "square_result = map(lambda x: x ** 2, L1)\n",
    "print(list(square_result))"
   ]
  },
  {
   "cell_type": "code",
   "execution_count": 49,
   "metadata": {},
   "outputs": [
    {
     "name": "stdout",
     "output_type": "stream",
     "text": [
      "[6, 6, 6, 6, 6]\n"
     ]
    }
   ],
   "source": [
    "# 两组数两两相加\n",
    "L1 = [1, 2, 3, 4, 5, 6, 7]\n",
    "L2 = [5, 4, 3, 2, 1]\n",
    "sum_result = map(lambda x, y: x + y, L1, L2)\n",
    "print(list(sum_result))"
   ]
  },
  {
   "cell_type": "markdown",
   "metadata": {},
   "source": [
    "(2)reduce概述  \n",
    "reduce用于对可迭代对象中的元素进行累积操作，reduce接受两个参数，一个是函数f(x, y)参数（该函数必须有两个参数），另一个是可迭代对象。reduce行为是先将可迭代对象的前两个元素传入f(x, y)中，然后不断将f(x, y)的返回值再次和下一个迭代对象传入f(x, y)，直到迭代完迭代对象中的元素，并返回最终的f(x, y)的返回值。reduce形式：\n",
    "reduce(function, iterable[, initializer])  \n",
    "在 Python3 中，reduce() 函数已经被从全局名字空间里移除了，它现在被放置在 functools 模块里，如果想要使用它，则需要通过引入 functools 模块来调用 reduce() 函数."
   ]
  },
  {
   "cell_type": "code",
   "execution_count": 51,
   "metadata": {},
   "outputs": [
    {
     "name": "stdout",
     "output_type": "stream",
     "text": [
      "15\n"
     ]
    }
   ],
   "source": [
    "from functools import reduce\n",
    "\n",
    "L = [1,2,3,4,5]\n",
    "sum_results = reduce(lambda x,y: x + y, L) \n",
    "print(sum_results)"
   ]
  },
  {
   "cell_type": "markdown",
   "metadata": {},
   "source": [
    "(3)filter概述  \n",
    "filter用于过滤筛选可迭代对象中的元素，如果符合条件则返回对应的元素序列（类型为filter），filter接受两个参数，一个是函数用于筛选元素，返回值为True或Flase，另一个是可迭代对象。其格式为：filter(function, iterable)"
   ]
  },
  {
   "cell_type": "code",
   "execution_count": 56,
   "metadata": {},
   "outputs": [
    {
     "name": "stdout",
     "output_type": "stream",
     "text": [
      "[2, 4]\n"
     ]
    }
   ],
   "source": [
    "#从序列L中，取出偶数\n",
    "even_num = list(filter(lambda x: x % 2 == 0, L))\n",
    "print(even_num)"
   ]
  },
  {
   "cell_type": "code",
   "execution_count": null,
   "metadata": {},
   "outputs": [],
   "source": []
  }
 ],
 "metadata": {
  "kernelspec": {
   "display_name": "Python 3",
   "language": "python",
   "name": "python3"
  },
  "language_info": {
   "codemirror_mode": {
    "name": "ipython",
    "version": 3
   },
   "file_extension": ".py",
   "mimetype": "text/x-python",
   "name": "python",
   "nbconvert_exporter": "python",
   "pygments_lexer": "ipython3",
   "version": "3.7.4"
  }
 },
 "nbformat": 4,
 "nbformat_minor": 2
}
