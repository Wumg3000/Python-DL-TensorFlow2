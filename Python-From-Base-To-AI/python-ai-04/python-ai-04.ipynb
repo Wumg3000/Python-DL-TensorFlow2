{
 "cells": [
  {
   "attachments": {
    "image.png": {
     "image/png": "[encoded data removed]"
    }
   },
   "cell_type": "markdown",
   "metadata": {},
   "source": [
    "您可以通过访问[飞谷云人工智能网](http://www.feiguyunai.com)下载代码和数据，\n",
    "也欢迎扫以下二维码（QQ号为：717194942），加入本书《Python入门到人工智能》在线答疑交流群:\n",
    "![image.png](attachment:image.png)"
   ]
  },
  {
   "cell_type": "markdown",
   "metadata": {},
   "source": [
    "## 第4章  if语句与循环语句\n",
    "这章我们主要介绍几种常用的控制语句，如if语句、for循环、while循环语句."
   ]
  },
  {
   "cell_type": "markdown",
   "metadata": {},
   "source": [
    "### 4.2 if语句"
   ]
  },
  {
   "cell_type": "markdown",
   "metadata": {},
   "source": [
    "#### 4.2.1 if语句格式\n",
    "请参考书中对应章节"
   ]
  },
  {
   "cell_type": "markdown",
   "metadata": {},
   "source": [
    "#### 4.2.2 if语句"
   ]
  },
  {
   "cell_type": "code",
   "execution_count": 1,
   "metadata": {},
   "outputs": [
    {
     "name": "stdout",
     "output_type": "stream",
     "text": [
      "是青年\n"
     ]
    }
   ],
   "source": [
    "#给定一个年龄值\n",
    "age=32\n",
    "#用if进行判断，这个年龄是少年还是青年或中年或老年\n",
    "if age<=6:\n",
    "    print(\"是童年\")\n",
    "elif 7<=age<18:\n",
    "     print(\"是少年\")\n",
    "elif 18<=age<41:\n",
    "     print(\"是青年\")\n",
    "elif 41<=age<66:\n",
    "     print(\"是中年\")\n",
    "else:\n",
    "     print(\"是老年\")\n"
   ]
  },
  {
   "cell_type": "markdown",
   "metadata": {},
   "source": [
    "#### 4.2.3 使用and连接条件语句"
   ]
  },
  {
   "cell_type": "code",
   "execution_count": 2,
   "metadata": {},
   "outputs": [
    {
     "name": "stdout",
     "output_type": "stream",
     "text": [
      "是青年\n"
     ]
    }
   ],
   "source": [
    "#给定一个年龄值\n",
    "age=40\n",
    "#用if进行判断，这个年龄是少年还是青年或中年或老年\n",
    "if age<=6:\n",
    "    print(\"是童年\")\n",
    "elif age>=7 and age<18:\n",
    "     print(\"是少年\")\n",
    "elif age>=18 and age<41:\n",
    "     print(\"是青年\")\n",
    "elif age>=41and age<66:\n",
    "     print(\"是中年\")\n",
    "else:\n",
    "     print(\"是老年\")\n"
   ]
  },
  {
   "cell_type": "markdown",
   "metadata": {},
   "source": [
    "#### 4.2.4 元素是否在列表中\n",
    "如果要判断一个元素是否在一个列表或元组中，可以使用in或not in 的方法。"
   ]
  },
  {
   "cell_type": "code",
   "execution_count": 3,
   "metadata": {},
   "outputs": [
    {
     "name": "stdout",
     "output_type": "stream",
     "text": [
      "keras不在列表中\n"
     ]
    }
   ],
   "source": [
    "lst42=[\"Pythoon\",\"Numpy\",\"Matplotlib\",\"OpenCV\",\"Sklearn\",\"Pytorch\",\"Keras\",\"TensorFlow\"]\n",
    "\n",
    "v=\"keras\"\n",
    "if v in lst42:\n",
    "    print(\"keras在列表中\")\n",
    "else:\n",
    "    print(\"keras不在列表中\")\n"
   ]
  },
  {
   "cell_type": "markdown",
   "metadata": {},
   "source": [
    "这个结果乍一看，与我们的期望不一样，keras应该在lst42中，不过仔细再看一下，问题在大小上，lst42中是\"Keras\"，第一个字母是大写，而我们使用的keras为小写。为此，我们可以把lst42的字符全变成小写，然后再进行比较，修改后的代码如下;"
   ]
  },
  {
   "cell_type": "code",
   "execution_count": 4,
   "metadata": {},
   "outputs": [
    {
     "name": "stdout",
     "output_type": "stream",
     "text": [
      "keras在列表中\n"
     ]
    }
   ],
   "source": [
    "v=\"keras\"\n",
    "#把列表lst42的每个元素变成小写\n",
    "if v in [s.lower() for s in lst42]:\n",
    "    print(\"keras在列表中\")\n",
    "else:\n",
    "    print(\"keras不在列表中\")"
   ]
  },
  {
   "cell_type": "markdown",
   "metadata": {},
   "source": [
    "#### 4.2.5 缩进易出现的问题\n",
    "Python 与其他语言最大的区别就是，Python 的代码块不使用大括号{}来表示同一模块，Python采用相同缩进来表示，这是Python的语法也是最大特点，必须严格执行，否则报错。\n",
    "对初学者易疏忽或出现的问题大致有如下几种情况：    \n",
    "（1）忘记缩进或缩进不一致  \n",
    "（2）忘记含关键字的语句结束符（冒号:），像if、while、def和class这样的复合语句，首行以关键字开始，以冒号( : )结束。  \n",
    "（3）标点符号、引号格式问题（使用中文格式）"
   ]
  },
  {
   "cell_type": "markdown",
   "metadata": {},
   "source": [
    "### 4.3 循环语句\n",
    "循环语句用来重复执行一些代码块，通常用来遍历序列、字符串、字典、迭代器等可迭代对象。"
   ]
  },
  {
   "cell_type": "markdown",
   "metadata": {},
   "source": [
    "#### 4.3.1 for循环"
   ]
  },
  {
   "cell_type": "code",
   "execution_count": 4,
   "metadata": {},
   "outputs": [
    {
     "name": "stdout",
     "output_type": "stream",
     "text": [
      "a的个数是: 3\n",
      "b的个数是: 2\n"
     ]
    }
   ],
   "source": [
    "lst41=[\"a\",\"b\",\"a\",\"a\",\"b\"]\n",
    "#统计列表lst41中a和b各出现多少次\n",
    "#定义两个变量，用来保存分类数\n",
    "a_n=0\n",
    "b_n=0\n",
    "\n",
    "#遍历列表lst41\n",
    "for i in lst41:\n",
    "    if i==\"a\":\n",
    "        a_n+=1  #代码块1，累加a出现的次数\n",
    "    else:\n",
    "        b_n+=1  #代码块2,与代码块1有相同的缩进\n",
    "#打印分类数\n",
    "print(\"a的个数是:\",a_n)\n",
    "print(\"b的个数是:\",b_n)\n"
   ]
  },
  {
   "cell_type": "code",
   "execution_count": 6,
   "metadata": {},
   "outputs": [
    {
     "name": "stdout",
     "output_type": "stream",
     "text": [
      "a的个数是: 3\n",
      "b的个数是: 2\n"
     ]
    }
   ],
   "source": [
    "##上面的计算结果，我们也可以用count函数来验证\n",
    "print(\"a的个数是:\",lst41.count('a'))\n",
    "print(\"b的个数是:\",lst41.count('b'))"
   ]
  },
  {
   "cell_type": "markdown",
   "metadata": {},
   "source": [
    "#### 4.3.2 while 循环\n",
    "while循环的执行过程：首先检查循环条件为True或False，如果为True，就执行循环体；如果为False，就跳出循环，执行后面的语句。我们用while循环实现上节for循环的内容。"
   ]
  },
  {
   "cell_type": "code",
   "execution_count": 7,
   "metadata": {},
   "outputs": [
    {
     "name": "stdout",
     "output_type": "stream",
     "text": [
      "0\n",
      "1\n",
      "2\n",
      "3\n",
      "4\n",
      "5\n",
      "6\n",
      "7\n",
      "8\n",
      "9\n"
     ]
    }
   ],
   "source": [
    "i=0\n",
    "while i <len(range(10)):\n",
    "    print(i)\n",
    "    i=i+1   #每次循环加1\n"
   ]
  },
  {
   "cell_type": "markdown",
   "metadata": {},
   "source": [
    "#### 4.3.3 嵌套循环\n",
    "Python中for循环和while循环都可以进行循环嵌套，for循环中又有for循环或while循环；while循环中有while循环或for循环。"
   ]
  },
  {
   "cell_type": "code",
   "execution_count": 8,
   "metadata": {},
   "outputs": [
    {
     "name": "stdout",
     "output_type": "stream",
     "text": [
      "累加结果： 45\n"
     ]
    }
   ],
   "source": [
    "lst42=[[1,2,3],[4,5,6],[7,8,9]]\n",
    "n=0\n",
    "for lst in lst42:\n",
    "    for j in lst:\n",
    "        n=n+j\n",
    "print(\"累加结果：\",n)\n"
   ]
  },
  {
   "cell_type": "markdown",
   "metadata": {},
   "source": [
    "#### 4.3.4 break跳出循环\n",
    "在for循环、while循环都可以使用break跳出整个循环，不再执行剩下的循环语句。如果break在循环嵌套里，break将跳出所在或当前循环。\n",
    "\t比如，在一个列表中，查找一个单词，如果没有找到继续查询，一旦找到，就停止查找，退出循环。"
   ]
  },
  {
   "cell_type": "code",
   "execution_count": 13,
   "metadata": {},
   "outputs": [
    {
     "name": "stdout",
     "output_type": "stream",
     "text": [
      "找了3次，终于找到了！\n",
      "总的查询次数:3次\n"
     ]
    }
   ],
   "source": [
    "lst43=[\"悟空\",\"八戒\",\"白骨精\",\"唐僧\",\"沙僧\",\"牛魔王\"] \n",
    "#变量用来记录找的次数或循环次数\n",
    "i=1\n",
    "for item in lst43:\n",
    "    #与列表中每个元素进行匹配，一旦匹配上，打印已找到，然后退出循环。\n",
    "    if item==\"白骨精\":\n",
    "        print(\"找了%d次，终于找到了！\"%(i))\n",
    "        break\n",
    "    else:\n",
    "        i=i+1\n",
    "print(\"总的查询次数:%d次\"%i)\n"
   ]
  },
  {
   "cell_type": "markdown",
   "metadata": {},
   "source": [
    "#### 4.3.5 continue加快循环\n",
    "与break跳出循环不同，continue不是立即跳出整个循环，而是立即返回循环开头，继续循环，直到循环结束。\n",
    "\t上面这个查找例子，如果把break，换成continue，会是什么情况呢？"
   ]
  },
  {
   "cell_type": "code",
   "execution_count": 15,
   "metadata": {},
   "outputs": [
    {
     "name": "stdout",
     "output_type": "stream",
     "text": [
      "找了3次，终于找到了！\n",
      "总的查询次数:6次\n"
     ]
    }
   ],
   "source": [
    "lst43=[\"悟空\",\"八戒\",\"白骨精\",\"唐僧\",\"沙僧\",\"牛魔王\"] \n",
    "#变量用来记录找的次数或循环次数\n",
    "i=1\n",
    "for item in lst43:\n",
    "    #与列表中每个元素进行匹配，一旦匹配上，打印已找到，然后退出循环。\n",
    "    if item==\"白骨精\":\n",
    "        print(\"找了%d次，终于找到了！\"%(i))\n",
    "        continue\n",
    "    else:\n",
    "        i=i+1\n",
    "print(\"总的查询次数:%d次\"%i)\n"
   ]
  },
  {
   "cell_type": "markdown",
   "metadata": {},
   "source": [
    "### 4.3.6 列表推导式\n",
    "这节主要介绍列表推导式，列表推导式提供了一种简单明了的方法来创建列表。\n",
    "它的结构是在一个中括号里包含一个表达式，然后是一个for语句，后面再接0个或多个for或者if语句。那个表达式可以是任意的，意味着你可以在列表中放入任意类型的对象。返回结果将是一个新的列表。以下通过实例来说明。\n"
   ]
  },
  {
   "cell_type": "markdown",
   "metadata": {
    "collapsed": true
   },
   "source": [
    "（1）使用普通方法"
   ]
  },
  {
   "cell_type": "code",
   "execution_count": 16,
   "metadata": {},
   "outputs": [],
   "source": [
    "#定义一个空列表\n",
    "even=[]\n",
    "#range(1,101)生成1到100自然数\n",
    "for i in range(1,101):\n",
    "    if i%2==0:\n",
    "        even.append(i)\n"
   ]
  },
  {
   "cell_type": "markdown",
   "metadata": {},
   "source": [
    "（2）使用列表推导式  \n",
    "使用列表推导式，就是把for循环和if语句在一行来完成整个逻辑，具体代码如下："
   ]
  },
  {
   "cell_type": "code",
   "execution_count": 18,
   "metadata": {},
   "outputs": [],
   "source": [
    "lst45=[i for i in range(1,101) if i%2==0]"
   ]
  },
  {
   "cell_type": "markdown",
   "metadata": {},
   "source": [
    "<mark style=background-color:yellow>一句话就搞定了，简洁明了，还高效！ </mark>  "
   ]
  },
  {
   "cell_type": "markdown",
   "metadata": {},
   "source": [
    "<mark style=background-color:red>延伸一下</mark>  \n",
    "Python列表式功能很强大，这里我们延伸一下，再列举一些实例，使大家能更充分了解和使用它。"
   ]
  },
  {
   "cell_type": "markdown",
   "metadata": {},
   "source": [
    "（1）基本格式  "
   ]
  },
  {
   "cell_type": "code",
   "execution_count": 22,
   "metadata": {},
   "outputs": [
    {
     "data": {
      "text/plain": [
       "'\\nnew_list = [expression(i) for i in old_list if condition(i)]\\n'"
      ]
     },
     "execution_count": 22,
     "metadata": {},
     "output_type": "execute_result"
    }
   ],
   "source": [
    "\"\"\"\n",
    "new_list = [expression(i) for i in old_list if condition(i)]\n",
    "\"\"\""
   ]
  },
  {
   "cell_type": "markdown",
   "metadata": {},
   "source": [
    "(2)更多实例"
   ]
  },
  {
   "cell_type": "code",
   "execution_count": 23,
   "metadata": {},
   "outputs": [
    {
     "name": "stdout",
     "output_type": "stream",
     "text": [
      "[0, 1, 4, 9, 16, 25, 36, 49, 64, 81]\n"
     ]
    }
   ],
   "source": [
    "#生成0到9的列表\n",
    "x = [i for i in range(10)]\n",
    "# 对每个元素求平方\n",
    "print([i**2 for i in x])"
   ]
  },
  {
   "cell_type": "code",
   "execution_count": 24,
   "metadata": {},
   "outputs": [
    {
     "data": {
      "text/plain": [
       "['a', 'b', 'ca']"
      ]
     },
     "execution_count": 24,
     "metadata": {},
     "output_type": "execute_result"
    }
   ],
   "source": [
    "# 对字符串列表中的单词取小写\n",
    "[x.lower() for x in [\"A\",\"b\",\"Ca\"]]"
   ]
  },
  {
   "cell_type": "code",
   "execution_count": 26,
   "metadata": {},
   "outputs": [
    {
     "name": "stdout",
     "output_type": "stream",
     "text": [
      "[[1, 2, 3], [4, 5, 6], [7, 8, 9]]\n"
     ]
    }
   ],
   "source": [
    "#带有for嵌套\n",
    "M = [[y for y in range(x, x+3)] for x in [1, 4, 7]]\n",
    "print(M)"
   ]
  },
  {
   "cell_type": "code",
   "execution_count": 29,
   "metadata": {},
   "outputs": [
    {
     "name": "stdout",
     "output_type": "stream",
     "text": [
      "[0, -1, -2, 3, -4, -5, 6, -7, -8, 9]\n"
     ]
    }
   ],
   "source": [
    "##带if else\n",
    "#[exp1 if condition else exp2 for x in data]\n",
    "q = [i if i%3==0 else -i for i in x]\n",
    "print(q)"
   ]
  },
  {
   "cell_type": "code",
   "execution_count": null,
   "metadata": {},
   "outputs": [],
   "source": []
  }
 ],
 "metadata": {
  "kernelspec": {
   "display_name": "Python 3",
   "language": "python",
   "name": "python3"
  },
  "language_info": {
   "codemirror_mode": {
    "name": "ipython",
    "version": 3
   },
   "file_extension": ".py",
   "mimetype": "text/x-python",
   "name": "python",
   "nbconvert_exporter": "python",
   "pygments_lexer": "ipython3",
   "version": "3.7.4"
  }
 },
 "nbformat": 4,
 "nbformat_minor": 2
}
