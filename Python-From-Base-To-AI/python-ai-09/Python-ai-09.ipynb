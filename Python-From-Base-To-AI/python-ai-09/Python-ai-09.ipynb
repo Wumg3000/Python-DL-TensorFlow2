{
 "cells": [
  {
   "cell_type": "markdown",
   "metadata": {},
   "source": [
    "## 第9章  NumPy基础\n",
    "前面介绍了序列、字典等数据结构（或容器），这些数据结构能存储大量数据，不过它们由于受内部机制的限制，如果存储和管理大数据效率就不高了。为解决大数据存储管理的问题，人们提出了NumPy,这是一个多维数组（ndarray），它是Python科学计算、数据处理、数据分析的基石，其特点如下：  \n",
    "（1）ndarray，快速和节省空间的多维数组，提供数组化的算术运算和高级的广播功能。  \n",
    "（2）使用标准数学函数对整个数组的数据进行快速运算，而不需要编写循环。  \n",
    "（3）读取/写入磁盘上的阵列数据和操作存储器映像文件的工具。  \n",
    "（4）线性代数，随机数生成，和傅里叶变换的能力。  \n",
    "（5）集成C，C++，Fortran代码的工具。\n"
   ]
  },
  {
   "cell_type": "markdown",
   "metadata": {},
   "source": [
    "### 9.2 生成NumPy数组  \n",
    "NumPy是Python的外部库，不在标准库中。因此，若要使用它，需要先导入NumPy。"
   ]
  },
  {
   "cell_type": "code",
   "execution_count": 1,
   "metadata": {},
   "outputs": [],
   "source": [
    "import numpy as np"
   ]
  },
  {
   "cell_type": "markdown",
   "metadata": {},
   "source": [
    "导入NumPy后，可通过np.+Tab键，查看可使用的函数，如果对其中一些函数的使用不很清楚，还可以在对应函数+?，再运行，就可很方便的看到如何使用函数的详细信息(包括格式说明、功能介绍、简单示例等)。"
   ]
  },
  {
   "cell_type": "markdown",
   "metadata": {},
   "source": [
    "#### 9.2.1 从已有数据中创建数组  \n",
    "（1）将列表转换成 ndarray"
   ]
  },
  {
   "cell_type": "code",
   "execution_count": 4,
   "metadata": {},
   "outputs": [
    {
     "name": "stdout",
     "output_type": "stream",
     "text": [
      "[3.14 2.17 0.   1.   2.  ]\n",
      "<class 'numpy.ndarray'>\n"
     ]
    }
   ],
   "source": [
    "import numpy as np\n",
    "\n",
    "lst1 = [3.14, 2.17, 0, 1, 2]\n",
    "nd1 =np.array(lst1)\n",
    "print(nd1)\n",
    "# [3.14 2.17 0.   1.   2.  ]\n",
    "print(type(nd1))"
   ]
  },
  {
   "cell_type": "markdown",
   "metadata": {},
   "source": [
    "（2）嵌套列表可以转换成多维 ndarray"
   ]
  },
  {
   "cell_type": "code",
   "execution_count": 5,
   "metadata": {},
   "outputs": [
    {
     "name": "stdout",
     "output_type": "stream",
     "text": [
      "[[3.14 2.17 0.   1.   2.  ]\n",
      " [1.   2.   3.   4.   5.  ]]\n",
      "<class 'numpy.ndarray'>\n"
     ]
    }
   ],
   "source": [
    "import numpy as np\n",
    "\n",
    "lst2 = [[3.14, 2.17, 0, 1, 2], [1, 2, 3, 4, 5]]\n",
    "nd2 =np.array(lst2)\n",
    "print(nd2)\n",
    "print(type(nd2))"
   ]
  },
  {
   "cell_type": "markdown",
   "metadata": {},
   "source": [
    "#### 9.2.2 利用 random 模块生成数组  \n",
    " np.random 模块有很多常用的函数，具体可参考书中对应章节内容。"
   ]
  },
  {
   "cell_type": "code",
   "execution_count": 9,
   "metadata": {},
   "outputs": [
    {
     "name": "stdout",
     "output_type": "stream",
     "text": [
      "nd3数组：\n",
      "[[0.95458012 0.95391888 0.65197347]\n",
      " [0.76482928 0.6679304  0.01003095]\n",
      " [0.48427667 0.22387634 0.44063122]]\n",
      "nd3的形状为: (3, 3)\n"
     ]
    }
   ],
   "source": [
    "import numpy as np\n",
    "\n",
    "nd3 =np.random.random([3, 3])\n",
    "print(\"nd3数组：\")\n",
    "print(nd3)\n",
    "print(\"nd3的形状为:\",nd3.shape)"
   ]
  },
  {
   "cell_type": "markdown",
   "metadata": {},
   "source": [
    "为了每次生成同一份数据，可以指定一个随机种子，使用shuffle函数打乱生成的随机数。"
   ]
  },
  {
   "cell_type": "code",
   "execution_count": 11,
   "metadata": {},
   "outputs": [
    {
     "name": "stdout",
     "output_type": "stream",
     "text": [
      "[[-1.0856306   0.99734545  0.2829785 ]\n",
      " [-1.50629471 -0.57860025  1.65143654]]\n",
      "随机打乱后数据:\n",
      "[[-1.50629471 -0.57860025  1.65143654]\n",
      " [-1.0856306   0.99734545  0.2829785 ]]\n"
     ]
    }
   ],
   "source": [
    "import numpy as np\n",
    "\n",
    "np.random.seed(123)\n",
    "nd4 = np.random.randn(2,3)\n",
    "print(nd4)\n",
    "np.random.shuffle(nd4)\n",
    "print(\"随机打乱后数据:\")\n",
    "print(nd4)"
   ]
  },
  {
   "cell_type": "markdown",
   "metadata": {},
   "source": [
    "#### 9.2.3 创建特定形状的多维数组\n",
    "参数初始化时，有时需要生成一些特殊矩阵，如全是 0 或 1 的数组或矩阵，这时我们可以利用np.zeros、np.ones、np.diag来实现，更多信息可参考书中的表9-2。"
   ]
  },
  {
   "cell_type": "code",
   "execution_count": 12,
   "metadata": {},
   "outputs": [
    {
     "name": "stdout",
     "output_type": "stream",
     "text": [
      "nd5矩阵:\n",
      "[[0. 0. 0.]\n",
      " [0. 0. 0.]\n",
      " [0. 0. 0.]]\n",
      "nd6矩阵:\n",
      "[[1. 1. 1.]\n",
      " [1. 1. 1.]\n",
      " [1. 1. 1.]]\n",
      "nd7矩阵:\n",
      "[[1. 0. 0.]\n",
      " [0. 1. 0.]\n",
      " [0. 0. 1.]]\n",
      "nd8矩阵:\n",
      "[[1 0 0]\n",
      " [0 2 0]\n",
      " [0 0 3]]\n"
     ]
    }
   ],
   "source": [
    "import numpy as np\n",
    "\n",
    "# 生成全是 0 的 3x3 矩阵\n",
    "nd5 =np.zeros([3, 3])\n",
    "#生成与nd5形状一样的全0矩阵\n",
    "#np.zeros_like(nd5)\n",
    "# 生成全是 1 的 3x3 矩阵\n",
    "nd6 = np.ones([3, 3])\n",
    "# 生成 3 阶的单位矩阵\n",
    "nd7 = np.eye(3)\n",
    "# 生成 3 阶对角矩阵\n",
    "nd8 = np.diag([1, 2, 3])\n",
    "print(\"nd5矩阵:\")\n",
    "print(nd5)\n",
    "print(\"nd6矩阵:\")\n",
    "print(nd6)\n",
    "print(\"nd7矩阵:\")\n",
    "print(nd7)\n",
    "print(\"nd8矩阵:\")\n",
    "print(nd8)"
   ]
  },
  {
   "cell_type": "markdown",
   "metadata": {},
   "source": [
    "有时我们可能需要把生成的数据暂时保存起来，以备后续使用。"
   ]
  },
  {
   "cell_type": "code",
   "execution_count": 13,
   "metadata": {},
   "outputs": [
    {
     "name": "stdout",
     "output_type": "stream",
     "text": [
      "[[0.41092437 0.5796943  0.13995076 0.40101756 0.62731701]\n",
      " [0.32415089 0.24475928 0.69475518 0.5939024  0.63179202]\n",
      " [0.44025718 0.08372648 0.71233018 0.42786349 0.2977805 ]\n",
      " [0.49208478 0.74029639 0.35772892 0.41720995 0.65472131]\n",
      " [0.37380143 0.23451288 0.98799529 0.76599595 0.77700444]]\n"
     ]
    }
   ],
   "source": [
    "import numpy as np\n",
    "\n",
    "nd9 =np.random.random([5, 5])\n",
    "#保存矩阵\n",
    "np.savetxt(X=nd9, fname='./test1.txt')\n",
    "#装载查看数据数据\n",
    "nd10 = np.loadtxt('./test1.txt')\n",
    "print(nd10)"
   ]
  },
  {
   "cell_type": "markdown",
   "metadata": {},
   "source": [
    "#### 9.2.4 利用 arange、linspace 函数生成数组  \n",
    "arange 是 numpy 模块中的函数，其格式为: "
   ]
  },
  {
   "cell_type": "raw",
   "metadata": {},
   "source": [
    "arange([start,] stop[,step,], dtype=None)\n",
    "其中start 与 stop 指定范围，step 设定步长，生成一个 ndarray，start 默认为 0，步长 step 可为小数。Python有个内置函数range功能与此类似。"
   ]
  },
  {
   "cell_type": "code",
   "execution_count": 15,
   "metadata": {},
   "outputs": [
    {
     "name": "stdout",
     "output_type": "stream",
     "text": [
      "[0 1 2 3 4 5 6 7 8 9]\n",
      "[0 1 2 3 4 5 6 7 8 9]\n",
      "[1.  1.5 2.  2.5 3.  3.5]\n",
      "[9 8 7 6 5 4 3 2 1 0]\n"
     ]
    }
   ],
   "source": [
    "import numpy as np\n",
    "\n",
    "print(np.arange(10))\n",
    "print(np.arange(0, 10))\n",
    "print(np.arange(1, 4, 0.5))\n",
    "print(np.arange(9, -1, -1))"
   ]
  },
  {
   "cell_type": "raw",
   "metadata": {},
   "source": [
    "linspace 也是 numpy 模块中常用的函数，其格式为: \n",
    "np.linspace(start, stop, num=50, endpoint=True, retstep=False, dtype=None)\n",
    "\t它可以根据输入的指定数据范围以及等份数量，自动生成一个线性等分向量，其中endpoint (包含终点)默认为 True，等分数量num默认为 50。如果将retstep设置为 True，则会返回一个带步长的 ndarray。"
   ]
  },
  {
   "cell_type": "code",
   "execution_count": 16,
   "metadata": {},
   "outputs": [
    {
     "name": "stdout",
     "output_type": "stream",
     "text": [
      "[0.         0.11111111 0.22222222 0.33333333 0.44444444 0.55555556\n",
      " 0.66666667 0.77777778 0.88888889 1.        ]\n"
     ]
    }
   ],
   "source": [
    "import numpy as np\n",
    "\n",
    "print(np.linspace(0, 1, 10))"
   ]
  },
  {
   "cell_type": "markdown",
   "metadata": {},
   "source": [
    "值得一提的，这里并没有像我们预期的那样，生成 0.1, 0.2, ... 1.0 这样步长为0.1的 ndarray，这是因为 linspace 必定会包含数据起点和终点，那么其步长则为(1-0) / 9 = 0.11111111。如果需要产生 0.1, 0.2, ... 1.0 这样的数据，只需要将数据起点 0 修改为 0.1 即可。"
   ]
  },
  {
   "cell_type": "markdown",
   "metadata": {},
   "source": [
    "### 9.3 获取元素\n",
    "ndarray中元素的获取与列表一样，也是通过索引去定位获取，唯一一点不同的就是ndarray可能有些\n",
    "多维，多维的我们只要把相关方法稍微拓展一下即可，多维的中间用逗号隔开即可，如二维矩阵的情况:\n",
    "    A[i,j]表示从矩阵A中获取行索引、列索引分别为i，j的元素。其它切片等也是如此，示例如下：\n",
    "（1）一维情况"
   ]
  },
  {
   "cell_type": "code",
   "execution_count": 17,
   "metadata": {},
   "outputs": [
    {
     "data": {
      "text/plain": [
       "array([0.4057498 , 0.90320616, 0.29917202, 0.6378774 , 0.39308051])"
      ]
     },
     "execution_count": 17,
     "metadata": {},
     "output_type": "execute_result"
    }
   ],
   "source": [
    "import numpy as np\n",
    "np.random.seed(2019)\n",
    "nd11 = np.random.random([10])\n",
    "#获取指定位置的数据，获取第4个元素\n",
    "nd11[3]\n",
    "#截取一段数据\n",
    "nd11[3:6]\n",
    "#截取固定间隔数据\n",
    "nd11[1:6:2]\n",
    "#倒序取数\n",
    "nd11[::-2]\n"
   ]
  },
  {
   "cell_type": "markdown",
   "metadata": {},
   "source": [
    "（2）二维或多维情况"
   ]
  },
  {
   "cell_type": "code",
   "execution_count": 30,
   "metadata": {},
   "outputs": [
    {
     "name": "stdout",
     "output_type": "stream",
     "text": [
      "[[ 6  7]\n",
      " [11 12]]\n",
      "[4 5 6 7 8 9]\n",
      "[[ 5  6  7  8  9]\n",
      " [10 11 12 13 14]]\n",
      "[[ 1  2]\n",
      " [ 6  7]\n",
      " [11 12]\n",
      " [16 17]\n",
      " [21 22]]\n"
     ]
    }
   ],
   "source": [
    "#截取一个多维数组的一个区域内数据\n",
    "nd12=np.arange(25).reshape([5,5])\n",
    "print(nd12[1:3,1:3])\n",
    "#截取一个多维数组中，数值在一个值域之内的数据\n",
    "print(nd12[(nd12>3)&(nd12<10)])\n",
    "#截取多维数组中，指定的行,如读取第2,3行\n",
    "print(nd12[[1,2]])  #或nd12[1:3,:])\n",
    "##截取多维数组中，指定的列,如读取第2,3列\n",
    "print(nd12[:,1:3])"
   ]
  },
  {
   "attachments": {
    "image.png": {
     "image/png": "[encoded data removed]"
    }
   },
   "cell_type": "markdown",
   "metadata": {},
   "source": [
    "如果对上面这些获取方式还不是很清楚，没关系，下面我们通过图形的方式进一步说明，如图9-2所示，左边为表达式，右边为表达式获取的元素。注意不同的边界，表示不同的表达式。\n",
    "![image.png](attachment:image.png)"
   ]
  },
  {
   "cell_type": "markdown",
   "metadata": {},
   "source": [
    "获取数组中的部分元素除通过指定索引标签外，还可以使用一些函数来实现，如通过random.choice函数可以从指定的样本中进行随机抽取数据。"
   ]
  },
  {
   "cell_type": "code",
   "execution_count": 32,
   "metadata": {},
   "outputs": [
    {
     "name": "stdout",
     "output_type": "stream",
     "text": [
      "随机可重复抽取\n",
      "[[19.  6. 24. 22.]\n",
      " [21. 17. 16.  2.]\n",
      " [23. 15. 13. 11.]]\n",
      "随机但不重复抽取\n",
      "[[ 5. 14. 23. 15.]\n",
      " [ 8. 24.  6. 18.]\n",
      " [13. 10. 21. 11.]]\n",
      "随机但按制度概率抽取\n",
      "[[19. 21. 18. 11.]\n",
      " [10. 21. 23. 19.]\n",
      " [18. 19. 11. 20.]]\n"
     ]
    }
   ],
   "source": [
    "import numpy as np\n",
    "from numpy import random as nr\n",
    "\n",
    "a=np.arange(1,25,dtype=float)\n",
    "c1=nr.choice(a,size=(3,4))  #size指定输出数组形状\n",
    "c2=nr.choice(a,size=(3,4),replace=False)  #replace缺省为True，即可重复抽取。\n",
    "#下式中参数p指定每个元素对应的抽取概率，缺省为每个元素被抽取的概率相同。\n",
    "c3=nr.choice(a,size=(3,4),p=a / np.sum(a))\n",
    "print(\"随机可重复抽取\")\n",
    "print(c1)\n",
    "print(\"随机但不重复抽取\")\n",
    "print(c2)\n",
    "print(\"随机但按制度概率抽取\")\n",
    "print(c3)"
   ]
  },
  {
   "cell_type": "markdown",
   "metadata": {},
   "source": [
    "### 9.4 NumPy的算术运算\n",
    "在机器学习和深度学习中，涉及大量的数组或矩阵运算，这节我们重点介绍两种常用的运算。一种是对应元素相乘，又称为逐元乘法(element-wise product)，运算符为np.multiply(), 或 *。另一种是点积或内积元素，运算符为np.dot()。更多信息大家可参考[机器学习基础数学知识](https://www.cnblogs.com/steven-yang/p/6348112.html)"
   ]
  },
  {
   "cell_type": "markdown",
   "metadata": {},
   "source": [
    "#### 9.4.1对应元素相乘\n",
    "对应元素相乘（element-wise product）是两个矩阵中对应元素乘积。np.multiply 函数用于数组或矩阵对应元素相乘，输出与相乘数组或矩阵的大小一致，其格式如下:\n",
    "numpy.multiply(x1, x2, /, out=None, *, where=True,casting='same_kind', order='K', dtype=None, subok=True[, signature, extobj])\n",
    "\t其中x1，x2之间的对应元素相乘遵守广播规则，NumPy的广播规则本章第7小节将介绍。以下我们通过一些示例来进一步说明。\n"
   ]
  },
  {
   "cell_type": "code",
   "execution_count": 36,
   "metadata": {},
   "outputs": [
    {
     "name": "stdout",
     "output_type": "stream",
     "text": [
      "(A*B结果如下：\n",
      "[[ 2  0]\n",
      " [-3 16]]\n",
      "(np.multiply(A,B)结果如下：\n"
     ]
    },
    {
     "data": {
      "text/plain": [
       "array([[ 2,  0],\n",
       "       [-3, 16]])"
      ]
     },
     "execution_count": 36,
     "metadata": {},
     "output_type": "execute_result"
    }
   ],
   "source": [
    "A = np.array([[1, 2], [-1, 4]])\n",
    "B = np.array([[2, 0], [3, 4]])\n",
    "print(\"(A*B结果如下：\")\n",
    "print(A*B)\n",
    "print(\"(np.multiply(A,B)结果如下：\")\n",
    "np.multiply(A,B)"
   ]
  },
  {
   "attachments": {
    "image.png": {
     "image/png": "[encoded data removed]"
    }
   },
   "cell_type": "markdown",
   "metadata": {},
   "source": [
    "A*B运算过程如下图所示：\n",
    "![image.png](attachment:image.png)\n",
    "NumPy数组不仅可以和数组进行对应元素相乘，也可以和单一数值（或称为标量）进行运算。运算时，NumPy数组每个元素和标量进行运算，其间会用到广播机制（1.7小节将详细介绍）"
   ]
  },
  {
   "cell_type": "code",
   "execution_count": 37,
   "metadata": {},
   "outputs": [
    {
     "name": "stdout",
     "output_type": "stream",
     "text": [
      "[[ 2.  4.]\n",
      " [-2.  8.]]\n",
      "[[ 0.5  1. ]\n",
      " [-0.5  2. ]]\n"
     ]
    }
   ],
   "source": [
    "print(A*2.0)\n",
    "print(A/2.0)"
   ]
  },
  {
   "cell_type": "markdown",
   "metadata": {},
   "source": [
    "由此，推而广之，数组通过一些激活函数后，输出与输入形状一致。<mark style=background-color:yellow>即激活函数不会改变输入数据的形状(shape)\n",
    "</mark>  "
   ]
  },
  {
   "cell_type": "code",
   "execution_count": 38,
   "metadata": {},
   "outputs": [
    {
     "name": "stdout",
     "output_type": "stream",
     "text": [
      "输入参数X的形状： (2, 3)\n",
      "激活函数softmoid输出形状： (2, 3)\n",
      "激活函数relu输出形状： (2, 3)\n",
      "激活函数softmax输出形状： (2, 3)\n"
     ]
    }
   ],
   "source": [
    "X=np.random.rand(2,3)\n",
    "def softmoid(x):\n",
    "    return 1/(1+np.exp(-x))\n",
    "def relu(x):\n",
    "    return np.maximum(0,x)\n",
    "def softmax(x):\n",
    "    return np.exp(x)/np.sum(np.exp(x))\n",
    "\n",
    "print(\"输入参数X的形状：\",X.shape)\n",
    "print(\"激活函数softmoid输出形状：\",softmoid(X).shape)\n",
    "print(\"激活函数relu输出形状：\",relu(X).shape)\n",
    "print(\"激活函数softmax输出形状：\",softmax(X).shape)"
   ]
  },
  {
   "cell_type": "markdown",
   "metadata": {},
   "source": [
    "#### 9.4.2 点积运算\n",
    "点积运算（dot product）又称为内积，在NumPy用np.dot表示，其一般格式为：\n",
    "numpy.dot(a, b, out=None)\n",
    "以下通过一个示例来说明dot的具体使用及注意事项。\n"
   ]
  },
  {
   "cell_type": "code",
   "execution_count": 39,
   "metadata": {},
   "outputs": [
    {
     "name": "stdout",
     "output_type": "stream",
     "text": [
      "[[21 24 27]\n",
      " [47 54 61]]\n"
     ]
    }
   ],
   "source": [
    "X1=np.array([[1,2],[3,4]])\n",
    "X2=np.array([[5,6,7],[8,9,10]])\n",
    "X3=np.dot(X1,X2)\n",
    "print(X3)"
   ]
  },
  {
   "attachments": {
    "image.png": {
     "image/png": "[encoded data removed]"
    }
   },
   "cell_type": "markdown",
   "metadata": {},
   "source": [
    "以上运算，用下图表示：\n",
    "![image.png](attachment:image.png)"
   ]
  },
  {
   "cell_type": "markdown",
   "metadata": {},
   "source": [
    "### 9.5 数组变形\n",
    "NumPy多维数组的形状（shape)可以通过numpy.shape()函数获取，在对数组的实际应用中，经常需要对数组进行变形，如形状为(10,)的一维数据变成形状为（2,5）的二维数组，或反过来（NumPy数组的维度可用numpy.ndim()函数查看）"
   ]
  },
  {
   "cell_type": "markdown",
   "metadata": {},
   "source": [
    "#### 9.5.1 更改数组的形状\n",
    "具体函数及其功能请参考书中对应章节，以下为部分示例："
   ]
  },
  {
   "cell_type": "markdown",
   "metadata": {},
   "source": [
    "（1）使用reshape函数改变数组的形状"
   ]
  },
  {
   "cell_type": "code",
   "execution_count": 56,
   "metadata": {},
   "outputs": [
    {
     "name": "stdout",
     "output_type": "stream",
     "text": [
      "[0 1 2 3 4 5 6 7 8 9]\n",
      "[[0 1 2 3 4]\n",
      " [5 6 7 8 9]]\n",
      "[[0 1]\n",
      " [2 3]\n",
      " [4 5]\n",
      " [6 7]\n",
      " [8 9]]\n",
      "[[0 1 2 3 4]\n",
      " [5 6 7 8 9]]\n"
     ]
    }
   ],
   "source": [
    "import numpy as np\n",
    "\n",
    "arr =np.arange(10)\n",
    "print(arr)\n",
    "# 将向量 arr 维度变换为2行5列\n",
    "print(arr.reshape(2, 5))\n",
    "# 指定维度时可以只指定行数或列数, 其他用 -1 代替\n",
    "print(arr.reshape(5, -1))\n",
    "print(arr.reshape(-1, 5))"
   ]
  },
  {
   "cell_type": "markdown",
   "metadata": {},
   "source": [
    "<mark style=background-color:red>延伸一下</mark>  \n",
    "NumPy数组形状（ndarray.shape）与维度(ndarray.ndim)的区别：  \n",
    "（1）ndarray.ndim表示数组轴的个数，是一个整数  \n",
    "（2)ndarray.shape表示数组各个维度上数组的大小，它是一个元祖。"
   ]
  },
  {
   "cell_type": "code",
   "execution_count": 57,
   "metadata": {},
   "outputs": [
    {
     "name": "stdout",
     "output_type": "stream",
     "text": [
      "数组arr的形状:(10,)，arr的维度:1\n",
      "数组arr1的形状(2, 5)，arr1的维度：2\n"
     ]
    }
   ],
   "source": [
    "print(\"数组arr的形状:{}，arr的维度:{}\".format(np.shape(arr),np.ndim(arr)))\n",
    "arr1=arr.reshape(2, 5)\n",
    "print(\"数组arr1的形状{}，arr1的维度：{}\".format(np.shape(arr1),np.ndim(arr1)))"
   ]
  },
  {
   "cell_type": "markdown",
   "metadata": {},
   "source": [
    "（2）用resize改变数组形状"
   ]
  },
  {
   "cell_type": "code",
   "execution_count": 58,
   "metadata": {},
   "outputs": [
    {
     "name": "stdout",
     "output_type": "stream",
     "text": [
      "[0 1 2 3 4 5 6 7 8 9]\n",
      "[[0 1 2 3 4]\n",
      " [5 6 7 8 9]]\n"
     ]
    }
   ],
   "source": [
    "import numpy as np\n",
    "\n",
    "arr2 =np.arange(10)\n",
    "print(arr2)\n",
    "# 将向量 arr 维度变换为2行5列\n",
    "arr2.resize(2, 5)\n",
    "print(arr2)"
   ]
  },
  {
   "cell_type": "markdown",
   "metadata": {},
   "source": [
    "（3）数组的转置(.T)"
   ]
  },
  {
   "cell_type": "code",
   "execution_count": 60,
   "metadata": {},
   "outputs": [
    {
     "name": "stdout",
     "output_type": "stream",
     "text": [
      "[[ 0  1  2  3]\n",
      " [ 4  5  6  7]\n",
      " [ 8  9 10 11]]\n",
      "转置后的矩阵\n",
      "[[ 0  4  8]\n",
      " [ 1  5  9]\n",
      " [ 2  6 10]\n",
      " [ 3  7 11]]\n"
     ]
    }
   ],
   "source": [
    "import numpy as np\n",
    "\n",
    "arr =np.arange(12).reshape(3,4)\n",
    "# 向量 arr 为3行4列\n",
    "print(arr)\n",
    "# 将向量 arr 进行转置为4行3列\n",
    "print(\"转置后的矩阵\")\n",
    "print(arr.T)"
   ]
  },
  {
   "cell_type": "markdown",
   "metadata": {},
   "source": [
    "（4）展平数组（ravel）-直接修改原数组"
   ]
  },
  {
   "cell_type": "code",
   "execution_count": 61,
   "metadata": {},
   "outputs": [
    {
     "name": "stdout",
     "output_type": "stream",
     "text": [
      "[[0 1 2]\n",
      " [3 4 5]]\n",
      "按照列优先，展平\n",
      "[0 3 1 4 2 5]\n",
      "按照行优先，展平\n",
      "[0 1 2 3 4 5]\n"
     ]
    }
   ],
   "source": [
    "import numpy as np\n",
    "\n",
    "arr =np.arange(6).reshape(2, -1)\n",
    "print(arr)\n",
    "# 按照列优先，展平\n",
    "print(\"按照列优先，展平\")\n",
    "print(arr.ravel('F'))\n",
    "# 按照行优先，展平\n",
    "print(\"按照行优先，展平\")\n",
    "print(arr.ravel())\n"
   ]
  },
  {
   "cell_type": "markdown",
   "metadata": {},
   "source": [
    "（5）展平数组(flatten)"
   ]
  },
  {
   "cell_type": "code",
   "execution_count": 63,
   "metadata": {},
   "outputs": [
    {
     "name": "stdout",
     "output_type": "stream",
     "text": [
      "[[0. 9. 4. 8.]\n",
      " [2. 9. 3. 8.]\n",
      " [4. 1. 1. 4.]]\n",
      "展平后的数组\n",
      "[0. 9. 4. 8. 2. 9. 3. 8. 4. 1. 1. 4.]\n"
     ]
    }
   ],
   "source": [
    "import numpy as np\n",
    "a =np.floor(10*np.random.random((3,4)))\n",
    "print(a)\n",
    "print(\"展平后的数组\")\n",
    "print(a.flatten())"
   ]
  },
  {
   "cell_type": "markdown",
   "metadata": {},
   "source": [
    "（6）对维数为1的维度降维（squeeze）"
   ]
  },
  {
   "cell_type": "code",
   "execution_count": 72,
   "metadata": {},
   "outputs": [
    {
     "name": "stdout",
     "output_type": "stream",
     "text": [
      "arr数组的形状(3, 1)，维度是2\n",
      "变化后数组的形状(3,),维度是1\n",
      "(3, 1, 2, 1)\n",
      "(3, 2)\n"
     ]
    }
   ],
   "source": [
    "import numpy as np\n",
    "\n",
    "arr =np.arange(3).reshape(3, 1)\n",
    "print(\"arr数组的形状{}，维度是{}\".format(arr.shape,np.ndim(arr)))  #(3,1)\n",
    "print(\"变化后数组的形状{},维度是{}\".format(arr.squeeze().shape,np.ndim(arr.squeeze())))  #(3,)\n",
    "arr1 =np.arange(6).reshape(3,1,2,1)\n",
    "print(arr1.shape) #(3, 1, 2, 1)\n",
    "print(arr1.squeeze().shape) #(3, 2)\n"
   ]
  },
  {
   "cell_type": "markdown",
   "metadata": {},
   "source": [
    "（7）改变对数组的轴次序(transpose)  \n",
    "对高维矩阵进行轴对换，这个在深度学习中经常使用，比如把图片表示颜色的RGB顺序，改为GBR的顺序。"
   ]
  },
  {
   "cell_type": "code",
   "execution_count": 73,
   "metadata": {},
   "outputs": [
    {
     "name": "stdout",
     "output_type": "stream",
     "text": [
      "(2, 3, 4)\n",
      "(3, 4, 2)\n"
     ]
    }
   ],
   "source": [
    "import numpy as np\n",
    "\n",
    "arr2 = np.arange(24).reshape(2,3,4)\n",
    "print(arr2.shape)  #(2, 3, 4)\n",
    "print(arr2.transpose(1,2,0).shape)  #(3, 4, 2)"
   ]
  },
  {
   "cell_type": "markdown",
   "metadata": {},
   "source": [
    "#### 9.5.2 合并或拼接数组"
   ]
  },
  {
   "cell_type": "markdown",
   "metadata": {},
   "source": [
    "合并数组也是最常见的操作之一，具体函数及其使用请参考书的对应章节。"
   ]
  },
  {
   "cell_type": "markdown",
   "metadata": {},
   "source": [
    "（1）append\n",
    "合并一维数组"
   ]
  },
  {
   "cell_type": "code",
   "execution_count": 74,
   "metadata": {},
   "outputs": [
    {
     "name": "stdout",
     "output_type": "stream",
     "text": [
      "[1 2 3 4 5 6]\n"
     ]
    }
   ],
   "source": [
    "import numpy as np\n",
    "\n",
    "a =np.array([1, 2, 3])\n",
    "b = np.array([4, 5, 6])\n",
    "c = np.append(a, b)\n",
    "print(c) "
   ]
  },
  {
   "cell_type": "markdown",
   "metadata": {},
   "source": [
    "合并多维数组"
   ]
  },
  {
   "cell_type": "code",
   "execution_count": 75,
   "metadata": {},
   "outputs": [
    {
     "name": "stdout",
     "output_type": "stream",
     "text": [
      "按行合并后的结果\n",
      "[[0 1]\n",
      " [2 3]\n",
      " [0 1]\n",
      " [2 3]]\n",
      "合并后数据维度 (4, 2)\n",
      "按列合并后的结果\n",
      "[[0 1 0 1]\n",
      " [2 3 2 3]]\n",
      "合并后数据维度 (2, 4)\n"
     ]
    }
   ],
   "source": [
    "import numpy as np\n",
    "\n",
    "a =np.arange(4).reshape(2, 2)\n",
    "b = np.arange(4).reshape(2, 2)\n",
    "# 按行合并\n",
    "c = np.append(a, b, axis=0)\n",
    "print('按行合并后的结果')\n",
    "print(c)\n",
    "print('合并后数据维度', c.shape)\n",
    "# 按列合并\n",
    "d = np.append(a, b, axis=1)\n",
    "print('按列合并后的结果')\n",
    "print(d)\n",
    "print('合并后数据维度', d.shape)"
   ]
  },
  {
   "attachments": {
    "image.png": {
     "image/png": "[encoded data removed]"
    }
   },
   "cell_type": "markdown",
   "metadata": {},
   "source": [
    "这里涉及多维数组（或矩阵）的axis概念，axis表示轴，axis=0 表示第0轴，axis=1 表示第1轴，下图以一个二维矩阵威力，说明第0轴与第1轴的具体含义：\n",
    "![image.png](attachment:image.png)"
   ]
  },
  {
   "cell_type": "markdown",
   "metadata": {},
   "source": [
    "（2）concatenate  \n",
    "沿指定轴连接或拼接数组或矩阵"
   ]
  },
  {
   "cell_type": "code",
   "execution_count": 81,
   "metadata": {},
   "outputs": [
    {
     "name": "stdout",
     "output_type": "stream",
     "text": [
      "[[1 2]\n",
      " [3 4]\n",
      " [5 6]]\n",
      "[[1 2 5]\n",
      " [3 4 6]]\n"
     ]
    }
   ],
   "source": [
    "import numpy as np\n",
    "a =np.array([[1, 2], [3, 4]])\n",
    "b = np.array([[5, 6]])\n",
    "\n",
    "c = np.concatenate((a, b), axis=0)\n",
    "print(c)\n",
    "d = np.concatenate((a, b.T), axis=1)\n",
    "print(d)"
   ]
  },
  {
   "cell_type": "markdown",
   "metadata": {},
   "source": [
    "（3）stack  \n",
    "沿指定轴堆叠数组或矩阵"
   ]
  },
  {
   "cell_type": "code",
   "execution_count": 82,
   "metadata": {},
   "outputs": [
    {
     "name": "stdout",
     "output_type": "stream",
     "text": [
      "[[[1 2]\n",
      "  [3 4]]\n",
      "\n",
      " [[5 6]\n",
      "  [7 8]]]\n"
     ]
    }
   ],
   "source": [
    "import numpy as np\n",
    "\n",
    "a =np.array([[1, 2], [3, 4]])\n",
    "b = np.array([[5, 6], [7, 8]])\n",
    "print(np.stack((a, b), axis=0))"
   ]
  },
  {
   "cell_type": "markdown",
   "metadata": {},
   "source": [
    "### 9.6 通用函数  \n",
    "NumPy提供了两种基本的对象，即ndarray和ufunc对象。前面我们介绍了ndarray，本节将介绍NumPy的另一个对象通用函数(ufunc)，ufunc是universal function的缩写，它是一种能对数组的每个元素进行操作的函数。  \n",
    "许多ufunc函数都是用c语言级别实现的，因此它们的计算速度非常快。此外，它们比math模块中函数更灵活。math模块的输入一般是标量，但NumPy中函数可以是向量或矩阵，而利用向量或矩阵可以避免使用循环语句，这点在机器学习、深度学习中非常重要。"
   ]
  },
  {
   "cell_type": "markdown",
   "metadata": {},
   "source": [
    "（1）math与numpy函数的性能比较"
   ]
  },
  {
   "cell_type": "code",
   "execution_count": 87,
   "metadata": {},
   "outputs": [
    {
     "name": "stdout",
     "output_type": "stream",
     "text": [
      "math.sin: 0.4980285167694092\n",
      "numpy.sin: 0.0060002803802490234\n"
     ]
    }
   ],
   "source": [
    "import time\n",
    "import math\n",
    "import numpy as np\n",
    "\n",
    "x = [i * 0.001 for i in np.arange(1000000)]\n",
    "#start = time.clock()\n",
    "start=time.time()\n",
    "for i, t in enumerate(x):\n",
    "    x[i] = math.sin(t)\n",
    "print (\"math.sin:\", time.time() - start )\n",
    "\n",
    "x = [i * 0.001 for i in np.arange(1000000)]\n",
    "x = np.array(x)\n",
    "#start = time.clock()\n",
    "start=time.time()\n",
    "np.sin(x)\n",
    "print (\"numpy.sin:\", time.time() - start )"
   ]
  },
  {
   "cell_type": "markdown",
   "metadata": {},
   "source": [
    "由此可见，numpy.sin比math.sin快近100倍!"
   ]
  },
  {
   "cell_type": "markdown",
   "metadata": {},
   "source": [
    "（2）循环与向量运算比较："
   ]
  },
  {
   "cell_type": "code",
   "execution_count": 88,
   "metadata": {},
   "outputs": [
    {
     "name": "stdout",
     "output_type": "stream",
     "text": [
      "dot = 250443.05312865542\n",
      " for loop----- Computation time = 889.2056999999979ms\n",
      "dot = 250443.05312865914\n",
      " verctor version---- Computation time = 0.0ms\n"
     ]
    }
   ],
   "source": [
    "import time\n",
    "import numpy as np\n",
    "\n",
    "x1 = np.random.rand(1000000)\n",
    "x2 = np.random.rand(1000000)\n",
    "##使用循环计算向量点积\n",
    "tic = time.process_time()\n",
    "dot = 0\n",
    "for i in range(len(x1)):\n",
    "    dot+= x1[i]*x2[i]\n",
    "toc = time.process_time()\n",
    "print (\"dot = \" + str(dot) + \"\\n for loop----- Computation time = \" + str(1000*(toc - tic)) + \"ms\")\n",
    "##使用numpy函数求点积\n",
    "tic = time.process_time()\n",
    "dot = 0\n",
    "dot = np.dot(x1,x2)\n",
    "toc = time.process_time()\n",
    "print (\"dot = \" + str(dot) + \"\\n verctor version---- Computation time = \" + str(1000*(toc - tic)) + \"ms\")\n"
   ]
  },
  {
   "cell_type": "markdown",
   "metadata": {},
   "source": [
    "### 9.7 广播机制  \n",
    "NumPy的Universal functions 中要求输入的数组shape是一致的，当数组的shape不相等的时候，则会使用广播机制。不过，调整数组使得shape一样，需满足一定规则，否则将出错。详细内容请看书中对应章节。"
   ]
  },
  {
   "cell_type": "code",
   "execution_count": 91,
   "metadata": {},
   "outputs": [
    {
     "name": "stdout",
     "output_type": "stream",
     "text": [
      "A矩阵的形状:(4, 1),B矩阵的形状:(3,)\n",
      "C矩阵的形状:(4, 3)\n",
      "[[ 0  1  2]\n",
      " [10 11 12]\n",
      " [20 21 22]\n",
      " [30 31 32]]\n"
     ]
    }
   ],
   "source": [
    "import numpy as np\n",
    "A = np.arange(0, 40,10).reshape(4, 1)\n",
    "B = np.arange(0, 3)\n",
    "print(\"A矩阵的形状:{},B矩阵的形状:{}\".format(A.shape,B.shape))\n",
    "C=A+B\n",
    "print(\"C矩阵的形状:{}\".format(C.shape))\n",
    "print(C)"
   ]
  },
  {
   "attachments": {
    "image.png": {
     "image/png": "[encoded data removed]"
    }
   },
   "cell_type": "markdown",
   "metadata": {},
   "source": [
    "以上运算过程，可用下图表示。\n",
    "![image.png](attachment:image.png)"
   ]
  },
  {
   "cell_type": "code",
   "execution_count": null,
   "metadata": {},
   "outputs": [],
   "source": []
  }
 ],
 "metadata": {
  "kernelspec": {
   "display_name": "Python 3",
   "language": "python",
   "name": "python3"
  },
  "language_info": {
   "codemirror_mode": {
    "name": "ipython",
    "version": 3
   },
   "file_extension": ".py",
   "mimetype": "text/x-python",
   "name": "python",
   "nbconvert_exporter": "python",
   "pygments_lexer": "ipython3",
   "version": "3.7.4"
  }
 },
 "nbformat": 4,
 "nbformat_minor": 2
}
