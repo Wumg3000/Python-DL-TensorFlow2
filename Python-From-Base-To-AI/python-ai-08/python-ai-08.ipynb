{
 "cells": [
  {
   "cell_type": "markdown",
   "metadata": {},
   "source": [
    "## 第8章  文件与异常  \n",
    "前面我们学习Python编程的基础知识和基本技能，接下来将使用Python来解决实际问题。在人工智能、大数据时代，数据是核心内容，是我们分析的依据，也是数据分析、机器学习的原料。如何使用数据、如何分析处理相关数据，就显得非常重要。\n",
    "\t而数据一般是以文件方式存储的，所以如何用Python操作文件是我们经常会遇到的问题。当然在Python操作数据过程中，难免会遇到各种问题，如何保证我们程序的可靠性、容错性等是衡量程序优劣的重要依据。所以本章除了介绍如何操作文件之外，还将介绍如何使Python程序更健壮、更可靠\n",
    "\n"
   ]
  },
  {
   "cell_type": "markdown",
   "metadata": {
    "collapsed": true
   },
   "source": [
    "### 8.1 问题：Python如何获取文件数据？"
   ]
  },
  {
   "cell_type": "markdown",
   "metadata": {},
   "source": [
    "Python处理文件的步骤包括打开、读写、关闭。第一步当然就是先要打开文件。要以读文件的模式打开一个文件对象，使用Python内置的open()函数，传入文件名和其他参数。open() 函数常用形式是接收两个参数：文件名(file)和模式(mode)，如："
   ]
  },
  {
   "cell_type": "raw",
   "metadata": {},
   "source": [
    "open(file, mode='r', buffering=-1, encoding=None, errors=None, newline=None, closefd=True, opener=None)"
   ]
  },
  {
   "cell_type": "markdown",
   "metadata": {},
   "source": [
    "其中：\n",
    "- file: 必需，文件路径（相对或者绝对路径）。如果是linux环境，路径一般表示为'./data/file_name',如果是windows环境，一般表示为'.\\data\\file_name',因反斜杠\"\\\"在Python中被视为转义字符，为确保正确，应以原字符串的方式指定路径，即在开头的单引号前加上r。\n",
    "- mode: 可选，文件打开模式\n",
    "- buffering: 可选，设置缓冲\n",
    "- encoding: 可选，一般使用utf8\n",
    "- errors: 可选，报错级别\n",
    "- newline: 可选，区分换行符，如\\n,\\r\\n等\n",
    "- closefd: 可选，传入的file参数类型\n",
    "- opener: 可选，可以通过调用*opener*来自定义opener。\n"
   ]
  },
  {
   "cell_type": "code",
   "execution_count": 1,
   "metadata": {},
   "outputs": [
    {
     "name": "stdout",
     "output_type": "stream",
     "text": [
      "Python，java\n",
      "PyTorch，TensorFlow，Keras\n"
     ]
    }
   ],
   "source": [
    "#用open()函数打开文件具体代码如下：\n",
    "##这是windows环境\n",
    "myfile = open(r\".\\data\\hello.txt\",'r') \n",
    "#如果是linux环境，打开方式为：myfile = open(\"./data/hello.txt\",'r') \n",
    "contents=myfile.read()\n",
    "print(contents) \n",
    "myfile.close()"
   ]
  },
  {
   "cell_type": "markdown",
   "metadata": {},
   "source": [
    "### 8.2基本文件操作\n",
    "\t对文件的常用操作包括读取文件，写入文件。读取文件又可以根据文件的大小选择不同的读取方式，如按字节读取、逐行读取、读取整个文件等方式。\n",
    "####  8.2.1 读取文件  \n",
    "（1）按字节读取"
   ]
  },
  {
   "cell_type": "code",
   "execution_count": 2,
   "metadata": {},
   "outputs": [
    {
     "name": "stdout",
     "output_type": "stream",
     "text": [
      "P\n",
      "y\n",
      "th\n"
     ]
    }
   ],
   "source": [
    "myfile = open(r'.\\data\\hello.txt')\n",
    "token = myfile.read(1)\n",
    "print(token) #p\n",
    "token = myfile.read(1)\n",
    "print(token) #y\n",
    "token = myfile.read(2)\n",
    "print(token)  #th\n",
    "myfile.close()"
   ]
  },
  {
   "cell_type": "markdown",
   "metadata": {},
   "source": [
    "（2）读取整个文件"
   ]
  },
  {
   "cell_type": "code",
   "execution_count": 3,
   "metadata": {},
   "outputs": [
    {
     "name": "stdout",
     "output_type": "stream",
     "text": [
      "Python，java\n",
      "PyTorch，TensorFlow，Keras\n"
     ]
    }
   ],
   "source": [
    "myfile = open(r\".\\data\\hello.txt\")\n",
    "token = myfile.read()\n",
    "print(token)\n",
    "myfile.close()"
   ]
  },
  {
   "cell_type": "markdown",
   "metadata": {},
   "source": [
    "#### 8.2.2读取文件使用with语句  \n",
    "Python语言为了避免忘记关闭文件，提供了with关键字来自动关闭文件"
   ]
  },
  {
   "cell_type": "code",
   "execution_count": 4,
   "metadata": {},
   "outputs": [
    {
     "name": "stdout",
     "output_type": "stream",
     "text": [
      "Python，java\n",
      "PyTorch，TensorFlow，Keras\n"
     ]
    }
   ],
   "source": [
    "with open(r'.\\data\\hello.txt') as myfile:\n",
    "    print(myfile.read())"
   ]
  },
  {
   "cell_type": "markdown",
   "metadata": {},
   "source": [
    "#### 8.2.3 逐行读取文件\n",
    "使用read()方法要么读取整个文件，要么读取固定字节数，总归不太方便。文本文件都是由多行字符串组成，Python也可以逐行读取文件，使用readline()方法。  \n",
    "（1）逐行读取文件内容并打印"
   ]
  },
  {
   "cell_type": "code",
   "execution_count": 6,
   "metadata": {},
   "outputs": [
    {
     "name": "stdout",
     "output_type": "stream",
     "text": [
      "no,name,age,gender\n",
      "\n",
      "01,李康,15,M\n",
      "\n",
      "02,张平,14,F\n",
      "\n",
      "03,刘畅,16,M\n",
      "\n"
     ]
    }
   ],
   "source": [
    "with open(r\".\\data\\stu.csv\") as myfiles:\n",
    "    for line in myfiles:\n",
    "        print(line)\n"
   ]
  },
  {
   "cell_type": "markdown",
   "metadata": {},
   "source": [
    "（2）删除空行  \n",
    "从上面的打印结果可以看出，行之间多了一个空行。为何出现这种情况？这是因为在文件中，每行的末尾都有一个不可见的换行符(如\\n),print语句会加上这个换行符。如何去掉这些空行？只要在print中使用rstrip()或strip()即可："
   ]
  },
  {
   "cell_type": "code",
   "execution_count": 7,
   "metadata": {},
   "outputs": [
    {
     "name": "stdout",
     "output_type": "stream",
     "text": [
      "no,name,age,gender\n",
      "01,李康,15,M\n",
      "02,张平,14,F\n",
      "03,刘畅,16,M\n"
     ]
    }
   ],
   "source": [
    "with open(r\".\\data\\stu.csv\") as myfiles:\n",
    "    for line in myfiles:\n",
    "        print(line.rstrip())"
   ]
  },
  {
   "cell_type": "markdown",
   "metadata": {},
   "source": [
    "（3）使用readline()可以每次读取一行"
   ]
  },
  {
   "cell_type": "code",
   "execution_count": 8,
   "metadata": {},
   "outputs": [
    {
     "name": "stdout",
     "output_type": "stream",
     "text": [
      "no,name,age,gender\n",
      "01,李康,15,M\n"
     ]
    }
   ],
   "source": [
    "with open(r\".\\data\\stu.csv\") as myfiles:\n",
    "    line1=myfiles.readline()\n",
    "    print(line1.rstrip())\n",
    "    line2=myfiles.readline()\n",
    "    print(line2.strip())"
   ]
  },
  {
   "cell_type": "markdown",
   "metadata": {
    "collapsed": true
   },
   "source": [
    "#### 8.2.4 读取文件所有内容\n",
    "使用readline()方法虽然可以一次读一行，比使用read(size)方法一次读一个字节方便了不少，\n",
    "但每次运行readline()方法后，文件指针会自动指向下一行，仍然要再调用一次readline()方法，  \n",
    "才能读取下一行内容。还是不方便。  \n",
    "（1）使用readlines()读取文件所有内容  \n",
    "Python还提供了readlines()方法一次把文件所有行都读出来，放入到一个列表中\n"
   ]
  },
  {
   "cell_type": "code",
   "execution_count": 10,
   "metadata": {},
   "outputs": [
    {
     "name": "stdout",
     "output_type": "stream",
     "text": [
      "<class 'list'>\n",
      "no,name,age,gender\n",
      "01,李康,15,M\n",
      "02,张平,14,F\n",
      "03,刘畅,16,M\n"
     ]
    }
   ],
   "source": [
    "with open(r\".\\data\\stu.csv\") as myfiles:\n",
    "    lists=myfiles.readlines()\n",
    "    print(type(lists))\n",
    "    for line in lists:\n",
    "        print(line.strip())"
   ]
  },
  {
   "cell_type": "markdown",
   "metadata": {},
   "source": [
    "下面定义一个类Stu，该类实现利用readlines()函数返回的列表中，并处理每行的每列数据，\n",
    "并打印出每列属性值。  \n",
    "（2）定义类Stu"
   ]
  },
  {
   "cell_type": "code",
   "execution_count": 11,
   "metadata": {},
   "outputs": [],
   "source": [
    "class Stu:\n",
    "    def __init__(self,no,name,age,gender):\n",
    "        self.no = no\n",
    "        self.name = name\n",
    "        self.age = age\n",
    "        self.gender = gender\n",
    "\n",
    "    def debug(self):\n",
    "        print(\"学号：{},姓名：{}, 年龄：{},性别:{}\".format(self.no,self.name,self.age,self.gender))\n"
   ]
  },
  {
   "cell_type": "markdown",
   "metadata": {},
   "source": [
    "（3）处理文件中每列数据"
   ]
  },
  {
   "cell_type": "code",
   "execution_count": 12,
   "metadata": {},
   "outputs": [
    {
     "name": "stdout",
     "output_type": "stream",
     "text": [
      "学号：01,姓名：李康, 年龄：15,性别:M\n",
      "学号：02,姓名：张平, 年龄：14,性别:F\n",
      "学号：03,姓名：刘畅, 年龄：16,性别:M\n"
     ]
    }
   ],
   "source": [
    "with  open(r\".\\data\\stu.csv\") as myfiles:\n",
    "    for line in myfiles.readlines():\n",
    "        line = line.strip()\n",
    "        #不取第一行列名\n",
    "        if (line[0] != 'n'):\n",
    "            lst = line.split(',')\n",
    "            stu = Stu(lst[0],lst[1],lst[2],lst[3])\n",
    "            stu.debug()\n"
   ]
  },
  {
   "cell_type": "markdown",
   "metadata": {},
   "source": [
    "#### 8.2.5写入文件\n",
    "write(str)方法把str字符串写入文件，返回值是str字符串的长度。写文件前要先使用追加或写入模式打开文件。"
   ]
  },
  {
   "cell_type": "code",
   "execution_count": 13,
   "metadata": {},
   "outputs": [],
   "source": [
    "with open(r'.\\data\\newfile','a') as myfile:\n",
    "   myfile.write(\"hello,Python\")"
   ]
  },
  {
   "cell_type": "markdown",
   "metadata": {},
   "source": [
    "如果要把多行内容写文件，可以每行都调用write方法，Python也提供了writelines(seq)方法一次性写入多行内容。参数seq是一个列表或元祖。"
   ]
  },
  {
   "cell_type": "code",
   "execution_count": 14,
   "metadata": {},
   "outputs": [],
   "source": [
    "with open(r'.\\data\\newfile','w') as myfile:\n",
    "   seq1 = [\"第一行\\n\",\"第二行\\n\"]\n",
    "   seq2 = (\"第三行\\n\",\"第四行\\n\")\n",
    "   myfile.writelines(seq1)\n",
    "   myfile.writelines(seq2)\n"
   ]
  },
  {
   "cell_type": "markdown",
   "metadata": {},
   "source": [
    "#### 8.2.6 中文乱码处理\n",
    "采用utf-8字符集生成文件，代码如下："
   ]
  },
  {
   "cell_type": "code",
   "execution_count": 15,
   "metadata": {},
   "outputs": [],
   "source": [
    "with open(r'.\\data\\newfile-utf8','w',encoding='utf-8') as myfile:\n",
    "   seq1 = [\"第一行\\n\",\"第二行\\n\"]\n",
    "   seq2 = (\"第三行\\n\",\"第四行\\n\")\n",
    "   myfile.writelines(seq1)\n",
    "   myfile.writelines(seq2)"
   ]
  },
  {
   "cell_type": "markdown",
   "metadata": {},
   "source": [
    "如果用缺省字符集（即GBK）打开文件newfile-utf8将报错："
   ]
  },
  {
   "cell_type": "code",
   "execution_count": 16,
   "metadata": {},
   "outputs": [
    {
     "ename": "UnicodeDecodeError",
     "evalue": "'gbk' codec can't decode byte 0xac in position 2: illegal multibyte sequence",
     "output_type": "error",
     "traceback": [
      "\u001b[1;31m---------------------------------------------------------------------------\u001b[0m",
      "\u001b[1;31mUnicodeDecodeError\u001b[0m                        Traceback (most recent call last)",
      "\u001b[1;32m<ipython-input-16-e44c29babe17>\u001b[0m in \u001b[0;36m<module>\u001b[1;34m\u001b[0m\n\u001b[0;32m      1\u001b[0m \u001b[1;32mwith\u001b[0m \u001b[0mopen\u001b[0m\u001b[1;33m(\u001b[0m\u001b[1;34mr\".\\data\\newfile-utf8\"\u001b[0m\u001b[1;33m,\u001b[0m\u001b[1;34m'r'\u001b[0m\u001b[1;33m)\u001b[0m \u001b[1;32mas\u001b[0m \u001b[0mfile_utf\u001b[0m\u001b[1;33m:\u001b[0m\u001b[1;33m\u001b[0m\u001b[1;33m\u001b[0m\u001b[0m\n\u001b[0;32m      2\u001b[0m \u001b[1;31m#with open(r\".\\data\\newfile-utf8\",'r',encoding='utf-8') as file_utf:\u001b[0m\u001b[1;33m\u001b[0m\u001b[1;33m\u001b[0m\u001b[1;33m\u001b[0m\u001b[0m\n\u001b[1;32m----> 3\u001b[1;33m     \u001b[0mlists\u001b[0m\u001b[1;33m=\u001b[0m\u001b[0mfile_utf\u001b[0m\u001b[1;33m.\u001b[0m\u001b[0mreadlines\u001b[0m\u001b[1;33m(\u001b[0m\u001b[1;33m)\u001b[0m\u001b[1;33m\u001b[0m\u001b[1;33m\u001b[0m\u001b[0m\n\u001b[0m\u001b[0;32m      4\u001b[0m     \u001b[1;32mfor\u001b[0m \u001b[0mline\u001b[0m \u001b[1;32min\u001b[0m \u001b[0mlists\u001b[0m\u001b[1;33m:\u001b[0m\u001b[1;33m\u001b[0m\u001b[1;33m\u001b[0m\u001b[0m\n\u001b[0;32m      5\u001b[0m         \u001b[0mprint\u001b[0m\u001b[1;33m(\u001b[0m\u001b[0mline\u001b[0m\u001b[1;33m.\u001b[0m\u001b[0mstrip\u001b[0m\u001b[1;33m(\u001b[0m\u001b[1;33m)\u001b[0m\u001b[1;33m)\u001b[0m\u001b[1;33m\u001b[0m\u001b[1;33m\u001b[0m\u001b[0m\n",
      "\u001b[1;31mUnicodeDecodeError\u001b[0m: 'gbk' codec can't decode byte 0xac in position 2: illegal multibyte sequence"
     ]
    }
   ],
   "source": [
    "with open(r\".\\data\\newfile-utf8\",'r') as file_utf:\n",
    "#with open(r\".\\data\\newfile-utf8\",'r',encoding='utf-8') as file_utf:\n",
    "    lists=file_utf.readlines()\n",
    "    for line in lists:\n",
    "        print(line.strip())"
   ]
  },
  {
   "cell_type": "markdown",
   "metadata": {},
   "source": [
    "改用UTF-8方式打开，一切都正常。"
   ]
  },
  {
   "cell_type": "code",
   "execution_count": 17,
   "metadata": {},
   "outputs": [
    {
     "name": "stdout",
     "output_type": "stream",
     "text": [
      "第一行\n",
      "第二行\n",
      "第三行\n",
      "第四行\n"
     ]
    }
   ],
   "source": [
    "#with open(r\".\\data\\newfile-utf8\",'r') as file_utf:\n",
    "with open(r\".\\data\\newfile-utf8\",'r',encoding='utf-8') as file_utf:\n",
    "    lists=file_utf.readlines()\n",
    "    for line in lists:\n",
    "        print(line.strip())"
   ]
  },
  {
   "cell_type": "markdown",
   "metadata": {},
   "source": [
    "### 8.3 目录操作  \n",
    "在操作系统中，除了文件之外还有目录。文件目录被当作是一种特殊类型的文件。Python操作目录要比操作文件简单一些。\n",
    "### 8.3.1 os简介\n",
    "详细说明，请参考书中对应章节"
   ]
  },
  {
   "cell_type": "markdown",
   "metadata": {},
   "source": [
    "#### 8.3.2 查看环境变量"
   ]
  },
  {
   "cell_type": "raw",
   "metadata": {},
   "source": [
    "#os.environ\n",
    "os.environ.get('PYTHONPATH')"
   ]
  },
  {
   "cell_type": "markdown",
   "metadata": {},
   "source": [
    "#### 8.3.3 判断是否为文件或目录"
   ]
  },
  {
   "cell_type": "code",
   "execution_count": 21,
   "metadata": {},
   "outputs": [
    {
     "name": "stdout",
     "output_type": "stream",
     "text": [
      "D:\\python-script\\py\\python-base-al-code\\python-ai-08\n"
     ]
    },
    {
     "data": {
      "text/plain": [
       "True"
      ]
     },
     "execution_count": 21,
     "metadata": {},
     "output_type": "execute_result"
    }
   ],
   "source": [
    "import os\n",
    "\n",
    "#获取当前路径\n",
    "curpath = os.path.abspath(os.path.curdir)\n",
    "print(curpath)\n",
    "#判断指定文件是否存在\n",
    "filepath = \".\\data\\hello.txt\"\n",
    "os.path.exists(filepath)  #True\n",
    "#判断是否为路径\n",
    "os.path.isdir(filepath)  #False\n",
    "#判断是否为文件\n",
    "os.path.isfile(filepath)  #True"
   ]
  },
  {
   "cell_type": "markdown",
   "metadata": {},
   "source": [
    "#### 8.3.4 判断是否为文件或目录  \n",
    "以下代码指定了一个绝对路径，如果该路径不存在，就自动创建"
   ]
  },
  {
   "cell_type": "raw",
   "metadata": {
    "collapsed": true
   },
   "source": [
    "import os\n",
    "\n",
    "mydir = \".\\data\\dir1\\dir2\\dir3\"\n",
    "if (os.path.exists(mydir) == False):\n",
    "    os.makedirs(mydir)"
   ]
  },
  {
   "cell_type": "markdown",
   "metadata": {},
   "source": [
    "#### 8.3.5 join目录\n",
    "要把两个路径合成一个时，不要直接拼字符串，而要通过os.path.join()函数，这样可以正确处理不同操作系统的路径分隔符。在Linux/Unix/Mac下，执行以下命令"
   ]
  },
  {
   "cell_type": "code",
   "execution_count": 23,
   "metadata": {},
   "outputs": [
    {
     "data": {
      "text/plain": [
       "'path1\\\\path2'"
      ]
     },
     "execution_count": 23,
     "metadata": {},
     "output_type": "execute_result"
    }
   ],
   "source": [
    "#windows环境\n",
    "os.path.join('path1', 'path2')\n",
    "#如果是linux环境将返回'path1/path2'"
   ]
  },
  {
   "cell_type": "markdown",
   "metadata": {},
   "source": [
    "### 8.4异常处理  \n",
    "在Python编程中遇到的错误分为两种。一种是语法错误（Syntax Error），即在程序编写时违反了语法规则，运行时马上就会报错，并且有错误信息；还有一种是程序运行一直正常，突然有一次就挂掉了，而且也报了一堆的出错信息，这种情况多半是由于程序运行所依赖的外部条件变化导致的。这种错误被称作异常（Exception）。\n",
    "#### 8.4.2 捕获异常  \n",
    "异常处理有两个关键字：try和except。这两个关键字把程序分成两个代码块。try中放置程序正常运行代码，except中是处理程序出错后的代码。其语句结构如下："
   ]
  },
  {
   "cell_type": "raw",
   "metadata": {},
   "source": [
    "try:\n",
    "<语句>        #运行别的代码\n",
    "except <异常类型>：\n",
    "<语句>        #如果在try部份引发了'异常类型'的异常\n",
    "[except <异常类型>，<数据>:\n",
    "<语句>        #如果引发了'异常类型'的异常，获得附加的数据]\n",
    "[else:\n",
    "<语句>        #如果没有异常发生]\n",
    "[finally:\n",
    "<语句>        #无论代码执行是否成功，都该执行语句]"
   ]
  },
  {
   "cell_type": "markdown",
   "metadata": {},
   "source": [
    "try..except代码执行过程类似于 if...else，但后者仅限于可以预知的错误，而使用except是来捕获隐藏的错误。下面代码演示除数为零的异常。"
   ]
  },
  {
   "cell_type": "code",
   "execution_count": 24,
   "metadata": {},
   "outputs": [
    {
     "name": "stdout",
     "output_type": "stream",
     "text": [
      "除法运行错误，请检查数值\n"
     ]
    }
   ],
   "source": [
    "try:\n",
    "    num1 = 10\n",
    "    num2 = 0\n",
    "    print(num1 / num2)\n",
    "except:\n",
    "    print(\"除法运行错误，请检查数值\")\n"
   ]
  },
  {
   "cell_type": "markdown",
   "metadata": {},
   "source": [
    "在进行文件操作时，也会出各种异常情况，同样适用try..except语法格式。以下代码中要打开的文件并不存在，程序捕捉到这种异常后，会进入except模块"
   ]
  },
  {
   "cell_type": "code",
   "execution_count": 25,
   "metadata": {},
   "outputs": [
    {
     "name": "stdout",
     "output_type": "stream",
     "text": [
      "处理文件出错\n"
     ]
    }
   ],
   "source": [
    "try:\n",
    "  myfile = open(\"test.txt\")\n",
    "  myfile.read()\n",
    "  myfile.close()\n",
    "except:\n",
    "  print(\"处理文件出错\")\n"
   ]
  },
  {
   "cell_type": "markdown",
   "metadata": {},
   "source": [
    "#### 8.4.3 捕获多种异常  \n",
    "异常的种类有多种，针对不同类型的异常可以做区别处理。Python中定义的异常类型有很多种，常见的几种类型可参考书中表9-3。  \n",
    "捕获多种异常的语法格式为："
   ]
  },
  {
   "cell_type": "raw",
   "metadata": {},
   "source": [
    "try:\n",
    "  #正常执行代码行a\n",
    "  #正常执行代码行b\n",
    "  #... ...\n",
    "except 异常类名1 as 变量名1:\n",
    "  #处理异常1的代码块\n",
    "except 异常类名2 as 变量名2:\n",
    "  #处理异常2的代码块\n",
    "except 异常类名3 as 变量名3:\n",
    "   #处理异常3的代码块\n"
   ]
  },
  {
   "cell_type": "markdown",
   "metadata": {},
   "source": [
    "我们把上一节的两种异常代码合并处理："
   ]
  },
  {
   "cell_type": "code",
   "execution_count": 26,
   "metadata": {},
   "outputs": [
    {
     "name": "stdout",
     "output_type": "stream",
     "text": [
      "除法运行错误 division by zero\n",
      "处理文件出错 [Errno 2] No such file or directory: 'test.txt'\n"
     ]
    }
   ],
   "source": [
    "def demo():\n",
    "    \n",
    "    try:\n",
    "        num1 = 10\n",
    "        num2 = 0\n",
    "        print(num1 / num2)\n",
    "    except ZeroDivisionError as e:\n",
    "        print(\"除法运行错误\", e)\n",
    "    try:\n",
    "        with open(\"test.txt\") as myfile:\n",
    "            myfile.read()   \n",
    "    except FileNotFoundError as e:\n",
    "        print(\"处理文件出错\", e)\n",
    "\n",
    "demo()\n"
   ]
  },
  {
   "cell_type": "markdown",
   "metadata": {},
   "source": [
    "#### 8.4.4 捕获所有异常  \n",
    "既然有那么多的异常种类，我需要每个都捕获么？那样代码写起来太冗长了。Python的每个常规异常类型被定义成了一个类，这些类都有一个共同的父类，就是Exception类。在不需要区分异常类型的情况下，把所有异常都归入Exception类也是通用的做法。"
   ]
  },
  {
   "cell_type": "code",
   "execution_count": 28,
   "metadata": {},
   "outputs": [
    {
     "name": "stdout",
     "output_type": "stream",
     "text": [
      "I/O error: [Errno 2] No such file or directory: 'myfile.txt'\n"
     ]
    }
   ],
   "source": [
    "import sys\n",
    "\n",
    "try:\n",
    "    with open('myfile.txt') as files:\n",
    "        s = files.readline()\n",
    "except IOError as err:\n",
    "    print(\"I/O error: {0}\".format(err))\n",
    "except ValueError:\n",
    "    print(\"Could not convert data to an integer.\")\n",
    "except:\n",
    "    print(\"Unexpected error:\", sys.exc_info()[0])\n",
    "    raise"
   ]
  },
  {
   "cell_type": "markdown",
   "metadata": {},
   "source": [
    "另外需要注意，如果多个except并列出现，要把Exception基类放在最下面，否则会出现某个异常种类捕捉不到的情况。以下代码是错误的："
   ]
  },
  {
   "cell_type": "code",
   "execution_count": 29,
   "metadata": {},
   "outputs": [
    {
     "name": "stdout",
     "output_type": "stream",
     "text": [
      "程序运行异常 [Errno 2] No such file or directory: 'test.txt'\n"
     ]
    }
   ],
   "source": [
    "def demo():\n",
    "  try:\n",
    "    with open(\"test.txt\") as myfile:\n",
    "        myfile.read()\n",
    "   \n",
    "  except Exception as e:\n",
    "    print(\"程序运行异常\", e)\n",
    "  except IOError as e:\n",
    "    print(\"IO异常\", e)\n",
    "\n",
    "demo()\n"
   ]
  },
  {
   "cell_type": "markdown",
   "metadata": {},
   "source": [
    "#### 8.4.5 清理操作  \n",
    "异常处理中还有一个关键字是finally。final是最终的意思，finally代码块放在所有except代码的后面，无论是否执行了异常代码，finally中的代码都会被执行。"
   ]
  },
  {
   "cell_type": "code",
   "execution_count": 30,
   "metadata": {},
   "outputs": [
    {
     "name": "stdout",
     "output_type": "stream",
     "text": [
      "程序运行异常 division by zero\n",
      "程序运行结束\n"
     ]
    }
   ],
   "source": [
    "try:\n",
    "    num1 = 10\n",
    "    num2 = 0\n",
    "    print(num1 / num2)\n",
    "except Exception as e:\n",
    "    print(\"程序运行异常\", e)\n",
    "finally:\n",
    "    print(\"程序运行结束\")\n",
    "#程序运行结果\n",
    "#程序运行异常 division by zero\n",
    "#程序运行结束\n"
   ]
  },
  {
   "cell_type": "markdown",
   "metadata": {},
   "source": [
    "finally关键字只能出现一次，里面的代码主要完成清理工作。比如关闭文件、关闭数据库链接、记录运行日志等。如下代码把关闭文件放在finally中"
   ]
  },
  {
   "cell_type": "code",
   "execution_count": 31,
   "metadata": {},
   "outputs": [
    {
     "name": "stdout",
     "output_type": "stream",
     "text": [
      "n\n"
     ]
    }
   ],
   "source": [
    "myfile = open(r\".\\data\\stu.csv\")\n",
    "try:\n",
    "  print(myfile.read(1))\n",
    "except Exception as e:\n",
    "  print(\"程序运行异常\", e)\n",
    "finally:\n",
    "  myfile.close()\n"
   ]
  },
  {
   "cell_type": "markdown",
   "metadata": {},
   "source": [
    "#### 8.4.6 try else finally return之间的关系  \n",
    "如果finally遇到return，finally是必然要执行的。finally中的return语句拥有最高的优先级输出。先看如下代码。"
   ]
  },
  {
   "cell_type": "code",
   "execution_count": 32,
   "metadata": {},
   "outputs": [
    {
     "name": "stdout",
     "output_type": "stream",
     "text": [
      "no,name,age,gender\n",
      "文件已关闭\n"
     ]
    },
    {
     "data": {
      "text/plain": [
       "100"
      ]
     },
     "execution_count": 32,
     "metadata": {},
     "output_type": "execute_result"
    }
   ],
   "source": [
    "def demo():\n",
    "  \n",
    "  try:\n",
    "    myfile = open(r\".\\data\\stu.csv\")\n",
    "    print(myfile.read(18))\n",
    "    return 10\n",
    "  except Exception as e:\n",
    "    print(\"程序运行异常\", e)\n",
    "  else:\n",
    "    print('没有错误')\n",
    "  finally:\n",
    "    myfile.close()\n",
    "    print(\"文件已关闭\")\n",
    "    return 100\n",
    "\n",
    "\n",
    "demo()\n",
    "\n",
    "\n",
    "#程序运行结果\n",
    "#no,name,age,gender\n",
    "#文件已关闭\n",
    "#100\n"
   ]
  },
  {
   "cell_type": "code",
   "execution_count": null,
   "metadata": {
    "collapsed": true
   },
   "outputs": [],
   "source": []
  }
 ],
 "metadata": {
  "kernelspec": {
   "display_name": "Python 3",
   "language": "python",
   "name": "python3"
  },
  "language_info": {
   "codemirror_mode": {
    "name": "ipython",
    "version": 3
   },
   "file_extension": ".py",
   "mimetype": "text/x-python",
   "name": "python",
   "nbconvert_exporter": "python",
   "pygments_lexer": "ipython3",
   "version": "3.7.4"
  }
 },
 "nbformat": 4,
 "nbformat_minor": 2
}
