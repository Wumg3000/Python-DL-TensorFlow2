{
 "cells": [
  {
   "cell_type": "code",
   "execution_count": 3,
   "id": "08e18ea5",
   "metadata": {},
   "outputs": [],
   "source": [
    "from torch import nn\n",
    "import torch"
   ]
  },
  {
   "cell_type": "code",
   "execution_count": 14,
   "id": "60892b4d",
   "metadata": {},
   "outputs": [
    {
     "name": "stdout",
     "output_type": "stream",
     "text": [
      "output1: torch.Size([20, 33, 101, 201])\n"
     ]
    }
   ],
   "source": [
    "m = nn.ConvTranspose2d(16, 33, 3, stride=2)\n",
    "#m = nn.ConvTranspose2d(16, 33, (3, 5), stride=(2, 1), padding=(4, 2))\n",
    "input = torch.randn(20, 16, 50, 100)\n",
    "output = m(input)\n",
    "print(\"output1:\",output.size())\n"
   ]
  },
  {
   "cell_type": "code",
   "execution_count": 15,
   "id": "051475ea",
   "metadata": {},
   "outputs": [
    {
     "name": "stdout",
     "output_type": "stream",
     "text": [
      "z: torch.Size([1, 16, 6, 6])\n",
      "output2: torch.Size([1, 16, 12, 12])\n"
     ]
    }
   ],
   "source": [
    "input = torch.randn(1, 16, 12, 12)\n",
    "downsample = nn.Conv2d(16, 16, 3, stride=2, padding=1)\n",
    "upsample = nn.ConvTranspose2d(16, 16, 3, stride=2, padding=1)\n",
    "h = downsample(input)\n",
    "print(\"z:\",h.size())\n",
    "output = upsample(h, output_size=input.size())\n",
    "print(\"output2:\",output.size())"
   ]
  },
  {
   "cell_type": "markdown",
   "id": "8c5a976a",
   "metadata": {},
   "source": [
    "https://blog.csdn.net/qq_36560894/article/details/115552509"
   ]
  },
  {
   "cell_type": "code",
   "execution_count": 12,
   "id": "18d7d05c",
   "metadata": {},
   "outputs": [
    {
     "name": "stdout",
     "output_type": "stream",
     "text": [
      "torch.Size([1, 8, 3, 3])\n",
      "torch.Size([1, 3, 5, 5])\n"
     ]
    }
   ],
   "source": [
    "conv = nn.Conv2d(3, 8, 3, stride=2, padding=1)\n",
    "Dconv = nn.ConvTranspose2d(8, 3, 3, stride=2, padding=1)\n",
    "\n",
    "x = torch.randn(1, 3, 5, 5)\n",
    "\n",
    "feature = conv(x)\n",
    "print(feature.shape)\n",
    "# out : torch.Size([1, 8, 3, 3])\n",
    "y = Dconv(feature)\n",
    "print(y.shape)\n",
    "# out : torch.Size([1, 3, 5, 5])\n"
   ]
  },
  {
   "cell_type": "code",
   "execution_count": 16,
   "id": "d504f121",
   "metadata": {},
   "outputs": [
    {
     "name": "stdout",
     "output_type": "stream",
     "text": [
      "torch.Size([1, 3, 6, 6])\n"
     ]
    }
   ],
   "source": [
    "conv = nn.Conv2d(3, 8, 3, stride=2, padding=1)\n",
    "Dconv = nn.ConvTranspose2d(8, 3, 3, stride=2, padding=1, output_padding=1)\n",
    "\n",
    "x = torch.randn(1, 3, 6, 6)\n",
    "\n",
    "feature = conv(x)\n",
    "\n",
    "y = Dconv(feature)\n",
    "print(y.shape)\n",
    "# out : [1,3,6,6]\n"
   ]
  },
  {
   "cell_type": "markdown",
   "id": "51e194cf",
   "metadata": {},
   "source": [
    "output_padding=1该参数就是用于调整输出分辨率的大小的\n",
    "\n",
    "## 转置卷积的运算步骤\n",
    "- 在输入特征图元素间填充 s-1行、列个0。\n",
    "- 在输入特征图四周填充k-p-1个0 \n",
    "- 将卷积核参数上下、左右翻转\n",
    "- 做正常卷积运算（步长为1，填充为0）—— 此时不需要再对特征图进行填充了 —— 直接进行步长为1，padding为0的卷积运算"
   ]
  },
  {
   "cell_type": "markdown",
   "id": "8a71c262",
   "metadata": {},
   "source": [
    "https://aitechtogether.com/article/30290.html"
   ]
  },
  {
   "cell_type": "code",
   "execution_count": null,
   "id": "6124f9e7",
   "metadata": {},
   "outputs": [],
   "source": []
  }
 ],
 "metadata": {
  "kernelspec": {
   "display_name": "Python 3 (ipykernel)",
   "language": "python",
   "name": "python3"
  },
  "language_info": {
   "codemirror_mode": {
    "name": "ipython",
    "version": 3
   },
   "file_extension": ".py",
   "mimetype": "text/x-python",
   "name": "python",
   "nbconvert_exporter": "python",
   "pygments_lexer": "ipython3",
   "version": "3.9.13"
  }
 },
 "nbformat": 4,
 "nbformat_minor": 5
}
