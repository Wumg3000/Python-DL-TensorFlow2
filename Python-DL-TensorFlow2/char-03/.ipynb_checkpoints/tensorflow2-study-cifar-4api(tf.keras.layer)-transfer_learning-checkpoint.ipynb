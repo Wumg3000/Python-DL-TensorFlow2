{
 "cells": [
  {
   "cell_type": "markdown",
   "metadata": {},
   "source": [
    "迁移学习包括获取从一个预训练模型中获取特征，并用这些特征用于新的类似问题。迁移学习对于数据少而无法从头开始训练完整模型的任务，\n",
    "效果较好。在深度学习情境中，迁移学习一般流程：\n",
    "- 从预训练模型中获取层。\n",
    "- 冻结预训练模型中的一些层（一般为靠近输入端的，通过设置trainable = False来实现），以避免在后续训练轮次中破坏它们包含的任何信息。\n",
    "- 在已冻结层的顶部添加一些新的可训练层。这些层会学习将旧特征转换为对新数据集的预测。\n",
    "- 微调，即在当前数据集上训练新层。"
   ]
  },
  {
   "cell_type": "markdown",
   "metadata": {},
   "source": [
    "参考官网：https://tensorflow.google.cn/guide/keras/transfer_learning"
   ]
  },
  {
   "cell_type": "code",
   "execution_count": null,
   "metadata": {},
   "outputs": [],
   "source": []
  },
  {
   "cell_type": "markdown",
   "metadata": {},
   "source": [
    "## 1.导入模块"
   ]
  },
  {
   "cell_type": "code",
   "execution_count": 1,
   "metadata": {},
   "outputs": [],
   "source": [
    "import os\n",
    "import math\n",
    "import numpy as np\n",
    "import pickle as p\n",
    "import tensorflow as tf\n",
    "from tensorflow import keras\n",
    "import matplotlib.pyplot as plt\n",
    "%matplotlib inline"
   ]
  },
  {
   "cell_type": "markdown",
   "metadata": {},
   "source": [
    "## 2.定义加载函数"
   ]
  },
  {
   "cell_type": "code",
   "execution_count": 2,
   "metadata": {},
   "outputs": [],
   "source": [
    "def load_CIFAR_data(data_dir):\n",
    "    \"\"\"load CIFAR data\"\"\"\n",
    " \n",
    "    images_train=[]\n",
    "    labels_train=[]\n",
    "    for i in range(5):\n",
    "        f=os.path.join(data_dir,'data_batch_%d' % (i+1))\n",
    "        print('loading ',f)\n",
    "        # 调用 load_CIFAR_batch( )获得批量的图像及其对应的标签\n",
    "        image_batch,label_batch=load_CIFAR_batch(f)\n",
    "        images_train.append(image_batch)\n",
    "        labels_train.append(label_batch)\n",
    "        Xtrain=np.concatenate(images_train)\n",
    "        Ytrain=np.concatenate(labels_train)\n",
    "        del image_batch ,label_batch\n",
    "    \n",
    "    Xtest,Ytest=load_CIFAR_batch(os.path.join(data_dir,'test_batch'))\n",
    "    print('finished loadding CIFAR-10 data')\n",
    "    \n",
    "    # 返回训练集的图像和标签，测试集的图像和标签\n",
    "    return (Xtrain,Ytrain),(Xtest,Ytest)"
   ]
  },
  {
   "cell_type": "markdown",
   "metadata": {},
   "source": [
    "## 3.定义批量加载函数"
   ]
  },
  {
   "cell_type": "code",
   "execution_count": 3,
   "metadata": {},
   "outputs": [],
   "source": [
    "def load_CIFAR_batch(filename):\n",
    "    \"\"\" load single batch of cifar \"\"\"  \n",
    "    with open(filename, 'rb')as f:\n",
    "        # 一个样本由标签和图像数据组成\n",
    "        # <1 x label><3072 x pixel> (3072=32x32x3)\n",
    "        # ...\n",
    "        # <1 x label><3072 x pixel>\n",
    "        data_dict = p.load(f, encoding='bytes')\n",
    "        images= data_dict[b'data']\n",
    "        labels = data_dict[b'labels']\n",
    "                \n",
    "        # 把原始数据结构调整为: BCWH\n",
    "        images = images.reshape(10000, 3, 32, 32)\n",
    "        # tensorflow处理图像数据的结构：BWHC\n",
    "        # 把通道数据C移动到最后一个维度\n",
    "        images = images.transpose (0,2,3,1)\n",
    "     \n",
    "        labels = np.array(labels)\n",
    "        \n",
    "        return images, labels"
   ]
  },
  {
   "cell_type": "markdown",
   "metadata": {},
   "source": [
    "## 4.运行加载函数"
   ]
  },
  {
   "cell_type": "code",
   "execution_count": 4,
   "metadata": {},
   "outputs": [
    {
     "name": "stdout",
     "output_type": "stream",
     "text": [
      "loading  C:\\Users\\wumg\\jupyter-ipynb\\data\\cifar-10-batches-py\\data_batch_1\n",
      "loading  C:\\Users\\wumg\\jupyter-ipynb\\data\\cifar-10-batches-py\\data_batch_2\n",
      "loading  C:\\Users\\wumg\\jupyter-ipynb\\data\\cifar-10-batches-py\\data_batch_3\n",
      "loading  C:\\Users\\wumg\\jupyter-ipynb\\data\\cifar-10-batches-py\\data_batch_4\n",
      "loading  C:\\Users\\wumg\\jupyter-ipynb\\data\\cifar-10-batches-py\\data_batch_5\n",
      "finished loadding CIFAR-10 data\n"
     ]
    }
   ],
   "source": [
    "data_dir = r'C:\\Users\\wumg\\jupyter-ipynb\\data\\cifar-10-batches-py'\n",
    "(x_train,y_train),(x_test,y_test) = load_CIFAR_data(data_dir)"
   ]
  },
  {
   "cell_type": "markdown",
   "metadata": {},
   "source": [
    "### 4.1 把数据与标签合并为dataset"
   ]
  },
  {
   "cell_type": "code",
   "execution_count": 5,
   "metadata": {},
   "outputs": [],
   "source": [
    "#random_normal = tf.initializers.RandomNormal()\n",
    "#AUTOTUNE = tf.data.experimental.AUTOTUNE\n",
    "train_dataset = tf.data.Dataset.from_tensor_slices((x_train, y_train))\n",
    "test_dataset = tf.data.Dataset.from_tensor_slices((x_test, y_test))\n",
    "\n",
    "#train_data = train_data.shuffle(5000).repeat(training_steps).batch(batch_size).prefetch(buffer_size=AUTOTUNE)"
   ]
  },
  {
   "cell_type": "markdown",
   "metadata": {},
   "source": [
    "### 4.2 对训练数据进行增强处理"
   ]
  },
  {
   "cell_type": "code",
   "execution_count": 6,
   "metadata": {},
   "outputs": [],
   "source": [
    "def convert(image, label):\n",
    "    image = tf.image.convert_image_dtype(image, tf.float32)\n",
    "    return image, label\n",
    " \n",
    "def augment(image, label):\n",
    "    image, label = convert(image, label)\n",
    "    #image = tf.image.convert_image_dtype(image, tf.float32)\n",
    "    image = tf.image.resize_with_crop_or_pad(image, 34,34) # 四周各加3像素\n",
    "    image = tf.image.random_crop(image, size=[32,32,3]) # 随机裁剪成28*28大小\n",
    "    image = tf.image.random_brightness(image, max_delta=0.5) # 随机增加亮度\n",
    "    return image, label\n",
    " \n",
    "batch_size = 64\n",
    "\n",
    "#对数据进行批处理并使用缓存和预提取来优化加载速度\n",
    "augmented_train_batches = (train_dataset\n",
    "                          #.take(num_examples)\n",
    "                          .cache()\n",
    "                          .shuffle(5000)\n",
    "                          .map(augment, num_parallel_calls=tf.data.experimental.AUTOTUNE)\n",
    "                          .batch(batch_size)\n",
    "                          .prefetch(tf.data.experimental.AUTOTUNE))\n",
    " \n",
    "non_augmented_train_batches = (train_dataset\n",
    "                              .cache()\n",
    "                              .shuffle(5000)\n",
    "                              .map(convert, num_parallel_calls=tf.data.experimental.AUTOTUNE)\n",
    "                              .batch(batch_size)\n",
    "                              .prefetch(tf.data.experimental.AUTOTUNE))\n",
    " \n",
    "validation_batches = (test_dataset \n",
    "                     .map(convert, num_parallel_calls=tf.data.experimental.AUTOTUNE)\n",
    "                     .batch(2*batch_size))\n"
   ]
  },
  {
   "cell_type": "markdown",
   "metadata": {},
   "source": [
    "## 5.设置一些超参数"
   ]
  },
  {
   "cell_type": "code",
   "execution_count": 7,
   "metadata": {},
   "outputs": [],
   "source": [
    "import tensorflow as tf\n",
    "from tensorflow import keras\n",
    "import numpy as np\n",
    "import pickle as p\n",
    "import os\n",
    "from tensorflow.keras import models, optimizers, regularizers\n",
    "from tensorflow.keras.callbacks import LearningRateScheduler\n",
    "from tensorflow.keras.layers import Conv2D, MaxPooling2D, Dropout, Flatten, Dense,Activation, BatchNormalization,GlobalAveragePooling2D"
   ]
  },
  {
   "cell_type": "code",
   "execution_count": 8,
   "metadata": {},
   "outputs": [],
   "source": [
    "weight_decay = 0.0002\n",
    "batch_size = 64\n",
    "learning_rate = 0.01\n",
    "dropout_rate = 0.5\n",
    "epoch_num = 30\n",
    "\n",
    "#kernel_regularizer"
   ]
  },
  {
   "cell_type": "code",
   "execution_count": 9,
   "metadata": {},
   "outputs": [],
   "source": [
    "from tensorflow.keras.applications import VGG16"
   ]
  },
  {
   "cell_type": "markdown",
   "metadata": {},
   "source": [
    "获取预训练模型，并指明不使用顶层及输入输入数据形状等信息"
   ]
  },
  {
   "cell_type": "code",
   "execution_count": 11,
   "metadata": {},
   "outputs": [],
   "source": [
    "conv_base=VGG16(weights='imagenet',include_top=False,input_shape=(32,32,3))"
   ]
  },
  {
   "cell_type": "code",
   "execution_count": 12,
   "metadata": {},
   "outputs": [
    {
     "name": "stdout",
     "output_type": "stream",
     "text": [
      "Model: \"vgg16\"\n",
      "_________________________________________________________________\n",
      "Layer (type)                 Output Shape              Param #   \n",
      "=================================================================\n",
      "input_1 (InputLayer)         [(None, 32, 32, 3)]       0         \n",
      "_________________________________________________________________\n",
      "block1_conv1 (Conv2D)        (None, 32, 32, 64)        1792      \n",
      "_________________________________________________________________\n",
      "block1_conv2 (Conv2D)        (None, 32, 32, 64)        36928     \n",
      "_________________________________________________________________\n",
      "block1_pool (MaxPooling2D)   (None, 16, 16, 64)        0         \n",
      "_________________________________________________________________\n",
      "block2_conv1 (Conv2D)        (None, 16, 16, 128)       73856     \n",
      "_________________________________________________________________\n",
      "block2_conv2 (Conv2D)        (None, 16, 16, 128)       147584    \n",
      "_________________________________________________________________\n",
      "block2_pool (MaxPooling2D)   (None, 8, 8, 128)         0         \n",
      "_________________________________________________________________\n",
      "block3_conv1 (Conv2D)        (None, 8, 8, 256)         295168    \n",
      "_________________________________________________________________\n",
      "block3_conv2 (Conv2D)        (None, 8, 8, 256)         590080    \n",
      "_________________________________________________________________\n",
      "block3_conv3 (Conv2D)        (None, 8, 8, 256)         590080    \n",
      "_________________________________________________________________\n",
      "block3_pool (MaxPooling2D)   (None, 4, 4, 256)         0         \n",
      "_________________________________________________________________\n",
      "block4_conv1 (Conv2D)        (None, 4, 4, 512)         1180160   \n",
      "_________________________________________________________________\n",
      "block4_conv2 (Conv2D)        (None, 4, 4, 512)         2359808   \n",
      "_________________________________________________________________\n",
      "block4_conv3 (Conv2D)        (None, 4, 4, 512)         2359808   \n",
      "_________________________________________________________________\n",
      "block4_pool (MaxPooling2D)   (None, 2, 2, 512)         0         \n",
      "_________________________________________________________________\n",
      "block5_conv1 (Conv2D)        (None, 2, 2, 512)         2359808   \n",
      "_________________________________________________________________\n",
      "block5_conv2 (Conv2D)        (None, 2, 2, 512)         2359808   \n",
      "_________________________________________________________________\n",
      "block5_conv3 (Conv2D)        (None, 2, 2, 512)         2359808   \n",
      "_________________________________________________________________\n",
      "block5_pool (MaxPooling2D)   (None, 1, 1, 512)         0         \n",
      "=================================================================\n",
      "Total params: 14,714,688\n",
      "Trainable params: 14,714,688\n",
      "Non-trainable params: 0\n",
      "_________________________________________________________________\n"
     ]
    }
   ],
   "source": [
    "conv_base.summary()"
   ]
  },
  {
   "cell_type": "code",
   "execution_count": 13,
   "metadata": {},
   "outputs": [],
   "source": [
    "# 冻结conv_base\n",
    "conv_base.trainable = False"
   ]
  },
  {
   "cell_type": "code",
   "execution_count": 14,
   "metadata": {},
   "outputs": [],
   "source": [
    "model = models.Sequential()\n",
    "model.add(conv_base)\n",
    "model.add(GlobalAveragePooling2D())\n",
    "model.add(Dense(256, activation='relu'))\n",
    "model.add(Dense(10, activation='softmax'))"
   ]
  },
  {
   "cell_type": "code",
   "execution_count": 15,
   "metadata": {},
   "outputs": [
    {
     "name": "stdout",
     "output_type": "stream",
     "text": [
      "Model: \"sequential\"\n",
      "_________________________________________________________________\n",
      "Layer (type)                 Output Shape              Param #   \n",
      "=================================================================\n",
      "vgg16 (Model)                (None, 1, 1, 512)         14714688  \n",
      "_________________________________________________________________\n",
      "global_average_pooling2d (Gl (None, 512)               0         \n",
      "_________________________________________________________________\n",
      "dense (Dense)                (None, 256)               131328    \n",
      "_________________________________________________________________\n",
      "dense_1 (Dense)              (None, 10)                2570      \n",
      "=================================================================\n",
      "Total params: 14,848,586\n",
      "Trainable params: 133,898\n",
      "Non-trainable params: 14,714,688\n",
      "_________________________________________________________________\n"
     ]
    }
   ],
   "source": [
    "model.summary()"
   ]
  },
  {
   "cell_type": "code",
   "execution_count": 16,
   "metadata": {},
   "outputs": [],
   "source": [
    "# train\n",
    "sgd = optimizers.SGD(lr=learning_rate, momentum=0.9, nesterov=True)\n",
    "#标签数据为整数，故损失函数该使用sparse_categorical_crossentropy\n",
    "model.compile(loss='sparse_categorical_crossentropy', optimizer=sgd, metrics=['accuracy'])"
   ]
  },
  {
   "cell_type": "code",
   "execution_count": 17,
   "metadata": {},
   "outputs": [
    {
     "name": "stdout",
     "output_type": "stream",
     "text": [
      "Train for 782 steps, validate for 79 steps\n",
      "Epoch 1/30\n",
      "782/782 [==============================] - 11s 14ms/step - loss: 1.4658 - accuracy: 0.4854 - val_loss: 1.3601 - val_accuracy: 0.5265\n",
      "Epoch 2/30\n",
      "782/782 [==============================] - 8s 11ms/step - loss: 1.2728 - accuracy: 0.5537 - val_loss: 1.3111 - val_accuracy: 0.5358\n",
      "Epoch 3/30\n",
      "782/782 [==============================] - 8s 11ms/step - loss: 1.2261 - accuracy: 0.5714 - val_loss: 1.2739 - val_accuracy: 0.5587\n",
      "Epoch 4/30\n",
      "782/782 [==============================] - 8s 11ms/step - loss: 1.1923 - accuracy: 0.5813 - val_loss: 1.2568 - val_accuracy: 0.5559\n",
      "Epoch 5/30\n",
      "782/782 [==============================] - 8s 11ms/step - loss: 1.1661 - accuracy: 0.5916 - val_loss: 1.2635 - val_accuracy: 0.5573\n",
      "Epoch 6/30\n",
      "782/782 [==============================] - 9s 11ms/step - loss: 1.1424 - accuracy: 0.6001 - val_loss: 1.1885 - val_accuracy: 0.5838\n",
      "Epoch 7/30\n",
      "782/782 [==============================] - 9s 11ms/step - loss: 1.1249 - accuracy: 0.6040 - val_loss: 1.2175 - val_accuracy: 0.5776\n",
      "Epoch 8/30\n",
      "782/782 [==============================] - 9s 11ms/step - loss: 1.1064 - accuracy: 0.6118 - val_loss: 1.1988 - val_accuracy: 0.5840\n",
      "Epoch 9/30\n",
      "782/782 [==============================] - 9s 11ms/step - loss: 1.0917 - accuracy: 0.6165 - val_loss: 1.1663 - val_accuracy: 0.5933\n",
      "Epoch 10/30\n",
      "782/782 [==============================] - 9s 11ms/step - loss: 1.0762 - accuracy: 0.6216 - val_loss: 1.2631 - val_accuracy: 0.5685\n",
      "Epoch 11/30\n",
      "782/782 [==============================] - 9s 11ms/step - loss: 1.0655 - accuracy: 0.6243 - val_loss: 1.1686 - val_accuracy: 0.5909\n",
      "Epoch 12/30\n",
      "782/782 [==============================] - 9s 11ms/step - loss: 1.0519 - accuracy: 0.6330 - val_loss: 1.1592 - val_accuracy: 0.5972\n",
      "Epoch 13/30\n",
      "782/782 [==============================] - 9s 11ms/step - loss: 1.0407 - accuracy: 0.6348 - val_loss: 1.1567 - val_accuracy: 0.5940\n",
      "Epoch 14/30\n",
      "782/782 [==============================] - 9s 11ms/step - loss: 1.0323 - accuracy: 0.6366 - val_loss: 1.1560 - val_accuracy: 0.5921\n",
      "Epoch 15/30\n",
      "782/782 [==============================] - 9s 11ms/step - loss: 1.0224 - accuracy: 0.6393 - val_loss: 1.1717 - val_accuracy: 0.5910\n",
      "Epoch 16/30\n",
      "782/782 [==============================] - 9s 11ms/step - loss: 1.0106 - accuracy: 0.6460 - val_loss: 1.1645 - val_accuracy: 0.5952\n",
      "Epoch 17/30\n",
      "782/782 [==============================] - 9s 11ms/step - loss: 1.0012 - accuracy: 0.6492 - val_loss: 1.1435 - val_accuracy: 0.6022\n",
      "Epoch 18/30\n",
      "782/782 [==============================] - 9s 11ms/step - loss: 0.9928 - accuracy: 0.6517 - val_loss: 1.1508 - val_accuracy: 0.5991\n",
      "Epoch 19/30\n",
      "782/782 [==============================] - 9s 11ms/step - loss: 0.9859 - accuracy: 0.6535 - val_loss: 1.1106 - val_accuracy: 0.6108\n",
      "Epoch 20/30\n",
      "782/782 [==============================] - 9s 11ms/step - loss: 0.9776 - accuracy: 0.6571 - val_loss: 1.1314 - val_accuracy: 0.6076\n",
      "Epoch 21/30\n",
      "782/782 [==============================] - 9s 11ms/step - loss: 0.9730 - accuracy: 0.6569 - val_loss: 1.1431 - val_accuracy: 0.6018\n",
      "Epoch 22/30\n",
      "782/782 [==============================] - 9s 11ms/step - loss: 0.9612 - accuracy: 0.6613 - val_loss: 1.1208 - val_accuracy: 0.6111\n",
      "Epoch 23/30\n",
      "782/782 [==============================] - 9s 11ms/step - loss: 0.9536 - accuracy: 0.6636 - val_loss: 1.1410 - val_accuracy: 0.5995\n",
      "Epoch 24/30\n",
      "782/782 [==============================] - 9s 11ms/step - loss: 0.9443 - accuracy: 0.6665 - val_loss: 1.1414 - val_accuracy: 0.6063\n",
      "Epoch 25/30\n",
      "782/782 [==============================] - 9s 11ms/step - loss: 0.9367 - accuracy: 0.6699 - val_loss: 1.1325 - val_accuracy: 0.6069\n",
      "Epoch 26/30\n",
      "782/782 [==============================] - 9s 11ms/step - loss: 0.9333 - accuracy: 0.6718 - val_loss: 1.1512 - val_accuracy: 0.6063\n",
      "Epoch 27/30\n",
      "782/782 [==============================] - 9s 11ms/step - loss: 0.9244 - accuracy: 0.6746 - val_loss: 1.1479 - val_accuracy: 0.6061\n",
      "Epoch 28/30\n",
      "782/782 [==============================] - 9s 11ms/step - loss: 0.9170 - accuracy: 0.6770 - val_loss: 1.1318 - val_accuracy: 0.6137\n",
      "Epoch 29/30\n",
      "782/782 [==============================] - 9s 11ms/step - loss: 0.9106 - accuracy: 0.6786 - val_loss: 1.1746 - val_accuracy: 0.6057\n",
      "Epoch 30/30\n",
      "782/782 [==============================] - 9s 11ms/step - loss: 0.9047 - accuracy: 0.6819 - val_loss: 1.1496 - val_accuracy: 0.6049\n"
     ]
    }
   ],
   "source": [
    "history_with_vgg16_no_augment=model.fit(non_augmented_train_batches,epochs=epoch_num,validation_data=validation_batches)"
   ]
  },
  {
   "cell_type": "code",
   "execution_count": 20,
   "metadata": {},
   "outputs": [
    {
     "data": {
      "image/png": "[encoded data removed]",
      "text/plain": [
       "<Figure size 576x576 with 2 Axes>"
      ]
     },
     "metadata": {
      "needs_background": "light"
     },
     "output_type": "display_data"
    }
   ],
   "source": [
    "acc = history_with_vgg16_no_augment.history['accuracy']\n",
    "val_acc = history_with_vgg16_no_augment.history['val_accuracy']\n",
    " \n",
    "loss = history_with_vgg16_no_augment.history['loss']\n",
    "val_loss =history_with_vgg16_no_augment.history['val_loss']\n",
    " \n",
    "plt.figure(figsize=(8, 8))\n",
    "plt.subplot(2, 1, 1)\n",
    "plt.plot(acc, label='Training Accuracy')\n",
    "plt.plot(val_acc, label='Validation Accuracy')\n",
    "plt.legend(loc='lower right')\n",
    "plt.ylabel('Accuracy')\n",
    "plt.ylim([min(plt.ylim()),1.0])\n",
    "plt.title('Training and Validation Accuracy')\n",
    " \n",
    "plt.subplot(2, 1, 2)\n",
    "plt.plot(loss, label='Training Loss')\n",
    "plt.plot(val_loss, label='Validation Loss')\n",
    "plt.legend(loc='upper right')\n",
    "plt.ylabel('Cross Entropy')\n",
    "plt.ylim([-0.1,2.0])\n",
    "plt.title('Training and Validation Loss')\n",
    "plt.xlabel('epoch')\n",
    "plt.show()"
   ]
  },
  {
   "cell_type": "code",
   "execution_count": null,
   "metadata": {},
   "outputs": [],
   "source": []
  }
 ],
 "metadata": {
  "kernelspec": {
   "display_name": "Python 3",
   "language": "python",
   "name": "python3"
  },
  "language_info": {
   "codemirror_mode": {
    "name": "ipython",
    "version": 3
   },
   "file_extension": ".py",
   "mimetype": "text/x-python",
   "name": "python",
   "nbconvert_exporter": "python",
   "pygments_lexer": "ipython3",
   "version": "3.7.4"
  }
 },
 "nbformat": 4,
 "nbformat_minor": 2
}
