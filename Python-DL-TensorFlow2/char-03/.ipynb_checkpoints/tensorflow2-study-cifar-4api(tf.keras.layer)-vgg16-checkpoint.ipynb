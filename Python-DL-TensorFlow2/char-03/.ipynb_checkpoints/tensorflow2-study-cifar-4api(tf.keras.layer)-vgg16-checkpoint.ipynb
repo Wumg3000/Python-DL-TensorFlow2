{
 "cells": [
  {
   "cell_type": "markdown",
   "metadata": {},
   "source": [
    "## 1.导入模块"
   ]
  },
  {
   "cell_type": "code",
   "execution_count": 1,
   "metadata": {},
   "outputs": [],
   "source": [
    "import os\n",
    "import math\n",
    "import numpy as np\n",
    "import pickle as p\n",
    "import tensorflow as tf\n",
    "from tensorflow import keras\n",
    "import matplotlib.pyplot as plt\n",
    "%matplotlib inline"
   ]
  },
  {
   "cell_type": "markdown",
   "metadata": {},
   "source": [
    "## 2.定义加载函数"
   ]
  },
  {
   "cell_type": "code",
   "execution_count": 2,
   "metadata": {},
   "outputs": [],
   "source": [
    "def load_CIFAR_data(data_dir):\n",
    "    \"\"\"load CIFAR data\"\"\"\n",
    " \n",
    "    images_train=[]\n",
    "    labels_train=[]\n",
    "    for i in range(5):\n",
    "        f=os.path.join(data_dir,'data_batch_%d' % (i+1))\n",
    "        print('loading ',f)\n",
    "        # 调用 load_CIFAR_batch( )获得批量的图像及其对应的标签\n",
    "        image_batch,label_batch=load_CIFAR_batch(f)\n",
    "        images_train.append(image_batch)\n",
    "        labels_train.append(label_batch)\n",
    "        Xtrain=np.concatenate(images_train)\n",
    "        Ytrain=np.concatenate(labels_train)\n",
    "        del image_batch ,label_batch\n",
    "    \n",
    "    Xtest,Ytest=load_CIFAR_batch(os.path.join(data_dir,'test_batch'))\n",
    "    print('finished loadding CIFAR-10 data')\n",
    "    \n",
    "    # 返回训练集的图像和标签，测试集的图像和标签\n",
    "    return (Xtrain,Ytrain),(Xtest,Ytest)"
   ]
  },
  {
   "cell_type": "markdown",
   "metadata": {},
   "source": [
    "## 3.定义批量加载函数"
   ]
  },
  {
   "cell_type": "code",
   "execution_count": 3,
   "metadata": {},
   "outputs": [],
   "source": [
    "def load_CIFAR_batch(filename):\n",
    "    \"\"\" load single batch of cifar \"\"\"  \n",
    "    with open(filename, 'rb')as f:\n",
    "        # 一个样本由标签和图像数据组成\n",
    "        # <1 x label><3072 x pixel> (3072=32x32x3)\n",
    "        # ...\n",
    "        # <1 x label><3072 x pixel>\n",
    "        data_dict = p.load(f, encoding='bytes')\n",
    "        images= data_dict[b'data']\n",
    "        labels = data_dict[b'labels']\n",
    "                \n",
    "        # 把原始数据结构调整为: BCWH\n",
    "        images = images.reshape(10000, 3, 32, 32)\n",
    "        # tensorflow处理图像数据的结构：BWHC\n",
    "        # 把通道数据C移动到最后一个维度\n",
    "        images = images.transpose (0,2,3,1)\n",
    "     \n",
    "        labels = np.array(labels)\n",
    "        \n",
    "        return images, labels"
   ]
  },
  {
   "cell_type": "markdown",
   "metadata": {},
   "source": [
    "## 4.运行加载函数"
   ]
  },
  {
   "cell_type": "code",
   "execution_count": 4,
   "metadata": {},
   "outputs": [
    {
     "name": "stdout",
     "output_type": "stream",
     "text": [
      "loading  C:\\Users\\wumg\\jupyter-ipynb\\data\\cifar-10-batches-py\\data_batch_1\n",
      "loading  C:\\Users\\wumg\\jupyter-ipynb\\data\\cifar-10-batches-py\\data_batch_2\n",
      "loading  C:\\Users\\wumg\\jupyter-ipynb\\data\\cifar-10-batches-py\\data_batch_3\n",
      "loading  C:\\Users\\wumg\\jupyter-ipynb\\data\\cifar-10-batches-py\\data_batch_4\n",
      "loading  C:\\Users\\wumg\\jupyter-ipynb\\data\\cifar-10-batches-py\\data_batch_5\n",
      "finished loadding CIFAR-10 data\n"
     ]
    }
   ],
   "source": [
    "data_dir = r'C:\\Users\\wumg\\jupyter-ipynb\\data\\cifar-10-batches-py'\n",
    "(x_train,y_train),(x_test,y_test) = load_CIFAR_data(data_dir)"
   ]
  },
  {
   "cell_type": "markdown",
   "metadata": {},
   "source": [
    "### 4.1 把数据与标签合并为dataset"
   ]
  },
  {
   "cell_type": "code",
   "execution_count": 5,
   "metadata": {},
   "outputs": [],
   "source": [
    "#random_normal = tf.initializers.RandomNormal()\n",
    "#AUTOTUNE = tf.data.experimental.AUTOTUNE\n",
    "train_dataset = tf.data.Dataset.from_tensor_slices((x_train, y_train))\n",
    "test_dataset = tf.data.Dataset.from_tensor_slices((x_test, y_test))\n",
    "\n",
    "#train_data = train_data.shuffle(5000).repeat(training_steps).batch(batch_size).prefetch(buffer_size=AUTOTUNE)"
   ]
  },
  {
   "cell_type": "markdown",
   "metadata": {},
   "source": [
    "### 4.2 对训练数据进行增强处理"
   ]
  },
  {
   "cell_type": "code",
   "execution_count": 6,
   "metadata": {},
   "outputs": [],
   "source": [
    "def convert(image, label):\n",
    "    image = tf.image.convert_image_dtype(image, tf.float32)\n",
    "    return image, label\n",
    " \n",
    "def augment(image, label):\n",
    "    image, label = convert(image, label)\n",
    "    #image = tf.image.convert_image_dtype(image, tf.float32)\n",
    "    image = tf.image.resize_with_crop_or_pad(image, 34,34) # 四周各加3像素\n",
    "    image = tf.image.random_crop(image, size=[32,32,3]) # 随机裁剪成28*28大小\n",
    "    image = tf.image.random_brightness(image, max_delta=0.5) # 随机增加亮度\n",
    "    return image, label\n",
    " \n",
    "batch_size = 64\n",
    "\n",
    "augmented_train_batches = (train_dataset\n",
    "                          #.take(num_examples)\n",
    "                          .cache()\n",
    "                         # .repeat()\n",
    "                          .shuffle(5000)\n",
    "                          .map(augment, num_parallel_calls=tf.data.experimental.AUTOTUNE)\n",
    "                          .batch(batch_size)\n",
    "                          .prefetch(tf.data.experimental.AUTOTUNE))\n",
    " \n",
    "non_augmented_train_batches = (train_dataset\n",
    "                              .cache()\n",
    "                             # .repeat()\n",
    "                              .shuffle(5000)\n",
    "                              .map(convert, num_parallel_calls=tf.data.experimental.AUTOTUNE)\n",
    "                              .batch(batch_size)\n",
    "                              .prefetch(tf.data.experimental.AUTOTUNE))\n",
    " \n",
    "validation_batches = (test_dataset \n",
    "                     .map(convert, num_parallel_calls=tf.data.experimental.AUTOTUNE)\n",
    "                     .batch(2*batch_size))\n"
   ]
  },
  {
   "cell_type": "markdown",
   "metadata": {},
   "source": [
    "## 5.设置一些超参数"
   ]
  },
  {
   "cell_type": "code",
   "execution_count": 7,
   "metadata": {},
   "outputs": [],
   "source": [
    "import tensorflow as tf\n",
    "from tensorflow import keras\n",
    "import numpy as np\n",
    "import pickle as p\n",
    "import os\n",
    "from tensorflow.keras import models, optimizers, regularizers\n",
    "from tensorflow.keras.callbacks import LearningRateScheduler\n",
    "from tensorflow.keras.layers import Conv2D, MaxPooling2D, Dropout, Flatten, Dense,Activation, BatchNormalization\n",
    "\n"
   ]
  },
  {
   "cell_type": "code",
   "execution_count": 8,
   "metadata": {},
   "outputs": [],
   "source": [
    "weight_decay = 0.0002\n",
    "batch_size = 64\n",
    "learning_rate = 1e-2\n",
    "dropout_rate = 0.5\n",
    "epoch_num = 10\n",
    "\n",
    "#kernel_regularizer"
   ]
  },
  {
   "cell_type": "markdown",
   "metadata": {},
   "source": [
    "https://github.com/Apm5/tensorflow_2.0_tutorial/blob/master/CNN/VGG16.py"
   ]
  },
  {
   "cell_type": "code",
   "execution_count": 9,
   "metadata": {},
   "outputs": [],
   "source": [
    "def VGG16():\n",
    "    model = models.Sequential()\n",
    "    model.add(Conv2D(64, (3, 3), activation='relu', padding='same', input_shape=(32, 32, 3), kernel_regularizer=regularizers.l2(weight_decay)))\n",
    "    model.add(Conv2D(64, (3, 3), activation='relu', padding='same', kernel_regularizer=regularizers.l2(weight_decay)))\n",
    "    model.add(MaxPooling2D((2, 2)))\n",
    "\n",
    "    model.add(Conv2D(128, (3, 3), activation='relu', padding='same', kernel_regularizer=regularizers.l2(weight_decay)))\n",
    "    model.add(Conv2D(128, (3, 3), activation='relu', padding='same', kernel_regularizer=regularizers.l2(weight_decay)))\n",
    "    model.add(MaxPooling2D((2, 2)))\n",
    "\n",
    "    model.add(Conv2D(256, (3, 3), activation='relu', padding='same', kernel_regularizer=regularizers.l2(weight_decay)))\n",
    "    model.add(Conv2D(256, (3, 3), activation='relu', padding='same', kernel_regularizer=regularizers.l2(weight_decay)))\n",
    "    model.add(Conv2D(256, (3, 3), activation='relu', padding='same', kernel_regularizer=regularizers.l2(weight_decay)))\n",
    "    model.add(MaxPooling2D((2, 2)))\n",
    "\n",
    "    model.add(Conv2D(512, (3, 3), activation='relu', padding='same', kernel_regularizer=regularizers.l2(weight_decay)))\n",
    "    model.add(Conv2D(512, (3, 3), activation='relu', padding='same', kernel_regularizer=regularizers.l2(weight_decay)))\n",
    "    model.add(Conv2D(512, (3, 3), activation='relu', padding='same', kernel_regularizer=regularizers.l2(weight_decay)))\n",
    "    model.add(MaxPooling2D((2, 2)))\n",
    "\n",
    "    model.add(Conv2D(512, (3, 3), activation='relu', padding='same', kernel_regularizer=regularizers.l2(weight_decay)))\n",
    "    model.add(Conv2D(512, (3, 3), activation='relu', padding='same', kernel_regularizer=regularizers.l2(weight_decay)))\n",
    "    model.add(Conv2D(512, (3, 3), activation='relu', padding='same', kernel_regularizer=regularizers.l2(weight_decay)))\n",
    "\n",
    "    model.add(Flatten())  # 2*2*512\n",
    "    model.add(Dense(4096, activation='relu'))\n",
    "    model.add(Dropout(0.5))\n",
    "    model.add(Dense(4096, activation='relu'))\n",
    "    model.add(Dropout(0.5))\n",
    "    model.add(Dense(10, activation='softmax'))\n",
    "\n",
    "    return model\n",
    "\n",
    "#动态修改学习率\n",
    "def scheduler(epoch):\n",
    "    if epoch < epoch_num * 0.4:\n",
    "        return learning_rate\n",
    "    if epoch < epoch_num * 0.8:\n",
    "        return learning_rate * 0.1\n",
    "    return learning_rate * 0.01"
   ]
  },
  {
   "cell_type": "code",
   "execution_count": 10,
   "metadata": {},
   "outputs": [
    {
     "name": "stdout",
     "output_type": "stream",
     "text": [
      "Model: \"sequential\"\n",
      "_________________________________________________________________\n",
      "Layer (type)                 Output Shape              Param #   \n",
      "=================================================================\n",
      "conv2d (Conv2D)              (None, 32, 32, 64)        1792      \n",
      "_________________________________________________________________\n",
      "conv2d_1 (Conv2D)            (None, 32, 32, 64)        36928     \n",
      "_________________________________________________________________\n",
      "max_pooling2d (MaxPooling2D) (None, 16, 16, 64)        0         \n",
      "_________________________________________________________________\n",
      "conv2d_2 (Conv2D)            (None, 16, 16, 128)       73856     \n",
      "_________________________________________________________________\n",
      "conv2d_3 (Conv2D)            (None, 16, 16, 128)       147584    \n",
      "_________________________________________________________________\n",
      "max_pooling2d_1 (MaxPooling2 (None, 8, 8, 128)         0         \n",
      "_________________________________________________________________\n",
      "conv2d_4 (Conv2D)            (None, 8, 8, 256)         295168    \n",
      "_________________________________________________________________\n",
      "conv2d_5 (Conv2D)            (None, 8, 8, 256)         590080    \n",
      "_________________________________________________________________\n",
      "conv2d_6 (Conv2D)            (None, 8, 8, 256)         590080    \n",
      "_________________________________________________________________\n",
      "max_pooling2d_2 (MaxPooling2 (None, 4, 4, 256)         0         \n",
      "_________________________________________________________________\n",
      "conv2d_7 (Conv2D)            (None, 4, 4, 512)         1180160   \n",
      "_________________________________________________________________\n",
      "conv2d_8 (Conv2D)            (None, 4, 4, 512)         2359808   \n",
      "_________________________________________________________________\n",
      "conv2d_9 (Conv2D)            (None, 4, 4, 512)         2359808   \n",
      "_________________________________________________________________\n",
      "max_pooling2d_3 (MaxPooling2 (None, 2, 2, 512)         0         \n",
      "_________________________________________________________________\n",
      "conv2d_10 (Conv2D)           (None, 2, 2, 512)         2359808   \n",
      "_________________________________________________________________\n",
      "conv2d_11 (Conv2D)           (None, 2, 2, 512)         2359808   \n",
      "_________________________________________________________________\n",
      "conv2d_12 (Conv2D)           (None, 2, 2, 512)         2359808   \n",
      "_________________________________________________________________\n",
      "flatten (Flatten)            (None, 2048)              0         \n",
      "_________________________________________________________________\n",
      "dense (Dense)                (None, 4096)              8392704   \n",
      "_________________________________________________________________\n",
      "dropout (Dropout)            (None, 4096)              0         \n",
      "_________________________________________________________________\n",
      "dense_1 (Dense)              (None, 4096)              16781312  \n",
      "_________________________________________________________________\n",
      "dropout_1 (Dropout)          (None, 4096)              0         \n",
      "_________________________________________________________________\n",
      "dense_2 (Dense)              (None, 10)                40970     \n",
      "=================================================================\n",
      "Total params: 39,929,674\n",
      "Trainable params: 39,929,674\n",
      "Non-trainable params: 0\n",
      "_________________________________________________________________\n"
     ]
    }
   ],
   "source": [
    "# get model\n",
    "model = VGG16()\n",
    "\n",
    "    # show\n",
    "model.summary()\n",
    "\n",
    "    # train\n",
    "sgd = optimizers.SGD(lr=learning_rate, momentum=0.9, nesterov=True)\n",
    "change_lr = LearningRateScheduler(scheduler)\n",
    "#标签数据为整数，故损失函数该使用sparse_categorical_crossentropy\n",
    "model.compile(loss='sparse_categorical_crossentropy', optimizer=sgd, metrics=['accuracy'])\n"
   ]
  },
  {
   "cell_type": "code",
   "execution_count": 11,
   "metadata": {},
   "outputs": [
    {
     "name": "stdout",
     "output_type": "stream",
     "text": [
      "Train for 782 steps, validate for 79 steps\n",
      "Epoch 1/10\n",
      "782/782 [==============================] - 34s 43ms/step - loss: 3.0535 - accuracy: 0.0968 - val_loss: 3.0301 - val_accuracy: 0.1000\n",
      "Epoch 2/10\n",
      "782/782 [==============================] - 29s 37ms/step - loss: 3.0080 - accuracy: 0.0998 - val_loss: 2.9863 - val_accuracy: 0.1000\n",
      "Epoch 3/10\n",
      "782/782 [==============================] - 29s 37ms/step - loss: 2.9654 - accuracy: 0.0970 - val_loss: 2.9446 - val_accuracy: 0.1000\n",
      "Epoch 4/10\n",
      "782/782 [==============================] - 29s 38ms/step - loss: 2.9253 - accuracy: 0.0973 - val_loss: 2.9053 - val_accuracy: 0.1000\n",
      "Epoch 5/10\n",
      "782/782 [==============================] - 29s 38ms/step - loss: 2.8874 - accuracy: 0.1000 - val_loss: 2.8688 - val_accuracy: 0.1000\n",
      "Epoch 6/10\n",
      "782/782 [==============================] - 29s 38ms/step - loss: 2.8519 - accuracy: 0.0993 - val_loss: 2.8351 - val_accuracy: 0.1000\n",
      "Epoch 7/10\n",
      "782/782 [==============================] - 29s 38ms/step - loss: 2.8187 - accuracy: 0.0970 - val_loss: 2.8023 - val_accuracy: 0.1000\n",
      "Epoch 8/10\n",
      "782/782 [==============================] - 29s 38ms/step - loss: 2.7874 - accuracy: 0.0983 - val_loss: 2.7725 - val_accuracy: 0.1000\n",
      "Epoch 9/10\n",
      "782/782 [==============================] - 29s 38ms/step - loss: 2.7581 - accuracy: 0.0968 - val_loss: 2.7437 - val_accuracy: 0.1000\n",
      "Epoch 10/10\n",
      "782/782 [==============================] - 29s 38ms/step - loss: 2.7306 - accuracy: 0.0973 - val_loss: 2.7168 - val_accuracy: 0.1000\n"
     ]
    }
   ],
   "source": [
    "#history_with_vgg16_no_augment=model.fit(x_train, y_train, batch_size=batch_size, epochs=epoch_num, callbacks=[change_lr],validation_data=(x_test, y_test))\n",
    "history_with_vgg16_no_augment=model.fit(non_augmented_train_batches,epochs=epoch_num,validation_data=validation_batches)"
   ]
  },
  {
   "cell_type": "code",
   "execution_count": 12,
   "metadata": {},
   "outputs": [
    {
     "data": {
      "image/png": "[encoded data removed]",
      "text/plain": [
       "<Figure size 576x576 with 2 Axes>"
      ]
     },
     "metadata": {
      "needs_background": "light"
     },
     "output_type": "display_data"
    }
   ],
   "source": [
    "acc = history_with_vgg16_no_augment.history['accuracy']\n",
    "val_acc = history_with_vgg16_no_augment.history['val_accuracy']\n",
    " \n",
    "loss = history_with_vgg16_no_augment.history['loss']\n",
    "val_loss =history_with_vgg16_no_augment.history['val_loss']\n",
    " \n",
    "plt.figure(figsize=(8, 8))\n",
    "plt.subplot(2, 1, 1)\n",
    "plt.plot(acc, label='Training Accuracy')\n",
    "plt.plot(val_acc, label='Validation Accuracy')\n",
    "plt.legend(loc='lower right')\n",
    "plt.ylabel('Accuracy')\n",
    "plt.ylim([min(plt.ylim()),1.1])\n",
    "plt.title('Training and Validation Accuracy')\n",
    " \n",
    "plt.subplot(2, 1, 2)\n",
    "plt.plot(loss, label='Training Loss')\n",
    "plt.plot(val_loss, label='Validation Loss')\n",
    "plt.legend(loc='upper right')\n",
    "plt.ylabel('Cross Entropy')\n",
    "plt.ylim([-0.1,4.0])\n",
    "plt.title('Training and Validation Loss')\n",
    "plt.xlabel('epoch')\n",
    "plt.show()"
   ]
  },
  {
   "cell_type": "code",
   "execution_count": 13,
   "metadata": {},
   "outputs": [
    {
     "name": "stdout",
     "output_type": "stream",
     "text": [
      "Model: \"sequential_1\"\n",
      "_________________________________________________________________\n",
      "Layer (type)                 Output Shape              Param #   \n",
      "=================================================================\n",
      "conv2d_13 (Conv2D)           (None, 32, 32, 64)        1792      \n",
      "_________________________________________________________________\n",
      "conv2d_14 (Conv2D)           (None, 32, 32, 64)        36928     \n",
      "_________________________________________________________________\n",
      "max_pooling2d_4 (MaxPooling2 (None, 16, 16, 64)        0         \n",
      "_________________________________________________________________\n",
      "conv2d_15 (Conv2D)           (None, 16, 16, 128)       73856     \n",
      "_________________________________________________________________\n",
      "conv2d_16 (Conv2D)           (None, 16, 16, 128)       147584    \n",
      "_________________________________________________________________\n",
      "max_pooling2d_5 (MaxPooling2 (None, 8, 8, 128)         0         \n",
      "_________________________________________________________________\n",
      "conv2d_17 (Conv2D)           (None, 8, 8, 256)         295168    \n",
      "_________________________________________________________________\n",
      "conv2d_18 (Conv2D)           (None, 8, 8, 256)         590080    \n",
      "_________________________________________________________________\n",
      "conv2d_19 (Conv2D)           (None, 8, 8, 256)         590080    \n",
      "_________________________________________________________________\n",
      "max_pooling2d_6 (MaxPooling2 (None, 4, 4, 256)         0         \n",
      "_________________________________________________________________\n",
      "conv2d_20 (Conv2D)           (None, 4, 4, 512)         1180160   \n",
      "_________________________________________________________________\n",
      "conv2d_21 (Conv2D)           (None, 4, 4, 512)         2359808   \n",
      "_________________________________________________________________\n",
      "conv2d_22 (Conv2D)           (None, 4, 4, 512)         2359808   \n",
      "_________________________________________________________________\n",
      "max_pooling2d_7 (MaxPooling2 (None, 2, 2, 512)         0         \n",
      "_________________________________________________________________\n",
      "conv2d_23 (Conv2D)           (None, 2, 2, 512)         2359808   \n",
      "_________________________________________________________________\n",
      "conv2d_24 (Conv2D)           (None, 2, 2, 512)         2359808   \n",
      "_________________________________________________________________\n",
      "conv2d_25 (Conv2D)           (None, 2, 2, 512)         2359808   \n",
      "_________________________________________________________________\n",
      "flatten_1 (Flatten)          (None, 2048)              0         \n",
      "_________________________________________________________________\n",
      "dense_3 (Dense)              (None, 4096)              8392704   \n",
      "_________________________________________________________________\n",
      "dropout_2 (Dropout)          (None, 4096)              0         \n",
      "_________________________________________________________________\n",
      "dense_4 (Dense)              (None, 4096)              16781312  \n",
      "_________________________________________________________________\n",
      "dropout_3 (Dropout)          (None, 4096)              0         \n",
      "_________________________________________________________________\n",
      "dense_5 (Dense)              (None, 10)                40970     \n",
      "=================================================================\n",
      "Total params: 39,929,674\n",
      "Trainable params: 39,929,674\n",
      "Non-trainable params: 0\n",
      "_________________________________________________________________\n"
     ]
    }
   ],
   "source": [
    "# get model\n",
    "model1 = VGG16()\n",
    "\n",
    "    # show\n",
    "model1.summary()\n",
    "\n",
    "    # train\n",
    "sgd = optimizers.SGD(lr=learning_rate, momentum=0.9, nesterov=True)\n",
    "change_lr = LearningRateScheduler(scheduler)\n",
    "#标签数据为整数，故损失函数该使用sparse_categorical_crossentropy\n",
    "model1.compile(loss='sparse_categorical_crossentropy', optimizer=sgd, metrics=['accuracy'])"
   ]
  },
  {
   "cell_type": "code",
   "execution_count": 14,
   "metadata": {},
   "outputs": [
    {
     "name": "stdout",
     "output_type": "stream",
     "text": [
      "Train for 782 steps, validate for 79 steps\n",
      "Epoch 1/10\n",
      "782/782 [==============================] - 30s 39ms/step - loss: 3.0536 - accuracy: 0.0960 - val_loss: 3.0298 - val_accuracy: 0.1000\n",
      "Epoch 2/10\n",
      "782/782 [==============================] - 29s 37ms/step - loss: 3.0081 - accuracy: 0.0990 - val_loss: 2.9857 - val_accuracy: 0.1000\n",
      "Epoch 3/10\n",
      "782/782 [==============================] - 29s 37ms/step - loss: 2.9653 - accuracy: 0.0989 - val_loss: 2.9443 - val_accuracy: 0.1000\n",
      "Epoch 4/10\n",
      "782/782 [==============================] - 29s 38ms/step - loss: 2.9251 - accuracy: 0.0978 - val_loss: 2.9056 - val_accuracy: 0.1000\n",
      "Epoch 5/10\n",
      "782/782 [==============================] - 29s 38ms/step - loss: 2.8872 - accuracy: 0.0997 - val_loss: 2.8690 - val_accuracy: 0.1000\n",
      "Epoch 6/10\n",
      "782/782 [==============================] - 30s 38ms/step - loss: 2.8519 - accuracy: 0.1001 - val_loss: 2.8346 - val_accuracy: 0.1000\n",
      "Epoch 7/10\n",
      "782/782 [==============================] - 30s 38ms/step - loss: 2.8188 - accuracy: 0.0992 - val_loss: 2.8024 - val_accuracy: 0.1000\n",
      "Epoch 8/10\n",
      "782/782 [==============================] - 29s 38ms/step - loss: 2.7873 - accuracy: 0.0982 - val_loss: 2.7722 - val_accuracy: 0.1000\n",
      "Epoch 9/10\n",
      "782/782 [==============================] - 30s 38ms/step - loss: 2.7581 - accuracy: 0.0985 - val_loss: 2.7433 - val_accuracy: 0.1000\n",
      "Epoch 10/10\n",
      "782/782 [==============================] - 30s 38ms/step - loss: 2.7303 - accuracy: 0.0979 - val_loss: 2.7168 - val_accuracy: 0.1000\n"
     ]
    }
   ],
   "source": [
    "history_with_vgg16_augment=model1.fit(augmented_train_batches,epochs=epoch_num,validation_data=validation_batches)"
   ]
  },
  {
   "cell_type": "code",
   "execution_count": 15,
   "metadata": {},
   "outputs": [
    {
     "data": {
      "image/png": "[encoded data removed]",
      "text/plain": [
       "<Figure size 576x576 with 2 Axes>"
      ]
     },
     "metadata": {
      "needs_background": "light"
     },
     "output_type": "display_data"
    }
   ],
   "source": [
    "acc = history_with_vgg16_augment.history['accuracy']\n",
    "val_acc = history_with_vgg16_augment.history['val_accuracy']\n",
    " \n",
    "loss = history_with_vgg16_augment.history['loss']\n",
    "val_loss =history_with_vgg16_augment.history['val_loss']\n",
    " \n",
    "plt.figure(figsize=(8, 8))\n",
    "plt.subplot(2, 1, 1)\n",
    "plt.plot(acc, label='Training Accuracy')\n",
    "plt.plot(val_acc, label='Validation Accuracy')\n",
    "plt.legend(loc='lower right')\n",
    "plt.ylabel('Accuracy')\n",
    "plt.ylim([min(plt.ylim()),1.1])\n",
    "plt.title('Training and Validation Accuracy')\n",
    " \n",
    "plt.subplot(2, 1, 2)\n",
    "plt.plot(loss, label='Training Loss')\n",
    "plt.plot(val_loss, label='Validation Loss')\n",
    "plt.legend(loc='upper right')\n",
    "plt.ylabel('Cross Entropy')\n",
    "plt.ylim([-0.1,4.0])\n",
    "plt.title('Training and Validation Loss')\n",
    "plt.xlabel('epoch')\n",
    "plt.show()"
   ]
  },
  {
   "cell_type": "markdown",
   "metadata": {},
   "source": [
    "https://zhuanlan.zhihu.com/p/361400805  \n",
    "https://blog.csdn.net/kevin_li126/article/details/109864409  \n",
    "https://blog.csdn.net/mary_0830/article/details/106451690?utm_medium=distribute.pc_aggpage_search_result.none-task-blog-2~aggregatepage~first_rank_v2~rank_aggregation-6-106451690.pc_agg_rank_aggregation&utm_term=cifar10+%E8%AE%AD%E7%BB%83vgg16&spm=1000.2123.3001.4430"
   ]
  },
  {
   "cell_type": "code",
   "execution_count": null,
   "metadata": {},
   "outputs": [],
   "source": []
  }
 ],
 "metadata": {
  "kernelspec": {
   "display_name": "Python 3",
   "language": "python",
   "name": "python3"
  },
  "language_info": {
   "codemirror_mode": {
    "name": "ipython",
    "version": 3
   },
   "file_extension": ".py",
   "mimetype": "text/x-python",
   "name": "python",
   "nbconvert_exporter": "python",
   "pygments_lexer": "ipython3",
   "version": "3.7.4"
  }
 },
 "nbformat": 4,
 "nbformat_minor": 2
}
