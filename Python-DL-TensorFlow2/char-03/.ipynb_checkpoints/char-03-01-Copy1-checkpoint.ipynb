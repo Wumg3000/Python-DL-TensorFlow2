{
 "cells": [
  {
   "cell_type": "markdown",
   "metadata": {},
   "source": [
    "## 用TensorFlow 低阶API构建模型"
   ]
  },
  {
   "cell_type": "markdown",
   "metadata": {},
   "source": [
    "## 1.导入CIFAR-10数据集\n",
    "CIFAR-10是由 Hinton 的学生 Alex Krizhevsky 和 Ilya Sutskever 整理的一个用于识别普适物体的小型数据集。一共包含 10 个类别的 RGB 彩色图片：飞机（ a叩lane ）、汽车（ automobile ）、鸟类（ bird ）、猫（ cat ）、鹿（ deer ）、狗（ dog ）、蛙类（ frog ）、马（ horse ）、船（ ship ）和卡车（ truck ）。图片的尺寸为 32×32，3个通道 ，数据集中一共有 50000 张训练圄片和 10000 张测试图片。 CIFAR-10数据集有3个版本，这里使用python版本。\n"
   ]
  },
  {
   "cell_type": "code",
   "execution_count": 1,
   "metadata": {},
   "outputs": [],
   "source": [
    "import os\n",
    "import math\n",
    "import numpy as np\n",
    "import pickle as p\n",
    "import tensorflow as tf\n",
    "import matplotlib.pyplot as plt\n",
    "%matplotlib inline\n"
   ]
  },
  {
   "cell_type": "code",
   "execution_count": 2,
   "metadata": {},
   "outputs": [],
   "source": [
    "def load_CIFAR_batch(filename):\n",
    "    \"\"\" 导入单批次的cifar数据 \"\"\"  \n",
    "    with open(filename, 'rb')as f:\n",
    "        data_dict = p.load(f, encoding='bytes')\n",
    "        images= data_dict[b'data']\n",
    "        labels = data_dict[b'labels']\n",
    "                \n",
    "        # 把原始数据结构调整为: BCWH\n",
    "        images = images.reshape(10000, 3, 32, 32)\n",
    "        # tensorflow处理图像数据的结构：BWHC\n",
    "        # 把通道数据C移动到最后一个维度\n",
    "        images = images.transpose (0,2,3,1)\n",
    "     \n",
    "        labels = np.array(labels)\n",
    "        \n",
    "        return images, labels\n"
   ]
  },
  {
   "cell_type": "code",
   "execution_count": 3,
   "metadata": {},
   "outputs": [],
   "source": [
    "def load_CIFAR_data(data_dir):\n",
    "    \"\"\"导入CIFAR数据集\"\"\"\n",
    " \n",
    "    images_train=[]\n",
    "    labels_train=[]\n",
    "    for i in range(5):\n",
    "        f=os.path.join(data_dir,'data_batch_%d' % (i+1))\n",
    "        print('loading ',f)\n",
    "        # 调用 load_CIFAR_batch( )获得批量的图像及其对应的标签\n",
    "        image_batch,label_batch=load_CIFAR_batch(f)\n",
    "        images_train.append(image_batch)\n",
    "        labels_train.append(label_batch)\n",
    "        Xtrain=np.concatenate(images_train)\n",
    "        Ytrain=np.concatenate(labels_train)\n",
    "        del image_batch ,label_batch\n",
    "    \n",
    "    Xtest,Ytest=load_CIFAR_batch(os.path.join(data_dir,'test_batch'))\n",
    "    print('finished loadding CIFAR-10 data')\n",
    "    \n",
    "    # 返回训练集的图像和标签，测试集的图像和标签\n",
    "    return (Xtrain,Ytrain),(Xtest,Ytest)"
   ]
  },
  {
   "cell_type": "code",
   "execution_count": 4,
   "metadata": {},
   "outputs": [
    {
     "name": "stdout",
     "output_type": "stream",
     "text": [
      "loading  ./data/cifar-10-batches-py/data_batch_1\n",
      "loading  ./data/cifar-10-batches-py/data_batch_2\n",
      "loading  ./data/cifar-10-batches-py/data_batch_3\n",
      "loading  ./data/cifar-10-batches-py/data_batch_4\n",
      "loading  ./data/cifar-10-batches-py/data_batch_5\n",
      "finished loadding CIFAR-10 data\n"
     ]
    }
   ],
   "source": [
    "data_dir = './data/cifar-10-batches-py/'\n",
    "(x_train,y_train),(x_test,y_test) = load_CIFAR_data(data_dir)"
   ]
  },
  {
   "cell_type": "code",
   "execution_count": 5,
   "metadata": {},
   "outputs": [],
   "source": [
    "label_dict = {0:\"airplane\", 1:\"automobile\", 2:\"bird\", 3:\"cat\", 4:\"deer\",\n",
    "              5:\"dog\", 6:\"frog\", 7:\"horse\", 8:\"ship\", 9:\"truck\"}\n",
    "\n",
    "\n",
    "def plot_images_labels(images, labels, num):\n",
    "    total = len(images)\n",
    "    fig = plt.gcf()\n",
    "    fig.set_size_inches(15, math.ceil(num / 10) * 7)\n",
    "    for i in range(0, num):\n",
    "        choose_n = np.random.randint(0, total)\n",
    "        \n",
    "        ax = plt.subplot(math.ceil(num / 5), 5, 1 + i)\n",
    "        ax.imshow(images[choose_n], cmap='binary')\n",
    "        title = label_dict[labels[choose_n]]\n",
    "        ax.set_title(title, fontsize=10)        \n",
    "    plt.show()"
   ]
  },
  {
   "cell_type": "code",
   "execution_count": 6,
   "metadata": {},
   "outputs": [
    {
     "data": {
      "image/png": "[encoded data removed]",
      "text/plain": [
       "<Figure size 1080x504 with 5 Axes>"
      ]
     },
     "metadata": {
      "needs_background": "light"
     },
     "output_type": "display_data"
    }
   ],
   "source": [
    "plot_images_labels(x_train, y_train, 5)"
   ]
  },
  {
   "cell_type": "code",
   "execution_count": 26,
   "metadata": {},
   "outputs": [],
   "source": [
    "x_train = x_train.astype('float32') / 255.0\n",
    "x_test = x_test.astype('float32') / 255.0\n",
    "\n",
    "train_num = len(x_train)\n",
    "num_classes = 10\n",
    "\n",
    "learning_rate = 0.001\n",
    "batch_size = 64\n",
    "training_steps = 40000\n",
    "display_step = 1000\n",
    "\n",
    "conv1_filters = 32\n",
    "conv2_filters = 64\n",
    "fc1_units = 256"
   ]
  },
  {
   "cell_type": "code",
   "execution_count": 27,
   "metadata": {},
   "outputs": [],
   "source": [
    "AUTOTUNE = tf.data.experimental.AUTOTUNE\n",
    "train_data = tf.data.Dataset.from_tensor_slices((x_train, y_train))\n",
    "train_data = train_data.shuffle(5000).repeat(training_steps).batch(batch_size).prefetch(buffer_size=AUTOTUNE)"
   ]
  },
  {
   "cell_type": "code",
   "execution_count": 28,
   "metadata": {},
   "outputs": [],
   "source": [
    "random_normal = tf.initializers.RandomNormal()\n",
    "\n",
    "class NetModel(tf.Module):\n",
    "    def __init__(self,name = None):\n",
    "        super(NetModel, self).__init__(name=name)\n",
    "        self.w1 = tf.Variable(random_normal([32*32*3, 256]))\n",
    "        self.b1 = tf.Variable(tf.zeros([256]))\n",
    "        self.w2 = tf.Variable(random_normal([256, 128]))\n",
    "        self.b2 = tf.Variable(tf.zeros([128]))\n",
    "        self.w3 = tf.Variable(random_normal([128, 64]))\n",
    "        self.b3 = tf.Variable(tf.zeros([64]))\n",
    "        self.wout=tf.Variable(random_normal([64, 10]))\n",
    "        self.bout=tf.Variable(tf.zeros([10]))\n",
    "\n",
    "     \n",
    "    # 正向传播\n",
    "    #@tf.function(input_signature=[tf.TensorSpec(shape = [None,2], dtype = tf.float32)])  \n",
    "    def __call__(self,x):\n",
    "        x = tf.nn.relu(x@self.w1 + self.b1)\n",
    "        x = tf.nn.relu(x@self.w2 + self.b2)\n",
    "        x = tf.nn.relu(x@self.w3 + self.b3)\n",
    "        y = tf.nn.softmax(x@self.wout + self.bout)\n",
    "        return y\n",
    "    \n",
    "    # 损失函数(二元交叉熵)\n",
    "    #@tf.function(input_signature=[tf.TensorSpec(shape = [None,1], dtype = tf.float32),\n",
    "    #                          tf.TensorSpec(shape = [None,1], dtype = tf.float32)])  \n",
    "    def loss_func(self,y_true,y_pred):  \n",
    "        #将预测值限制在 1e-7 以上, 1 - 1e-7 以下，避免log(0)错误\n",
    "        eps = 1e-7\n",
    "        y_pred = tf.clip_by_value(y_pred,eps,1.0-eps)\n",
    "        bce = - y_true*tf.math.log(y_pred) - (1-y_true)*tf.math.log(1-y_pred)\n",
    "        return  tf.reduce_mean(bce)\n",
    "    \n",
    "    # 评估指标(准确率)\n",
    "    #@tf.function(input_signature=[tf.TensorSpec(shape = [None,1], dtype = tf.float32),\n",
    "    #                          tf.TensorSpec(shape = [None,1], dtype = tf.float32)]) \n",
    "    def metric_func(self,y_true,y_pred):\n",
    "        y_pred = tf.where(y_pred>0.5,tf.ones_like(y_pred,dtype = tf.float32),\n",
    "                          tf.zeros_like(y_pred,dtype = tf.float32))\n",
    "        acc = tf.reduce_mean(1-tf.abs(y_true-y_pred))\n",
    "        return acc\n",
    "    \n",
    "model = NetModel()"
   ]
  },
  {
   "cell_type": "code",
   "execution_count": 29,
   "metadata": {},
   "outputs": [],
   "source": [
    "def cross_entropy(y_pred, y_true):\n",
    "    y_pred = tf.clip_by_value(y_pred, 1e-9, 1.)\n",
    "    loss_ = tf.keras.losses.sparse_categorical_crossentropy(y_true=y_true, y_pred=y_pred)\n",
    "    \n",
    "    return tf.reduce_mean(loss_)\n",
    "\n",
    "\n",
    "def accuracy(y_pred, y_true):\n",
    "    correct_prediction = tf.equal(tf.argmax(y_pred, 1), tf.reshape(tf.cast(y_true, tf.int64), [-1]))\n",
    "\n",
    "    return tf.reduce_mean(tf.cast(correct_prediction, tf.float32))\n",
    "\n",
    "optimizer = tf.optimizers.Adam(learning_rate)\n"
   ]
  },
  {
   "cell_type": "code",
   "execution_count": 30,
   "metadata": {},
   "outputs": [],
   "source": [
    "def run_optimization(x, y):\n",
    "    with tf.GradientTape() as g:\n",
    "        pred = model(x)\n",
    "        loss = cross_entropy(pred, y)\n",
    "        \n",
    "    #反向传播，更新梯度\n",
    "    gradients = g.gradient(loss, model.trainable_variables)\n",
    "    optimizer.apply_gradients(zip(gradients, model.trainable_variables))"
   ]
  },
  {
   "cell_type": "code",
   "execution_count": 31,
   "metadata": {},
   "outputs": [],
   "source": [
    "#model.trainable_variables"
   ]
  },
  {
   "cell_type": "code",
   "execution_count": 32,
   "metadata": {},
   "outputs": [
    {
     "name": "stdout",
     "output_type": "stream",
     "text": [
      "step: 1000, loss: 2.034531, accuracy: 0.187500\n",
      "step: 2000, loss: 1.730201, accuracy: 0.281250\n",
      "step: 3000, loss: 1.736310, accuracy: 0.296875\n",
      "step: 4000, loss: 1.557699, accuracy: 0.406250\n",
      "step: 5000, loss: 1.544415, accuracy: 0.406250\n",
      "step: 6000, loss: 1.581486, accuracy: 0.390625\n",
      "step: 7000, loss: 1.349558, accuracy: 0.531250\n",
      "step: 8000, loss: 1.404182, accuracy: 0.437500\n",
      "step: 9000, loss: 1.453270, accuracy: 0.421875\n",
      "step: 10000, loss: 1.373199, accuracy: 0.406250\n",
      "step: 11000, loss: 1.331080, accuracy: 0.500000\n",
      "step: 12000, loss: 1.279387, accuracy: 0.484375\n",
      "step: 13000, loss: 1.239857, accuracy: 0.656250\n",
      "step: 14000, loss: 1.108412, accuracy: 0.718750\n",
      "step: 15000, loss: 1.099328, accuracy: 0.656250\n",
      "step: 16000, loss: 1.393069, accuracy: 0.406250\n",
      "step: 17000, loss: 1.255968, accuracy: 0.562500\n",
      "step: 18000, loss: 1.326122, accuracy: 0.546875\n",
      "step: 19000, loss: 1.414706, accuracy: 0.500000\n",
      "step: 20000, loss: 1.148339, accuracy: 0.593750\n",
      "step: 21000, loss: 1.373455, accuracy: 0.578125\n",
      "step: 22000, loss: 1.343428, accuracy: 0.515625\n",
      "step: 23000, loss: 0.995668, accuracy: 0.593750\n",
      "step: 24000, loss: 1.318415, accuracy: 0.500000\n",
      "step: 25000, loss: 0.970691, accuracy: 0.625000\n",
      "step: 26000, loss: 1.341171, accuracy: 0.546875\n",
      "step: 27000, loss: 1.187921, accuracy: 0.546875\n",
      "step: 28000, loss: 1.242468, accuracy: 0.562500\n",
      "step: 29000, loss: 1.176297, accuracy: 0.546875\n",
      "step: 30000, loss: 1.160480, accuracy: 0.593750\n",
      "step: 31000, loss: 1.101466, accuracy: 0.671875\n",
      "step: 32000, loss: 0.873039, accuracy: 0.640625\n",
      "step: 33000, loss: 0.996041, accuracy: 0.640625\n",
      "step: 34000, loss: 0.899133, accuracy: 0.671875\n",
      "step: 35000, loss: 0.828846, accuracy: 0.734375\n",
      "step: 36000, loss: 0.995390, accuracy: 0.656250\n",
      "step: 37000, loss: 0.917415, accuracy: 0.640625\n",
      "step: 38000, loss: 1.156392, accuracy: 0.640625\n",
      "step: 39000, loss: 0.816090, accuracy: 0.703125\n",
      "step: 40000, loss: 0.892741, accuracy: 0.718750\n"
     ]
    }
   ],
   "source": [
    "train_loss_list = []\n",
    "train_acc_list = []\n",
    "\n",
    "for step, (batch_x, batch_y) in enumerate(train_data.take(training_steps), 1):\n",
    "    batch_x = tf.reshape(batch_x, [-1, 32 * 32 * 3])\n",
    "    run_optimization(batch_x, batch_y)\n",
    "    \n",
    "    if step % display_step == 0:\n",
    "        pred = model(batch_x)\n",
    "        loss = cross_entropy(pred, batch_y)\n",
    "        acc = accuracy(pred, batch_y)\n",
    "        train_loss_list.append(loss)\n",
    "        train_acc_list.append(acc)\n",
    "        print(\"step: %i, loss: %f, accuracy: %f\" % (step, loss, acc))"
   ]
  },
  {
   "cell_type": "code",
   "execution_count": 34,
   "metadata": {},
   "outputs": [
    {
     "data": {
      "image/png": "[encoded data removed]",
      "text/plain": [
       "<Figure size 432x288 with 1 Axes>"
      ]
     },
     "metadata": {
      "needs_background": "light"
     },
     "output_type": "display_data"
    }
   ],
   "source": [
    "plt.title('the train and validate')\n",
    "plt.xlabel('Times')\n",
    "plt.ylabel('Loss value')\n",
    "plt.plot(train_loss_list, color=(1, 0, 0), label='Loss train')\n",
    "plt.plot(train_acc_list, color=(0, 0, 1), label='Accuracy train')\n",
    "plt.legend(loc='best')\n",
    "plt.show()"
   ]
  },
  {
   "cell_type": "code",
   "execution_count": 37,
   "metadata": {},
   "outputs": [
    {
     "name": "stdout",
     "output_type": "stream",
     "text": [
      "Test accuracy:0.541166\n"
     ]
    }
   ],
   "source": [
    "test_total_batch = int(len(x_test) / batch_size)\n",
    "test_acc_sum = 0.0\n",
    "for i in range(test_total_batch):\n",
    "    test_image_batch = x_test[i*batch_size:(i+1)*batch_size]\n",
    "    test_image_batch = tf.reshape(test_image_batch, [-1, 32 * 32 * 3])\n",
    "    test_label_batch = y_test[i*batch_size:(i+1)*batch_size]\n",
    "    pred = model(test_image_batch)\n",
    "    test_batch_acc = accuracy(pred,test_label_batch)\n",
    "    test_acc_sum += test_batch_acc\n",
    "test_acc = float(test_acc_sum / test_total_batch)\n",
    "print(\"Test accuracy:{:.6f}\".format(test_acc))"
   ]
  },
  {
   "cell_type": "code",
   "execution_count": null,
   "metadata": {},
   "outputs": [],
   "source": []
  }
 ],
 "metadata": {
  "kernelspec": {
   "display_name": "Python 3",
   "language": "python",
   "name": "python3"
  },
  "language_info": {
   "codemirror_mode": {
    "name": "ipython",
    "version": 3
   },
   "file_extension": ".py",
   "mimetype": "text/x-python",
   "name": "python",
   "nbconvert_exporter": "python",
   "pygments_lexer": "ipython3",
   "version": "3.7.4"
  }
 },
 "nbformat": 4,
 "nbformat_minor": 2
}
