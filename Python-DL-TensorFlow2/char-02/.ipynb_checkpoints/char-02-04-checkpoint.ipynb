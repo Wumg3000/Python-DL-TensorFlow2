{
 "cells": [
  {
   "cell_type": "markdown",
   "metadata": {},
   "source": [
    "## 2.12 GPU加速\n",
    "\t深度学习的训练过程一般会非常耗时，多则通常需要几个小时或者几天来训练一个模型。如果数据量巨大、模型复杂，甚至需要几十天来训练一个模型。一般情况下，训练模型的时间主要耗费在准备数据和参数迭代上。当准备数据成为训练模型的主要瓶颈时，我们可以使用多线程来加速。当参数迭代成为训练模型的主要瓶颈时，我们可以使用系统的GPU（或TPU）资源来加速。  \n",
    "\t如果没有额外的标注，TensorFlow将自动决定是使用CPU还是GPU。 如果有必要，TensorFlow也可以在CPU和GPU内存之间复制张量。  \n",
    "   查看系统的GPU资源以及张量的存放位置（系统内存还是GPU）:\n"
   ]
  },
  {
   "cell_type": "code",
   "execution_count": 1,
   "metadata": {},
   "outputs": [
    {
     "name": "stdout",
     "output_type": "stream",
     "text": [
      "设备类型: \n",
      "[PhysicalDevice(name='/physical_device:CPU:0', device_type='CPU'), PhysicalDevice(name='/physical_device:GPU:0', device_type='GPU')]\n",
      "X的存储信息:  \n",
      "/job:localhost/replica:0/task:0/device:GPU:0\n"
     ]
    }
   ],
   "source": [
    "import tensorflow as tf\n",
    "\n",
    "x = tf.random.normal((5, 5))\n",
    "\n",
    "print(\"设备类型: \"),\n",
    "print(tf.config.list_physical_devices())\n",
    "# 设备类型: \n",
    "# [PhysicalDevice(name='/physical_device:CPU:0', device_type='CPU'), PhysicalDevice(name='/physical_device:GPU:0', device_type='GPU')]\n",
    "\n",
    "print(\"X的存储信息:  \"),\n",
    "print(x.device)\n",
    "# X的存储信息:  \n",
    "# /job:localhost/replica:0/task:0/device:GPU:0"
   ]
  },
  {
   "cell_type": "markdown",
   "metadata": {},
   "source": [
    "在必要时，我们可以显式的指定希望常量的存储位置以及是使用CPU还是GPU进行科学计算。如果没有显式的指定，TensorFlow将自动决定在哪个设备上执行，并且把需要的张量复制到对应的设备上。但是，在需要的时候可以用tf.device这个上下文管理器来指定设备。下面通过用一个列子来做说明："
   ]
  },
  {
   "cell_type": "code",
   "execution_count": 2,
   "metadata": {},
   "outputs": [
    {
     "name": "stdout",
     "output_type": "stream",
     "text": [
      "cpu 运算耗时: 0.0202\n",
      "cpu 运算耗时: 0.0129\n",
      "cpu 运算耗时: 0.0000\n",
      "cpu 运算耗时: 0.0156\n",
      "cpu 运算耗时: 0.0156\n",
      "cpu 运算耗时: 0.0937\n",
      "cpu 运算耗时: 0.2456\n",
      "cpu 运算耗时: 0.5192\n",
      "cpu 运算耗时: 1.0234\n",
      "cpu 运算耗时: 3.3166\n",
      "cpu 运算耗时: 6.4232\n",
      "gpu 运算耗时: 0.0020\n",
      "gpu 运算耗时: 0.0033\n",
      "gpu 运算耗时: 0.0010\n",
      "gpu 运算耗时: 0.0010\n",
      "gpu 运算耗时: 0.0010\n",
      "gpu 运算耗时: 0.0010\n",
      "gpu 运算耗时: 0.0020\n",
      "gpu 运算耗时: 0.0010\n",
      "gpu 运算耗时: 0.0010\n"
     ]
    }
   ],
   "source": [
    "import tensorflow as tf\n",
    "import time\n",
    "\n",
    "cpu_times = []\n",
    "sizes = [1, 10, 100, 500, 1000, 2000, 3000, 4000, 5000, 8000, 10000]\n",
    "for size in sizes:\n",
    "    start = time.time()\n",
    "    with tf.device('cpu:0'):\n",
    "        v1 = tf.Variable(tf.random.normal((size, size)))\n",
    "        v2 = tf.Variable(tf.random.normal((size, size)))\n",
    "        op = tf.matmul(v1, v2)\n",
    "\n",
    "    cpu_times.append(time.time() - start)\n",
    "    print('cpu 运算耗时: {0:.4f}'.format(time.time() - start))\n",
    "\n",
    "\n",
    "gpu_times = []\n",
    "for size in sizes:\n",
    "    start = time.time()\n",
    "    with tf.device('gpu:0'):\n",
    "        v1 = tf.Variable(tf.random.normal((size, size)))\n",
    "        v2 = tf.Variable(tf.random.normal((size, size)))\n",
    "        op = tf.matmul(v1, v2)\n",
    "\n",
    "    gpu_times.append(time.time() - start)\n",
    "    \n",
    "    if size % 100==0:\n",
    "        print('gpu 运算耗时: {0:.4f}'.format(time.time() - start))"
   ]
  },
  {
   "cell_type": "markdown",
   "metadata": {},
   "source": [
    "从上面的日志中我们可以发现，在数据量不是很大的情况下（比如矩阵大小在100100以内），使用GPU运算并没有太多的优势，这是因为前期的张量准备以及复制耗费了太多时间。但是随着数据量的逐步增加，GPU的运算速度的优势逐步体现出来，在我们的数据是一个10000 * 10000 的矩阵的时候，CPU和GPU的运算速度会有1000倍的差距。我们把数据罗列在图表上会更加直观："
   ]
  },
  {
   "cell_type": "code",
   "execution_count": 3,
   "metadata": {},
   "outputs": [
    {
     "data": {
      "image/png": "[encoded data removed]",
      "text/plain": [
       "<Figure size 432x288 with 1 Axes>"
      ]
     },
     "metadata": {
      "needs_background": "light"
     },
     "output_type": "display_data"
    }
   ],
   "source": [
    "import tensorflow as tf\n",
    "import matplotlib.pyplot as plt\n",
    "%matplotlib inline\n",
    "\n",
    "plt.rcParams['font.sans-serif']=['SimHei']\n",
    "plt.rcParams['axes.unicode_minus'] = False \n",
    "plt.title('CPU and GPU 耗时比较')\n",
    "plt.xlabel('矩阵大小')\n",
    "plt.ylabel('耗时（秒）')\n",
    "plt.plot(sizes,cpu_times, color=(1, 0, 0), label='CPU')\n",
    "plt.plot(sizes,gpu_times, color=(0, 0, 1), label='GPU')\n",
    "plt.legend(loc='best')\n",
    "plt.show()"
   ]
  },
  {
   "cell_type": "code",
   "execution_count": null,
   "metadata": {},
   "outputs": [],
   "source": []
  }
 ],
 "metadata": {
  "kernelspec": {
   "display_name": "Python 3",
   "language": "python",
   "name": "python3"
  },
  "language_info": {
   "codemirror_mode": {
    "name": "ipython",
    "version": 3
   },
   "file_extension": ".py",
   "mimetype": "text/x-python",
   "name": "python",
   "nbconvert_exporter": "python",
   "pygments_lexer": "ipython3",
   "version": "3.7.4"
  }
 },
 "nbformat": 4,
 "nbformat_minor": 2
}
