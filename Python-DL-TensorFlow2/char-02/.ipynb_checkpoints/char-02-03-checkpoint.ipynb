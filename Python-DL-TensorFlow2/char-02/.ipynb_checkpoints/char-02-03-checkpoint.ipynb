{
 "cells": [
  {
   "cell_type": "markdown",
   "metadata": {},
   "source": [
    "## 2.11 TensorFlow 2.0实现回归实例\n",
    "在1.7节，我们用纯NumPy实现一个回归实例，这里我们使用TensorFlow 2.0中的自动微分来实现。数据一样，目标一样，但实现方法不一样，大家可以进行比较。  \n",
    "1. 生成数据  \n",
    "这些内容与1.7节的内容一样，只是需要把NumPy数据转换TensorFlow格式的张量或变量。"
   ]
  },
  {
   "cell_type": "code",
   "execution_count": 1,
   "metadata": {},
   "outputs": [
    {
     "data": {
      "image/png": "[encoded data removed]",
      "text/plain": [
       "<Figure size 432x288 with 1 Axes>"
      ]
     },
     "metadata": {
      "needs_background": "light"
     },
     "output_type": "display_data"
    }
   ],
   "source": [
    "import tensorflow as tf\n",
    "import numpy as np\n",
    "from matplotlib import pyplot as plt\n",
    "%matplotlib inline\n",
    "\n",
    "np.random.seed(100) \n",
    "x0 = np.linspace(-1, 1, 100).reshape(100,1) \n",
    "y0 = 3*np.power(x0, 2) +2+ 0.2*np.random.rand(x0.size).reshape(100,1)   \n",
    "# 画图\n",
    "plt.scatter(x0, y0)\n",
    "plt.show()\n"
   ]
  },
  {
   "cell_type": "markdown",
   "metadata": {},
   "source": [
    "图2-8 回归使用的数据图形"
   ]
  },
  {
   "cell_type": "markdown",
   "metadata": {},
   "source": [
    "2. 把numpy转换为TensorFlow 2.0格式的张量或变量"
   ]
  },
  {
   "cell_type": "code",
   "execution_count": 2,
   "metadata": {},
   "outputs": [],
   "source": [
    "x=tf.constant(x0)\n",
    "y=tf.constant(y0)\n",
    "\n",
    "# 随机初始化参数\n",
    "w0= np.random.rand(1,1)\n",
    "b0 = np.random.rand(1,1)"
   ]
  },
  {
   "cell_type": "markdown",
   "metadata": {},
   "source": [
    "3.定义回归模型"
   ]
  },
  {
   "cell_type": "code",
   "execution_count": 3,
   "metadata": {},
   "outputs": [],
   "source": [
    "class LinearRegression:\n",
    "    #定义构建函数，初始化权重参数\n",
    "    def __init__(self,**args):\n",
    "        super().__init__(*args)\n",
    "        self.w=tf.Variable(w0)\n",
    "        self.b=tf.Variable(b0)             \n",
    "    #定义__call__函数，该模型为单层神经网络，其正向传播操作\n",
    "    def __call__(self,x):\n",
    "        y1= tf.square(x)*self.w + self.b\n",
    "        return y1\n",
    "    \n",
    "mymodel=LinearRegression()"
   ]
  },
  {
   "cell_type": "markdown",
   "metadata": {},
   "source": [
    "4.自定义损失函数"
   ]
  },
  {
   "cell_type": "code",
   "execution_count": 4,
   "metadata": {},
   "outputs": [],
   "source": [
    "def myloss(x,y):\n",
    "    mse=tf.reduce_mean(tf.square(y - mymodel(x)))\n",
    "    return mse"
   ]
  },
  {
   "cell_type": "markdown",
   "metadata": {},
   "source": [
    "5.使用自动微分及自定义梯度更新方法"
   ]
  },
  {
   "cell_type": "code",
   "execution_count": 5,
   "metadata": {},
   "outputs": [],
   "source": [
    "lr=0.001\n",
    "\n",
    "@tf.function\n",
    "def train_step(x,y,model,epoch):\n",
    "    for i in range(epoch):\n",
    "        with tf.GradientTape() as tape:\n",
    "            loss=myloss(x,y)\n",
    "        # 反向传播求梯度\n",
    "        w=model.w\n",
    "        b=model.b\n",
    "        dw,db=tape.gradient(loss,[w,b])\n",
    "        # 梯度下降法更新参数\n",
    "        w.assign(w - lr*dw)\n",
    "        b.assign(b - lr*db)\n",
    "        if i%50==0:\n",
    "            tf.print(w)\n",
    "            tf.print(loss)\n",
    "            tf.print()\n",
    "    return w,b\n"
   ]
  },
  {
   "cell_type": "markdown",
   "metadata": {},
   "source": [
    "对模型进行训练。"
   ]
  },
  {
   "cell_type": "code",
   "execution_count": 6,
   "metadata": {},
   "outputs": [
    {
     "name": "stdout",
     "output_type": "stream",
     "text": [
      "[[0.7801067362297911]]\n",
      "4.7428952912163886\n",
      "\n",
      "[[0.86658873990225349]]\n",
      "3.826106198444287\n",
      "\n",
      "[[0.94507231663588342]]\n",
      "3.0937170971599524\n",
      "\n",
      "[[1.0164001499027295]]\n",
      "2.5085182857215607\n",
      "\n",
      "[[1.081325170615685]]\n",
      "2.0408104966583185\n",
      "\n",
      "[[1.14052012453223]]\n",
      "1.6668889529802871\n",
      "\n",
      "[[1.1945861197304926]]\n",
      "1.3678334106850856\n",
      "\n",
      "[[1.244060262886975]]\n",
      "1.1285424255595446\n",
      "\n",
      "[[1.2894224814942188]]\n",
      "0.93696254872938578\n",
      "\n",
      "[[1.3311016188012315]]\n",
      "0.78347310548884364\n",
      "\n",
      "[[1.3694808790080359]]\n",
      "0.66039515364338086\n",
      "\n",
      "[[1.4049026919804632]]\n",
      "0.561599556304177\n",
      "\n",
      "[[1.4376730593671871]]\n",
      "0.4821941633400636\n",
      "\n",
      "[[1.4680654374040847]]\n",
      "0.41827413376992056\n",
      "\n",
      "[[1.4963242057973256]]\n",
      "0.36672265438855339\n",
      "\n",
      "[[1.5226677668112352]]\n",
      "0.3250518823793842\n",
      "\n",
      "[[1.5472913139829079]]\n",
      "0.29127599288838213\n",
      "\n",
      "[[1.5703693056829719]]\n",
      "0.26380985132148282\n",
      "\n",
      "[[1.5920576749873472]]\n",
      "0.24138813813386953\n",
      "\n",
      "[[1.6124958039705193]]\n",
      "0.22300079787056615\n",
      "\n"
     ]
    }
   ],
   "source": [
    "w1,b1=train_step(x,y,mymodel,1000)"
   ]
  },
  {
   "cell_type": "code",
   "execution_count": 7,
   "metadata": {},
   "outputs": [
    {
     "data": {
      "image/png": "[encoded data removed]",
      "text/plain": [
       "<Figure size 432x288 with 1 Axes>"
      ]
     },
     "metadata": {
      "needs_background": "light"
     },
     "output_type": "display_data"
    }
   ],
   "source": [
    "plt.scatter(x, y, c=\"b\")\n",
    "y1=tf.square(x)*w1 + b1\n",
    "plt.scatter(x, y1, c=\"r\")\n",
    "plt.show()\n"
   ]
  },
  {
   "cell_type": "markdown",
   "metadata": {},
   "source": [
    "图2-9 使用TensorFlow实现回归问题的拟合结果"
   ]
  },
  {
   "cell_type": "markdown",
   "metadata": {},
   "source": [
    "6．使用自动微分及优化器  \n",
    "\t虽然上述梯度计算采用自动微分的方法，但梯度更新采用自定义方式，如果损失函数比较复杂，自定义梯度难度会徒增，是否有更好的方法呢？使用优化器可以轻松实现自动微分、自动梯度更新，而这正是方向传播的核心内容。  \n",
    "\t使用优化器（optimizer）的常见方法有3种，介绍如下。  \n",
    "1）使用apply_gradients方法：先计算损失函数关于模型变量的导数，然后将求出的导数值传入优化器，使用优化器的 apply_gradients 方法迭代更新模型参数以最小化损失函数。  \n",
    "2）用minimize方法：minimize(loss, var_list) 计算loss所涉及的变量(tf.Varialble)组成的列表或者元组，即tf.trainable_variables()，它是compute_gradients()和apply_gradients()这两个方法的简单组合。用代码可表示如下：\n"
   ]
  },
  {
   "cell_type": "raw",
   "metadata": {},
   "source": [
    "#计算变量列表的梯度\n",
    "grads_and_vars = opt.compute_gradients(loss, <list of variables>)\n",
    "# grads_and_vars是元组(gradient, variable).构成的列表 \n",
    "# 使用优化器optimizer更新梯度.\n",
    "opt.apply_gradients(grads_and_vars)"
   ]
  },
  {
   "cell_type": "markdown",
   "metadata": {},
   "source": [
    "3）在编译时将优化器传入Keras的Model,通过调用model.fit实现对loss的的迭代优化。具体实例可参考本书3.3节。  \n",
    "下面，我们先来了解如何使用优化器的apply_gradients方法。\n"
   ]
  },
  {
   "cell_type": "code",
   "execution_count": 8,
   "metadata": {},
   "outputs": [],
   "source": [
    "lr=0.001\n",
    "optimizer = tf.keras.optimizers.SGD(learning_rate=0.01)\n",
    "@tf.function\n",
    "def train_step01(x,y,model,epoch):\n",
    "    for i in range(epoch):\n",
    "        with tf.GradientTape() as tape:\n",
    "            loss=myloss(x,y)\n",
    "        # 说明权重参数\n",
    "        w=model.w\n",
    "        b=model.b\n",
    "        #自动计算损失函数，并返回自变量（模型参数）的梯度\n",
    "        dw,db=tape.gradient(loss,[w,b])\n",
    "        #根据梯度自动更新参数，这就实现了梯度反向传播\n",
    "        optimizer.apply_gradients(grads_and_vars=zip([dw,db],[w,b]))\n",
    "        # 以下更新梯度步骤就不需要了！\n",
    "        #w.assign(w - lr*dw)\n",
    "        #b.assign(b - lr*db)\n",
    "        if i%50==0:\n",
    "            tf.print(w)\n",
    "            tf.print(loss)\n",
    "            tf.print()\n",
    "    return w,b\n"
   ]
  },
  {
   "cell_type": "markdown",
   "metadata": {},
   "source": [
    "训练模型"
   ]
  },
  {
   "cell_type": "code",
   "execution_count": 9,
   "metadata": {},
   "outputs": [
    {
     "name": "stdout",
     "output_type": "stream",
     "text": [
      "[[1.6351919196101972]]\n",
      "0.20784151748409802\n",
      "\n",
      "[[1.7851382099935258]]\n",
      "0.1396838960903809\n",
      "\n",
      "[[1.8940728845507693]]\n",
      "0.11520392546786277\n",
      "\n",
      "[[1.9850682897832033]]\n",
      "0.097853685743192365\n",
      "\n",
      "[[2.06589121521148]]\n",
      "0.083484344505084629\n",
      "\n",
      "[[2.1393779481700839]]\n",
      "0.071329459638629064\n",
      "\n",
      "[[2.2067585378037315]]\n",
      "0.061021055855304956\n",
      "\n",
      "[[2.2687233397167494]]\n",
      "0.052275883399084538\n",
      "\n",
      "[[2.3257665088450703]]\n",
      "0.044856602420804866\n",
      "\n",
      "[[2.378297826286762]]\n",
      "0.038562160203786028\n",
      "\n",
      "[[2.4266802052051126]]\n",
      "0.033222016745471879\n",
      "\n",
      "[[2.471243266302324]]\n",
      "0.028691490754136854\n",
      "\n",
      "[[2.5122891275638288]]\n",
      "0.024847836349627058\n",
      "\n",
      "[[2.5500955872658522]]\n",
      "0.021586917148631608\n",
      "\n",
      "[[2.584918367451972]]\n",
      "0.018820384854728894\n",
      "\n",
      "[[2.6169929599658932]]\n",
      "0.016473285628541705\n",
      "\n",
      "[[2.6465362562321673]]\n",
      "0.014482029358112486\n",
      "\n",
      "[[2.6737480258226771]]\n",
      "0.012792666807827185\n",
      "\n",
      "[[2.6988122711021822]]\n",
      "0.011359427968262316\n",
      "\n",
      "[[2.7218984726504551]]\n",
      "0.010143482006342838\n",
      "\n"
     ]
    }
   ],
   "source": [
    "w2,b2=train_step01(x,y,mymodel,1000)"
   ]
  },
  {
   "cell_type": "code",
   "execution_count": 10,
   "metadata": {},
   "outputs": [
    {
     "data": {
      "image/png": "[encoded data removed]",
      "text/plain": [
       "<Figure size 432x288 with 1 Axes>"
      ]
     },
     "metadata": {
      "needs_background": "light"
     },
     "output_type": "display_data"
    }
   ],
   "source": [
    "plt.scatter(x, y, c=\"b\")\n",
    "y2=tf.square(x)*w2 + b2\n",
    "plt.scatter(x, y2, c=\"r\")\n",
    "plt.show()"
   ]
  },
  {
   "cell_type": "markdown",
   "metadata": {},
   "source": [
    "图2-10 使用自动微分的拟合结果  \n",
    "\t由此可见，使用优化器不但可以使程序更简洁，也可以使模型更高效！  \n",
    "接下来，我们使用优化器的minimize(loss, var_list) 方法更新参数。\n"
   ]
  },
  {
   "cell_type": "code",
   "execution_count": 11,
   "metadata": {},
   "outputs": [],
   "source": [
    "lr=0.001\n",
    "\n",
    "#自定义损失函数\n",
    "w=tf.Variable(w0,name = \"w\")\n",
    "b=tf.Variable(b0,name = \"b\")\n",
    "def myloss02():    \n",
    "    y1= tf.square(x)*w + b\n",
    "    mse=tf.reduce_mean(tf.square(y - y1))\n",
    "    return mse\n",
    "\n",
    "optimizer = tf.keras.optimizers.SGD(learning_rate=0.01)\n",
    "@tf.function\n",
    "def train_step02(epoch):\n",
    "    for i in range(epoch):\n",
    "        optimizer.minimize(myloss02,var_list=[w,b])\n",
    "        if i%100==0:\n",
    "            tf.print(w)\n",
    "            tf.print(b)\n",
    "            tf.print()\n",
    "    return w,b"
   ]
  },
  {
   "cell_type": "markdown",
   "metadata": {},
   "source": [
    "训练模型"
   ]
  },
  {
   "cell_type": "code",
   "execution_count": 12,
   "metadata": {},
   "outputs": [
    {
     "name": "stdout",
     "output_type": "stream",
     "text": [
      "[[0.79646442284302665]]\n",
      "[[0.82100652241788585]]\n",
      "\n",
      "[[1.6369864875158668]]\n",
      "[[2.3849873081437822]]\n",
      "\n",
      "[[1.894373360085025]]\n",
      "[[2.4818837398146458]]\n",
      "\n",
      "[[2.0660208590544449]]\n",
      "[[2.4379979132017744]]\n",
      "\n",
      "[[2.206855683495212]]\n",
      "[[2.3878391483445465]]\n",
      "\n",
      "[[2.3258476097053387]]\n",
      "[[2.3439597666769956]]\n",
      "\n",
      "[[2.42674887541688]]\n",
      "[[2.3065970724056921]]\n",
      "\n",
      "[[2.5123473728700185]]\n",
      "[[2.2748849971694733]]\n",
      "\n",
      "[[2.5849677807875904]]\n",
      "[[2.2479793516784925]]\n",
      "\n",
      "[[2.6465781778825095]]\n",
      "[[2.2251527160454709]]\n",
      "\n"
     ]
    }
   ],
   "source": [
    "w3,b3=train_step02(1000)"
   ]
  },
  {
   "cell_type": "code",
   "execution_count": 13,
   "metadata": {},
   "outputs": [
    {
     "data": {
      "image/png": "[encoded data removed]",
      "text/plain": [
       "<Figure size 432x288 with 1 Axes>"
      ]
     },
     "metadata": {
      "needs_background": "light"
     },
     "output_type": "display_data"
    }
   ],
   "source": [
    "plt.scatter(x, y, c=\"b\")\n",
    "y3=tf.square(x)*w3 + b3\n",
    "plt.scatter(x, y3, c=\"r\")\n",
    "plt.show()"
   ]
  },
  {
   "cell_type": "markdown",
   "metadata": {},
   "source": [
    "图2-11 使用优化器的拟合结果  \n",
    "综上，使用优化器的minimize方法更简洁。\n"
   ]
  },
  {
   "cell_type": "code",
   "execution_count": null,
   "metadata": {},
   "outputs": [],
   "source": []
  }
 ],
 "metadata": {
  "kernelspec": {
   "display_name": "Python 3",
   "language": "python",
   "name": "python3"
  },
  "language_info": {
   "codemirror_mode": {
    "name": "ipython",
    "version": 3
   },
   "file_extension": ".py",
   "mimetype": "text/x-python",
   "name": "python",
   "nbconvert_exporter": "python",
   "pygments_lexer": "ipython3",
   "version": "3.7.4"
  }
 },
 "nbformat": 4,
 "nbformat_minor": 2
}
