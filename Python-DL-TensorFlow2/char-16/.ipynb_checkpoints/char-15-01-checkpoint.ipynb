{
 "cells": [
  {
   "cell_type": "markdown",
   "metadata": {},
   "source": [
    "## ORC\n",
    "自己生成训练数据，根据选择的数字及小写字母，随机抽取四个字符，通过captcha生成由5随机字符构成的图片。\n",
    "为简便起见，这里限制了数字及字母范围。"
   ]
  },
  {
   "cell_type": "code",
   "execution_count": 1,
   "metadata": {},
   "outputs": [],
   "source": [
    "from captcha.image import ImageCaptcha\n",
    "import random\n",
    "import shutil\n",
    "import os\n",
    "from PIL import Image\n",
    "import numpy as np\n",
    "import tensorflow as tf\n",
    "import cv2 as cv\n",
    "\n",
    "#选择9个自然数\n",
    "number = [ '1', '2', '3', '4', '5', '6', '7', '8', '9']\n",
    "#alphabet = ['a', 'b', 'c', 'd', 'e', 'f', 'g', 'h', 'i', 'j', 'k', 'l', 'm', 'n', 'o', 'p', 'q', 'r', 's', 't','u',\n",
    "#            'v', 'w', 'x', 'y', 'z']\n",
    "#选择9个小写字母\n",
    "alphabet = [ 'a', 'd',  'h', 'j', 'k', 'q', 's', 't', 'y']\n",
    "\n",
    "CHAR_SET = number + alphabet\n",
    "CHAR_SET_LEN = len(CHAR_SET)\n",
    "IMAGE_HEIGHT = 50\n",
    "IMAGE_WIDTH = 160"
   ]
  },
  {
   "cell_type": "markdown",
   "metadata": {},
   "source": [
    "## 随机生成数据集"
   ]
  },
  {
   "cell_type": "code",
   "execution_count": 2,
   "metadata": {},
   "outputs": [],
   "source": [
    "## 创建保存训练数据集的目录\n",
    "save_path='ocr_data/'\n",
    "shutil.rmtree(save_path,ignore_errors=True)\n",
    "if not os.path.exists(save_path):\n",
    "    os.makedirs(save_path)"
   ]
  },
  {
   "cell_type": "code",
   "execution_count": 3,
   "metadata": {},
   "outputs": [],
   "source": [
    "def random_captcha_text(char_set=None, captcha_size=5):\n",
    "    if char_set is None:\n",
    "        char_set = number + alphabet\n",
    "\n",
    "    captcha_text = []\n",
    "    for i in range(captcha_size):\n",
    "        c = random.choice(char_set)\n",
    "        captcha_text.append(c)\n",
    "    return captcha_text\n",
    "\n",
    "\n",
    "def gen_captcha_text_and_image(width=200, height=50, char_set=CHAR_SET):\n",
    "    image = ImageCaptcha(width=width, height=height)\n",
    "    # 然后再使用create_noise_curve方法将上面生成的验证码画上干扰线\n",
    "    #image = image.create_noise_curve(image, color='black')\n",
    "    captcha_text = random_captcha_text(char_set)\n",
    "    captcha_text = ''.join(captcha_text)\n",
    "    captcha= image.create_captcha_image(captcha_text,color='red', background='white')\n",
    "    captcha = image.create_noise_curve(captcha, color='black')\n",
    "    captcha.save(save_path+captcha_text+\".png\")\n",
    "    return captcha_text, captcha\n"
   ]
  },
  {
   "cell_type": "code",
   "execution_count": 4,
   "metadata": {},
   "outputs": [],
   "source": [
    "## 生成3000个验证码图片\n",
    "for i in range(3000):\n",
    "    text, image = gen_captcha_text_and_image(char_set=CHAR_SET)    "
   ]
  },
  {
   "cell_type": "code",
   "execution_count": null,
   "metadata": {},
   "outputs": [],
   "source": []
  }
 ],
 "metadata": {
  "kernelspec": {
   "display_name": "Python 3",
   "language": "python",
   "name": "python3"
  },
  "language_info": {
   "codemirror_mode": {
    "name": "ipython",
    "version": 3
   },
   "file_extension": ".py",
   "mimetype": "text/x-python",
   "name": "python",
   "nbconvert_exporter": "python",
   "pygments_lexer": "ipython3",
   "version": "3.7.4"
  }
 },
 "nbformat": 4,
 "nbformat_minor": 2
}
