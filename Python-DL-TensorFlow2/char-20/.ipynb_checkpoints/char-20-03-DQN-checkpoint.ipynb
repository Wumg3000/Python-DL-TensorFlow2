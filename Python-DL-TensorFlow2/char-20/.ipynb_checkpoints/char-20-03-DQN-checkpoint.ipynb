{
 "cells": [
  {
   "cell_type": "markdown",
   "metadata": {},
   "source": [
    "https://geektutu.com/post/tensorflow2-gym-dqn.html"
   ]
  },
  {
   "attachments": {
    "image.png": {
     "image/png": "[encoded data removed]"
    }
   },
   "cell_type": "markdown",
   "metadata": {},
   "source": [
    "## 20.3 用TensorFlow实现 DQN算法\n",
    "1、游戏环境  \n",
    "\t这里使用gym为游戏环境，gym是OpenAI推出的免费的强化学习实验环境，支持Python语言。gym拥有多种环境，从简单到复杂，如经典的Acrobot机器人系统（Acrobot-v1）、小车爬山（MountaiCar-v0）、倒立摆摆动（Pendulum-v0）。此外，还包括2D和3D机器人等等。\n",
    "本节将使用其中小车爬山（MountaiCar-v0）。　　\n",
    "\tgym库的安装比较简单，用pip安装即可：pip install gym\n",
    "\tgym库的使用方法是：用env=gym.make(环境名)加载环境，用env.reset()初始化环境，用env.step(动作)执行一个动作，用env.render()显示环境，用env.close()关闭环境。  \n",
    "2、游戏规则  \n",
    "\t本节以小车爬山为游戏场景，如图20-9所示。向左/向右推动小车，小车若到达山顶，则游戏胜利，若200回合后，没有到达山顶，则游戏失败。每走一步得-1分，最低分-200，越早到达山顶，则分数越高。状态由[小车位置，小车速度]构成。动作为0表示向左推； 1表示不动； 2表示向右推。\n",
    "![image.png](attachment:image.png)\n",
    "<center>图20-5 小车爬山游戏示意图</center>"
   ]
  },
  {
   "attachments": {
    "image.png": {
     "image/png": "[encoded data removed]"
    }
   },
   "cell_type": "markdown",
   "metadata": {},
   "source": [
    "3、更新Q表的表达式  \n",
    "Q[s][a] = (1 - lr) * Q[s][a] + lr * (r + factor * max(Q[next_s]))\n",
    "其中s表示状态，a表示动作，lr学习率，r表示奖励，factor表示折扣因子。  \n",
    "4、用神经网络替换Q表，神经网络与环境（gym）、动作（a）、状态（s）、奖励（r）之间的关系，如图20-6所示。\n",
    "![image.png](attachment:image.png)\n",
    "<center> 图20-6 神经网络与环境之间的交互关系</center>"
   ]
  },
  {
   "cell_type": "markdown",
   "metadata": {},
   "source": [
    "## 详细实现代码如下"
   ]
  },
  {
   "cell_type": "code",
   "execution_count": 1,
   "metadata": {},
   "outputs": [],
   "source": [
    "from collections import deque\n",
    "import random\n",
    "import gym\n",
    "import numpy as np\n",
    "from tensorflow.keras import models, layers, optimizers"
   ]
  },
  {
   "cell_type": "markdown",
   "metadata": {},
   "source": [
    "## 设置一些超参数"
   ]
  },
  {
   "cell_type": "code",
   "execution_count": 2,
   "metadata": {},
   "outputs": [],
   "source": [
    "#批量大小\n",
    "batch_size=64\n",
    "#学习率\n",
    "lr=1\n",
    "#更新Q值参数\n",
    "factor=0.95\n",
    "##确定状态维度\n",
    "STATE_DIM=2\n",
    "##确定动作向量维度\n",
    "ACTION_DIM =3\n",
    "#设置一些参数\n",
    "episodes = 200  # 训练200次\n",
    "score_list = []  # 记录所有分数"
   ]
  },
  {
   "cell_type": "markdown",
   "metadata": {},
   "source": [
    "## 构建网络模型"
   ]
  },
  {
   "cell_type": "code",
   "execution_count": 3,
   "metadata": {},
   "outputs": [],
   "source": [
    "class DQN(object):\n",
    "    def __init__(self):\n",
    "        self.step = 0\n",
    "        self.update_freq = 200  # 模型更新频率\n",
    "        self.replay_size = 2000  # 训练集大小\n",
    "        self.replay_queue = deque(maxlen=self.replay_size)\n",
    "        self.model = self.create_model()\n",
    "        self.target_model = self.create_model()\n",
    "\n",
    "    def create_model(self):\n",
    "        \"\"\"创建一个隐藏层为100的神经网络\"\"\"\n",
    "        model = models.Sequential([\n",
    "            layers.Dense(100, input_dim=STATE_DIM, activation='relu'),\n",
    "            layers.Dense(ACTION_DIM, activation=\"linear\")\n",
    "        ])\n",
    "        model.compile(loss='mean_squared_error',optimizer=optimizers.Adam(0.001))\n",
    "        return model\n",
    "\n",
    "    def act(self, s, epsilon=0.1):\n",
    "        \"\"\"预测动作\"\"\"\n",
    "        # 刚开始时，加一点随机成分，产生更多的状态\n",
    "        if np.random.uniform() < epsilon - self.step * 0.0002:\n",
    "            return np.random.choice([0, 1, 2])\n",
    "        return np.argmax(self.model.predict(np.array([s]))[0])\n",
    "   \n",
    "    def save_model(self, file_path='MountainCar-dqn.h5'):\n",
    "        print('model saved')\n",
    "        self.model.save(file_path)\n",
    "\n",
    "    def remember(self, s, a, next_s, reward):\n",
    "        \"\"\"历史记录，position >= 0.4时给额外的reward，快速收敛\"\"\"\n",
    "        if next_s[0] >= 0.4:\n",
    "            reward += 1\n",
    "        self.replay_queue.append((s, a, next_s, reward))\n",
    "\n",
    "    #定义训练函数\n",
    "    def train(self):\n",
    "        if len(self.replay_queue) < self.replay_size:\n",
    "            return\n",
    "        self.step += 1\n",
    "        # 每update_freq 步，将model 的权重赋值给 target_model\n",
    "        if self.step % self.update_freq == 0:\n",
    "            self.target_model.set_weights(self.model.get_weights())\n",
    "\n",
    "        replay_batch = random.sample(self.replay_queue, batch_size)\n",
    "        s_batch = np.array([replay[0] for replay in replay_batch])\n",
    "        next_s_batch = np.array([replay[2] for replay in replay_batch])\n",
    "\n",
    "        Q = self.model.predict(s_batch)\n",
    "        Q_next = self.target_model.predict(next_s_batch)\n",
    "\n",
    "        # 使用公式更新训练集中的Q值\n",
    "        for i, replay in enumerate(replay_batch):\n",
    "            _, a, _, reward = replay\n",
    "            Q[i][a] = (1 - lr) * Q[i][a] + lr * (reward + factor * np.amax(Q_next[i]))\n",
    " \n",
    "        # 传入网络进行训练\n",
    "        self.model.fit(s_batch, Q, verbose=0)"
   ]
  },
  {
   "cell_type": "code",
   "execution_count": 4,
   "metadata": {},
   "outputs": [
    {
     "name": "stdout",
     "output_type": "stream",
     "text": [
      "episode: 0 score: -200.0 max: -200.0\n",
      "episode: 1 score: -200.0 max: -200.0\n",
      "episode: 2 score: -200.0 max: -200.0\n",
      "episode: 3 score: -200.0 max: -200.0\n",
      "episode: 4 score: -200.0 max: -200.0\n",
      "episode: 5 score: -200.0 max: -200.0\n",
      "episode: 6 score: -200.0 max: -200.0\n",
      "episode: 7 score: -200.0 max: -200.0\n",
      "episode: 8 score: -200.0 max: -200.0\n",
      "episode: 9 score: -200.0 max: -200.0\n",
      "episode: 10 score: -200.0 max: -200.0\n",
      "episode: 11 score: -200.0 max: -200.0\n",
      "episode: 12 score: -200.0 max: -200.0\n",
      "episode: 13 score: -200.0 max: -200.0\n",
      "episode: 14 score: -200.0 max: -200.0\n",
      "episode: 15 score: -200.0 max: -200.0\n",
      "episode: 16 score: -200.0 max: -200.0\n",
      "episode: 17 score: -200.0 max: -200.0\n",
      "episode: 18 score: -200.0 max: -200.0\n",
      "episode: 19 score: -200.0 max: -200.0\n",
      "episode: 20 score: -200.0 max: -200.0\n",
      "episode: 21 score: -200.0 max: -200.0\n",
      "episode: 22 score: -200.0 max: -200.0\n",
      "episode: 23 score: -200.0 max: -200.0\n",
      "episode: 24 score: -200.0 max: -200.0\n",
      "episode: 25 score: -200.0 max: -200.0\n",
      "episode: 26 score: -200.0 max: -200.0\n",
      "episode: 27 score: -200.0 max: -200.0\n",
      "episode: 28 score: -200.0 max: -200.0\n",
      "episode: 29 score: -200.0 max: -200.0\n",
      "episode: 30 score: -200.0 max: -200.0\n",
      "episode: 31 score: -200.0 max: -200.0\n",
      "episode: 32 score: -200.0 max: -200.0\n",
      "episode: 33 score: -200.0 max: -200.0\n",
      "episode: 34 score: -200.0 max: -200.0\n",
      "episode: 35 score: -200.0 max: -200.0\n",
      "episode: 36 score: -200.0 max: -200.0\n",
      "episode: 37 score: -200.0 max: -200.0\n",
      "episode: 38 score: -200.0 max: -200.0\n",
      "episode: 39 score: -200.0 max: -200.0\n",
      "episode: 40 score: -200.0 max: -200.0\n",
      "episode: 41 score: -200.0 max: -200.0\n",
      "episode: 42 score: -200.0 max: -200.0\n",
      "episode: 43 score: -200.0 max: -200.0\n",
      "episode: 44 score: -200.0 max: -200.0\n",
      "episode: 45 score: -200.0 max: -200.0\n",
      "episode: 46 score: -200.0 max: -200.0\n",
      "episode: 47 score: -200.0 max: -200.0\n",
      "episode: 48 score: -200.0 max: -200.0\n",
      "episode: 49 score: -200.0 max: -200.0\n",
      "episode: 50 score: -200.0 max: -200.0\n",
      "episode: 51 score: -200.0 max: -200.0\n",
      "episode: 52 score: -200.0 max: -200.0\n",
      "episode: 53 score: -200.0 max: -200.0\n",
      "episode: 54 score: -200.0 max: -200.0\n",
      "episode: 55 score: -200.0 max: -200.0\n",
      "episode: 56 score: -200.0 max: -200.0\n",
      "episode: 57 score: -200.0 max: -200.0\n",
      "episode: 58 score: -200.0 max: -200.0\n",
      "episode: 59 score: -200.0 max: -200.0\n",
      "episode: 60 score: -200.0 max: -200.0\n",
      "episode: 61 score: -200.0 max: -200.0\n",
      "episode: 62 score: -200.0 max: -200.0\n",
      "episode: 63 score: -200.0 max: -200.0\n",
      "episode: 64 score: -200.0 max: -200.0\n",
      "episode: 65 score: -200.0 max: -200.0\n",
      "episode: 66 score: -200.0 max: -200.0\n",
      "episode: 67 score: -200.0 max: -200.0\n",
      "episode: 68 score: -200.0 max: -200.0\n",
      "episode: 69 score: -200.0 max: -200.0\n",
      "episode: 70 score: -200.0 max: -200.0\n",
      "episode: 71 score: -172.0 max: -172.0\n",
      "episode: 72 score: -156.0 max: -156.0\n",
      "episode: 73 score: -200.0 max: -156.0\n",
      "episode: 74 score: -163.0 max: -156.0\n",
      "episode: 75 score: -152.0 max: -152.0\n",
      "episode: 76 score: -155.0 max: -152.0\n",
      "episode: 77 score: -170.0 max: -152.0\n",
      "episode: 78 score: -141.0 max: -141.0\n",
      "episode: 79 score: -172.0 max: -141.0\n",
      "episode: 80 score: -150.0 max: -141.0\n",
      "episode: 81 score: -146.0 max: -141.0\n",
      "episode: 82 score: -154.0 max: -141.0\n",
      "episode: 83 score: -196.0 max: -141.0\n",
      "model saved\n"
     ]
    }
   ],
   "source": [
    "#加载环境\n",
    "env = gym.make('MountainCar-v0')\n",
    "agent = DQN()\n",
    "for i in range(episodes):\n",
    "    #初始化环境\n",
    "    s = env.reset()\n",
    "    score = 0\n",
    "    while True:\n",
    "        a = agent.act(s)\n",
    "        #在环境中执行一个动作\n",
    "        next_s, reward, done, _ = env.step(a)\n",
    "        agent.remember(s, a, next_s, reward)\n",
    "        agent.train()\n",
    "        score += reward\n",
    "        s = next_s\n",
    "        if done:\n",
    "            score_list.append(score)\n",
    "            print('episode:', i, 'score:', score, 'max:', max(score_list))\n",
    "            break\n",
    "    # 最后如果10次平均分大于 -160 时，停止并保存模型\n",
    "    if np.mean(score_list[-10:]) > -160:\n",
    "        agent.save_model()\n",
    "        break\n",
    "env.close()\n"
   ]
  },
  {
   "cell_type": "code",
   "execution_count": 5,
   "metadata": {},
   "outputs": [
    {
     "data": {
      "image/png": "[encoded data removed]",
      "text/plain": [
       "<Figure size 432x288 with 1 Axes>"
      ]
     },
     "metadata": {
      "needs_background": "light"
     },
     "output_type": "display_data"
    }
   ],
   "source": [
    "import matplotlib.pyplot as plt\n",
    "%matplotlib inline\n",
    "\n",
    "plt.plot(score_list, color='blue')\n",
    "plt.show()"
   ]
  },
  {
   "cell_type": "markdown",
   "metadata": {},
   "source": [
    "## 测试环境"
   ]
  },
  {
   "cell_type": "code",
   "execution_count": 7,
   "metadata": {},
   "outputs": [
    {
     "name": "stdout",
     "output_type": "stream",
     "text": [
      "score: -177.0\n"
     ]
    }
   ],
   "source": [
    "import time\n",
    "\n",
    "#恢复模型\n",
    "model = models.load_model('MountainCar-dqn.h5')\n",
    "s = env.reset()\n",
    "score = 0\n",
    "while True:\n",
    "    #显示环境\n",
    "    env.render()\n",
    "    time.sleep(0.01)\n",
    "    a = np.argmax(model.predict(np.array([s]))[0])\n",
    "    s, reward, done, _ = env.step(a)\n",
    "    score += reward\n",
    "    if done:\n",
    "        print('score:', score)\n",
    "        break\n",
    "env.close()"
   ]
  },
  {
   "attachments": {
    "image.png": {
     "image/png": "[encoded data removed]"
    }
   },
   "cell_type": "markdown",
   "metadata": {},
   "source": [
    "测试时可看到小车运动界面：\n",
    "![image.png](attachment:image.png)"
   ]
  },
  {
   "cell_type": "code",
   "execution_count": null,
   "metadata": {},
   "outputs": [],
   "source": []
  }
 ],
 "metadata": {
  "kernelspec": {
   "display_name": "Python 3",
   "language": "python",
   "name": "python3"
  },
  "language_info": {
   "codemirror_mode": {
    "name": "ipython",
    "version": 3
   },
   "file_extension": ".py",
   "mimetype": "text/x-python",
   "name": "python",
   "nbconvert_exporter": "python",
   "pygments_lexer": "ipython3",
   "version": "3.7.4"
  }
 },
 "nbformat": 4,
 "nbformat_minor": 2
}
