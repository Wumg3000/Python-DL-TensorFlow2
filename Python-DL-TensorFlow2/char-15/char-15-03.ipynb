{
 "cells": [
  {
   "cell_type": "markdown",
   "metadata": {},
   "source": [
    "## 15.3.3 测试模型"
   ]
  },
  {
   "cell_type": "markdown",
   "metadata": {},
   "source": [
    "## 导入需要得库"
   ]
  },
  {
   "cell_type": "code",
   "execution_count": 1,
   "metadata": {},
   "outputs": [],
   "source": [
    "import sys\n",
    "import os\n",
    "import cv2\n",
    "import tensorflow as tf\n",
    "sys.path.append(\"..\")  #把上一级目录放入path中\n",
    "import dlib\n",
    "\n",
    "from share_fun import *\n",
    "\n",
    "input_dir = './data/test_faces'\n",
    "size = 64"
   ]
  },
  {
   "cell_type": "markdown",
   "metadata": {},
   "source": [
    "## 测试模型"
   ]
  },
  {
   "cell_type": "code",
   "execution_count": 2,
   "metadata": {},
   "outputs": [
    {
     "name": "stdout",
     "output_type": "stream",
     "text": [
      "Start to process picture myf251.jpg\n",
      "Is this my face myf251.jpg ? True\n",
      "Start to process picture myf252.jpg\n",
      "Is this my face myf252.jpg ? True\n",
      "Start to process picture myf253.jpg\n",
      "Is this my face myf253.jpg ? True\n",
      "Start to process picture myf254.jpg\n",
      "Is this my face myf254.jpg ? True\n",
      "Start to process picture Rob_Lowe_0001.jpg\n",
      "Is this my face Rob_Lowe_0001.jpg ? False\n"
     ]
    }
   ],
   "source": [
    "model = tf.keras.models.load_model(model_path)\n",
    "\n",
    "def is_my_face(image):\n",
    "    res = model.predict(image.reshape(-1, 64, 64, 3))\n",
    "    if res[0][0] == 1:\n",
    "        return True\n",
    "    else:\n",
    "        return False\n",
    "\n",
    "\n",
    "detector = dlib.get_frontal_face_detector()\n",
    "\n",
    "for (path, dirnames, filenames) in os.walk(input_dir):\n",
    "    for filename in filenames:\n",
    "        if filename.endswith('.jpg'):\n",
    "            print('Start to process picture %s' % filename)\n",
    "            img_path = path + '/' + filename\n",
    "            # 从文件读取图片\n",
    "            img = cv2.imread(img_path)\n",
    "            gray_image = cv2.cvtColor(img, cv2.COLOR_BGR2GRAY)\n",
    "            dets = detector(gray_image, 1)\n",
    "            if not len(dets):\n",
    "                print('Can`t get face.')\n",
    "                cv2.imshow('img', img)\n",
    "                key = cv2.waitKey(30) & 0xff\n",
    "                if key == 27:\n",
    "                    sys.exit(0)\n",
    "            for i, d in enumerate(dets):\n",
    "                x1 = d.top() if d.top() > 0 else 0\n",
    "                y1 = d.bottom() if d.bottom() > 0 else 0\n",
    "                x2 = d.left() if d.left() > 0 else 0\n",
    "                y2 = d.right() if d.right() > 0 else 0\n",
    "                face = img[x1:y1, x2:y2]\n",
    "                # 调整图片的尺寸\n",
    "                face = cv2.resize(face, (size, size))\n",
    "                print('Is this my face %s ? %s' % (filename, is_my_face(face)))\n",
    "                cv2.rectangle(img, (x2, x1), (y2, y1), (255, 0, 0), 3)\n",
    "                cv2.imshow('image', img)\n",
    "                key = cv2.waitKey(30) & 0xff\n",
    "                if key == 27:\n",
    "                    sys.exit(0)\n"
   ]
  },
  {
   "cell_type": "code",
   "execution_count": null,
   "metadata": {},
   "outputs": [],
   "source": []
  }
 ],
 "metadata": {
  "kernelspec": {
   "display_name": "Python 3",
   "language": "python",
   "name": "python3"
  },
  "language_info": {
   "codemirror_mode": {
    "name": "ipython",
    "version": 3
   },
   "file_extension": ".py",
   "mimetype": "text/x-python",
   "name": "python",
   "nbconvert_exporter": "python",
   "pygments_lexer": "ipython3",
   "version": "3.7.4"
  }
 },
 "nbformat": 4,
 "nbformat_minor": 2
}
