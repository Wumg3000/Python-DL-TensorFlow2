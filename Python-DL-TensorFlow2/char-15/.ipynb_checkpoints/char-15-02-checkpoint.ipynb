{
 "cells": [
  {
   "cell_type": "markdown",
   "metadata": {},
   "source": [
    "## 构建模型"
   ]
  },
  {
   "cell_type": "code",
   "execution_count": 1,
   "metadata": {},
   "outputs": [],
   "source": [
    "import sys\n",
    "import os\n",
    "import cv2\n",
    "sys.path.append(\"..\")  #把上一级目录放入path中\n",
    "import dlib"
   ]
  },
  {
   "cell_type": "code",
   "execution_count": null,
   "metadata": {},
   "outputs": [],
   "source": []
  },
  {
   "cell_type": "code",
   "execution_count": null,
   "metadata": {},
   "outputs": [],
   "source": []
  },
  {
   "cell_type": "code",
   "execution_count": 1,
   "metadata": {},
   "outputs": [],
   "source": [
    "import tensorflow as tf\n",
    "import numpy as np\n",
    "import random\n",
    "from sklearn.model_selection import train_test_split\n",
    "\n",
    "from share_fun import *"
   ]
  },
  {
   "cell_type": "code",
   "execution_count": 2,
   "metadata": {},
   "outputs": [
    {
     "name": "stdout",
     "output_type": "stream",
     "text": [
      "train size:727, test size:39\n",
      "Epoch 1/3\n",
      "23/23 [==============================] - 5s 30ms/step - loss: 0.4716 - accuracy: 0.7199 - val_loss: 0.1798 - val_accuracy: 0.9487\n",
      "Epoch 2/3\n",
      "23/23 [==============================] - 0s 7ms/step - loss: 0.0919 - accuracy: 0.9742 - val_loss: 0.0317 - val_accuracy: 1.0000\n",
      "Epoch 3/3\n",
      "23/23 [==============================] - 0s 7ms/step - loss: 0.0188 - accuracy: 0.9921 - val_loss: 0.1654 - val_accuracy: 0.9231\n",
      "accuracy is : 92.30769348144531% \n",
      "INFO:tensorflow:Assets written to: model_path\\assets\n"
     ]
    }
   ],
   "source": [
    "my_faces_path = './data/my_faces'\n",
    "other_faces_path = './data/other_faces'\n",
    "size = 64\n",
    "\n",
    "imgs = []\n",
    "labs = []\n",
    "\n",
    "a, b = readData(my_faces_path)\n",
    "c, d = readData(other_faces_path)\n",
    "imgs = a + c\n",
    "labs = b + d\n",
    "\n",
    "# 将图片数据与标签转换成数组\n",
    "imgs = np.array(imgs)\n",
    "labs = np.array([[0] if lab == my_faces_path else [1] for lab in labs])\n",
    "# 随机划分测试集与训练集\n",
    "train_x, test_x, train_y, test_y = train_test_split(imgs, labs, test_size=0.05, random_state=random.randint(0, 100))\n",
    "# 将数据转换成小于1的数\n",
    "train_x = train_x.astype('float32') / 255.0\n",
    "test_x = test_x.astype('float32') / 255.0\n",
    "\n",
    "print('train size:%s, test size:%s' % (len(train_x), len(test_x)))\n",
    "\n",
    "from tensorflow.keras import layers, models\n",
    "model = models.Sequential()\n",
    "model.add(layers.Conv2D(32, (3, 3), activation='relu', input_shape=(64, 64, 3)))\n",
    "model.add(layers.MaxPooling2D((2, 2)))\n",
    "model.add(layers.Conv2D(64, (3, 3), activation='relu'))\n",
    "model.add(layers.MaxPooling2D((2, 2)))\n",
    "model.add(layers.Conv2D(64, (3, 3), activation='relu'))\n",
    "\n",
    "\n",
    "model.add(layers.Flatten(name=\"flatten_layer\"))\n",
    "model.add(layers.Dense(64, activation='relu',  name=\"dense_layer1\"))\n",
    "model.add(layers.Dense(2, activation='sigmoid', name=\"dense_layer2\"))\n",
    "\n",
    "model.compile(optimizer='adam',\n",
    "              loss=tf.keras.losses.SparseCategoricalCrossentropy(from_logits=True),\n",
    "              metrics=['accuracy'])\n",
    "\n",
    "history = model.fit(train_x, train_y, epochs=3,\n",
    "                    validation_data=(test_x, test_y))\n",
    "\n",
    "pred = model(test_x)\n",
    "\n",
    "acc = tf.reduce_mean(tf.cast(tf.equal(tf.argmax(pred, 1), tf.cast(tf.reshape(tf.convert_to_tensor(test_y),shape=[39,]),tf.int64)), tf.float32))\n",
    "print('accuracy is : {}% '.format(acc*100))\n",
    "\n",
    "if acc > 0.9:\n",
    "    tf.saved_model.save(model, model_path)\n"
   ]
  },
  {
   "cell_type": "code",
   "execution_count": null,
   "metadata": {},
   "outputs": [],
   "source": []
  }
 ],
 "metadata": {
  "kernelspec": {
   "display_name": "Python 3",
   "language": "python",
   "name": "python3"
  },
  "language_info": {
   "codemirror_mode": {
    "name": "ipython",
    "version": 3
   },
   "file_extension": ".py",
   "mimetype": "text/x-python",
   "name": "python",
   "nbconvert_exporter": "python",
   "pygments_lexer": "ipython3",
   "version": "3.7.4"
  }
 },
 "nbformat": 4,
 "nbformat_minor": 2
}
