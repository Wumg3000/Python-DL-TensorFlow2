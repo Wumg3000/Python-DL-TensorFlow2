{
 "cells": [
  {
   "cell_type": "markdown",
   "metadata": {},
   "source": [
    "# 第15 章 人脸检测与识别\n",
    "\n",
    "\n",
    "## 15.2 项目概况\n",
    "1、数据集：数据集由两部分组成，包括他人脸图片集及我自己的部分图片。\n",
    "他人的图片从以下网站获取：\n",
    "- 网站地址:http://vis-www.cs.umass.edu/lfw/\n",
    "- 图片集下载:http://vis-www.cs.umass.edu/lfw/lfw.tgz\n",
    "2、目录说明  \n",
    "以下是指当前运行的目录。  \n",
    "1）存放自己头像目录：input_dir = './data/face_recog/my_faces'  \n",
    "2）存放别人头像目录：input_dir = './data/face_recog/other_faces'  \n",
    "3）存放测试自己或别人的头像目录：input_dir='./data/face_recog/test_faces'  \n",
    "3、程序说明、执行步骤  \n",
    "1）先处理自己、别人的头像  \n",
    "   char-15-01.ipynb  \n",
    "2）构建模型、训练模型  \n",
    "   char-15-02.ipynb  \n",
    "3）用新头像进行测试模型  \n",
    "   char-15-03.ipynb  \n",
    "其中（2）、（3）将自动调用公共函数模块：share_fun.py  \n",
    "4、人脸识别  \n",
    "\t获取数据后，第一件事就对图片进行处理，即人脸识别，把人脸的范围确定下来。人脸识别有很多方法，这里使用dlib来识别人脸部分，当然也可以使用opencv来识别人脸。在实际使用过程中，dlib的识别效果比opencv的好一些。识别处理后的图片存放路径为：data/my_faces(存放预处理我的图片,里面还复制一些图片）；data/other_faces（存放预处理别人图片）。\n",
    "5、主要事项  \n",
    "1）需要安装以下模块，包括Python 3.7+及TensorFlow 2+之外，还需要安装opencv和dlib，如：  \n",
    "- pip install opencv-python  \n",
    "- pip install dlib  \n",
    "2）把Python的lib目录加到环境变量中。如在Linux环境中，我们需在用户默认目录下的.bashrc 文件中添加以下语句  \n",
    "export LD_LIBRARY_PATH=\"/home/xxx/anaconda3/lib\":\"$LD_LIBRARY_PATH\"  \n",
    "如在Windows环境中，我们需要添加LD_LIBRARY_PATH环境变量。  \n",
    "\n"
   ]
  },
  {
   "cell_type": "markdown",
   "metadata": {},
   "source": [
    "## 15.3 项目详细实施步骤\n",
    "本章人脸识别的具体步骤如下：\n",
    "- 先获取自己的头像，可以通过手机、电脑等拍摄；\n",
    "- 下载别人的头像，具体网址详见下节；\n",
    "- 利用dlib、opencv对人脸进行检测；\n",
    "- 根据检测后的图片，利用卷积神经网络训练模型；\n",
    "- 把新头像用模型进行识别，看模型是否能认出是你。  "
   ]
  },
  {
   "cell_type": "markdown",
   "metadata": {},
   "source": [
    "### 15.3.1 预处理图像  \n",
    "1）导入需要的库。  "
   ]
  },
  {
   "cell_type": "code",
   "execution_count": 1,
   "metadata": {},
   "outputs": [
    {
     "ename": "ModuleNotFoundError",
     "evalue": "No module named 'data.dlib'",
     "output_type": "error",
     "traceback": [
      "\u001b[1;31m---------------------------------------------------------------------------\u001b[0m",
      "\u001b[1;31mModuleNotFoundError\u001b[0m                       Traceback (most recent call last)",
      "\u001b[1;32m<ipython-input-1-076612df6864>\u001b[0m in \u001b[0;36m<module>\u001b[1;34m\u001b[0m\n\u001b[0;32m      4\u001b[0m \u001b[1;31m#sys.path.append(\"../data/\")\u001b[0m\u001b[1;33m\u001b[0m\u001b[1;33m\u001b[0m\u001b[1;33m\u001b[0m\u001b[0m\n\u001b[0;32m      5\u001b[0m \u001b[1;31m#sys.path.append(\"..\")  #跳到上一级目录\u001b[0m\u001b[1;33m\u001b[0m\u001b[1;33m\u001b[0m\u001b[1;33m\u001b[0m\u001b[0m\n\u001b[1;32m----> 6\u001b[1;33m \u001b[1;32mimport\u001b[0m \u001b[0mdata\u001b[0m\u001b[1;33m.\u001b[0m\u001b[0mdlib\u001b[0m \u001b[1;32mas\u001b[0m \u001b[0mdlib\u001b[0m\u001b[1;33m\u001b[0m\u001b[1;33m\u001b[0m\u001b[0m\n\u001b[0m",
      "\u001b[1;31mModuleNotFoundError\u001b[0m: No module named 'data.dlib'"
     ]
    }
   ],
   "source": [
    "import sys\n",
    "import os\n",
    "import cv2\n",
    "#sys.path.append(\"../data/\")\n",
    "#sys.path.append(\"..\")  #跳到上一级目录\n",
    "import data.dlib as dlib"
   ]
  },
  {
   "cell_type": "code",
   "execution_count": 7,
   "metadata": {},
   "outputs": [
    {
     "ename": "SyntaxError",
     "evalue": "invalid syntax (<ipython-input-7-d0435653069c>, line 1)",
     "output_type": "error",
     "traceback": [
      "\u001b[1;36m  File \u001b[1;32m\"<ipython-input-7-d0435653069c>\"\u001b[1;36m, line \u001b[1;32m1\u001b[0m\n\u001b[1;33m    dlib.\u001b[0m\n\u001b[1;37m         ^\u001b[0m\n\u001b[1;31mSyntaxError\u001b[0m\u001b[1;31m:\u001b[0m invalid syntax\n"
     ]
    }
   ],
   "source": [
    "dlib."
   ]
  },
  {
   "cell_type": "markdown",
   "metadata": {},
   "source": [
    "2）预处理图像。先定义预图像函数。"
   ]
  },
  {
   "cell_type": "code",
   "execution_count": 2,
   "metadata": {},
   "outputs": [
    {
     "name": "stdout",
     "output_type": "stream",
     "text": [
      "开始处理自己的头像\n"
     ]
    },
    {
     "ename": "AttributeError",
     "evalue": "module 'data.dlib' has no attribute 'get_frontal_face_detector'",
     "output_type": "error",
     "traceback": [
      "\u001b[1;31m---------------------------------------------------------------------------\u001b[0m",
      "\u001b[1;31mAttributeError\u001b[0m                            Traceback (most recent call last)",
      "\u001b[1;32m<ipython-input-2-fa9ad9702f09>\u001b[0m in \u001b[0;36m<module>\u001b[1;34m\u001b[0m\n\u001b[0;32m     48\u001b[0m \u001b[1;33m\u001b[0m\u001b[0m\n\u001b[0;32m     49\u001b[0m \u001b[0mprint\u001b[0m\u001b[1;33m(\u001b[0m\u001b[1;34m\"开始处理自己的头像\"\u001b[0m\u001b[1;33m)\u001b[0m\u001b[1;33m\u001b[0m\u001b[1;33m\u001b[0m\u001b[0m\n\u001b[1;32m---> 50\u001b[1;33m \u001b[0mprocess_image\u001b[0m\u001b[1;33m(\u001b[0m\u001b[0minput_dir\u001b[0m\u001b[1;33m,\u001b[0m \u001b[0moutput_dir\u001b[0m\u001b[1;33m)\u001b[0m\u001b[1;33m\u001b[0m\u001b[1;33m\u001b[0m\u001b[0m\n\u001b[0m\u001b[0;32m     51\u001b[0m \u001b[1;33m\u001b[0m\u001b[0m\n\u001b[0;32m     52\u001b[0m \u001b[1;31m# 处理别人的头像\u001b[0m\u001b[1;33m\u001b[0m\u001b[1;33m\u001b[0m\u001b[1;33m\u001b[0m\u001b[0m\n",
      "\u001b[1;32m<ipython-input-2-fa9ad9702f09>\u001b[0m in \u001b[0;36mprocess_image\u001b[1;34m(input_dir, output_dir)\u001b[0m\n\u001b[0;32m      3\u001b[0m     \u001b[0msize\u001b[0m \u001b[1;33m=\u001b[0m \u001b[1;36m64\u001b[0m\u001b[1;33m\u001b[0m\u001b[1;33m\u001b[0m\u001b[0m\n\u001b[0;32m      4\u001b[0m     \u001b[1;31m# 使用dlib自带的frontal_face_detector作为我们的特征提取器\u001b[0m\u001b[1;33m\u001b[0m\u001b[1;33m\u001b[0m\u001b[1;33m\u001b[0m\u001b[0m\n\u001b[1;32m----> 5\u001b[1;33m     \u001b[0mdetector\u001b[0m \u001b[1;33m=\u001b[0m \u001b[0mdlib\u001b[0m\u001b[1;33m.\u001b[0m\u001b[0mget_frontal_face_detector\u001b[0m\u001b[1;33m(\u001b[0m\u001b[1;33m)\u001b[0m\u001b[1;33m\u001b[0m\u001b[1;33m\u001b[0m\u001b[0m\n\u001b[0m\u001b[0;32m      6\u001b[0m     \u001b[1;32mfor\u001b[0m \u001b[1;33m(\u001b[0m\u001b[0mpath\u001b[0m\u001b[1;33m,\u001b[0m \u001b[0mdirnames\u001b[0m\u001b[1;33m,\u001b[0m \u001b[0mfilenames\u001b[0m\u001b[1;33m)\u001b[0m \u001b[1;32min\u001b[0m \u001b[0mos\u001b[0m\u001b[1;33m.\u001b[0m\u001b[0mwalk\u001b[0m\u001b[1;33m(\u001b[0m\u001b[0minput_dir\u001b[0m\u001b[1;33m)\u001b[0m\u001b[1;33m:\u001b[0m\u001b[1;33m\u001b[0m\u001b[1;33m\u001b[0m\u001b[0m\n\u001b[0;32m      7\u001b[0m         \u001b[1;32mfor\u001b[0m \u001b[0mfilename\u001b[0m \u001b[1;32min\u001b[0m \u001b[0mfilenames\u001b[0m\u001b[1;33m:\u001b[0m\u001b[1;33m\u001b[0m\u001b[1;33m\u001b[0m\u001b[0m\n",
      "\u001b[1;31mAttributeError\u001b[0m: module 'data.dlib' has no attribute 'get_frontal_face_detector'"
     ]
    }
   ],
   "source": [
    "def process_image(input_dir, output_dir):\n",
    "    index = 1\n",
    "    size = 64\n",
    "    # 使用dlib自带的frontal_face_detector作为我们的特征提取器\n",
    "    detector = dlib.get_frontal_face_detector()\n",
    "    for (path, dirnames, filenames) in os.walk(input_dir):\n",
    "        for filename in filenames:\n",
    "            if filename.endswith('.jpg'):\n",
    "                print('Start process picture %s' % index)\n",
    "                img_path = path + '/' + filename\n",
    "                # 从文件读取图片\n",
    "                img = cv2.imread(img_path)\n",
    "                # 转为灰度图片\n",
    "                gray_img = cv2.cvtColor(img, cv2.COLOR_BGR2GRAY)\n",
    "                # 使用detector进行人脸检测 dets为返回的结果\n",
    "                dets = detector(gray_img, 1)\n",
    "\n",
    "                # 使用enumerate 函数遍历序列中的元素以及它们的下标\n",
    "                # 下标i即为人脸序号\n",
    "                # left：人脸左边距离图片左边界的距离 ；right：人脸右边距离图片左边界的距离\n",
    "                # top：人脸上边距离图片上边界的距离 ；bottom：人脸下边距离图片上边界的距离\n",
    "                for i, d in enumerate(dets):\n",
    "                    x1 = d.top() if d.top() > 0 else 0\n",
    "                    y1 = d.bottom() if d.bottom() > 0 else 0\n",
    "                    x2 = d.left() if d.left() > 0 else 0\n",
    "                    y2 = d.right() if d.right() > 0 else 0\n",
    "                    # img[y:y+h,x:x+w]\n",
    "                    face = img[x1:y1, x2:y2]\n",
    "                    # 调整图片的尺寸\n",
    "                    face = cv2.resize(face, (size, size))\n",
    "                    cv2.imshow('image', face)\n",
    "                    # 保存图片\n",
    "                    cv2.imwrite(output_dir + '/' + str(index) + '.jpg', face)\n",
    "                    index += 1\n",
    "                # 不断刷新图像，频率时间为30ms\n",
    "                key = cv2.waitKey(30) & 0xff\n",
    "                if key == 27:\n",
    "                    sys.exit(0)\n",
    "\n",
    "\n",
    "# 处理自己的头像\n",
    "# 我的头像（可以用手机或电脑等拍摄，尽量清晰、尽量多，越多越好）上传到以下input_dir目录下，output_dir为检测以后的头像\n",
    "input_dir = './data/face_recog/my_faces'\n",
    "output_dir = './data/my_faces'\n",
    "\n",
    "if not os.path.exists(output_dir):\n",
    "    os.makedirs(output_dir)\n",
    "\n",
    "print(\"开始处理自己的头像\")\n",
    "process_image(input_dir, output_dir)\n",
    "\n",
    "# 处理别人的头像\n",
    "input_dir = './data/face_recog/other_faces'\n",
    "output_dir = './data/other_faces'\n",
    "\n",
    "if not os.path.exists(output_dir):\n",
    "    os.makedirs(output_dir)\n",
    "\n",
    "print(\"开始处理别人的头像\")\n",
    "process_image(input_dir, output_dir)\n"
   ]
  },
  {
   "cell_type": "code",
   "execution_count": null,
   "metadata": {},
   "outputs": [],
   "source": []
  }
 ],
 "metadata": {
  "kernelspec": {
   "display_name": "Python 3",
   "language": "python",
   "name": "python3"
  },
  "language_info": {
   "codemirror_mode": {
    "name": "ipython",
    "version": 3
   },
   "file_extension": ".py",
   "mimetype": "text/x-python",
   "name": "python",
   "nbconvert_exporter": "python",
   "pygments_lexer": "ipython3",
   "version": "3.7.4"
  }
 },
 "nbformat": 4,
 "nbformat_minor": 2
}
